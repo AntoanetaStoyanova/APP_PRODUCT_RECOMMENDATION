{
 "cells": [
  {
   "cell_type": "code",
   "execution_count": 1,
   "metadata": {},
   "outputs": [],
   "source": [
    "import os\n",
    "import openai\n",
    "\n",
    "from dotenv import load_dotenv, find_dotenv\n",
    "_ = load_dotenv(find_dotenv()) # read local .env file\n",
    "\n",
    "azure_openai_api_key = os.getenv('AZURE_OPENAI_API_KEY_4')\n",
    "azure_openai_endpoint = os.getenv('AZURE_OPENAI_API_ENDPOINT_4')\n",
    "deployment_name = os.getenv('AZURE_DEPLOYMENT_NAME_4')\n",
    "\n",
    "\n",
    "# Set up Azure OpenAI API (for Azure deployment)\n",
    "openai.api_type = \"azure\"\n",
    "openai.api_key = azure_openai_api_key\n",
    "openai.api_base = azure_openai_endpoint\n",
    "openai.api_version = \"2023-05-15\"  # Ensure this is up to date\n",
    "\n",
    "import warnings\n",
    "warnings.filterwarnings('ignore')"
   ]
  },
  {
   "cell_type": "code",
   "execution_count": 2,
   "metadata": {},
   "outputs": [],
   "source": [
    "from langchain.chat_models import ChatOpenAI\n",
    "from langchain.prompts import ChatPromptTemplate\n",
    "from langchain_core.runnables import RunnablePassthrough\n",
    "from langchain_core.output_parsers import StrOutputParser\n",
    "from langchain.chat_models import AzureChatOpenAI\n",
    "from langchain.embeddings import HuggingFaceEmbeddings\n",
    "from langchain.document_loaders import CSVLoader\n",
    "from langchain_community.vectorstores import FAISS\n",
    "from langchain.schema import Document\n",
    "import pandas as pd"
   ]
  },
  {
   "cell_type": "code",
   "execution_count": 3,
   "metadata": {},
   "outputs": [
    {
     "name": "stderr",
     "output_type": "stream",
     "text": [
      "C:\\Users\\antoa\\AppData\\Local\\Temp\\ipykernel_50208\\1637258887.py:1: LangChainDeprecationWarning: The class `AzureChatOpenAI` was deprecated in LangChain 0.0.10 and will be removed in 1.0. An updated version of the class exists in the :class:`~langchain-openai package and should be used instead. To use it run `pip install -U :class:`~langchain-openai` and import as `from :class:`~langchain_openai import AzureChatOpenAI``.\n",
      "  llm = AzureChatOpenAI(\n"
     ]
    }
   ],
   "source": [
    "llm = AzureChatOpenAI(\n",
    "    api_key=azure_openai_api_key,  # Azure OpenAI API Key\n",
    "    api_version=\"2023-12-01-preview\",  # API version (you can adjust it as needed)\n",
    "    azure_endpoint=azure_openai_endpoint,  # Azure OpenAI endpoint\n",
    "    deployment_name=deployment_name,  # Ensure deployment_name is the correct one you configured in Azure\n",
    "    temperature=0  # Optional: Adjust the temperature for randomness in responses\n",
    ")"
   ]
  },
  {
   "cell_type": "markdown",
   "metadata": {},
   "source": [
    "Ce processus est utile pour préparer des données textuelles structurées à partir d'un CSV en tant qu'objets structurés avec des métadonnées, ce qui est souvent nécessaire pour le traitement ultérieur ou l'analyse de texte."
   ]
  },
  {
   "cell_type": "code",
   "execution_count": 4,
   "metadata": {},
   "outputs": [
    {
     "name": "stdout",
     "output_type": "stream",
     "text": [
      "Nombre de documents préparés : 1531\n"
     ]
    }
   ],
   "source": [
    "\n",
    "# Charger le CSV\n",
    "csv_path = \"../../RGBD/table_produits/produits.csv\"   # Remplace avec le chemin réel si besoin\n",
    "df = pd.read_csv(csv_path, encoding='utf-8')\n",
    "\n",
    "# Vérifier que la colonne \"description\" existe bien\n",
    "if \"description\" not in df.columns:\n",
    "    raise ValueError(\"La colonne 'description' n'existe pas dans le CSV ! Vérifie le nom des colonnes.\")\n",
    "# Vérification de la colonne \"id_produit\"\n",
    "if \"id_produit\" not in df.columns:\n",
    "    raise ValueError(\"La colonne 'id_produit' n'existe pas dans le CSV ! Vérifiez le nom des colonnes.\")\n",
    "\n",
    "# Transformer chaque ligne en objet Document avec métadonnées\n",
    "documents = []\n",
    "for index, row in df.iterrows():\n",
    "    metadata = {\"source\": csv_path, \"row\": index,\"id_produit\": row[\"id_produit\"]}\n",
    "\n",
    "    if \"saveur\" in row:\n",
    "        metadata[\"saveur\"] = str(row[\"saveur\"])  # Ajouter la saveur dans les métadonnées\n",
    "\n",
    "    documents.append(Document(page_content=str(row[\"description\"]), metadata=metadata))\n",
    "\n",
    "print(f\"Nombre de documents préparés : {len(documents)}\")"
   ]
  },
  {
   "cell_type": "markdown",
   "metadata": {},
   "source": [
    "ce code te permet de transformer tes documents en embeddings vectoriels et de les sauvegarder dans un format FAISS, prêt à être utilisé pour des recherches ou des analyses futures sur tes données textuelles."
   ]
  },
  {
   "cell_type": "code",
   "execution_count": 59,
   "metadata": {},
   "outputs": [
    {
     "name": "stdout",
     "output_type": "stream",
     "text": [
      "Vector store enregistré avec succès !\n"
     ]
    }
   ],
   "source": [
    "# Étape 3: Création et sauvegarde du vecteur FAISS avec métadonnées\n",
    "embeddings = HuggingFaceEmbeddings(model_name=\"sentence-transformers/all-MiniLM-L6-v2\")\n",
    "try:\n",
    "    vectorstore = FAISS.from_documents(documents, embeddings)\n",
    "    vectorstore.save_local('faiss_vector_store')\n",
    "    print(\"Vector store enregistré avec succès !\")\n",
    "except Exception as e:\n",
    "    print(f\"Erreur lors de la création du vectorstore : {e}\")"
   ]
  },
  {
   "cell_type": "code",
   "execution_count": 82,
   "metadata": {},
   "outputs": [],
   "source": [
    "query = \"Quel produit contient des saveurs de fraise et bonbon ?\""
   ]
  },
  {
   "cell_type": "code",
   "execution_count": 88,
   "metadata": {},
   "outputs": [],
   "source": [
    "import re\n",
    "\n",
    "# Fonction pour extraire les saveurs de la requête et les rechercher dans les résultats\n",
    "def extract_flavors_from_query(query):\n",
    "    \"\"\"\n",
    "    Cette fonction extrait les saveurs présentes dans la requête `query`\n",
    "    et retourne une liste des saveurs trouvées parmi celles définies dans `flavor_list`.\n",
    "    \"\"\"\n",
    "    # Liste des saveurs disponibles\n",
    "    flavor_list = [\"cassis\", \"lime\", \"fraise\", \"menthe\", \"mangue\", \"pêche\", \"bonbon\"]\n",
    "\n",
    "    found_flavors = []\n",
    "    \n",
    "    # Pour chaque saveur de la liste, vérifier si elle est mentionnée dans la requête\n",
    "    for flavor in flavor_list:\n",
    "        if re.search(rf'\\b{flavor}\\b', query, re.IGNORECASE):\n",
    "            found_flavors.append(flavor)\n",
    "\n",
    "    return found_flavors\n",
    "\n",
    "\n",
    "# Fonction pour interroger le vecteur et récupérer les saveurs associées à la requête\n",
    "def search_for_flavor(query):\n",
    "    # Extraire les saveurs mentionnées dans la requête\n",
    "    flavors_in_query = extract_flavors_from_query(query)\n",
    "\n",
    "    # Afficher uniquement les saveurs extraites\n",
    "    print(f\"Saveurs extraites de la requête : {flavors_in_query}\")\n",
    "\n",
    "    # Retourner les saveurs extraites sous forme de chaîne, séparées par des virgules\n",
    "    return \", \".join(flavors_in_query)\n",
    "\n",
    "# Exemple d'appel à la fonction avec une requête utilisateur\n",
    "\n",
    "\n",
    "\n"
   ]
  },
  {
   "cell_type": "markdown",
   "metadata": {},
   "source": [
    "ce code permet de charger un vector store FAISS sauvegardé et de configurer un retriever pour effectuer des recherches dans ce store en utilisant un seuil de similarité pour déterminer la pertinence des résultats. Cela est utile lorsque tu veux interroger tes documents en fonction de leur similarité par rapport à une requête donnée."
   ]
  },
  {
   "cell_type": "code",
   "execution_count": 97,
   "metadata": {},
   "outputs": [],
   "source": [
    "# Chargement du vecteur\n",
    "vectorstore = FAISS.load_local('faiss_vector_store', embeddings=embeddings, allow_dangerous_deserialization=True)\n",
    "\n",
    "retriever = vectorstore.as_retriever(\n",
    "    search_type=\"similarity_score_threshold\",\n",
    "    search_kwargs={\"score_threshold\": 0.3}\n",
    ")"
   ]
  },
  {
   "cell_type": "code",
   "execution_count": null,
   "metadata": {},
   "outputs": [],
   "source": []
  },
  {
   "cell_type": "code",
   "execution_count": 92,
   "metadata": {},
   "outputs": [],
   "source": [
    "query = \"Quel produit contient des saveurs de fraise et bonbon ?\""
   ]
  },
  {
   "cell_type": "code",
   "execution_count": 93,
   "metadata": {},
   "outputs": [
    {
     "name": "stdout",
     "output_type": "stream",
     "text": [
      "Saveurs extraites de la requête : ['fraise', 'bonbon']\n"
     ]
    }
   ],
   "source": [
    "\n",
    "# Utilisation de la fonction search_for_flavor dans retriever.invoke\n",
    "flavors_in_query = search_for_flavor(query)"
   ]
  },
  {
   "cell_type": "code",
   "execution_count": 94,
   "metadata": {},
   "outputs": [
    {
     "data": {
      "text/plain": [
       "'fraise, bonbon'"
      ]
     },
     "execution_count": 94,
     "metadata": {},
     "output_type": "execute_result"
    }
   ],
   "source": [
    "flavors_in_query"
   ]
  },
  {
   "cell_type": "code",
   "execution_count": 98,
   "metadata": {},
   "outputs": [
    {
     "data": {
      "text/plain": [
       "[Document(metadata={'source': '../../RGBD/table_produits/produits.csv', 'row': 853, 'id_produit': 855, 'saveur': 'parfait, pomme, bonbon, bonbons'}, page_content=\"Le e-liquide Pomme Candy reprend tout ce qu'on attend d'ungoût bonbon: un fruit particulièrement alléchant, mais également juteux, frais et un peu acidulé, et une base de friandise ultra gourmande et sucrée ! Minutieusement préparé par Prestige Fruits, en France, ce e liquide est disponible en versionnon nicotinée et surboostée de 50ml. Sa fiole 60ml pourra accueillir un booster de nicotine (non inclus). Un bonbon à la pomme, juste comme on l'aime Vous aimez quand la vape est puissante et sucrée ? Il vous faut donc vous tourner en priorité vers les saveurs bonbons frais et fruités ! Ici, le fabricant français Prestige Fruits vous propose un mix depommestrès intéressant. En plus des notes typiques de ces fruits du verger, Prestige Fruits ajoute une bonne dose d'acidité et de sucre, pour une tendancefriandisebien assumée... Un délice ! Ajoutez un ou des boosters de nicotine : prêt à vaper ! Au besoin, le e liquide Pomme Candy pourra accueillir un booster de nicotine dans safiole type PET de 60 ml. Autrement dit, vous passerez de 50ml de e-liquide en 0mg/ml de nicotine (non nicotiné) à 60ml de e-liquide en 3mg/ml de nicotine. C'est au-delà de ce taux nicotinique que la manœuvre se corse (juste) un peu. Pour un taux supérieur à 3mg/ml de nicotine, il vous faudra transvaser en partie ou entièrement le e liquide Pomme Candy dans un autre contenant, capable d'accueillir plus de boosters de nicotine. Et, bien sûr, on n'a pas besoin de préciser qu'il se vape très bien sans nicotine, en l'état, dès sa réception ! Il suffit de le secouer et de remplir votre matériel e-cig ! Informations complémentaires Le Pomme Candy est un e liquide pour cigarette électronique de la gamme Sweety Fruits par Prestige Fruits (Vape Connection). Constitué d'arômes, de propylène glycol et de glycérine végétale, il débarque en 50PG/50VG pour un parfait compromis entre hit en gorge, saveurs et vapeur, compatible tout matériel e-cig. Conditionné en fiole de type PET 60ml, le e-liquide Pomme Candy ne prend que 50ml du flacon. Les 10ml restants vous permettront d'ajouter un booster de nicotine au besoin. Non nicotiné de base, votre mixture pourra alors atteindre les 3 mg/ml de nicotine. N.B : le flacon dispose d'un bouchon avec sécurité enfant et d'un embout fin.\"),\n",
       " Document(metadata={'source': '../../RGBD/table_produits/produits.csv', 'row': 795, 'id_produit': 797, 'saveur': 'fraise, lime, bonbon, fruit du dragon'}, page_content='Le Freho Extra Frais 50ml est un e-liquide à booster fabriqué en France par la marque e.Tasty. Il vous propose des saveurs fraîches façon bonbon à la fraise et fruit du dragon. Sa recette est composée d\\'arômes alimentaires, de propylène glycol (PG) et de glycérine végétale (VG), pour un ratio50PG/50VG. Sa recette pourra au besoin êtrecomplétée avec des boosters10ml de nicotine (non inclus). Il vous est livré dans un flacon de 75ml doté d\\'un bouchon sécurisé et d\\'un embout fin compte-gouttes. Qui est e.Tasty ? e.Tasty est un fabricant français reconnu dans le monde de la vape pour sa maîtrise des saveurs, mais également pour sa recherche constante de qualité supérieure. Ainsi, qu\\'elles soient fruitées, fraîches ou encore classics, soyez toujours certain avec e.Tasty de vapoter des recettes de qualité premium ! Quelques mots sur Bankiz Entièrement consacrée aux saveurs fruitées et fraîches, cette collection de e-liquides à booster se décline en version classique ou \"Extra Frais\" ! Comment préparer votre e-liquide Freho Extra Frais ? Le Freho Extra Frais est proposé en version50mlboostée en arômes dans un flacon de75ml. Si vous le souhaitez, vous pouvez ainsi ajouter un ou plusieurs boosters de nicotine selon vos besoins sans perte de saveur. Pour booster votre e-liquide, vous devez : Indications pour préparer votre e-liquide surboosté de 50 ml : La place disponible dans le flacon d\\'origine n’est peut-être pas suffisante pour booster votre e-liquide au taux de nicotine souhaité. Pour les dosages importants, nous vous conseillons l’utilisation de contenants plus importants commeun flacon de 100ml graduéouun flacon Twist de 230ml gradué. Astuce : pensez à adapter votre matériel au ratio PG/VG de votre e-liquide ! Vous limiterez ainsi le risque de fuite et l’usure prématurée de vos résistances ! Quel taux de nicotine choisir pour votre e-liquide ? Le choix de votre taux de nicotine dépend de votre profil de fumeur ainsi que de la cigarette électronique utilisée : Si vous utilisez du matériel plus performant avec une résistance inférieure à 1 ohm et pour une puissance supérieure à 30 watts, vous pouvez diviser votre taux de nicotine par deux. Nos conseils pour la maturation de votre e-liquide surboosté De la même façon que pour un e-liquide DIY, on peut observer un temps de repos avec un e-liquide surboosté en arômes après l’ajout d’un ou plusieurs boosters de nicotine. Ce temps de maturation que l’on appelle aussi “steep” permet aux arômes de se développer et de mieux s’exprimer. Pour une maturation optimale, il faut compter : Pour un rendu optimal : secouez votre fiole de e-liquide une fois par jour pour que les arômes se diffusent correctement. Conservation de votre e-liquide Pour une conservation optimale de votre e-liquide, nous vous conseillons de stocker votre flacon à l\\'abri de la lumière dans un droit sec et à température ambiante. Après contacts répétés à l\\'air et à la lumière, la couleur de votre e-liquide peut se foncer. Ce changement de couleur n\\'affecte ni la qualité ni le goût de votre e-liquide. La date indiquée sur l\\'étiquette est une DLUO (date limite d\\'utilisation optimale) ou DDM (date de durabilité minimale). Passé cette date, le e-liquide peut encore être consommé.'),\n",
       " Document(metadata={'source': '../../RGBD/table_produits/produits.csv', 'row': 842, 'id_produit': 844, 'saveur': 'fraise, bonbon'}, page_content=\"Le Fraise Candy est un e liquide 50ml d'origine française, fabriqué par Prestige Fruits (Vape Connection) pour la gamme Sweety Fruits. Il vous propose une saveur fraîche de fraise façon bonbon. Créé à partir d'arômes, de propylène glycol (PG) et de glycérine végétale (VG), il est proposé en50PG/50VGafin d'offrir un excellent compromis entre saveurs, hit en gorge et vapeur. Il est compatible tout type de matériel e-cig. Le Fraise Candy est un e liquide surboosté et non nicotiné, conditionné en fiole de type PET 60ml. Dessus, un bouchon avec sécurité enfant et un embout fin très pratique. Rempli à hauteur de 50ml, il pourra être accompagné d'un booster de nicotine au besoin. Qui est Prestige Fruits ? Comme son nom l'indique, le fabriquant française s'est spécialisé dans la reproduction des saveurs de fruits à travers sa large gamme d'e-liquides. La collection Prestige Fruits s'adresse aux vapoteurs à la recherche de goûts tropicaux ou de mélanges complexes. Comment préparer votre e-liquide Fraise Candy ? Le Fraise Candy est proposé en version50mlboostée en arômes dans un flacon de60ml. Si vous le souhaitez, vous pouvez ajouter un ou plusieurs boosters de nicotine selon vos besoins sans perte de saveur. Pour booster votre e-liquide, vous devez : Indications pour préparer votre e-liquide surboosté de 50 ml : La place disponible dans le flacon d'origine n’est peut-être pas suffisante pour booster votre e-liquide au taux de nicotine souhaité. Pour les dosages importants, nous vous conseillons l’utilisation de contenants plus importants commeun flacon de 100ml graduéouun flacon Twist de 230ml gradué. Astuce : pensez à adapter votre matériel au ratio PG/VG de votre e-liquide ! Vous limiterez ainsi le risque de fuite et l’usure prématurée de vos résistances ! Quel taux de nicotine choisir pour votre e-liquide ? Le choix de votre taux de nicotine dépend de votre profil de fumeur ainsi que de la cigarette électronique utilisée : Si vous utilisez du matériel plus performant avec une résistance inférieure à 1 ohm et pour une puissance supérieure à 30 watts, vous pouvez diviser votre taux de nicotine par deux. Nos conseils pour la maturation de votre e-liquide surboosté De la même façon que pour un e-liquide DIY, on peut observer un temps de repos avec un e-liquide surboosté en arômes après l’ajout d’un ou plusieurs boosters de nicotine. Ce temps de maturation que l’on appelle aussi “steep” permet aux arômes de se développer et de mieux s’exprimer. Pour une maturation optimale, il faut compter : Pour un rendu optimal : secouez votre fiole de e-liquide une fois par jour pour que les arômes se diffusent correctement. Conservation de votre e-liquide Pour une conservation optimale de votre e-liquide, nous vous conseillons de stocker votre flacon à l'abri de la lumière dans un droit sec et à température ambiante. Après contacts répétés à l'air et à la lumière, la couleur de votre e-liquide peut se foncer. Ce changement de couleur n'affecte ni la qualité ni le goût de votre e-liquide. La date indiquée sur l'étiquette est une DLUO (date limite d'utilisation optimale) ou DDM (date de durabilité minimale). Passé cette date, le e-liquide peut encore être consommé.\")]"
      ]
     },
     "execution_count": 98,
     "metadata": {},
     "output_type": "execute_result"
    }
   ],
   "source": [
    "retriever.invoke(query)"
   ]
  },
  {
   "cell_type": "code",
   "execution_count": 99,
   "metadata": {},
   "outputs": [
    {
     "data": {
      "text/plain": [
       "[Document(metadata={'source': '../../RGBD/table_produits/produits.csv', 'row': 842, 'id_produit': 844, 'saveur': 'fraise, bonbon'}, page_content=\"Le Fraise Candy est un e liquide 50ml d'origine française, fabriqué par Prestige Fruits (Vape Connection) pour la gamme Sweety Fruits. Il vous propose une saveur fraîche de fraise façon bonbon. Créé à partir d'arômes, de propylène glycol (PG) et de glycérine végétale (VG), il est proposé en50PG/50VGafin d'offrir un excellent compromis entre saveurs, hit en gorge et vapeur. Il est compatible tout type de matériel e-cig. Le Fraise Candy est un e liquide surboosté et non nicotiné, conditionné en fiole de type PET 60ml. Dessus, un bouchon avec sécurité enfant et un embout fin très pratique. Rempli à hauteur de 50ml, il pourra être accompagné d'un booster de nicotine au besoin. Qui est Prestige Fruits ? Comme son nom l'indique, le fabriquant française s'est spécialisé dans la reproduction des saveurs de fruits à travers sa large gamme d'e-liquides. La collection Prestige Fruits s'adresse aux vapoteurs à la recherche de goûts tropicaux ou de mélanges complexes. Comment préparer votre e-liquide Fraise Candy ? Le Fraise Candy est proposé en version50mlboostée en arômes dans un flacon de60ml. Si vous le souhaitez, vous pouvez ajouter un ou plusieurs boosters de nicotine selon vos besoins sans perte de saveur. Pour booster votre e-liquide, vous devez : Indications pour préparer votre e-liquide surboosté de 50 ml : La place disponible dans le flacon d'origine n’est peut-être pas suffisante pour booster votre e-liquide au taux de nicotine souhaité. Pour les dosages importants, nous vous conseillons l’utilisation de contenants plus importants commeun flacon de 100ml graduéouun flacon Twist de 230ml gradué. Astuce : pensez à adapter votre matériel au ratio PG/VG de votre e-liquide ! Vous limiterez ainsi le risque de fuite et l’usure prématurée de vos résistances ! Quel taux de nicotine choisir pour votre e-liquide ? Le choix de votre taux de nicotine dépend de votre profil de fumeur ainsi que de la cigarette électronique utilisée : Si vous utilisez du matériel plus performant avec une résistance inférieure à 1 ohm et pour une puissance supérieure à 30 watts, vous pouvez diviser votre taux de nicotine par deux. Nos conseils pour la maturation de votre e-liquide surboosté De la même façon que pour un e-liquide DIY, on peut observer un temps de repos avec un e-liquide surboosté en arômes après l’ajout d’un ou plusieurs boosters de nicotine. Ce temps de maturation que l’on appelle aussi “steep” permet aux arômes de se développer et de mieux s’exprimer. Pour une maturation optimale, il faut compter : Pour un rendu optimal : secouez votre fiole de e-liquide une fois par jour pour que les arômes se diffusent correctement. Conservation de votre e-liquide Pour une conservation optimale de votre e-liquide, nous vous conseillons de stocker votre flacon à l'abri de la lumière dans un droit sec et à température ambiante. Après contacts répétés à l'air et à la lumière, la couleur de votre e-liquide peut se foncer. Ce changement de couleur n'affecte ni la qualité ni le goût de votre e-liquide. La date indiquée sur l'étiquette est une DLUO (date limite d'utilisation optimale) ou DDM (date de durabilité minimale). Passé cette date, le e-liquide peut encore être consommé.\")]"
      ]
     },
     "execution_count": 99,
     "metadata": {},
     "output_type": "execute_result"
    }
   ],
   "source": [
    "retriever.invoke(query, filter={\"saveur\": flavors_in_query})"
   ]
  },
  {
   "cell_type": "code",
   "execution_count": 69,
   "metadata": {},
   "outputs": [],
   "source": [
    "\n",
    "\n",
    "# Paramètres de la recherche sans 'score_threshold' et changement du search_type\n",
    "search_kwargs = {\n",
    "    \"k\": 5,                  # Retourne les 5 meilleurs résultats\n",
    "    \"nprobe\": 2              # Recherche sur un nombre de clusters plus grand pour améliorer les résultats\n",
    "}\n",
    "\n",
    "# Initialisation du retriever sans 'score_threshold' et en utilisant un search_type adapté\n",
    "retriever = vectorstore.as_retriever(\n",
    "    search_type=\"similarity\",  # Utiliser un type de recherche basé sur la similarité, sans score_threshold\n",
    "    search_kwargs=search_kwargs\n",
    ")"
   ]
  },
  {
   "cell_type": "code",
   "execution_count": null,
   "metadata": {},
   "outputs": [
    {
     "data": {
      "text/plain": [
       "'fraise'"
      ]
     },
     "execution_count": 70,
     "metadata": {},
     "output_type": "execute_result"
    }
   ],
   "source": [
    "flavors_in_query"
   ]
  },
  {
   "cell_type": "code",
   "execution_count": 71,
   "metadata": {},
   "outputs": [
    {
     "data": {
      "text/plain": [
       "[Document(metadata={'source': '../../RGBD/table_produits/produits.csv', 'row': 795, 'id_produit': 797, 'saveur': 'fraise, lime, bonbon, fruit du dragon'}, page_content='Le Freho Extra Frais 50ml est un e-liquide à booster fabriqué en France par la marque e.Tasty. Il vous propose des saveurs fraîches façon bonbon à la fraise et fruit du dragon. Sa recette est composée d\\'arômes alimentaires, de propylène glycol (PG) et de glycérine végétale (VG), pour un ratio50PG/50VG. Sa recette pourra au besoin êtrecomplétée avec des boosters10ml de nicotine (non inclus). Il vous est livré dans un flacon de 75ml doté d\\'un bouchon sécurisé et d\\'un embout fin compte-gouttes. Qui est e.Tasty ? e.Tasty est un fabricant français reconnu dans le monde de la vape pour sa maîtrise des saveurs, mais également pour sa recherche constante de qualité supérieure. Ainsi, qu\\'elles soient fruitées, fraîches ou encore classics, soyez toujours certain avec e.Tasty de vapoter des recettes de qualité premium ! Quelques mots sur Bankiz Entièrement consacrée aux saveurs fruitées et fraîches, cette collection de e-liquides à booster se décline en version classique ou \"Extra Frais\" ! Comment préparer votre e-liquide Freho Extra Frais ? Le Freho Extra Frais est proposé en version50mlboostée en arômes dans un flacon de75ml. Si vous le souhaitez, vous pouvez ainsi ajouter un ou plusieurs boosters de nicotine selon vos besoins sans perte de saveur. Pour booster votre e-liquide, vous devez : Indications pour préparer votre e-liquide surboosté de 50 ml : La place disponible dans le flacon d\\'origine n’est peut-être pas suffisante pour booster votre e-liquide au taux de nicotine souhaité. Pour les dosages importants, nous vous conseillons l’utilisation de contenants plus importants commeun flacon de 100ml graduéouun flacon Twist de 230ml gradué. Astuce : pensez à adapter votre matériel au ratio PG/VG de votre e-liquide ! Vous limiterez ainsi le risque de fuite et l’usure prématurée de vos résistances ! Quel taux de nicotine choisir pour votre e-liquide ? Le choix de votre taux de nicotine dépend de votre profil de fumeur ainsi que de la cigarette électronique utilisée : Si vous utilisez du matériel plus performant avec une résistance inférieure à 1 ohm et pour une puissance supérieure à 30 watts, vous pouvez diviser votre taux de nicotine par deux. Nos conseils pour la maturation de votre e-liquide surboosté De la même façon que pour un e-liquide DIY, on peut observer un temps de repos avec un e-liquide surboosté en arômes après l’ajout d’un ou plusieurs boosters de nicotine. Ce temps de maturation que l’on appelle aussi “steep” permet aux arômes de se développer et de mieux s’exprimer. Pour une maturation optimale, il faut compter : Pour un rendu optimal : secouez votre fiole de e-liquide une fois par jour pour que les arômes se diffusent correctement. Conservation de votre e-liquide Pour une conservation optimale de votre e-liquide, nous vous conseillons de stocker votre flacon à l\\'abri de la lumière dans un droit sec et à température ambiante. Après contacts répétés à l\\'air et à la lumière, la couleur de votre e-liquide peut se foncer. Ce changement de couleur n\\'affecte ni la qualité ni le goût de votre e-liquide. La date indiquée sur l\\'étiquette est une DLUO (date limite d\\'utilisation optimale) ou DDM (date de durabilité minimale). Passé cette date, le e-liquide peut encore être consommé.'),\n",
       " Document(metadata={'source': '../../RGBD/table_produits/produits.csv', 'row': 294, 'id_produit': 295, 'saveur': 'fraise, lime'}, page_content=\"Le Fraise est un e-liquide fabriqué en France par Curieux pour sa collection Natural. Il vous propose unemono saveur de fraises. Sa recette à booster et sans nicotine se compose d'arômes alimentaires, de végétol (50%) et de glycérine végétale (50%). Elle pourra au besoin êtrepersonnaliséeavec de la base neutre ou des boosters 10ml de nicotine (non inclus). Le flacon de 70ml du e-liquide Fraise 50ml est doté d'un bouchon sécurisé et d'un embout fin facilitant le remplissage de votre réservoir. Qui est Curieux ? Curieux est un fabricant français de liquides pour cigarette électronique, réputé notamment pour sa célèbre recette fruitée du Licorne. La marque décline ses recettes en différentes gammes, permettant à tout vapoteur de trouver le mix qui lui convient : Editions Astrale, Natural ou encore Oldies. Retrouvez les créations de chez Curieux en format e-liquide prêt-à-vaper, à booster, ou en concentré DIY ! La gamme Natural Le fabricant français vous propose une collection complète de all-days, tous élaborés à partir d'une base 100% végétale. Le végétol remplace le propylène glycol, ici dans un ratio Végétol / Glycérine Végétale de 50/50. Comment préparer votre e-liquide Fraise ? Ce e-liquide est proposé en version dans une fiole de70mlremplie à hauteur de 50ml. Si vous le souhaitez, vous pouvez ainsi ajouter un ou plusieurs boosters de nicotine selon vos besoins. Pour booster votre e-liquide, vous devez : Indications pour préparer votre e-liquide surboosté de 100 ml : La place disponible dans le flacon d'origine n’est peut-être pas suffisante pour booster votre e-liquide au taux de nicotine souhaité. Pour les dosages importants, nous vous conseillons l’utilisation de contenants plus importants commeun flacon de 100ml graduéouun flacon Twist de 230ml gradué. Astuce : pensez à adapter votre matériel au ratio PG/VG de votre e-liquide ! Vous limiterez ainsi le risque de fuite et l’usure prématurée de vos résistances ! Quel taux de nicotine choisir pour votre e-liquide ? Le choix de votre taux de nicotine dépend de votre profil de fumeur ainsi que de la cigarette électronique utilisée : Si vous utilisez du matériel plus performant avec une résistance inférieure à 1 ohm et pour une puissance supérieure à 30 watts, vous pouvez diviser votre taux de nicotine par deux. Nos conseils pour la maturation de votre e-liquide à booster De la même façon que pour un e-liquide DIY, on peut observer un temps de repos avec un e-liquide boosté en arômes après l’ajout d’un ou plusieurs boosters de nicotine. Ce temps de maturation que l’on appelle aussi “steep” permet aux arômes de se développer et de mieux s’exprimer. Pour une maturation optimale, il faut compter : Pour un rendu optimal : secouez votre fiole de e-liquide une fois par jour pour que les arômes se diffusent correctement. Conservation de votre e-liquide Pour une conservation optimale de votre e-liquide, nous vous conseillons de stocker votre flacon à l'abri de la lumière dans un droit sec et à température ambiante. Après contacts répétés à l'air et à la lumière, la couleur de votre e-liquide peut se foncer. Ce changement de couleur n'affecte ni la qualité ni le goût de votre e-liquide. La date indiquée sur l'étiquette est une DLUO (date limite d'utilisation optimale) ou DDM (date de durabilité minimale). Passé cette date, le e-liquide peut encore être consommé.\"),\n",
       " Document(metadata={'source': '../../RGBD/table_produits/produits.csv', 'row': 842, 'id_produit': 844, 'saveur': 'fraise, bonbon'}, page_content=\"Le Fraise Candy est un e liquide 50ml d'origine française, fabriqué par Prestige Fruits (Vape Connection) pour la gamme Sweety Fruits. Il vous propose une saveur fraîche de fraise façon bonbon. Créé à partir d'arômes, de propylène glycol (PG) et de glycérine végétale (VG), il est proposé en50PG/50VGafin d'offrir un excellent compromis entre saveurs, hit en gorge et vapeur. Il est compatible tout type de matériel e-cig. Le Fraise Candy est un e liquide surboosté et non nicotiné, conditionné en fiole de type PET 60ml. Dessus, un bouchon avec sécurité enfant et un embout fin très pratique. Rempli à hauteur de 50ml, il pourra être accompagné d'un booster de nicotine au besoin. Qui est Prestige Fruits ? Comme son nom l'indique, le fabriquant française s'est spécialisé dans la reproduction des saveurs de fruits à travers sa large gamme d'e-liquides. La collection Prestige Fruits s'adresse aux vapoteurs à la recherche de goûts tropicaux ou de mélanges complexes. Comment préparer votre e-liquide Fraise Candy ? Le Fraise Candy est proposé en version50mlboostée en arômes dans un flacon de60ml. Si vous le souhaitez, vous pouvez ajouter un ou plusieurs boosters de nicotine selon vos besoins sans perte de saveur. Pour booster votre e-liquide, vous devez : Indications pour préparer votre e-liquide surboosté de 50 ml : La place disponible dans le flacon d'origine n’est peut-être pas suffisante pour booster votre e-liquide au taux de nicotine souhaité. Pour les dosages importants, nous vous conseillons l’utilisation de contenants plus importants commeun flacon de 100ml graduéouun flacon Twist de 230ml gradué. Astuce : pensez à adapter votre matériel au ratio PG/VG de votre e-liquide ! Vous limiterez ainsi le risque de fuite et l’usure prématurée de vos résistances ! Quel taux de nicotine choisir pour votre e-liquide ? Le choix de votre taux de nicotine dépend de votre profil de fumeur ainsi que de la cigarette électronique utilisée : Si vous utilisez du matériel plus performant avec une résistance inférieure à 1 ohm et pour une puissance supérieure à 30 watts, vous pouvez diviser votre taux de nicotine par deux. Nos conseils pour la maturation de votre e-liquide surboosté De la même façon que pour un e-liquide DIY, on peut observer un temps de repos avec un e-liquide surboosté en arômes après l’ajout d’un ou plusieurs boosters de nicotine. Ce temps de maturation que l’on appelle aussi “steep” permet aux arômes de se développer et de mieux s’exprimer. Pour une maturation optimale, il faut compter : Pour un rendu optimal : secouez votre fiole de e-liquide une fois par jour pour que les arômes se diffusent correctement. Conservation de votre e-liquide Pour une conservation optimale de votre e-liquide, nous vous conseillons de stocker votre flacon à l'abri de la lumière dans un droit sec et à température ambiante. Après contacts répétés à l'air et à la lumière, la couleur de votre e-liquide peut se foncer. Ce changement de couleur n'affecte ni la qualité ni le goût de votre e-liquide. La date indiquée sur l'étiquette est une DLUO (date limite d'utilisation optimale) ou DDM (date de durabilité minimale). Passé cette date, le e-liquide peut encore être consommé.\"),\n",
       " Document(metadata={'source': '../../RGBD/table_produits/produits.csv', 'row': 539, 'id_produit': 541, 'saveur': 'pêche, lime, framboise'}, page_content=\"Le Coari 50ml est un e-liquide à booster fabriqué en France par la marque e.Tasty, pour sa collection Amazone. Il vous propose des saveurs fraîches de framboises, de pêche et de mangoustan. Sa recette est composée d'arômes alimentaires, de propylène glycol (PG) et de glycérine végétale (VG), pour un ratio50PG/50VG. Sa recette pourra au besoin êtrecomplétée avec des boosters10ml de nicotine (non inclus). Il vous est livré dans un flacon de 70ml doté d'un bouchon sécurisé et d'un embout fin compte-gouttes. Qui est e.Tasty ? e.Tasty est un fabricant français reconnu dans le monde de la vape pour sa maîtrise des saveurs, mais également pour sa recherche constante de qualité supérieure. Ainsi, qu'elles soient fruitées, fraîches ou encore classics, soyez toujours certain avec e.Tasty de vapoter des recettes de qualité premium ! Comment préparer votre e-liquide Coari ? Le Coari est proposé en version50mlboostée en arômes dans un flacon de70ml. Si vous le souhaitez, vous pouvez ainsi ajouter un ou plusieurs boosters de nicotine selon vos besoins sans perte de saveur. Pour booster votre e-liquide, vous devez : Indications pour préparer votre e-liquide surboosté de 50 ml : La place disponible dans le flacon d'origine n’est peut-être pas suffisante pour booster votre e-liquide au taux de nicotine souhaité. Pour les dosages importants, nous vous conseillons l’utilisation de contenants plus importants commeun flacon de 100ml graduéouun flacon Twist de 230ml gradué. Astuce : pensez à adapter votre matériel au ratio PG/VG de votre e-liquide ! Vous limiterez ainsi le risque de fuite et l’usure prématurée de vos résistances ! Quel taux de nicotine choisir pour votre e-liquide ? Le choix de votre taux de nicotine dépend de votre profil de fumeur ainsi que de la cigarette électronique utilisée : Si vous utilisez du matériel plus performant avec une résistance inférieure à 1 ohm et pour une puissance supérieure à 30 watts, vous pouvez diviser votre taux de nicotine par deux. Nos conseils pour la maturation de votre e-liquide surboosté De la même façon que pour un e-liquide DIY, on peut observer un temps de repos avec un e-liquide surboosté en arômes après l’ajout d’un ou plusieurs boosters de nicotine. Ce temps de maturation que l’on appelle aussi “steep” permet aux arômes de se développer et de mieux s’exprimer. Pour une maturation optimale, il faut compter : Pour un rendu optimal : secouez votre fiole de e-liquide une fois par jour pour que les arômes se diffusent correctement. Conservation de votre e-liquide Pour une conservation optimale de votre e-liquide, nous vous conseillons de stocker votre flacon à l'abri de la lumière dans un droit sec et à température ambiante. Après contacts répétés à l'air et à la lumière, la couleur de votre e-liquide peut se foncer. Ce changement de couleur n'affecte ni la qualité ni le goût de votre e-liquide. La date indiquée sur l'étiquette est une DLUO (date limite d'utilisation optimale) ou DDM (date de durabilité minimale). Passé cette date, le e-liquide peut encore être consommé.\"),\n",
       " Document(metadata={'source': '../../RGBD/table_produits/produits.csv', 'row': 781, 'id_produit': 783, 'saveur': 'baies, baie, lime, violette, baies rouges'}, page_content='Le Bako Extra Frais 50ml est un e-liquide à booster fabriqué en France par la marque e.Tasty. Il vous propose des saveurs fraîches et fruitées d\\'un mix de baies rouges, de blue mist et de violette. Sa recette est composée d\\'arômes alimentaires, de propylène glycol (PG) et de glycérine végétale (VG), pour un ratio50PG/50VG. Sa recette pourra au besoin êtrecomplétée avec des boosters10ml de nicotine (non inclus). Il vous est livré dans un flacon de 75ml doté d\\'un bouchon sécurisé et d\\'un embout fin compte-gouttes. Qui est e.Tasty ? e.Tasty est un fabricant français reconnu dans le monde de la vape pour sa maîtrise des saveurs, mais également pour sa recherche constante de qualité supérieure. Ainsi, qu\\'elles soient fruitées, fraîches ou encore classics, soyez toujours certain avec e.Tasty de vapoter des recettes de qualité premium ! Quelques mots sur Bankiz Entièrement consacrée aux saveurs fruitées et fraîches, cette collection de e-liquides à booster se décline en version classique ou \"Extra Frais\" ! Comment préparer votre e-liquide Bako Extra Frais ? Le Bako Extra Frais est proposé en version50mlboostée en arômes dans un flacon de75ml. Si vous le souhaitez, vous pouvez ainsi ajouter un ou plusieurs boosters de nicotine selon vos besoins sans perte de saveur. Pour booster votre e-liquide, vous devez : Indications pour préparer votre e-liquide surboosté de 50 ml : La place disponible dans le flacon d\\'origine n’est peut-être pas suffisante pour booster votre e-liquide au taux de nicotine souhaité. Pour les dosages importants, nous vous conseillons l’utilisation de contenants plus importants commeun flacon de 100ml graduéouun flacon Twist de 230ml gradué. Astuce : pensez à adapter votre matériel au ratio PG/VG de votre e-liquide ! Vous limiterez ainsi le risque de fuite et l’usure prématurée de vos résistances ! Quel taux de nicotine choisir pour votre e-liquide ? Le choix de votre taux de nicotine dépend de votre profil de fumeur ainsi que de la cigarette électronique utilisée : Si vous utilisez du matériel plus performant avec une résistance inférieure à 1 ohm et pour une puissance supérieure à 30 watts, vous pouvez diviser votre taux de nicotine par deux. Nos conseils pour la maturation de votre e-liquide surboosté De la même façon que pour un e-liquide DIY, on peut observer un temps de repos avec un e-liquide surboosté en arômes après l’ajout d’un ou plusieurs boosters de nicotine. Ce temps de maturation que l’on appelle aussi “steep” permet aux arômes de se développer et de mieux s’exprimer. Pour une maturation optimale, il faut compter : Pour un rendu optimal : secouez votre fiole de e-liquide une fois par jour pour que les arômes se diffusent correctement. Conservation de votre e-liquide Pour une conservation optimale de votre e-liquide, nous vous conseillons de stocker votre flacon à l\\'abri de la lumière dans un droit sec et à température ambiante. Après contacts répétés à l\\'air et à la lumière, la couleur de votre e-liquide peut se foncer. Ce changement de couleur n\\'affecte ni la qualité ni le goût de votre e-liquide. La date indiquée sur l\\'étiquette est une DLUO (date limite d\\'utilisation optimale) ou DDM (date de durabilité minimale). Passé cette date, le e-liquide peut encore être consommé.')]"
      ]
     },
     "execution_count": 71,
     "metadata": {},
     "output_type": "execute_result"
    }
   ],
   "source": [
    "retriever.invoke(query)"
   ]
  },
  {
   "cell_type": "code",
   "execution_count": 73,
   "metadata": {},
   "outputs": [
    {
     "data": {
      "text/plain": [
       "[]"
      ]
     },
     "execution_count": 73,
     "metadata": {},
     "output_type": "execute_result"
    }
   ],
   "source": [
    "retriever.invoke(query, filter={\"saveur\": flavors_in_query})"
   ]
  },
  {
   "cell_type": "code",
   "execution_count": 72,
   "metadata": {},
   "outputs": [
    {
     "data": {
      "text/plain": [
       "[Document(metadata={'source': '../../RGBD/table_produits/produits.csv', 'row': 842, 'id_produit': 844, 'saveur': 'fraise, bonbon'}, page_content=\"Le Fraise Candy est un e liquide 50ml d'origine française, fabriqué par Prestige Fruits (Vape Connection) pour la gamme Sweety Fruits. Il vous propose une saveur fraîche de fraise façon bonbon. Créé à partir d'arômes, de propylène glycol (PG) et de glycérine végétale (VG), il est proposé en50PG/50VGafin d'offrir un excellent compromis entre saveurs, hit en gorge et vapeur. Il est compatible tout type de matériel e-cig. Le Fraise Candy est un e liquide surboosté et non nicotiné, conditionné en fiole de type PET 60ml. Dessus, un bouchon avec sécurité enfant et un embout fin très pratique. Rempli à hauteur de 50ml, il pourra être accompagné d'un booster de nicotine au besoin. Qui est Prestige Fruits ? Comme son nom l'indique, le fabriquant française s'est spécialisé dans la reproduction des saveurs de fruits à travers sa large gamme d'e-liquides. La collection Prestige Fruits s'adresse aux vapoteurs à la recherche de goûts tropicaux ou de mélanges complexes. Comment préparer votre e-liquide Fraise Candy ? Le Fraise Candy est proposé en version50mlboostée en arômes dans un flacon de60ml. Si vous le souhaitez, vous pouvez ajouter un ou plusieurs boosters de nicotine selon vos besoins sans perte de saveur. Pour booster votre e-liquide, vous devez : Indications pour préparer votre e-liquide surboosté de 50 ml : La place disponible dans le flacon d'origine n’est peut-être pas suffisante pour booster votre e-liquide au taux de nicotine souhaité. Pour les dosages importants, nous vous conseillons l’utilisation de contenants plus importants commeun flacon de 100ml graduéouun flacon Twist de 230ml gradué. Astuce : pensez à adapter votre matériel au ratio PG/VG de votre e-liquide ! Vous limiterez ainsi le risque de fuite et l’usure prématurée de vos résistances ! Quel taux de nicotine choisir pour votre e-liquide ? Le choix de votre taux de nicotine dépend de votre profil de fumeur ainsi que de la cigarette électronique utilisée : Si vous utilisez du matériel plus performant avec une résistance inférieure à 1 ohm et pour une puissance supérieure à 30 watts, vous pouvez diviser votre taux de nicotine par deux. Nos conseils pour la maturation de votre e-liquide surboosté De la même façon que pour un e-liquide DIY, on peut observer un temps de repos avec un e-liquide surboosté en arômes après l’ajout d’un ou plusieurs boosters de nicotine. Ce temps de maturation que l’on appelle aussi “steep” permet aux arômes de se développer et de mieux s’exprimer. Pour une maturation optimale, il faut compter : Pour un rendu optimal : secouez votre fiole de e-liquide une fois par jour pour que les arômes se diffusent correctement. Conservation de votre e-liquide Pour une conservation optimale de votre e-liquide, nous vous conseillons de stocker votre flacon à l'abri de la lumière dans un droit sec et à température ambiante. Après contacts répétés à l'air et à la lumière, la couleur de votre e-liquide peut se foncer. Ce changement de couleur n'affecte ni la qualité ni le goût de votre e-liquide. La date indiquée sur l'étiquette est une DLUO (date limite d'utilisation optimale) ou DDM (date de durabilité minimale). Passé cette date, le e-liquide peut encore être consommé.\")]"
      ]
     },
     "execution_count": 72,
     "metadata": {},
     "output_type": "execute_result"
    }
   ],
   "source": [
    "retriever.invoke(query, filter={\"saveur\": \"fraise, bonbon\"})"
   ]
  },
  {
   "cell_type": "code",
   "execution_count": 159,
   "metadata": {},
   "outputs": [],
   "source": [
    "vectorstore = FAISS.load_local('faiss_vector_store', embeddings=embeddings, allow_dangerous_deserialization=True)\n",
    "\n",
    "retriever = vectorstore.as_retriever(\n",
    "    search_type=\"similarity_score_threshold\",\n",
    "     search_kwargs={\n",
    "        \"score_threshold\": 0.3,  # Seuillage du score de similarité\n",
    "        \"k\": 5,                  # Retourne les 5 meilleurs résultats\n",
    "        \"nprobe\": 2,            # Augmente la recherche pour trouver plus de voisins\n",
    "    },\n",
    "    search_params={\n",
    "        \"metric\": \"cosine\",        # Utilise la distance cosine plutôt que euclidienne\n",
    "        \"efSearch\": 128            # Ajuste l'efficacité de la recherche FAISS\n",
    "    }\n",
    ")"
   ]
  },
  {
   "cell_type": "code",
   "execution_count": 160,
   "metadata": {},
   "outputs": [
    {
     "data": {
      "text/plain": [
       "[Document(metadata={'source': '../../RGBD/table_produits/produits.csv', 'row': 795, 'id_produit': 797, 'saveur': 'fraise, lime, bonbon, fruit du dragon'}, page_content='Le Freho Extra Frais 50ml est un e-liquide à booster fabriqué en France par la marque e.Tasty. Il vous propose des saveurs fraîches façon bonbon à la fraise et fruit du dragon. Sa recette est composée d\\'arômes alimentaires, de propylène glycol (PG) et de glycérine végétale (VG), pour un ratio50PG/50VG. Sa recette pourra au besoin êtrecomplétée avec des boosters10ml de nicotine (non inclus). Il vous est livré dans un flacon de 75ml doté d\\'un bouchon sécurisé et d\\'un embout fin compte-gouttes. Qui est e.Tasty ? e.Tasty est un fabricant français reconnu dans le monde de la vape pour sa maîtrise des saveurs, mais également pour sa recherche constante de qualité supérieure. Ainsi, qu\\'elles soient fruitées, fraîches ou encore classics, soyez toujours certain avec e.Tasty de vapoter des recettes de qualité premium ! Quelques mots sur Bankiz Entièrement consacrée aux saveurs fruitées et fraîches, cette collection de e-liquides à booster se décline en version classique ou \"Extra Frais\" ! Comment préparer votre e-liquide Freho Extra Frais ? Le Freho Extra Frais est proposé en version50mlboostée en arômes dans un flacon de75ml. Si vous le souhaitez, vous pouvez ainsi ajouter un ou plusieurs boosters de nicotine selon vos besoins sans perte de saveur. Pour booster votre e-liquide, vous devez : Indications pour préparer votre e-liquide surboosté de 50 ml : La place disponible dans le flacon d\\'origine n’est peut-être pas suffisante pour booster votre e-liquide au taux de nicotine souhaité. Pour les dosages importants, nous vous conseillons l’utilisation de contenants plus importants commeun flacon de 100ml graduéouun flacon Twist de 230ml gradué. Astuce : pensez à adapter votre matériel au ratio PG/VG de votre e-liquide ! Vous limiterez ainsi le risque de fuite et l’usure prématurée de vos résistances ! Quel taux de nicotine choisir pour votre e-liquide ? Le choix de votre taux de nicotine dépend de votre profil de fumeur ainsi que de la cigarette électronique utilisée : Si vous utilisez du matériel plus performant avec une résistance inférieure à 1 ohm et pour une puissance supérieure à 30 watts, vous pouvez diviser votre taux de nicotine par deux. Nos conseils pour la maturation de votre e-liquide surboosté De la même façon que pour un e-liquide DIY, on peut observer un temps de repos avec un e-liquide surboosté en arômes après l’ajout d’un ou plusieurs boosters de nicotine. Ce temps de maturation que l’on appelle aussi “steep” permet aux arômes de se développer et de mieux s’exprimer. Pour une maturation optimale, il faut compter : Pour un rendu optimal : secouez votre fiole de e-liquide une fois par jour pour que les arômes se diffusent correctement. Conservation de votre e-liquide Pour une conservation optimale de votre e-liquide, nous vous conseillons de stocker votre flacon à l\\'abri de la lumière dans un droit sec et à température ambiante. Après contacts répétés à l\\'air et à la lumière, la couleur de votre e-liquide peut se foncer. Ce changement de couleur n\\'affecte ni la qualité ni le goût de votre e-liquide. La date indiquée sur l\\'étiquette est une DLUO (date limite d\\'utilisation optimale) ou DDM (date de durabilité minimale). Passé cette date, le e-liquide peut encore être consommé.')]"
      ]
     },
     "execution_count": 160,
     "metadata": {},
     "output_type": "execute_result"
    }
   ],
   "source": [
    "retriever.invoke(query)"
   ]
  },
  {
   "cell_type": "code",
   "execution_count": 161,
   "metadata": {},
   "outputs": [
    {
     "name": "stderr",
     "output_type": "stream",
     "text": [
      "No relevant docs were retrieved using the relevance score threshold 0.3\n"
     ]
    },
    {
     "data": {
      "text/plain": [
       "[]"
      ]
     },
     "execution_count": 161,
     "metadata": {},
     "output_type": "execute_result"
    }
   ],
   "source": [
    "retriever.invoke(query, filter={\"saveur\": flavors_in_query})"
   ]
  },
  {
   "cell_type": "code",
   "execution_count": 105,
   "metadata": {},
   "outputs": [],
   "source": [
    "retriever = vectorstore.as_retriever(\n",
    "    search_type=\"similarity\",  # Recherche des voisins les plus proches\n",
    "    search_kwargs={\n",
    "        \"k\": 3,  # Retourne les 3 voisins les plus proches\n",
    "    }\n",
    ")"
   ]
  },
  {
   "cell_type": "code",
   "execution_count": 107,
   "metadata": {},
   "outputs": [
    {
     "data": {
      "text/plain": [
       "[Document(metadata={'source': '../../RGBD/table_produits/produits.csv', 'row': 723, 'saveur': 'cassis, lime'}, page_content=\"Le Cassis est un e-liquide fabriqué en France par Curieux pour sa collection Natural. Il vous propose unesaveur fraîche de cassis. Sa recette à booster et sans nicotine se compose d'arômes alimentaires, de végétol (50%) et de glycérine végétale (50%). Elle pourra au besoin êtrepersonnaliséeavec de la base neutre ou des boosters 10ml de nicotine (non inclus). Le flacon de 70ml du e-liquide Cassis 50ml est doté d'un bouchon sécurisé et d'un embout fin facilitant le remplissage de votre réservoir. Qui est Curieux ? Curieux est un fabricant français de liquides pour cigarette électronique, réputé notamment pour sa célèbre recette fruitée du Licorne. La marque décline ses recettes en différentes gammes, permettant à tout vapoteur de trouver le mix qui lui convient : Editions Astrale, Natural ou encore Oldies. Retrouvez les créations de chez Curieux en format e-liquide prêt-à-vaper, à booster, ou en concentré DIY ! La gamme Natural Le fabricant français vous propose une collection complète de all-days, tous élaborés à partir d'une base 100% végétale. Le végétol remplace le propylène glycol, ici dans un ratio Végétol / Glycérine Végétale de 50/50. Comment préparer votre e-liquide Cassis ? Ce e-liquide est proposé en version dans une fiole de70mlremplie à hauteur de 50ml. Si vous le souhaitez, vous pouvez ainsi ajouter un ou plusieurs boosters de nicotine selon vos besoins. Pour booster votre e-liquide, vous devez : Indications pour préparer votre e-liquide surboosté de 100 ml : La place disponible dans le flacon d'origine n’est peut-être pas suffisante pour booster votre e-liquide au taux de nicotine souhaité. Pour les dosages importants, nous vous conseillons l’utilisation de contenants plus importants commeun flacon de 100ml graduéouun flacon Twist de 230ml gradué. Astuce : pensez à adapter votre matériel au ratio PG/VG de votre e-liquide ! Vous limiterez ainsi le risque de fuite et l’usure prématurée de vos résistances ! Quel taux de nicotine choisir pour votre e-liquide ? Le choix de votre taux de nicotine dépend de votre profil de fumeur ainsi que de la cigarette électronique utilisée : Si vous utilisez du matériel plus performant avec une résistance inférieure à 1 ohm et pour une puissance supérieure à 30 watts, vous pouvez diviser votre taux de nicotine par deux. Nos conseils pour la maturation de votre e-liquide à booster De la même façon que pour un e-liquide DIY, on peut observer un temps de repos avec un e-liquide boosté en arômes après l’ajout d’un ou plusieurs boosters de nicotine. Ce temps de maturation que l’on appelle aussi “steep” permet aux arômes de se développer et de mieux s’exprimer. Pour une maturation optimale, il faut compter : Pour un rendu optimal : secouez votre fiole de e-liquide une fois par jour pour que les arômes se diffusent correctement. Conservation de votre e-liquide Pour une conservation optimale de votre e-liquide, nous vous conseillons de stocker votre flacon à l'abri de la lumière dans un droit sec et à température ambiante. Après contacts répétés à l'air et à la lumière, la couleur de votre e-liquide peut se foncer. Ce changement de couleur n'affecte ni la qualité ni le goût de votre e-liquide. La date indiquée sur l'étiquette est une DLUO (date limite d'utilisation optimale) ou DDM (date de durabilité minimale). Passé cette date, le e-liquide peut encore être consommé.\"),\n",
       " Document(metadata={'source': '../../RGBD/table_produits/produits.csv', 'row': 460, 'saveur': 'cassis, lime, baie, baie noire'}, page_content=\"Le Cassis,une recette fraîche au goût de cette baie noire, dans un e-liquide non nicotiné à booster. Issue de la collection Freeze, le Cassis est spécialement conçu par Liquideo pour le réservoir de votre cigarette électronique. De fabrication 100% française, ce e-liquide est élaboré à partir d'arômes alimentaires, de propylène glycol (PG) et de glycérine végétale (VG), pour un ratio PG/VG de 50/50. Retrouvez-le dansune fiole de 70ml remplie à hauteur de 50ml de e-liquide, et dotée d'un bouchon avec protection enfant ainsi que d'un embout fin. Qui est Liquideo ? Spécialiste du e-liquide, Liquideo est un fabricant français de recettes pour cigarette électronique. La marque propose de multiples créations aux saveurs variées, conditionnées en différents formats. Liquideo décline ainsi ses e-liquides en version prêt-à-vaper ou à booster, à sélectionner en fonction de vos besoins. La gamme Freeze Les saveurs fraîches de fruits sont à l'honneur dans cette collection devenue mythique, issue de l'imagination des aromaticiens de chez Liquideo. En version à booster ou prête-à-vaper, les e-liquides Freeze se déclinent en différents mix aux goûts variés. Comment préparer votre e-liquide Cassis ? Le Cassis est proposé en version50mlà booster dans un flacon de70ml. Si vous le souhaitez, vous pouvez ajouter un ou plusieurs boosters de nicotine selon vos besoins sans perte de saveur. Pour booster votre e-liquide, vous devez : Indications pour préparer votre e-liquide surboosté de 50 ml : La place disponible dans le flacon d'origine n’est peut-être pas suffisante pour booster votre e-liquide au taux de nicotine souhaité. Pour les dosages importants, nous vous conseillons l’utilisation de contenants plus importants commeun flacon de 100ml graduéouun flacon Twist de 230ml gradué. Astuce : pensez à adapter votre matériel au ratio PG/VG de votre e-liquide ! Vous limiterez ainsi le risque de fuite et l’usure prématurée de vos résistances ! Quel taux de nicotine choisir pour votre e-liquide ? Le choix de votre taux de nicotine dépend de votre profil de fumeur ainsi que de la cigarette électronique utilisée : Si vous utilisez du matériel plus performant avec une résistance inférieure à 1 ohm et pour une puissance supérieure à 30 watts, vous pouvez diviser votre taux de nicotine par deux. Nos conseils pour la maturation de votre e-liquide surboosté De la même façon que pour un e-liquide DIY, on peut observer un temps de repos avec un e-liquide surboosté en arômes après l’ajout d’un ou plusieurs boosters de nicotine. Ce temps de maturation que l’on appelle aussi “steep” permet aux arômes de se développer et de mieux s’exprimer. Pour une maturation optimale, il faut compter : Pour un rendu optimal : secouez votre fiole de e-liquide une fois par jour pour que les arômes se diffusent correctement. Conservation de votre e-liquide Pour une conservation optimale de votre e-liquide, nous vous conseillons de stocker votre flacon à l'abri de la lumière dans un droit sec et à température ambiante. Après contacts répétés à l'air et à la lumière, la couleur de votre e-liquide peut se foncer. Ce changement de couleur n'affecte ni la qualité ni le goût de votre e-liquide. La date indiquée sur l'étiquette est une DLUO (date limite d'utilisation optimale) ou DDM (date de durabilité minimale). Passé cette date, le e-liquide peut encore être consommé.\"),\n",
       " Document(metadata={'source': '../../RGBD/table_produits/produits.csv', 'row': 446, 'saveur': 'cassis, lime, menthol'}, page_content=\"Le Cassis est un e-liquide à booster au format 50ml de la collection Evolution par Liquideo. Il vous propose dessaveurs de cassisdans sa recette fabriquée en France. Composé d'arômes alimentaires, de propylène glycol (PG) et de glycérine végétale (VG), dans un ratio 50PG/50VG, vous pouvez au besoin ajouter des boosters 10ml de nicotine (vendus séparément). Il vous est livré dans une fiole de 70ml dotée d'un bouchon sécurisé et d'un embout fin simplifiant le remplissage de votre réservoir. Qui est Liquideo ? Liquideo est un fabricant français, et plus précisément parisien, spécialisé dans la création d'e-liquides. Se destinant à tous les vapoteurs, ses recettes se déclinent sous plusieurs gammes dont Multi Freeze ou encore Evolution, pour ne citer que celles-ci. La gamme Evolution Avec sa collection Evolution, Liquideo revient à l'essentiel en proposant des recettes façon mono-saveur, qu'elles présentent un goût fruité, mentholé ou encore classic. Retrouvez les créations Evolution dans des formats non nicotinés à booster ou en prêt-à-vaper, toujours conditionnées en fioles PET équipées d'un bouchon avec sécurité enfant et d'un embout fin. Comment préparer votre e-liquide Cassis ? Le Cassis est proposé en version50mlboostée en arômes dans un flacon de70ml. Si vous le souhaitez, vous pouvez ainsi ajouter un ou plusieurs boosters de nicotine selon vos besoins sans perte de saveur. Pour booster votre e-liquide, vous devez : Indications pour préparer votre e-liquide surboosté de 50 ml : La place disponible dans le flacon d'origine n’est peut-être pas suffisante pour booster votre e-liquide au taux de nicotine souhaité. Pour les dosages importants, nous vous conseillons l’utilisation de contenants plus importants commeun flacon de 100ml graduéouun flacon Twist de 230ml gradué. Astuce : pensez à adapter votre matériel au ratio PG/VG de votre e-liquide ! Vous limiterez ainsi le risque de fuite et l’usure prématurée de vos résistances ! Quel taux de nicotine choisir pour votre e-liquide ? Le choix de votre taux de nicotine dépend de votre profil de fumeur ainsi que de la cigarette électronique utilisée : Si vous utilisez du matériel plus performant avec une résistance inférieure à 1 ohm et pour une puissance supérieure à 30 watts, vous pouvez diviser votre taux de nicotine par deux. Nos conseils pour la maturation de votre e-liquide surboosté De la même façon que pour un e-liquide DIY, on peut observer un temps de repos avec un e-liquide surboosté en arômes après l’ajout d’un ou plusieurs boosters de nicotine. Ce temps de maturation que l’on appelle aussi “steep” permet aux arômes de se développer et de mieux s’exprimer. Pour une maturation optimale, il faut compter : Pour un rendu optimal : secouez votre fiole de e-liquide une fois par jour pour que les arômes se diffusent correctement. Conservation de votre e-liquide Pour une conservation optimale de votre e-liquide, nous vous conseillons de stocker votre flacon à l'abri de la lumière dans un droit sec et à température ambiante. Après contacts répétés à l'air et à la lumière, la couleur de votre e-liquide peut se foncer. Ce changement de couleur n'affecte ni la qualité ni le goût de votre e-liquide. La date indiquée sur l'étiquette est une DLUO (date limite d'utilisation optimale) ou DDM (date de durabilité minimale). Passé cette date, le e-liquide peut encore être consommé.\")]"
      ]
     },
     "execution_count": 107,
     "metadata": {},
     "output_type": "execute_result"
    }
   ],
   "source": [
    "retriever.invoke(query)"
   ]
  },
  {
   "cell_type": "code",
   "execution_count": 106,
   "metadata": {},
   "outputs": [
    {
     "data": {
      "text/plain": [
       "[Document(metadata={'source': '../../RGBD/table_produits/produits.csv', 'row': 723, 'saveur': 'cassis, lime'}, page_content=\"Le Cassis est un e-liquide fabriqué en France par Curieux pour sa collection Natural. Il vous propose unesaveur fraîche de cassis. Sa recette à booster et sans nicotine se compose d'arômes alimentaires, de végétol (50%) et de glycérine végétale (50%). Elle pourra au besoin êtrepersonnaliséeavec de la base neutre ou des boosters 10ml de nicotine (non inclus). Le flacon de 70ml du e-liquide Cassis 50ml est doté d'un bouchon sécurisé et d'un embout fin facilitant le remplissage de votre réservoir. Qui est Curieux ? Curieux est un fabricant français de liquides pour cigarette électronique, réputé notamment pour sa célèbre recette fruitée du Licorne. La marque décline ses recettes en différentes gammes, permettant à tout vapoteur de trouver le mix qui lui convient : Editions Astrale, Natural ou encore Oldies. Retrouvez les créations de chez Curieux en format e-liquide prêt-à-vaper, à booster, ou en concentré DIY ! La gamme Natural Le fabricant français vous propose une collection complète de all-days, tous élaborés à partir d'une base 100% végétale. Le végétol remplace le propylène glycol, ici dans un ratio Végétol / Glycérine Végétale de 50/50. Comment préparer votre e-liquide Cassis ? Ce e-liquide est proposé en version dans une fiole de70mlremplie à hauteur de 50ml. Si vous le souhaitez, vous pouvez ainsi ajouter un ou plusieurs boosters de nicotine selon vos besoins. Pour booster votre e-liquide, vous devez : Indications pour préparer votre e-liquide surboosté de 100 ml : La place disponible dans le flacon d'origine n’est peut-être pas suffisante pour booster votre e-liquide au taux de nicotine souhaité. Pour les dosages importants, nous vous conseillons l’utilisation de contenants plus importants commeun flacon de 100ml graduéouun flacon Twist de 230ml gradué. Astuce : pensez à adapter votre matériel au ratio PG/VG de votre e-liquide ! Vous limiterez ainsi le risque de fuite et l’usure prématurée de vos résistances ! Quel taux de nicotine choisir pour votre e-liquide ? Le choix de votre taux de nicotine dépend de votre profil de fumeur ainsi que de la cigarette électronique utilisée : Si vous utilisez du matériel plus performant avec une résistance inférieure à 1 ohm et pour une puissance supérieure à 30 watts, vous pouvez diviser votre taux de nicotine par deux. Nos conseils pour la maturation de votre e-liquide à booster De la même façon que pour un e-liquide DIY, on peut observer un temps de repos avec un e-liquide boosté en arômes après l’ajout d’un ou plusieurs boosters de nicotine. Ce temps de maturation que l’on appelle aussi “steep” permet aux arômes de se développer et de mieux s’exprimer. Pour une maturation optimale, il faut compter : Pour un rendu optimal : secouez votre fiole de e-liquide une fois par jour pour que les arômes se diffusent correctement. Conservation de votre e-liquide Pour une conservation optimale de votre e-liquide, nous vous conseillons de stocker votre flacon à l'abri de la lumière dans un droit sec et à température ambiante. Après contacts répétés à l'air et à la lumière, la couleur de votre e-liquide peut se foncer. Ce changement de couleur n'affecte ni la qualité ni le goût de votre e-liquide. La date indiquée sur l'étiquette est une DLUO (date limite d'utilisation optimale) ou DDM (date de durabilité minimale). Passé cette date, le e-liquide peut encore être consommé.\"),\n",
       " Document(metadata={'source': '../../RGBD/table_produits/produits.csv', 'row': 701, 'saveur': 'cassis, lime'}, page_content=\"Le Cassis Noir est un e-liquide à booster au format 50ml de la collection Petit Nuage par Roykin. Il vous propose dessaveurs fraîches d'un bubble-gum au cassis, dans sa recette fabriquée en France. Composé d'arômes alimentaires, de propylène glycol (PG) et de glycérine végétale (VG), dans un ratio 50PG/50VG, vous pouvez au besoin lui ajouter des boosters 10ml de nicotine (vendus séparément). Pour cela, utilisez le flacon 30ml vide et gradué fourni avec votre e-liquide. Il vous est livré dans une fiole de 60ml dotée d'un bouchon sécurisé et d'un embout fin simplifiant le remplissage de votre réservoir. Qui est Roykin ? Innovation, ambition et excellence sont les maîtres mots de ce fabricant français basé en région parisienne. C'est à travers des gammes célèbres telles que Petit Nuage ou encore Greeneo que la marque s'est imposée dans l'univers de la vape. Spécialiste du e-liquide, Roykin propose ses créations en format prêt-à-l'emploi ou à booster, répondant ainsi aux besoins de tout type de vapoteur. La gamme Petit Nuage Cette collection de e-liquides propose un large éventail de recettes à vapoter, allant de la plus simple à la plus complexe. En prêt-à-vaper ou à booster, chaque création Petit Nuage est élaborée dans les laboratoires français de Roykin, dans le respect d'un cahier des charges strict pour des produits de qualité premium. Comment préparer votre e-liquide Cassis Noir ? Ce e-liquide vous est proposé en version60mlboostée en arômes, accompagné d'une fiole vide et graduée de 30ml. Si vous le souhaitez, vous pouvez ainsi le compléter avec un ou plusieurs boosters de nicotine selon vos besoins. Pour booster votre e-liquide, vous devez : Indications pour préparer votre e-liquide surboosté de 50 ml : La place disponible dans le flacon d'origine n’est peut-être pas suffisante pour booster votre e-liquide au taux de nicotine souhaité. Pour les dosages importants, nous vous conseillons l’utilisation de contenants plus importants commeun flacon de 100ml graduéouun flacon Twist de 230ml gradué. Astuce : pensez à adapter votre matériel au ratio PG/VG de votre e-liquide ! Vous limiterez ainsi le risque de fuite et l’usure prématurée de vos résistances ! Quel taux de nicotine choisir pour votre e-liquide ? Le choix de votre taux de nicotine dépend de votre profil de fumeur ainsi que de la cigarette électronique utilisée : Si vous utilisez du matériel plus performant avec une résistance inférieure à 1 ohm et pour une puissance supérieure à 30 watts, vous pouvez diviser votre taux de nicotine par deux. Nos conseils pour la maturation de votre e-liquide surboosté De la même façon que pour un e-liquide DIY, on peut observer un temps de repos avec un e-liquide surboosté en arômes après l’ajout d’un ou plusieurs boosters de nicotine. Ce temps de maturation que l’on appelle aussi “steep” permet aux arômes de se développer et de mieux s’exprimer. Pour une maturation optimale, il faut compter : Pour un rendu optimal : secouez votre fiole de e-liquide une fois par jour pour que les arômes se diffusent correctement. Conservation de votre e-liquide Pour une conservation optimale de votre e-liquide, nous vous conseillons de stocker votre flacon à l'abri de la lumière dans un droit sec et à température ambiante. Après contacts répétés à l'air et à la lumière, la couleur de votre e-liquide peut se foncer. Ce changement de couleur n'affecte ni la qualité ni le goût de votre e-liquide. La date indiquée sur l'étiquette est une DLUO (date limite d'utilisation optimale) ou DDM (date de durabilité minimale). Passé cette date, le e-liquide peut encore être consommé.\")]"
      ]
     },
     "execution_count": 106,
     "metadata": {},
     "output_type": "execute_result"
    }
   ],
   "source": [
    "retriever.invoke(query, filter={\"saveur\": flavors_in_query})"
   ]
  },
  {
   "cell_type": "markdown",
   "metadata": {},
   "source": [
    "En résumé, ce code permet de rechercher des saveurs spécifiées dans une requête utilisateur et de retourner une liste de ces saveurs pour les utiliser dans une recherche plus large, par exemple dans un système de récupération d'informations basé sur des embeddings ou des vecteurs."
   ]
  },
  {
   "cell_type": "code",
   "execution_count": 111,
   "metadata": {},
   "outputs": [],
   "source": [
    "retriever = vectorstore.as_retriever(\n",
    "    search_type=\"similarity_score_threshold\",\n",
    "     search_kwargs={\n",
    "        \"score_threshold\": 0.3,  # Seuillage du score de similarité\n",
    "        \"k\": 5,                  # Retourne les 5 meilleurs résultats\n",
    "        \"nprobe\": 10,            # Augmente la recherche pour trouver plus de voisins\n",
    "    },\n",
    "    search_params={\n",
    "        \"metric\": \"cosine\",        # Utilise la distance cosine plutôt que euclidienne\n",
    "        \"efSearch\": 128            # Ajuste l'efficacité de la recherche FAISS\n",
    "    }\n",
    ")"
   ]
  },
  {
   "cell_type": "code",
   "execution_count": 112,
   "metadata": {},
   "outputs": [
    {
     "data": {
      "text/plain": [
       "[Document(metadata={'source': '../../RGBD/table_produits/produits.csv', 'row': 723, 'saveur': 'cassis, lime'}, page_content=\"Le Cassis est un e-liquide fabriqué en France par Curieux pour sa collection Natural. Il vous propose unesaveur fraîche de cassis. Sa recette à booster et sans nicotine se compose d'arômes alimentaires, de végétol (50%) et de glycérine végétale (50%). Elle pourra au besoin êtrepersonnaliséeavec de la base neutre ou des boosters 10ml de nicotine (non inclus). Le flacon de 70ml du e-liquide Cassis 50ml est doté d'un bouchon sécurisé et d'un embout fin facilitant le remplissage de votre réservoir. Qui est Curieux ? Curieux est un fabricant français de liquides pour cigarette électronique, réputé notamment pour sa célèbre recette fruitée du Licorne. La marque décline ses recettes en différentes gammes, permettant à tout vapoteur de trouver le mix qui lui convient : Editions Astrale, Natural ou encore Oldies. Retrouvez les créations de chez Curieux en format e-liquide prêt-à-vaper, à booster, ou en concentré DIY ! La gamme Natural Le fabricant français vous propose une collection complète de all-days, tous élaborés à partir d'une base 100% végétale. Le végétol remplace le propylène glycol, ici dans un ratio Végétol / Glycérine Végétale de 50/50. Comment préparer votre e-liquide Cassis ? Ce e-liquide est proposé en version dans une fiole de70mlremplie à hauteur de 50ml. Si vous le souhaitez, vous pouvez ainsi ajouter un ou plusieurs boosters de nicotine selon vos besoins. Pour booster votre e-liquide, vous devez : Indications pour préparer votre e-liquide surboosté de 100 ml : La place disponible dans le flacon d'origine n’est peut-être pas suffisante pour booster votre e-liquide au taux de nicotine souhaité. Pour les dosages importants, nous vous conseillons l’utilisation de contenants plus importants commeun flacon de 100ml graduéouun flacon Twist de 230ml gradué. Astuce : pensez à adapter votre matériel au ratio PG/VG de votre e-liquide ! Vous limiterez ainsi le risque de fuite et l’usure prématurée de vos résistances ! Quel taux de nicotine choisir pour votre e-liquide ? Le choix de votre taux de nicotine dépend de votre profil de fumeur ainsi que de la cigarette électronique utilisée : Si vous utilisez du matériel plus performant avec une résistance inférieure à 1 ohm et pour une puissance supérieure à 30 watts, vous pouvez diviser votre taux de nicotine par deux. Nos conseils pour la maturation de votre e-liquide à booster De la même façon que pour un e-liquide DIY, on peut observer un temps de repos avec un e-liquide boosté en arômes après l’ajout d’un ou plusieurs boosters de nicotine. Ce temps de maturation que l’on appelle aussi “steep” permet aux arômes de se développer et de mieux s’exprimer. Pour une maturation optimale, il faut compter : Pour un rendu optimal : secouez votre fiole de e-liquide une fois par jour pour que les arômes se diffusent correctement. Conservation de votre e-liquide Pour une conservation optimale de votre e-liquide, nous vous conseillons de stocker votre flacon à l'abri de la lumière dans un droit sec et à température ambiante. Après contacts répétés à l'air et à la lumière, la couleur de votre e-liquide peut se foncer. Ce changement de couleur n'affecte ni la qualité ni le goût de votre e-liquide. La date indiquée sur l'étiquette est une DLUO (date limite d'utilisation optimale) ou DDM (date de durabilité minimale). Passé cette date, le e-liquide peut encore être consommé.\"),\n",
       " Document(metadata={'source': '../../RGBD/table_produits/produits.csv', 'row': 460, 'saveur': 'cassis, lime, baie, baie noire'}, page_content=\"Le Cassis,une recette fraîche au goût de cette baie noire, dans un e-liquide non nicotiné à booster. Issue de la collection Freeze, le Cassis est spécialement conçu par Liquideo pour le réservoir de votre cigarette électronique. De fabrication 100% française, ce e-liquide est élaboré à partir d'arômes alimentaires, de propylène glycol (PG) et de glycérine végétale (VG), pour un ratio PG/VG de 50/50. Retrouvez-le dansune fiole de 70ml remplie à hauteur de 50ml de e-liquide, et dotée d'un bouchon avec protection enfant ainsi que d'un embout fin. Qui est Liquideo ? Spécialiste du e-liquide, Liquideo est un fabricant français de recettes pour cigarette électronique. La marque propose de multiples créations aux saveurs variées, conditionnées en différents formats. Liquideo décline ainsi ses e-liquides en version prêt-à-vaper ou à booster, à sélectionner en fonction de vos besoins. La gamme Freeze Les saveurs fraîches de fruits sont à l'honneur dans cette collection devenue mythique, issue de l'imagination des aromaticiens de chez Liquideo. En version à booster ou prête-à-vaper, les e-liquides Freeze se déclinent en différents mix aux goûts variés. Comment préparer votre e-liquide Cassis ? Le Cassis est proposé en version50mlà booster dans un flacon de70ml. Si vous le souhaitez, vous pouvez ajouter un ou plusieurs boosters de nicotine selon vos besoins sans perte de saveur. Pour booster votre e-liquide, vous devez : Indications pour préparer votre e-liquide surboosté de 50 ml : La place disponible dans le flacon d'origine n’est peut-être pas suffisante pour booster votre e-liquide au taux de nicotine souhaité. Pour les dosages importants, nous vous conseillons l’utilisation de contenants plus importants commeun flacon de 100ml graduéouun flacon Twist de 230ml gradué. Astuce : pensez à adapter votre matériel au ratio PG/VG de votre e-liquide ! Vous limiterez ainsi le risque de fuite et l’usure prématurée de vos résistances ! Quel taux de nicotine choisir pour votre e-liquide ? Le choix de votre taux de nicotine dépend de votre profil de fumeur ainsi que de la cigarette électronique utilisée : Si vous utilisez du matériel plus performant avec une résistance inférieure à 1 ohm et pour une puissance supérieure à 30 watts, vous pouvez diviser votre taux de nicotine par deux. Nos conseils pour la maturation de votre e-liquide surboosté De la même façon que pour un e-liquide DIY, on peut observer un temps de repos avec un e-liquide surboosté en arômes après l’ajout d’un ou plusieurs boosters de nicotine. Ce temps de maturation que l’on appelle aussi “steep” permet aux arômes de se développer et de mieux s’exprimer. Pour une maturation optimale, il faut compter : Pour un rendu optimal : secouez votre fiole de e-liquide une fois par jour pour que les arômes se diffusent correctement. Conservation de votre e-liquide Pour une conservation optimale de votre e-liquide, nous vous conseillons de stocker votre flacon à l'abri de la lumière dans un droit sec et à température ambiante. Après contacts répétés à l'air et à la lumière, la couleur de votre e-liquide peut se foncer. Ce changement de couleur n'affecte ni la qualité ni le goût de votre e-liquide. La date indiquée sur l'étiquette est une DLUO (date limite d'utilisation optimale) ou DDM (date de durabilité minimale). Passé cette date, le e-liquide peut encore être consommé.\"),\n",
       " Document(metadata={'source': '../../RGBD/table_produits/produits.csv', 'row': 446, 'saveur': 'cassis, lime, menthol'}, page_content=\"Le Cassis est un e-liquide à booster au format 50ml de la collection Evolution par Liquideo. Il vous propose dessaveurs de cassisdans sa recette fabriquée en France. Composé d'arômes alimentaires, de propylène glycol (PG) et de glycérine végétale (VG), dans un ratio 50PG/50VG, vous pouvez au besoin ajouter des boosters 10ml de nicotine (vendus séparément). Il vous est livré dans une fiole de 70ml dotée d'un bouchon sécurisé et d'un embout fin simplifiant le remplissage de votre réservoir. Qui est Liquideo ? Liquideo est un fabricant français, et plus précisément parisien, spécialisé dans la création d'e-liquides. Se destinant à tous les vapoteurs, ses recettes se déclinent sous plusieurs gammes dont Multi Freeze ou encore Evolution, pour ne citer que celles-ci. La gamme Evolution Avec sa collection Evolution, Liquideo revient à l'essentiel en proposant des recettes façon mono-saveur, qu'elles présentent un goût fruité, mentholé ou encore classic. Retrouvez les créations Evolution dans des formats non nicotinés à booster ou en prêt-à-vaper, toujours conditionnées en fioles PET équipées d'un bouchon avec sécurité enfant et d'un embout fin. Comment préparer votre e-liquide Cassis ? Le Cassis est proposé en version50mlboostée en arômes dans un flacon de70ml. Si vous le souhaitez, vous pouvez ainsi ajouter un ou plusieurs boosters de nicotine selon vos besoins sans perte de saveur. Pour booster votre e-liquide, vous devez : Indications pour préparer votre e-liquide surboosté de 50 ml : La place disponible dans le flacon d'origine n’est peut-être pas suffisante pour booster votre e-liquide au taux de nicotine souhaité. Pour les dosages importants, nous vous conseillons l’utilisation de contenants plus importants commeun flacon de 100ml graduéouun flacon Twist de 230ml gradué. Astuce : pensez à adapter votre matériel au ratio PG/VG de votre e-liquide ! Vous limiterez ainsi le risque de fuite et l’usure prématurée de vos résistances ! Quel taux de nicotine choisir pour votre e-liquide ? Le choix de votre taux de nicotine dépend de votre profil de fumeur ainsi que de la cigarette électronique utilisée : Si vous utilisez du matériel plus performant avec une résistance inférieure à 1 ohm et pour une puissance supérieure à 30 watts, vous pouvez diviser votre taux de nicotine par deux. Nos conseils pour la maturation de votre e-liquide surboosté De la même façon que pour un e-liquide DIY, on peut observer un temps de repos avec un e-liquide surboosté en arômes après l’ajout d’un ou plusieurs boosters de nicotine. Ce temps de maturation que l’on appelle aussi “steep” permet aux arômes de se développer et de mieux s’exprimer. Pour une maturation optimale, il faut compter : Pour un rendu optimal : secouez votre fiole de e-liquide une fois par jour pour que les arômes se diffusent correctement. Conservation de votre e-liquide Pour une conservation optimale de votre e-liquide, nous vous conseillons de stocker votre flacon à l'abri de la lumière dans un droit sec et à température ambiante. Après contacts répétés à l'air et à la lumière, la couleur de votre e-liquide peut se foncer. Ce changement de couleur n'affecte ni la qualité ni le goût de votre e-liquide. La date indiquée sur l'étiquette est une DLUO (date limite d'utilisation optimale) ou DDM (date de durabilité minimale). Passé cette date, le e-liquide peut encore être consommé.\"),\n",
       " Document(metadata={'source': '../../RGBD/table_produits/produits.csv', 'row': 595, 'saveur': 'cassis, lime, framboise'}, page_content=\"Le Framboise Cassis est un e-liquide fabriqué en France par Curieux pour sa collection 1900. Il vous propose dessaveurs de cassis et de framboises. Sa recette à booster et sans nicotine se compose d'arômes alimentaires, de propylène glycol (PG) et de glycérine végétale (VG), pour un ratio 40PG/60VG. Elle pourra au besoin êtrepersonnaliséeavec de la base neutre ou des boosters 10ml de nicotine (non inclus). Le flacon de 70ml du e-liquide Framboise Cassis 50ml est doté d'un bouchon sécurisé et d'un embout fin facilitant le remplissage de votre réservoir. Qui est Curieux ? Curieux est un fabricant français de liquides pour cigarette électronique, réputé notamment pour sa célèbre recette fruitée du Licorne. La marque décline ses recettes en différentes gammes, permettant à tout vapoteur de trouver le mix qui lui convient : Editions Astrale, Natural ou encore Oldies. Retrouvez les créations de chez Curieux en format e-liquide prêt-à-vaper, à booster, ou en concentré DIY ! Comment préparer votre e-liquide Framboise Cassis ? Ce e-liquide est proposé en version dans une fiole de70mlremplie à hauteur de 50ml. Si vous le souhaitez, vous pouvez ainsi ajouter un ou plusieurs boosters de nicotine selon vos besoins. Pour booster votre e-liquide, vous devez : Indications pour préparer votre e-liquide surboosté de 100 ml : La place disponible dans le flacon d'origine n’est peut-être pas suffisante pour booster votre e-liquide au taux de nicotine souhaité. Pour les dosages importants, nous vous conseillons l’utilisation de contenants plus importants commeun flacon de 100ml graduéouun flacon Twist de 230ml gradué. Astuce : pensez à adapter votre matériel au ratio PG/VG de votre e-liquide ! Vous limiterez ainsi le risque de fuite et l’usure prématurée de vos résistances ! Quel taux de nicotine choisir pour votre e-liquide ? Le choix de votre taux de nicotine dépend de votre profil de fumeur ainsi que de la cigarette électronique utilisée : Si vous utilisez du matériel plus performant avec une résistance inférieure à 1 ohm et pour une puissance supérieure à 30 watts, vous pouvez diviser votre taux de nicotine par deux. Nos conseils pour la maturation de votre e-liquide à booster De la même façon que pour un e-liquide DIY, on peut observer un temps de repos avec un e-liquide boosté en arômes après l’ajout d’un ou plusieurs boosters de nicotine. Ce temps de maturation que l’on appelle aussi “steep” permet aux arômes de se développer et de mieux s’exprimer. Pour une maturation optimale, il faut compter : Pour un rendu optimal : secouez votre fiole de e-liquide une fois par jour pour que les arômes se diffusent correctement. Conservation de votre e-liquide Pour une conservation optimale de votre e-liquide, nous vous conseillons de stocker votre flacon à l'abri de la lumière dans un droit sec et à température ambiante. Après contacts répétés à l'air et à la lumière, la couleur de votre e-liquide peut se foncer. Ce changement de couleur n'affecte ni la qualité ni le goût de votre e-liquide. La date indiquée sur l'étiquette est une DLUO (date limite d'utilisation optimale) ou DDM (date de durabilité minimale). Passé cette date, le e-liquide peut encore être consommé.\"),\n",
       " Document(metadata={'source': '../../RGBD/table_produits/produits.csv', 'row': 455, 'saveur': 'fraise, lime, cassis, myrtille'}, page_content=\"Le e-liquide Fraise Cassis Myrtille 50ml est fabriqué en France par Cabochard. Il vous propose dessaveurs de myrtilles, de fraises et de cassis. Il est composé d'arômes alimentaires, de propylène glycol (PG), et de glycérine végétale (VG) dans un ratio50PG/50VG. Il s'agit d'un e-liquide conditionné en flacons de 60ml remplis à hauteur de 50ml afin de vous permettre l'ajout d'un booster de nicotine (non inclus) au besoin. Ces flacons disposent d'une sécurité enfant ainsi que d'un embout fin pour remplir votre clearomiseur ou atomiseur en toute simplicité. Qui est Cabochard ? Cabochard est un fabricant français de e-liquides pour cigarettes électroniques. Il est spécialisé dans la création de recettes non nicotinées de base, à booster selon vos besoins ! Retrouvez les e-liquides Cabochard dans des flacons de 60ml remplis à hauteur de 50ml, et équipés d'une ouverture sécurisée. Comment préparer votre e-liquide Fraise Cassis Myrtille ? Le Fraise Cassis Myrtille est proposé en version50mlboostée en arômes dans un flacon de60ml. Si vous le souhaitez, vous pouvez ainsi ajouter un ou plusieurs boosters de nicotine selon vos besoins sans perte de saveur. Pour booster votre e-liquide, vous devez : Indications pour préparer votre e-liquide surboosté de 50 ml : La place disponible dans le flacon d'origine n’est peut-être pas suffisante pour booster votre e-liquide au taux de nicotine souhaité. Pour les dosages importants, nous vous conseillons l’utilisation de contenants plus importants commeun flacon de 100ml graduéouun flacon Twist de 230ml gradué. Astuce : pensez à adapter votre matériel au ratio PG/VG de votre e-liquide ! Vous limiterez ainsi le risque de fuite et l’usure prématurée de vos résistances ! Quel taux de nicotine choisir pour votre e-liquide ? Le choix de votre taux de nicotine dépend de votre profil de fumeur ainsi que de la cigarette électronique utilisée : Si vous utilisez du matériel plus performant avec une résistance inférieure à 1 ohm et pour une puissance supérieure à 30 watts, vous pouvez diviser votre taux de nicotine par deux. Nos conseils pour la maturation de votre e-liquide surboosté De la même façon que pour un e-liquide DIY, on peut observer un temps de repos avec un e-liquide surboosté en arômes après l’ajout d’un ou plusieurs boosters de nicotine. Ce temps de maturation que l’on appelle aussi “steep” permet aux arômes de se développer et de mieux s’exprimer. Pour une maturation optimale, il faut compter : Pour un rendu optimal : secouez votre fiole de e-liquide une fois par jour pour que les arômes se diffusent correctement. Conservation de votre e-liquide Pour une conservation optimale de votre e-liquide, nous vous conseillons de stocker votre flacon à l'abri de la lumière dans un droit sec et à température ambiante. Après contacts répétés à l'air et à la lumière, la couleur de votre e-liquide peut se foncer. Ce changement de couleur n'affecte ni la qualité ni le goût de votre e-liquide. La date indiquée sur l'étiquette est une DLUO (date limite d'utilisation optimale) ou DDM (date de durabilité minimale). Passé cette date, le e-liquide peut encore être consommé.\")]"
      ]
     },
     "execution_count": 112,
     "metadata": {},
     "output_type": "execute_result"
    }
   ],
   "source": [
    "retriever.invoke(query)"
   ]
  },
  {
   "cell_type": "code",
   "execution_count": 113,
   "metadata": {},
   "outputs": [
    {
     "data": {
      "text/plain": [
       "[Document(metadata={'source': '../../RGBD/table_produits/produits.csv', 'row': 723, 'saveur': 'cassis, lime'}, page_content=\"Le Cassis est un e-liquide fabriqué en France par Curieux pour sa collection Natural. Il vous propose unesaveur fraîche de cassis. Sa recette à booster et sans nicotine se compose d'arômes alimentaires, de végétol (50%) et de glycérine végétale (50%). Elle pourra au besoin êtrepersonnaliséeavec de la base neutre ou des boosters 10ml de nicotine (non inclus). Le flacon de 70ml du e-liquide Cassis 50ml est doté d'un bouchon sécurisé et d'un embout fin facilitant le remplissage de votre réservoir. Qui est Curieux ? Curieux est un fabricant français de liquides pour cigarette électronique, réputé notamment pour sa célèbre recette fruitée du Licorne. La marque décline ses recettes en différentes gammes, permettant à tout vapoteur de trouver le mix qui lui convient : Editions Astrale, Natural ou encore Oldies. Retrouvez les créations de chez Curieux en format e-liquide prêt-à-vaper, à booster, ou en concentré DIY ! La gamme Natural Le fabricant français vous propose une collection complète de all-days, tous élaborés à partir d'une base 100% végétale. Le végétol remplace le propylène glycol, ici dans un ratio Végétol / Glycérine Végétale de 50/50. Comment préparer votre e-liquide Cassis ? Ce e-liquide est proposé en version dans une fiole de70mlremplie à hauteur de 50ml. Si vous le souhaitez, vous pouvez ainsi ajouter un ou plusieurs boosters de nicotine selon vos besoins. Pour booster votre e-liquide, vous devez : Indications pour préparer votre e-liquide surboosté de 100 ml : La place disponible dans le flacon d'origine n’est peut-être pas suffisante pour booster votre e-liquide au taux de nicotine souhaité. Pour les dosages importants, nous vous conseillons l’utilisation de contenants plus importants commeun flacon de 100ml graduéouun flacon Twist de 230ml gradué. Astuce : pensez à adapter votre matériel au ratio PG/VG de votre e-liquide ! Vous limiterez ainsi le risque de fuite et l’usure prématurée de vos résistances ! Quel taux de nicotine choisir pour votre e-liquide ? Le choix de votre taux de nicotine dépend de votre profil de fumeur ainsi que de la cigarette électronique utilisée : Si vous utilisez du matériel plus performant avec une résistance inférieure à 1 ohm et pour une puissance supérieure à 30 watts, vous pouvez diviser votre taux de nicotine par deux. Nos conseils pour la maturation de votre e-liquide à booster De la même façon que pour un e-liquide DIY, on peut observer un temps de repos avec un e-liquide boosté en arômes après l’ajout d’un ou plusieurs boosters de nicotine. Ce temps de maturation que l’on appelle aussi “steep” permet aux arômes de se développer et de mieux s’exprimer. Pour une maturation optimale, il faut compter : Pour un rendu optimal : secouez votre fiole de e-liquide une fois par jour pour que les arômes se diffusent correctement. Conservation de votre e-liquide Pour une conservation optimale de votre e-liquide, nous vous conseillons de stocker votre flacon à l'abri de la lumière dans un droit sec et à température ambiante. Après contacts répétés à l'air et à la lumière, la couleur de votre e-liquide peut se foncer. Ce changement de couleur n'affecte ni la qualité ni le goût de votre e-liquide. La date indiquée sur l'étiquette est une DLUO (date limite d'utilisation optimale) ou DDM (date de durabilité minimale). Passé cette date, le e-liquide peut encore être consommé.\"),\n",
       " Document(metadata={'source': '../../RGBD/table_produits/produits.csv', 'row': 701, 'saveur': 'cassis, lime'}, page_content=\"Le Cassis Noir est un e-liquide à booster au format 50ml de la collection Petit Nuage par Roykin. Il vous propose dessaveurs fraîches d'un bubble-gum au cassis, dans sa recette fabriquée en France. Composé d'arômes alimentaires, de propylène glycol (PG) et de glycérine végétale (VG), dans un ratio 50PG/50VG, vous pouvez au besoin lui ajouter des boosters 10ml de nicotine (vendus séparément). Pour cela, utilisez le flacon 30ml vide et gradué fourni avec votre e-liquide. Il vous est livré dans une fiole de 60ml dotée d'un bouchon sécurisé et d'un embout fin simplifiant le remplissage de votre réservoir. Qui est Roykin ? Innovation, ambition et excellence sont les maîtres mots de ce fabricant français basé en région parisienne. C'est à travers des gammes célèbres telles que Petit Nuage ou encore Greeneo que la marque s'est imposée dans l'univers de la vape. Spécialiste du e-liquide, Roykin propose ses créations en format prêt-à-l'emploi ou à booster, répondant ainsi aux besoins de tout type de vapoteur. La gamme Petit Nuage Cette collection de e-liquides propose un large éventail de recettes à vapoter, allant de la plus simple à la plus complexe. En prêt-à-vaper ou à booster, chaque création Petit Nuage est élaborée dans les laboratoires français de Roykin, dans le respect d'un cahier des charges strict pour des produits de qualité premium. Comment préparer votre e-liquide Cassis Noir ? Ce e-liquide vous est proposé en version60mlboostée en arômes, accompagné d'une fiole vide et graduée de 30ml. Si vous le souhaitez, vous pouvez ainsi le compléter avec un ou plusieurs boosters de nicotine selon vos besoins. Pour booster votre e-liquide, vous devez : Indications pour préparer votre e-liquide surboosté de 50 ml : La place disponible dans le flacon d'origine n’est peut-être pas suffisante pour booster votre e-liquide au taux de nicotine souhaité. Pour les dosages importants, nous vous conseillons l’utilisation de contenants plus importants commeun flacon de 100ml graduéouun flacon Twist de 230ml gradué. Astuce : pensez à adapter votre matériel au ratio PG/VG de votre e-liquide ! Vous limiterez ainsi le risque de fuite et l’usure prématurée de vos résistances ! Quel taux de nicotine choisir pour votre e-liquide ? Le choix de votre taux de nicotine dépend de votre profil de fumeur ainsi que de la cigarette électronique utilisée : Si vous utilisez du matériel plus performant avec une résistance inférieure à 1 ohm et pour une puissance supérieure à 30 watts, vous pouvez diviser votre taux de nicotine par deux. Nos conseils pour la maturation de votre e-liquide surboosté De la même façon que pour un e-liquide DIY, on peut observer un temps de repos avec un e-liquide surboosté en arômes après l’ajout d’un ou plusieurs boosters de nicotine. Ce temps de maturation que l’on appelle aussi “steep” permet aux arômes de se développer et de mieux s’exprimer. Pour une maturation optimale, il faut compter : Pour un rendu optimal : secouez votre fiole de e-liquide une fois par jour pour que les arômes se diffusent correctement. Conservation de votre e-liquide Pour une conservation optimale de votre e-liquide, nous vous conseillons de stocker votre flacon à l'abri de la lumière dans un droit sec et à température ambiante. Après contacts répétés à l'air et à la lumière, la couleur de votre e-liquide peut se foncer. Ce changement de couleur n'affecte ni la qualité ni le goût de votre e-liquide. La date indiquée sur l'étiquette est une DLUO (date limite d'utilisation optimale) ou DDM (date de durabilité minimale). Passé cette date, le e-liquide peut encore être consommé.\")]"
      ]
     },
     "execution_count": 113,
     "metadata": {},
     "output_type": "execute_result"
    }
   ],
   "source": [
    "retriever.invoke(query, filter={\"saveur\": flavors_in_query})"
   ]
  },
  {
   "cell_type": "code",
   "execution_count": 115,
   "metadata": {},
   "outputs": [],
   "source": [
    "retriever = vectorstore.as_retriever(\n",
    "    search_type=\"similarity\",  # Recherche des voisins les plus proches\n",
    "    search_kwargs={\n",
    "        \"k\": 3,  # Retourne les 3 voisins les plus proches\n",
    "    }\n",
    ")"
   ]
  },
  {
   "cell_type": "code",
   "execution_count": 116,
   "metadata": {},
   "outputs": [
    {
     "name": "stdout",
     "output_type": "stream",
     "text": [
      "Contenu : Le Cassis Mangue est un e-liquideà boosterde la collection Fruizee par Eliquid France, auxsaveurs fraîches de mangue et de cassis. Sa recette fabriquée en France se compose d'arômes alimentaires, de propylène glycol (PG) et de glycérine végétale (VG), pour un ratio 30PG/70VG. Vous pouvez au besoin ajouter un booster 10ml de nicotine (non inclus). Il vous est livré dans unflacon de 60mldoté d'un embout fin et d'un bouchon avec sécurité enfant. Qui est Eliquid France ? Créé en 2013 à Nieul sur Mer en Charente-Maritime, le laboratoire Eliquid France s'est fait une place de choix dans l'univers de la vape grâce à des liquides de qualité, exportant ses créations dans le monde entier. Toujours en recherche d'innovation, la marque française propose des recettes variées aux saveurs allant de simples à complexes, et se déclinant autant en arôme DIY qu'en e-liquide prêt à vaper. La gamme Fruizee Collection ayant fait la réputation de la marque Eliquid France, elle mélange des saveurs fraîches de fruits finement réalisées, dans des recettes DIY comme dans des e-liquides prêts à vaper ou à booster ! Comment préparer votre e-liquide Cassis Mangue ? Le Cassis Mangue est proposé en version50mlboostée en arômes dans un flacon de60ml. Si vous le souhaitez, vous pouvez ainsi ajouter un booster de nicotine selon vos besoins sans perte de saveur. Pour booster votre e-liquide, vous devez : Indications pour préparer votre e-liquide surboosté de 50 ml : La place disponible dans le flacon d'origine n’est peut-être pas suffisante pour booster votre e-liquide au taux de nicotine souhaité. Pour les dosages importants, nous vous conseillons l’utilisation de contenants plus importants commeun flacon de 100ml graduéouun flacon Twist de 230ml gradué. Astuce : pensez à adapter votre matériel au ratio PG/VG de votre e-liquide ! Vous limiterez ainsi le risque de fuite et l’usure prématurée de vos résistances ! Quel taux de nicotine choisir pour votre e-liquide ? Le choix de votre taux de nicotine dépend de votre profil de fumeur ainsi que de la cigarette électronique utilisée : Si vous utilisez du matériel plus performant avec une résistance inférieure à 1 ohm et pour une puissance supérieure à 30 watts, vous pouvez diviser votre taux de nicotine par deux. Nos conseils pour la maturation de votre e-liquide surboosté De la même façon que pour un e-liquide DIY, on peut observer un temps de repos avec un e-liquide surboosté en arômes après l’ajout d’un ou plusieurs boosters de nicotine. Ce temps de maturation que l’on appelle aussi “steep” permet aux arômes de se développer et de mieux s’exprimer. Pour une maturation optimale, il faut compter : Pour un rendu optimal : secouez votre fiole de e-liquide une fois par jour pour que les arômes se diffusent correctement. Conservation de votre e-liquide Pour une conservation optimale de votre e-liquide, nous vous conseillons de stocker votre flacon à l'abri de la lumière dans un droit sec et à température ambiante. Après contacts répétés à l'air et à la lumière, la couleur de votre e-liquide peut se foncer. Ce changement de couleur n'affecte ni la qualité ni le goût de votre e-liquide. La date indiquée sur l'étiquette est une DLUO (date limite d'utilisation optimale) ou DDM (date de durabilité minimale). Passé cette date, le e-liquide peut encore être consommé.\n",
      "Saveur : cassis, lime, mangue\n",
      "Contenu : Le Cassis est un e-liquide fabriqué en France par Curieux pour sa collection Natural. Il vous propose unesaveur fraîche de cassis. Sa recette à booster et sans nicotine se compose d'arômes alimentaires, de végétol (50%) et de glycérine végétale (50%). Elle pourra au besoin êtrepersonnaliséeavec de la base neutre ou des boosters 10ml de nicotine (non inclus). Le flacon de 70ml du e-liquide Cassis 50ml est doté d'un bouchon sécurisé et d'un embout fin facilitant le remplissage de votre réservoir. Qui est Curieux ? Curieux est un fabricant français de liquides pour cigarette électronique, réputé notamment pour sa célèbre recette fruitée du Licorne. La marque décline ses recettes en différentes gammes, permettant à tout vapoteur de trouver le mix qui lui convient : Editions Astrale, Natural ou encore Oldies. Retrouvez les créations de chez Curieux en format e-liquide prêt-à-vaper, à booster, ou en concentré DIY ! La gamme Natural Le fabricant français vous propose une collection complète de all-days, tous élaborés à partir d'une base 100% végétale. Le végétol remplace le propylène glycol, ici dans un ratio Végétol / Glycérine Végétale de 50/50. Comment préparer votre e-liquide Cassis ? Ce e-liquide est proposé en version dans une fiole de70mlremplie à hauteur de 50ml. Si vous le souhaitez, vous pouvez ainsi ajouter un ou plusieurs boosters de nicotine selon vos besoins. Pour booster votre e-liquide, vous devez : Indications pour préparer votre e-liquide surboosté de 100 ml : La place disponible dans le flacon d'origine n’est peut-être pas suffisante pour booster votre e-liquide au taux de nicotine souhaité. Pour les dosages importants, nous vous conseillons l’utilisation de contenants plus importants commeun flacon de 100ml graduéouun flacon Twist de 230ml gradué. Astuce : pensez à adapter votre matériel au ratio PG/VG de votre e-liquide ! Vous limiterez ainsi le risque de fuite et l’usure prématurée de vos résistances ! Quel taux de nicotine choisir pour votre e-liquide ? Le choix de votre taux de nicotine dépend de votre profil de fumeur ainsi que de la cigarette électronique utilisée : Si vous utilisez du matériel plus performant avec une résistance inférieure à 1 ohm et pour une puissance supérieure à 30 watts, vous pouvez diviser votre taux de nicotine par deux. Nos conseils pour la maturation de votre e-liquide à booster De la même façon que pour un e-liquide DIY, on peut observer un temps de repos avec un e-liquide boosté en arômes après l’ajout d’un ou plusieurs boosters de nicotine. Ce temps de maturation que l’on appelle aussi “steep” permet aux arômes de se développer et de mieux s’exprimer. Pour une maturation optimale, il faut compter : Pour un rendu optimal : secouez votre fiole de e-liquide une fois par jour pour que les arômes se diffusent correctement. Conservation de votre e-liquide Pour une conservation optimale de votre e-liquide, nous vous conseillons de stocker votre flacon à l'abri de la lumière dans un droit sec et à température ambiante. Après contacts répétés à l'air et à la lumière, la couleur de votre e-liquide peut se foncer. Ce changement de couleur n'affecte ni la qualité ni le goût de votre e-liquide. La date indiquée sur l'étiquette est une DLUO (date limite d'utilisation optimale) ou DDM (date de durabilité minimale). Passé cette date, le e-liquide peut encore être consommé.\n",
      "Saveur : cassis, lime\n",
      "Contenu : Le Cassis est un e-liquide à booster au format 50ml de la collection Evolution par Liquideo. Il vous propose dessaveurs de cassisdans sa recette fabriquée en France. Composé d'arômes alimentaires, de propylène glycol (PG) et de glycérine végétale (VG), dans un ratio 50PG/50VG, vous pouvez au besoin ajouter des boosters 10ml de nicotine (vendus séparément). Il vous est livré dans une fiole de 70ml dotée d'un bouchon sécurisé et d'un embout fin simplifiant le remplissage de votre réservoir. Qui est Liquideo ? Liquideo est un fabricant français, et plus précisément parisien, spécialisé dans la création d'e-liquides. Se destinant à tous les vapoteurs, ses recettes se déclinent sous plusieurs gammes dont Multi Freeze ou encore Evolution, pour ne citer que celles-ci. La gamme Evolution Avec sa collection Evolution, Liquideo revient à l'essentiel en proposant des recettes façon mono-saveur, qu'elles présentent un goût fruité, mentholé ou encore classic. Retrouvez les créations Evolution dans des formats non nicotinés à booster ou en prêt-à-vaper, toujours conditionnées en fioles PET équipées d'un bouchon avec sécurité enfant et d'un embout fin. Comment préparer votre e-liquide Cassis ? Le Cassis est proposé en version50mlboostée en arômes dans un flacon de70ml. Si vous le souhaitez, vous pouvez ainsi ajouter un ou plusieurs boosters de nicotine selon vos besoins sans perte de saveur. Pour booster votre e-liquide, vous devez : Indications pour préparer votre e-liquide surboosté de 50 ml : La place disponible dans le flacon d'origine n’est peut-être pas suffisante pour booster votre e-liquide au taux de nicotine souhaité. Pour les dosages importants, nous vous conseillons l’utilisation de contenants plus importants commeun flacon de 100ml graduéouun flacon Twist de 230ml gradué. Astuce : pensez à adapter votre matériel au ratio PG/VG de votre e-liquide ! Vous limiterez ainsi le risque de fuite et l’usure prématurée de vos résistances ! Quel taux de nicotine choisir pour votre e-liquide ? Le choix de votre taux de nicotine dépend de votre profil de fumeur ainsi que de la cigarette électronique utilisée : Si vous utilisez du matériel plus performant avec une résistance inférieure à 1 ohm et pour une puissance supérieure à 30 watts, vous pouvez diviser votre taux de nicotine par deux. Nos conseils pour la maturation de votre e-liquide surboosté De la même façon que pour un e-liquide DIY, on peut observer un temps de repos avec un e-liquide surboosté en arômes après l’ajout d’un ou plusieurs boosters de nicotine. Ce temps de maturation que l’on appelle aussi “steep” permet aux arômes de se développer et de mieux s’exprimer. Pour une maturation optimale, il faut compter : Pour un rendu optimal : secouez votre fiole de e-liquide une fois par jour pour que les arômes se diffusent correctement. Conservation de votre e-liquide Pour une conservation optimale de votre e-liquide, nous vous conseillons de stocker votre flacon à l'abri de la lumière dans un droit sec et à température ambiante. Après contacts répétés à l'air et à la lumière, la couleur de votre e-liquide peut se foncer. Ce changement de couleur n'affecte ni la qualité ni le goût de votre e-liquide. La date indiquée sur l'étiquette est une DLUO (date limite d'utilisation optimale) ou DDM (date de durabilité minimale). Passé cette date, le e-liquide peut encore être consommé.\n",
      "Saveur : cassis, lime, menthol\n"
     ]
    }
   ],
   "source": [
    "# Requête de recherche\n",
    "query = \"Quel produit contient des saveurs de cassis ?\"\n",
    "results = retriever.invoke(query)\n",
    "\n",
    "# Extraction des métadonnées des résultats\n",
    "for result in results:\n",
    "    print(f\"Contenu : {result.page_content}\")\n",
    "    print(f\"Saveur : {result.metadata.get('saveur', 'Aucune saveur spécifiée')}\") "
   ]
  },
  {
   "cell_type": "code",
   "execution_count": 117,
   "metadata": {},
   "outputs": [
    {
     "name": "stdout",
     "output_type": "stream",
     "text": [
      "Contenu : Le Cassis est un e-liquide fabriqué en France par Curieux pour sa collection Natural. Il vous propose unesaveur fraîche de cassis. Sa recette à booster et sans nicotine se compose d'arômes alimentaires, de végétol (50%) et de glycérine végétale (50%). Elle pourra au besoin êtrepersonnaliséeavec de la base neutre ou des boosters 10ml de nicotine (non inclus). Le flacon de 70ml du e-liquide Cassis 50ml est doté d'un bouchon sécurisé et d'un embout fin facilitant le remplissage de votre réservoir. Qui est Curieux ? Curieux est un fabricant français de liquides pour cigarette électronique, réputé notamment pour sa célèbre recette fruitée du Licorne. La marque décline ses recettes en différentes gammes, permettant à tout vapoteur de trouver le mix qui lui convient : Editions Astrale, Natural ou encore Oldies. Retrouvez les créations de chez Curieux en format e-liquide prêt-à-vaper, à booster, ou en concentré DIY ! La gamme Natural Le fabricant français vous propose une collection complète de all-days, tous élaborés à partir d'une base 100% végétale. Le végétol remplace le propylène glycol, ici dans un ratio Végétol / Glycérine Végétale de 50/50. Comment préparer votre e-liquide Cassis ? Ce e-liquide est proposé en version dans une fiole de70mlremplie à hauteur de 50ml. Si vous le souhaitez, vous pouvez ainsi ajouter un ou plusieurs boosters de nicotine selon vos besoins. Pour booster votre e-liquide, vous devez : Indications pour préparer votre e-liquide surboosté de 100 ml : La place disponible dans le flacon d'origine n’est peut-être pas suffisante pour booster votre e-liquide au taux de nicotine souhaité. Pour les dosages importants, nous vous conseillons l’utilisation de contenants plus importants commeun flacon de 100ml graduéouun flacon Twist de 230ml gradué. Astuce : pensez à adapter votre matériel au ratio PG/VG de votre e-liquide ! Vous limiterez ainsi le risque de fuite et l’usure prématurée de vos résistances ! Quel taux de nicotine choisir pour votre e-liquide ? Le choix de votre taux de nicotine dépend de votre profil de fumeur ainsi que de la cigarette électronique utilisée : Si vous utilisez du matériel plus performant avec une résistance inférieure à 1 ohm et pour une puissance supérieure à 30 watts, vous pouvez diviser votre taux de nicotine par deux. Nos conseils pour la maturation de votre e-liquide à booster De la même façon que pour un e-liquide DIY, on peut observer un temps de repos avec un e-liquide boosté en arômes après l’ajout d’un ou plusieurs boosters de nicotine. Ce temps de maturation que l’on appelle aussi “steep” permet aux arômes de se développer et de mieux s’exprimer. Pour une maturation optimale, il faut compter : Pour un rendu optimal : secouez votre fiole de e-liquide une fois par jour pour que les arômes se diffusent correctement. Conservation de votre e-liquide Pour une conservation optimale de votre e-liquide, nous vous conseillons de stocker votre flacon à l'abri de la lumière dans un droit sec et à température ambiante. Après contacts répétés à l'air et à la lumière, la couleur de votre e-liquide peut se foncer. Ce changement de couleur n'affecte ni la qualité ni le goût de votre e-liquide. La date indiquée sur l'étiquette est une DLUO (date limite d'utilisation optimale) ou DDM (date de durabilité minimale). Passé cette date, le e-liquide peut encore être consommé.\n",
      "Saveur : cassis, lime\n",
      "Contenu : Le fabricant français vous propose de vapoter unemono saveur de cassis, dans un e-liquide pour cigarette électronique à booster. Le Cassis Exquis est non nicotiné de base et vous estlivré avec un booster aromatisé de 10ml, vous permettant au besoin de le vapoter dans un taux d'environ 3mg/ml de nicotine. Composé d'arômes alimentaires, de propylène glycol (PG) et de glycérine végétale (VG), il est élaboré à partir d'une basePG/VG de 70/30. La fiole du Cassis Exquis est équipée d'un bouchon avec protection enfant et d'un embout fin. Comment utiliser votre e-liquide Cassis Exquis ? Le Cassis Exquis est proposé en version50mlboostée en arômes dans un flacon de60ml. Si vous le souhaitez, vous pouvez ajouter un ou plusieurs boosters de nicotine selon vos besoins sans perte de saveur. Pour booster votre e-liquide, vous devez : Indications pour préparer votre e-liquide surboosté de 50 ml : La place disponible dans le flacon d'origine n’est peut-être pas suffisante pour booster votre e-liquide au taux de nicotine souhaité. Pour les dosages importants, nous vous conseillons l’utilisation de contenants plus importants commeun flacon de 100ml graduéouun flacon Twist de 230ml gradué. Astuce : pensez à adapter votre matériel au ratio PG/VG de votre e-liquide ! Vous limiterez ainsi le risque de fuite et l’usure prématurée de vos résistances ! Quel taux de nicotine choisir pour votre e-liquide ? Le choix de votre taux de nicotine dépend de votre profil de fumeur ainsi que de la cigarette électronique utilisée : Si vous utilisez du matériel plus performant avec une résistance inférieure à 1 ohm et pour une puissance supérieure à 30 watts, vous pouvez diviser votre taux de nicotine par deux. Nos conseils pour la maturation de votre e-liquide surboosté De la même façon que pour un e-liquide DIY, on peut observer un temps de repos avec un e-liquide surboosté en arômes après l’ajout d’un ou plusieurs boosters de nicotine. Ce temps de maturation que l’on appelle aussi “steep” permet aux arômes de se développer et de mieux s’exprimer. Pour une maturation optimale, il faut compter : Pour un rendu optimal : secouez votre fiole de e-liquide une fois par jour pour que les arômes se diffusent correctement. Conservation de votre e-liquide Pour une conservation optimale de votre e-liquide, nous vous conseillons de stocker votre flacon à l'abri de la lumière dans un droit sec et à température ambiante. Après contacts répétés à l'air et à la lumière, la couleur de votre e-liquide peut se foncer. Ce changement de couleur n'affecte ni la qualité ni le goût de votre e-liquide. La date indiquée sur l'étiquette est une DLUO (date limite d'utilisation optimale) ou DDM (date de durabilité minimale). Passé cette date, le e-liquide peut encore être consommé.\n",
      "Saveur : cassis, lime\n",
      "Contenu : Le Cassis Noir est un e-liquide à booster au format 50ml de la collection Petit Nuage par Roykin. Il vous propose dessaveurs fraîches d'un bubble-gum au cassis, dans sa recette fabriquée en France. Composé d'arômes alimentaires, de propylène glycol (PG) et de glycérine végétale (VG), dans un ratio 50PG/50VG, vous pouvez au besoin lui ajouter des boosters 10ml de nicotine (vendus séparément). Pour cela, utilisez le flacon 30ml vide et gradué fourni avec votre e-liquide. Il vous est livré dans une fiole de 60ml dotée d'un bouchon sécurisé et d'un embout fin simplifiant le remplissage de votre réservoir. Qui est Roykin ? Innovation, ambition et excellence sont les maîtres mots de ce fabricant français basé en région parisienne. C'est à travers des gammes célèbres telles que Petit Nuage ou encore Greeneo que la marque s'est imposée dans l'univers de la vape. Spécialiste du e-liquide, Roykin propose ses créations en format prêt-à-l'emploi ou à booster, répondant ainsi aux besoins de tout type de vapoteur. La gamme Petit Nuage Cette collection de e-liquides propose un large éventail de recettes à vapoter, allant de la plus simple à la plus complexe. En prêt-à-vaper ou à booster, chaque création Petit Nuage est élaborée dans les laboratoires français de Roykin, dans le respect d'un cahier des charges strict pour des produits de qualité premium. Comment préparer votre e-liquide Cassis Noir ? Ce e-liquide vous est proposé en version60mlboostée en arômes, accompagné d'une fiole vide et graduée de 30ml. Si vous le souhaitez, vous pouvez ainsi le compléter avec un ou plusieurs boosters de nicotine selon vos besoins. Pour booster votre e-liquide, vous devez : Indications pour préparer votre e-liquide surboosté de 50 ml : La place disponible dans le flacon d'origine n’est peut-être pas suffisante pour booster votre e-liquide au taux de nicotine souhaité. Pour les dosages importants, nous vous conseillons l’utilisation de contenants plus importants commeun flacon de 100ml graduéouun flacon Twist de 230ml gradué. Astuce : pensez à adapter votre matériel au ratio PG/VG de votre e-liquide ! Vous limiterez ainsi le risque de fuite et l’usure prématurée de vos résistances ! Quel taux de nicotine choisir pour votre e-liquide ? Le choix de votre taux de nicotine dépend de votre profil de fumeur ainsi que de la cigarette électronique utilisée : Si vous utilisez du matériel plus performant avec une résistance inférieure à 1 ohm et pour une puissance supérieure à 30 watts, vous pouvez diviser votre taux de nicotine par deux. Nos conseils pour la maturation de votre e-liquide surboosté De la même façon que pour un e-liquide DIY, on peut observer un temps de repos avec un e-liquide surboosté en arômes après l’ajout d’un ou plusieurs boosters de nicotine. Ce temps de maturation que l’on appelle aussi “steep” permet aux arômes de se développer et de mieux s’exprimer. Pour une maturation optimale, il faut compter : Pour un rendu optimal : secouez votre fiole de e-liquide une fois par jour pour que les arômes se diffusent correctement. Conservation de votre e-liquide Pour une conservation optimale de votre e-liquide, nous vous conseillons de stocker votre flacon à l'abri de la lumière dans un droit sec et à température ambiante. Après contacts répétés à l'air et à la lumière, la couleur de votre e-liquide peut se foncer. Ce changement de couleur n'affecte ni la qualité ni le goût de votre e-liquide. La date indiquée sur l'étiquette est une DLUO (date limite d'utilisation optimale) ou DDM (date de durabilité minimale). Passé cette date, le e-liquide peut encore être consommé.\n",
      "Saveur : cassis, lime\n"
     ]
    }
   ],
   "source": [
    "# Requête de recherche\n",
    "query = \"Quel produit contient des saveurs de cassis ?\"\n",
    "results = retriever.invoke(query, filter={\"saveur\": flavors_in_query})\n",
    "\n",
    "# Extraction des métadonnées des résultats\n",
    "for result in results:\n",
    "    print(f\"Contenu : {result.page_content}\")\n",
    "    print(f\"Saveur : {result.metadata.get('saveur', 'Aucune saveur spécifiée')}\") "
   ]
  },
  {
   "cell_type": "code",
   "execution_count": 118,
   "metadata": {},
   "outputs": [
    {
     "name": "stdout",
     "output_type": "stream",
     "text": [
      "Contenu : Le Cassis est un e-liquide fabriqué en France par Curieux pour sa collection Natural. Il vous propose unesaveur fraîche de cassis. Sa recette à booster et sans nicotine se compose d'arômes alimentaires, de végétol (50%) et de glycérine végétale (50%). Elle pourra au besoin êtrepersonnaliséeavec de la base neutre ou des boosters 10ml de nicotine (non inclus). Le flacon de 70ml du e-liquide Cassis 50ml est doté d'un bouchon sécurisé et d'un embout fin facilitant le remplissage de votre réservoir. Qui est Curieux ? Curieux est un fabricant français de liquides pour cigarette électronique, réputé notamment pour sa célèbre recette fruitée du Licorne. La marque décline ses recettes en différentes gammes, permettant à tout vapoteur de trouver le mix qui lui convient : Editions Astrale, Natural ou encore Oldies. Retrouvez les créations de chez Curieux en format e-liquide prêt-à-vaper, à booster, ou en concentré DIY ! La gamme Natural Le fabricant français vous propose une collection complète de all-days, tous élaborés à partir d'une base 100% végétale. Le végétol remplace le propylène glycol, ici dans un ratio Végétol / Glycérine Végétale de 50/50. Comment préparer votre e-liquide Cassis ? Ce e-liquide est proposé en version dans une fiole de70mlremplie à hauteur de 50ml. Si vous le souhaitez, vous pouvez ainsi ajouter un ou plusieurs boosters de nicotine selon vos besoins. Pour booster votre e-liquide, vous devez : Indications pour préparer votre e-liquide surboosté de 100 ml : La place disponible dans le flacon d'origine n’est peut-être pas suffisante pour booster votre e-liquide au taux de nicotine souhaité. Pour les dosages importants, nous vous conseillons l’utilisation de contenants plus importants commeun flacon de 100ml graduéouun flacon Twist de 230ml gradué. Astuce : pensez à adapter votre matériel au ratio PG/VG de votre e-liquide ! Vous limiterez ainsi le risque de fuite et l’usure prématurée de vos résistances ! Quel taux de nicotine choisir pour votre e-liquide ? Le choix de votre taux de nicotine dépend de votre profil de fumeur ainsi que de la cigarette électronique utilisée : Si vous utilisez du matériel plus performant avec une résistance inférieure à 1 ohm et pour une puissance supérieure à 30 watts, vous pouvez diviser votre taux de nicotine par deux. Nos conseils pour la maturation de votre e-liquide à booster De la même façon que pour un e-liquide DIY, on peut observer un temps de repos avec un e-liquide boosté en arômes après l’ajout d’un ou plusieurs boosters de nicotine. Ce temps de maturation que l’on appelle aussi “steep” permet aux arômes de se développer et de mieux s’exprimer. Pour une maturation optimale, il faut compter : Pour un rendu optimal : secouez votre fiole de e-liquide une fois par jour pour que les arômes se diffusent correctement. Conservation de votre e-liquide Pour une conservation optimale de votre e-liquide, nous vous conseillons de stocker votre flacon à l'abri de la lumière dans un droit sec et à température ambiante. Après contacts répétés à l'air et à la lumière, la couleur de votre e-liquide peut se foncer. Ce changement de couleur n'affecte ni la qualité ni le goût de votre e-liquide. La date indiquée sur l'étiquette est une DLUO (date limite d'utilisation optimale) ou DDM (date de durabilité minimale). Passé cette date, le e-liquide peut encore être consommé.\n",
      "Saveur : cassis, lime\n",
      "Contenu : Le fabricant français vous propose de vapoter unemono saveur de cassis, dans un e-liquide pour cigarette électronique à booster. Le Cassis Exquis est non nicotiné de base et vous estlivré avec un booster aromatisé de 10ml, vous permettant au besoin de le vapoter dans un taux d'environ 3mg/ml de nicotine. Composé d'arômes alimentaires, de propylène glycol (PG) et de glycérine végétale (VG), il est élaboré à partir d'une basePG/VG de 70/30. La fiole du Cassis Exquis est équipée d'un bouchon avec protection enfant et d'un embout fin. Comment utiliser votre e-liquide Cassis Exquis ? Le Cassis Exquis est proposé en version50mlboostée en arômes dans un flacon de60ml. Si vous le souhaitez, vous pouvez ajouter un ou plusieurs boosters de nicotine selon vos besoins sans perte de saveur. Pour booster votre e-liquide, vous devez : Indications pour préparer votre e-liquide surboosté de 50 ml : La place disponible dans le flacon d'origine n’est peut-être pas suffisante pour booster votre e-liquide au taux de nicotine souhaité. Pour les dosages importants, nous vous conseillons l’utilisation de contenants plus importants commeun flacon de 100ml graduéouun flacon Twist de 230ml gradué. Astuce : pensez à adapter votre matériel au ratio PG/VG de votre e-liquide ! Vous limiterez ainsi le risque de fuite et l’usure prématurée de vos résistances ! Quel taux de nicotine choisir pour votre e-liquide ? Le choix de votre taux de nicotine dépend de votre profil de fumeur ainsi que de la cigarette électronique utilisée : Si vous utilisez du matériel plus performant avec une résistance inférieure à 1 ohm et pour une puissance supérieure à 30 watts, vous pouvez diviser votre taux de nicotine par deux. Nos conseils pour la maturation de votre e-liquide surboosté De la même façon que pour un e-liquide DIY, on peut observer un temps de repos avec un e-liquide surboosté en arômes après l’ajout d’un ou plusieurs boosters de nicotine. Ce temps de maturation que l’on appelle aussi “steep” permet aux arômes de se développer et de mieux s’exprimer. Pour une maturation optimale, il faut compter : Pour un rendu optimal : secouez votre fiole de e-liquide une fois par jour pour que les arômes se diffusent correctement. Conservation de votre e-liquide Pour une conservation optimale de votre e-liquide, nous vous conseillons de stocker votre flacon à l'abri de la lumière dans un droit sec et à température ambiante. Après contacts répétés à l'air et à la lumière, la couleur de votre e-liquide peut se foncer. Ce changement de couleur n'affecte ni la qualité ni le goût de votre e-liquide. La date indiquée sur l'étiquette est une DLUO (date limite d'utilisation optimale) ou DDM (date de durabilité minimale). Passé cette date, le e-liquide peut encore être consommé.\n",
      "Saveur : cassis, lime\n",
      "Contenu : Le Cassis Noir est un e-liquide à booster au format 50ml de la collection Petit Nuage par Roykin. Il vous propose dessaveurs fraîches d'un bubble-gum au cassis, dans sa recette fabriquée en France. Composé d'arômes alimentaires, de propylène glycol (PG) et de glycérine végétale (VG), dans un ratio 50PG/50VG, vous pouvez au besoin lui ajouter des boosters 10ml de nicotine (vendus séparément). Pour cela, utilisez le flacon 30ml vide et gradué fourni avec votre e-liquide. Il vous est livré dans une fiole de 60ml dotée d'un bouchon sécurisé et d'un embout fin simplifiant le remplissage de votre réservoir. Qui est Roykin ? Innovation, ambition et excellence sont les maîtres mots de ce fabricant français basé en région parisienne. C'est à travers des gammes célèbres telles que Petit Nuage ou encore Greeneo que la marque s'est imposée dans l'univers de la vape. Spécialiste du e-liquide, Roykin propose ses créations en format prêt-à-l'emploi ou à booster, répondant ainsi aux besoins de tout type de vapoteur. La gamme Petit Nuage Cette collection de e-liquides propose un large éventail de recettes à vapoter, allant de la plus simple à la plus complexe. En prêt-à-vaper ou à booster, chaque création Petit Nuage est élaborée dans les laboratoires français de Roykin, dans le respect d'un cahier des charges strict pour des produits de qualité premium. Comment préparer votre e-liquide Cassis Noir ? Ce e-liquide vous est proposé en version60mlboostée en arômes, accompagné d'une fiole vide et graduée de 30ml. Si vous le souhaitez, vous pouvez ainsi le compléter avec un ou plusieurs boosters de nicotine selon vos besoins. Pour booster votre e-liquide, vous devez : Indications pour préparer votre e-liquide surboosté de 50 ml : La place disponible dans le flacon d'origine n’est peut-être pas suffisante pour booster votre e-liquide au taux de nicotine souhaité. Pour les dosages importants, nous vous conseillons l’utilisation de contenants plus importants commeun flacon de 100ml graduéouun flacon Twist de 230ml gradué. Astuce : pensez à adapter votre matériel au ratio PG/VG de votre e-liquide ! Vous limiterez ainsi le risque de fuite et l’usure prématurée de vos résistances ! Quel taux de nicotine choisir pour votre e-liquide ? Le choix de votre taux de nicotine dépend de votre profil de fumeur ainsi que de la cigarette électronique utilisée : Si vous utilisez du matériel plus performant avec une résistance inférieure à 1 ohm et pour une puissance supérieure à 30 watts, vous pouvez diviser votre taux de nicotine par deux. Nos conseils pour la maturation de votre e-liquide surboosté De la même façon que pour un e-liquide DIY, on peut observer un temps de repos avec un e-liquide surboosté en arômes après l’ajout d’un ou plusieurs boosters de nicotine. Ce temps de maturation que l’on appelle aussi “steep” permet aux arômes de se développer et de mieux s’exprimer. Pour une maturation optimale, il faut compter : Pour un rendu optimal : secouez votre fiole de e-liquide une fois par jour pour que les arômes se diffusent correctement. Conservation de votre e-liquide Pour une conservation optimale de votre e-liquide, nous vous conseillons de stocker votre flacon à l'abri de la lumière dans un droit sec et à température ambiante. Après contacts répétés à l'air et à la lumière, la couleur de votre e-liquide peut se foncer. Ce changement de couleur n'affecte ni la qualité ni le goût de votre e-liquide. La date indiquée sur l'étiquette est une DLUO (date limite d'utilisation optimale) ou DDM (date de durabilité minimale). Passé cette date, le e-liquide peut encore être consommé.\n",
      "Saveur : cassis, lime\n"
     ]
    }
   ],
   "source": [
    "# Requête de recherche\n",
    "query = \"Quel produit contient des saveurs de cassis ?\"\n",
    "results = retriever.get_relevant_documents(query, filter={\"saveur\": flavors_in_query})\n",
    "\n",
    "# Extraction des métadonnées des résultats\n",
    "for result in results:\n",
    "    print(f\"Contenu : {result.page_content}\")\n",
    "    print(f\"Saveur : {result.metadata.get('saveur', 'Aucune saveur spécifiée')}\") "
   ]
  },
  {
   "cell_type": "markdown",
   "metadata": {},
   "source": [
    "rag"
   ]
  },
  {
   "cell_type": "code",
   "execution_count": 119,
   "metadata": {},
   "outputs": [
    {
     "name": "stdout",
     "output_type": "stream",
     "text": [
      "Réponse générée par le modèle : Les produits qui contiennent des saveurs de cassis sont :\n",
      "\n",
      "1. Le Cassis Mangue, un e-liquide de la collection Fruizee par Eliquid France, qui combine les saveurs de mangue et de cassis.\n",
      "\n",
      "2. Le Cassis, un e-liquide fabriqué par Curieux pour sa collection Natural, qui propose une saveur fraîche de cassis.\n",
      "\n",
      "3. Le Cassis, un e-liquide de la collection Evolution par Liquideo, qui propose des saveurs de cassis.\n"
     ]
    }
   ],
   "source": [
    "\n",
    "# Définition du prompt pour la génération de réponse\n",
    "prompt_template = \"\"\"\n",
    "You are an assistant for question-answering tasks.\n",
    "Use the following pieces of retrieved context to answer the question.\n",
    "If you don't know the answer, just say that you don't know.\n",
    "\n",
    "Question: {question}\n",
    "\n",
    "Context: {context}\n",
    "\n",
    "Answer:\n",
    "\"\"\"\n",
    "\n",
    "# Initialisation du prompt\n",
    "prompt = ChatPromptTemplate.from_template(prompt_template)\n",
    "\n",
    "# Formatage des documents de contexte\n",
    "def format_docs(flavors):\n",
    "    # Création du contexte avec les saveurs extraites\n",
    "    return f\"Les saveurs extraites sont : {flavors}\"\n",
    "\n",
    "# Pipeline de question-réponse\n",
    "qa_chain = (\n",
    "    {\n",
    "        \"context\": retriever | format_docs,  # Utilisation du retriever pour obtenir des contextes\n",
    "        \"question\": RunnablePassthrough(),\n",
    "    }\n",
    "    | prompt\n",
    "    | llm\n",
    "    | StrOutputParser()  # Extraction de la réponse\n",
    ")\n",
    "\n",
    "# Exécution de la chaîne de question-réponse et affichage du résultat\n",
    "# Ici, tu passes les saveurs extraites en tant que contexte dans le modèle\n",
    "response = qa_chain.invoke(query, filter={\"saveur\": flavors_in_query})\n",
    "# Affichage du résultat\n",
    "print(f\"Réponse générée par le modèle : {response}\")"
   ]
  },
  {
   "cell_type": "markdown",
   "metadata": {},
   "source": [
    "https://www.aromes-et-liquides.fr/e-liquide-vampire-vape/17833-heisenberg-gum-ice.html,Heisenberg Gum Ice Vampire Vape,https://assets.aromes-et-liquides.fr/54364-thickbox_default/heisenberg-gum-ice.jpg,5.5,10ml,50/50,Royaume-Uni,Oui,Non,\"baies, rose, baie, menthol, anis, lime\",\"Le e-liquide Heisenberg Gum Ice est fabriqué au Royaume-Uni par Vampire Vape. Il reprend la recette originelle du Heisenberg en y additionnant un goût de chewing-gum rose. Il se compose d'arômes alimentaires,de propylène glycol (PG) et de glycérine végétale (VG), pour unratio PG/VG de 50/50. Ce e-liquide pour cigarette électronique est prêt à vaper (PAV), et élaboré dans une formule déjà nicotinée (taux au choix). Vous recevez le Heisenberg Gum Ice dans une fiole PET de 10ml, pourvue d'un bouchon avec sécurité enfant et d'un embout fin facilitant le remplissage de votre réservoir. Qui est Vampire Vape ? Le fabricant anglais s'est fait reconnaître dans le monde de la vape à travers ses nombreux succès misant principalement sur des saveurs fruitées, avec notamment la recette du Heisenberg. Dépassant à chaque fois leurs limites, les aromaticiens de la marque déclinent leur best-seller dans une version revisitée, le Heisenberg. Quelle est la recette originelle du Heisenberg ? Le Heisenberg est une création signée Vampire Vape. Sa recette mêle les saveurs fraîches et fruitées de baies des bois, d'anis et de menthol. Le fabricant anglais vous propose une gamme de e-liquides basée sur ce mix mentholé et anisé, en l'accompagnant de divers goûts fruités. Nos conseils pour utiliser votre e-liquide Heisenberg Gum L'utilisation d'un e-liquide est exclusivement réservée à la cigarette électronique. Nous vous recommandons de bien agiter votre flacon de e-liquide avant emploi. Pour limiter les risques de fuites et prolonger la durée de vie de vos résistances, nous vous conseillons d'utiliser un clearomiseur adapté au taux PG/VG de votre e-liquide. Quel taux de nicotine choisir pour votre e-liquide ? Le choix de votre taux de nicotine dépend de votre profil de fumeur ainsi que de la cigarette électronique utilisée. Si vous utilisez une cigarette électronique équipée d'une résistance égale ou supérieure à 1 ohm et à une puissance ne dépassant pas les 30 watts, voici nos recommandations pour choisir votre taux de nicotine : Si vous utilisez une cigarette électronique plus performante équipée de résistances dont la valeur est inférieure à 1 ohm et pour une puissance supérieure à 30 watts, nous vous conseillons d'utiliser un taux de nicotine plus faible : Conservation de votre e-liquide Pour une conservation optimale de votre e-liquide, nous vous conseillons de stocker votre flacon à l'abri de la lumière dans un droit sec et à température ambiante. Après contacts répétés à l'air et à la lumière, la couleur de votre e-liquide peut se foncer. Ce changement de couleur n'affecte ni la qualité ni le goût de votre e-liquide. La date indiquée sur l'étiquette est une DLUO (date limite d'utilisation optimale) ou DDM (date de durabilité minimale). Passé cette date, le e-liquide peut encore être consommé. Mises en garde et contre-indications : Précautions d'emploi :\",Vampire Vape,fruit,\"Le fabricant anglais s'est fait reconnaître dans le monde de la vape à travers ses nombreux succès misant principalement sur des saveurs fruitées, avec notamment la recette du Heisenberg ou encore du Pinkman.\",723"
   ]
  },
  {
   "cell_type": "code",
   "execution_count": 12,
   "metadata": {},
   "outputs": [
    {
     "name": "stdout",
     "output_type": "stream",
     "text": [
      "page_content='index: 0\n",
      "url: https://www.aromes-et-liquides.fr/e-liquide-ultimate/9197-e-liquide-ultimate-ragnarok-par-al.html\n",
      "nom_produit: Ragnarok Ultimate A&L\n",
      "img_produit: https://assets.aromes-et-liquides.fr/53645-thickbox_default/e-liquide-ultimate-ragnarok-par-al.jpg\n",
      "prix_produit: 5.9\n",
      "contenance: 10ml\n",
      "pg_vg: 50/50\n",
      "origine: France\n",
      "frais: Oui\n",
      "surbooste: Non\n",
      "saveur: cassis, lime, fruits rouges, parfait\n",
      "description: Le e-liquide Ragnarok par A&L Ultimate est un produitprêt à l'emploipour cigarette électronique. Dans sa fiole 10ml, vous retrouverez des saveurs de fruits rouges, accompagnées d'un goût frais de cassis. Idéal pour débuter, ce e-liquide vous est proposé en différents taux de nicotine au choix : 0, 3, 6, ou 12mg/ml. Qu'est-ce que le Ragnarok Ultimate ? Le Ragnarok, c'est unerecette fraiche aux goûts de fruitsdehaute qualité française, signée Arômes et Liquides (A&L). Ici, vous en profiterez dans sa version e-liquide prêt à vaper. Conforme à la loi TPD, le e liquide Ragnarok est présenté en fiole PET de 10ml. Pourquoi ? Afin de vous assurer unproduit déjà nicotiné à votre convenance! Pourquoi choisir le Ragnarok en e-liquide 10ml ? Simple, pratique et efficace, le e-liquide Ragnarok en 10ml permet de démarrer sans attendre votre séance de vapotage. Déjà minutieusement travaillé, dosé et nicotiné, il vous suffit de le verser dans votre réservoir de cigarette électronique pour l'utiliser ! Le format est doncparfaitement adapté si vous débutez: vous sélectionnez le taux de nicotine qui vous convient, puis vous remplissez votre matériel e-cig, et enfin, vous vapotez son goût de fruits rouges ! Comment s'utilise le Ragnarok e liquide ? Un e-liquide 10ml comme le Ragnarok Ultimate est l'un des produits les plus simples à utiliser : vous le recevez, vous secouez son flacon quelques secondes pour bien mélanger ses arômes, puis vous venez retirer son bouchon sécurisé pour enfin remplir votre e-cigarette. Mais avant, nous direz-vous, quel taux nicotinique faut-il sélectionner ? Quel taux de nicotine choisir pour votre e-liquide ? Le choix de votre taux de nicotine dépend de votre profil de fumeur ainsi que de la cigarette électronique utilisée. Si vous utilisez une cigarette électronique équipée d'une résistance égale ou supérieure à 1ohm et à une puissance ne dépassant pas les 30 watts, voici nos recommandations pour choisir votre taux de nicotine : Si vous utilisez une cigarette électronique plus performante équipée de résistances dont la valeur est inférieure à 1 ohm et pour une puissance supérieure à 30 watts, nous vous conseillons d'utiliser un taux de nicotine plus faible : À qui s'adresse ce e-liquide 10ml ? Avec un tel format prêt à l'emploi, le e-liquide Ragnarok Ultimate se veut particulièrement adapté aux vapoteurs débutants ! Non seulement il sera très facile à utiliser, mais il vous permettra de mieux comprendre et gérer votre taux nicotinique. Quant à son mélange de fruits rouges et de fraicheur, il estspécialement fait pour s'adapter à différents types de vapoteur. De quoi se compose le Ragnarok Ultimate ? Comme tout e-liquide pour cigarette électronique, le Ragnarok se compose d'arômes alimentaires, de propylène glycol (PG) et de glycérine végétale (VG). Tous ces ingrédients sont minutieusement sélectionnés par Arômes et Liquides. Chez nous, ce qui compte, c'est la qualité ! Si la recette du Ragnarok Ultimate est aussi reconnue, c'est bien grâce à cela : avec des composants de premier choix et une fabrication comme un conditionnement100% français, ce e-liquide ne peut être que de qualité premium ! Afin d'équilibrer la recette ainsi que le hit en gorge, A&L propose son e liquide Ultimate Ragnarok en50PG/50VG. Enfin, pour rester conforme à la loi TPD et vous présenter un e-liquide nicotiné, A&L choisit un conditionnement en fioles PET de 10ml, munies de bouchons sécurisés (protections enfant) et d'embouts fins compte-gouttes. N.B : Vous ne trouverez aucune trace de diacétyle dans les produits A&L. De même, aucun test sur des animaux n'est pratiqué chez nous. Conservation de votre e-liquide Pour une conservation optimale de votre e-liquide, nous vous conseillons de stocker votre flacon à l'abri de la lumière dans un droit sec et à température ambiante. Après contacts répétés à l'air et à la lumière, la couleur de votre e-liquide peut se foncer. Ce changement de couleur n'affecte ni la qualité ni le goût de votre e-liquide. La date indiquée sur l'étiquette est une DLUO (date limite d'utilisation optimale) ou DDM (date de durabilité minimale). Passé cette date, le e-liquide peut encore être consommé. Mises en garde et contre-indications : Précautions d'emploi :\n",
      "brand: Arômes et Liquides (A&L)\n",
      "gout: fruit\n",
      "info_brand: Arômes et Liquides (A&L) est un fabricant français de e-liquides et concentrés DIY depuis 2012. Avec ses laborantins situés non loin de Saint-Étienne dans la Loire, il vous présente une vaste collection de saveurs allant des plus simples aux plus complexes. La marque s'est notamment distinguée dans l'univers de la vape grâce à sa recette classic du Ryan USA de la gamme A&L, puis du mix au goût de fruits rouges Ragnarok de la collection Ultimate.\n",
      "id_produit: 1' metadata={'source': 'C:/Users/antoa/Desktop/projet certif/app/rag_csv.csv', 'row': 0}\n"
     ]
    }
   ],
   "source": [
    "from langchain.document_loaders import CSVLoader\n",
    "\n",
    "file_path = \"C:/Users/antoa/Desktop/projet certif/app/rag_csv.csv\"\n",
    "loader = CSVLoader(file_path=file_path, encoding=\"utf-8\")\n",
    "documents = loader.load()\n",
    "\n",
    "# Vérifier un document pour voir ses métadonnées\n",
    "print(documents[0])  # Affiche le premier document\n"
   ]
  },
  {
   "cell_type": "code",
   "execution_count": 13,
   "metadata": {},
   "outputs": [
    {
     "name": "stdout",
     "output_type": "stream",
     "text": [
      "Index(['index', 'url', 'nom_produit', 'img_produit', 'prix_produit',\n",
      "       'contenance', 'pg_vg', 'origine', 'frais', 'surbooste', 'saveur',\n",
      "       'description', 'brand', 'gout', 'info_brand', 'id_produit'],\n",
      "      dtype='object')\n",
      "page_content='Le e-liquide Ragnarok par A&L Ultimate est un produitprêt à l'emploipour cigarette électronique. Dans sa fiole 10ml, vous retrouverez des saveurs de fruits rouges, accompagnées d'un goût frais de cassis. Idéal pour débuter, ce e-liquide vous est proposé en différents taux de nicotine au choix : 0, 3, 6, ou 12mg/ml. Qu'est-ce que le Ragnarok Ultimate ? Le Ragnarok, c'est unerecette fraiche aux goûts de fruitsdehaute qualité française, signée Arômes et Liquides (A&L). Ici, vous en profiterez dans sa version e-liquide prêt à vaper. Conforme à la loi TPD, le e liquide Ragnarok est présenté en fiole PET de 10ml. Pourquoi ? Afin de vous assurer unproduit déjà nicotiné à votre convenance! Pourquoi choisir le Ragnarok en e-liquide 10ml ? Simple, pratique et efficace, le e-liquide Ragnarok en 10ml permet de démarrer sans attendre votre séance de vapotage. Déjà minutieusement travaillé, dosé et nicotiné, il vous suffit de le verser dans votre réservoir de cigarette électronique pour l'utiliser ! Le format est doncparfaitement adapté si vous débutez: vous sélectionnez le taux de nicotine qui vous convient, puis vous remplissez votre matériel e-cig, et enfin, vous vapotez son goût de fruits rouges ! Comment s'utilise le Ragnarok e liquide ? Un e-liquide 10ml comme le Ragnarok Ultimate est l'un des produits les plus simples à utiliser : vous le recevez, vous secouez son flacon quelques secondes pour bien mélanger ses arômes, puis vous venez retirer son bouchon sécurisé pour enfin remplir votre e-cigarette. Mais avant, nous direz-vous, quel taux nicotinique faut-il sélectionner ? Quel taux de nicotine choisir pour votre e-liquide ? Le choix de votre taux de nicotine dépend de votre profil de fumeur ainsi que de la cigarette électronique utilisée. Si vous utilisez une cigarette électronique équipée d'une résistance égale ou supérieure à 1ohm et à une puissance ne dépassant pas les 30 watts, voici nos recommandations pour choisir votre taux de nicotine : Si vous utilisez une cigarette électronique plus performante équipée de résistances dont la valeur est inférieure à 1 ohm et pour une puissance supérieure à 30 watts, nous vous conseillons d'utiliser un taux de nicotine plus faible : À qui s'adresse ce e-liquide 10ml ? Avec un tel format prêt à l'emploi, le e-liquide Ragnarok Ultimate se veut particulièrement adapté aux vapoteurs débutants ! Non seulement il sera très facile à utiliser, mais il vous permettra de mieux comprendre et gérer votre taux nicotinique. Quant à son mélange de fruits rouges et de fraicheur, il estspécialement fait pour s'adapter à différents types de vapoteur. De quoi se compose le Ragnarok Ultimate ? Comme tout e-liquide pour cigarette électronique, le Ragnarok se compose d'arômes alimentaires, de propylène glycol (PG) et de glycérine végétale (VG). Tous ces ingrédients sont minutieusement sélectionnés par Arômes et Liquides. Chez nous, ce qui compte, c'est la qualité ! Si la recette du Ragnarok Ultimate est aussi reconnue, c'est bien grâce à cela : avec des composants de premier choix et une fabrication comme un conditionnement100% français, ce e-liquide ne peut être que de qualité premium ! Afin d'équilibrer la recette ainsi que le hit en gorge, A&L propose son e liquide Ultimate Ragnarok en50PG/50VG. Enfin, pour rester conforme à la loi TPD et vous présenter un e-liquide nicotiné, A&L choisit un conditionnement en fioles PET de 10ml, munies de bouchons sécurisés (protections enfant) et d'embouts fins compte-gouttes. N.B : Vous ne trouverez aucune trace de diacétyle dans les produits A&L. De même, aucun test sur des animaux n'est pratiqué chez nous. Conservation de votre e-liquide Pour une conservation optimale de votre e-liquide, nous vous conseillons de stocker votre flacon à l'abri de la lumière dans un droit sec et à température ambiante. Après contacts répétés à l'air et à la lumière, la couleur de votre e-liquide peut se foncer. Ce changement de couleur n'affecte ni la qualité ni le goût de votre e-liquide. La date indiquée sur l'étiquette est une DLUO (date limite d'utilisation optimale) ou DDM (date de durabilité minimale). Passé cette date, le e-liquide peut encore être consommé. Mises en garde et contre-indications : Précautions d'emploi :' metadata={'id_produit': 1, 'saveur': 'cassis, lime, fruits rouges, parfait'}\n"
     ]
    }
   ],
   "source": [
    "import pandas as pd\n",
    "from langchain.schema import Document\n",
    "\n",
    "file_path = \"C:/Users/antoa/Desktop/projet certif/app/rag_csv.csv\"\n",
    "\n",
    "# Charger le CSV\n",
    "df = pd.read_csv(file_path, encoding=\"utf-8\")\n",
    "\n",
    "# Vérifier les colonnes disponibles\n",
    "print(df.columns)\n",
    "\n",
    "# Créer les Documents avec les métadonnées\n",
    "documents = [\n",
    "    Document(\n",
    "        page_content=row[\"description\"] if \"description\" in df.columns else \"\",\n",
    "        metadata={\"id_produit\": row[\"id_produit\"], \"saveur\": row[\"saveur\"]}\n",
    "    )\n",
    "    for _, row in df.iterrows()\n",
    "]\n",
    "\n",
    "# Vérifier un document pour voir ses métadonnées\n",
    "print(documents[0])\n"
   ]
  },
  {
   "cell_type": "code",
   "execution_count": 19,
   "metadata": {},
   "outputs": [
    {
     "name": "stdout",
     "output_type": "stream",
     "text": [
      "page_content='index: 0\n",
      "url: https://www.aromes-et-liquides.fr/e-liquide-ultimate/9197-e-liquide-ultimate-ragnarok-par-al.html\n",
      "nom_produit: Ragnarok Ultimate A&L\n",
      "img_produit: https://assets.aromes-et-liquides.fr/53645-thickbox_default/e-liquide-ultimate-ragnarok-par-al.jpg\n",
      "prix_produit: 5.9\n",
      "contenance: 10ml\n",
      "pg_vg: 50/50\n",
      "origine: France\n",
      "frais: Oui\n",
      "surbooste: Non\n",
      "saveur: cassis, lime, fruits rouges, parfait\n",
      "description: Le e-liquide Ragnarok par A&L Ultimate est un produitprêt à l'emploipour cigarette électronique. Dans sa fiole 10ml, vous retrouverez des saveurs de fruits rouges, accompagnées d'un goût frais de cassis. Idéal pour débuter, ce e-liquide vous est proposé en différents taux de nicotine au choix : 0, 3, 6, ou 12mg/ml. Qu'est-ce que le Ragnarok Ultimate ? Le Ragnarok, c'est unerecette fraiche aux goûts de fruitsdehaute qualité française, signée Arômes et Liquides (A&L). Ici, vous en profiterez dans sa version e-liquide prêt à vaper. Conforme à la loi TPD, le e liquide Ragnarok est présenté en fiole PET de 10ml. Pourquoi ? Afin de vous assurer unproduit déjà nicotiné à votre convenance! Pourquoi choisir le Ragnarok en e-liquide 10ml ? Simple, pratique et efficace, le e-liquide Ragnarok en 10ml permet de démarrer sans attendre votre séance de vapotage. Déjà minutieusement travaillé, dosé et nicotiné, il vous suffit de le verser dans votre réservoir de cigarette électronique pour l'utiliser ! Le format est doncparfaitement adapté si vous débutez: vous sélectionnez le taux de nicotine qui vous convient, puis vous remplissez votre matériel e-cig, et enfin, vous vapotez son goût de fruits rouges ! Comment s'utilise le Ragnarok e liquide ? Un e-liquide 10ml comme le Ragnarok Ultimate est l'un des produits les plus simples à utiliser : vous le recevez, vous secouez son flacon quelques secondes pour bien mélanger ses arômes, puis vous venez retirer son bouchon sécurisé pour enfin remplir votre e-cigarette. Mais avant, nous direz-vous, quel taux nicotinique faut-il sélectionner ? Quel taux de nicotine choisir pour votre e-liquide ? Le choix de votre taux de nicotine dépend de votre profil de fumeur ainsi que de la cigarette électronique utilisée. Si vous utilisez une cigarette électronique équipée d'une résistance égale ou supérieure à 1ohm et à une puissance ne dépassant pas les 30 watts, voici nos recommandations pour choisir votre taux de nicotine : Si vous utilisez une cigarette électronique plus performante équipée de résistances dont la valeur est inférieure à 1 ohm et pour une puissance supérieure à 30 watts, nous vous conseillons d'utiliser un taux de nicotine plus faible : À qui s'adresse ce e-liquide 10ml ? Avec un tel format prêt à l'emploi, le e-liquide Ragnarok Ultimate se veut particulièrement adapté aux vapoteurs débutants ! Non seulement il sera très facile à utiliser, mais il vous permettra de mieux comprendre et gérer votre taux nicotinique. Quant à son mélange de fruits rouges et de fraicheur, il estspécialement fait pour s'adapter à différents types de vapoteur. De quoi se compose le Ragnarok Ultimate ? Comme tout e-liquide pour cigarette électronique, le Ragnarok se compose d'arômes alimentaires, de propylène glycol (PG) et de glycérine végétale (VG). Tous ces ingrédients sont minutieusement sélectionnés par Arômes et Liquides. Chez nous, ce qui compte, c'est la qualité ! Si la recette du Ragnarok Ultimate est aussi reconnue, c'est bien grâce à cela : avec des composants de premier choix et une fabrication comme un conditionnement100% français, ce e-liquide ne peut être que de qualité premium ! Afin d'équilibrer la recette ainsi que le hit en gorge, A&L propose son e liquide Ultimate Ragnarok en50PG/50VG. Enfin, pour rester conforme à la loi TPD et vous présenter un e-liquide nicotiné, A&L choisit un conditionnement en fioles PET de 10ml, munies de bouchons sécurisés (protections enfant) et d'embouts fins compte-gouttes. N.B : Vous ne trouverez aucune trace de diacétyle dans les produits A&L. De même, aucun test sur des animaux n'est pratiqué chez nous. Conservation de votre e-liquide Pour une conservation optimale de votre e-liquide, nous vous conseillons de stocker votre flacon à l'abri de la lumière dans un droit sec et à température ambiante. Après contacts répétés à l'air et à la lumière, la couleur de votre e-liquide peut se foncer. Ce changement de couleur n'affecte ni la qualité ni le goût de votre e-liquide. La date indiquée sur l'étiquette est une DLUO (date limite d'utilisation optimale) ou DDM (date de durabilité minimale). Passé cette date, le e-liquide peut encore être consommé. Mises en garde et contre-indications : Précautions d'emploi :\n",
      "brand: Arômes et Liquides (A&L)\n",
      "gout: fruit\n",
      "info_brand: Arômes et Liquides (A&L) est un fabricant français de e-liquides et concentrés DIY depuis 2012. Avec ses laborantins situés non loin de Saint-Étienne dans la Loire, il vous présente une vaste collection de saveurs allant des plus simples aux plus complexes. La marque s'est notamment distinguée dans l'univers de la vape grâce à sa recette classic du Ryan USA de la gamme A&L, puis du mix au goût de fruits rouges Ragnarok de la collection Ultimate.\n",
      "id_produit: 1' metadata={'source': 'rag_csv.csv', 'row': 0, 'id_produit': 1, 'saveur': 'cassis, lime, fruits rouges, parfait'}\n"
     ]
    }
   ],
   "source": [
    "import pandas as pd\n",
    "from langchain.document_loaders import CSVLoader\n",
    "# Charger les données avec pandas pour récupérer les colonnes nécessaires\n",
    "\n",
    " \n",
    "# Charger les données avec pandas pour récupérer les colonnes\n",
    "df = pd.read_csv('rag_csv.csv', encoding=\"utf-8\")\n",
    "\n",
    "\n",
    "# Charger avec CSVLoader\n",
    "loader = CSVLoader(file_path='rag_csv.csv', encoding='utf-8')\n",
    "documents = loader.load()\n",
    "\n",
    "# Ajouter les métadonnées à chaque document\n",
    "for doc, (_, row) in zip(documents, df.iterrows()):\n",
    "    doc.metadata[\"id_produit\"] = row[\"id_produit\"]\n",
    "    doc.metadata[\"saveur\"] = row[\"saveur\"]\n",
    "\n",
    "# Vérifier les métadonnées du premier document\n",
    "print(documents[0])\n"
   ]
  },
  {
   "cell_type": "code",
   "execution_count": 20,
   "metadata": {},
   "outputs": [
    {
     "data": {
      "text/plain": [
       "[Document(metadata={'source': '../../RGBD/table_produits/produits.csv', 'row': 795, 'id_produit': 797, 'saveur': 'fraise, lime, bonbon, fruit du dragon'}, page_content='Le Freho Extra Frais 50ml est un e-liquide à booster fabriqué en France par la marque e.Tasty. Il vous propose des saveurs fraîches façon bonbon à la fraise et fruit du dragon. Sa recette est composée d\\'arômes alimentaires, de propylène glycol (PG) et de glycérine végétale (VG), pour un ratio50PG/50VG. Sa recette pourra au besoin êtrecomplétée avec des boosters10ml de nicotine (non inclus). Il vous est livré dans un flacon de 75ml doté d\\'un bouchon sécurisé et d\\'un embout fin compte-gouttes. Qui est e.Tasty ? e.Tasty est un fabricant français reconnu dans le monde de la vape pour sa maîtrise des saveurs, mais également pour sa recherche constante de qualité supérieure. Ainsi, qu\\'elles soient fruitées, fraîches ou encore classics, soyez toujours certain avec e.Tasty de vapoter des recettes de qualité premium ! Quelques mots sur Bankiz Entièrement consacrée aux saveurs fruitées et fraîches, cette collection de e-liquides à booster se décline en version classique ou \"Extra Frais\" ! Comment préparer votre e-liquide Freho Extra Frais ? Le Freho Extra Frais est proposé en version50mlboostée en arômes dans un flacon de75ml. Si vous le souhaitez, vous pouvez ainsi ajouter un ou plusieurs boosters de nicotine selon vos besoins sans perte de saveur. Pour booster votre e-liquide, vous devez : Indications pour préparer votre e-liquide surboosté de 50 ml : La place disponible dans le flacon d\\'origine n’est peut-être pas suffisante pour booster votre e-liquide au taux de nicotine souhaité. Pour les dosages importants, nous vous conseillons l’utilisation de contenants plus importants commeun flacon de 100ml graduéouun flacon Twist de 230ml gradué. Astuce : pensez à adapter votre matériel au ratio PG/VG de votre e-liquide ! Vous limiterez ainsi le risque de fuite et l’usure prématurée de vos résistances ! Quel taux de nicotine choisir pour votre e-liquide ? Le choix de votre taux de nicotine dépend de votre profil de fumeur ainsi que de la cigarette électronique utilisée : Si vous utilisez du matériel plus performant avec une résistance inférieure à 1 ohm et pour une puissance supérieure à 30 watts, vous pouvez diviser votre taux de nicotine par deux. Nos conseils pour la maturation de votre e-liquide surboosté De la même façon que pour un e-liquide DIY, on peut observer un temps de repos avec un e-liquide surboosté en arômes après l’ajout d’un ou plusieurs boosters de nicotine. Ce temps de maturation que l’on appelle aussi “steep” permet aux arômes de se développer et de mieux s’exprimer. Pour une maturation optimale, il faut compter : Pour un rendu optimal : secouez votre fiole de e-liquide une fois par jour pour que les arômes se diffusent correctement. Conservation de votre e-liquide Pour une conservation optimale de votre e-liquide, nous vous conseillons de stocker votre flacon à l\\'abri de la lumière dans un droit sec et à température ambiante. Après contacts répétés à l\\'air et à la lumière, la couleur de votre e-liquide peut se foncer. Ce changement de couleur n\\'affecte ni la qualité ni le goût de votre e-liquide. La date indiquée sur l\\'étiquette est une DLUO (date limite d\\'utilisation optimale) ou DDM (date de durabilité minimale). Passé cette date, le e-liquide peut encore être consommé.')]"
      ]
     },
     "execution_count": 20,
     "metadata": {},
     "output_type": "execute_result"
    }
   ],
   "source": [
    "retriever.invoke(query)"
   ]
  },
  {
   "cell_type": "markdown",
   "metadata": {},
   "source": [
    "précision \n",
    "La précision mesure la proportion des éléments recommandés qui sont effectivement pertinents pour l'utilisateur. C'est-à-dire, parmi toutes les recommandations faites par le modèle, quelle part est réellement appréciée par l'utilisateur ou est pertinente par rapport à ses attentes."
   ]
  },
  {
   "cell_type": "code",
   "execution_count": 38,
   "metadata": {},
   "outputs": [],
   "source": [
    "csv_path = \"../../RGBD/table_produits/produits.csv\"   # Remplace avec le chemin réel si besoin\n",
    "df = pd.read_csv(csv_path, encoding='utf-8')"
   ]
  },
  {
   "cell_type": "code",
   "execution_count": 39,
   "metadata": {},
   "outputs": [
    {
     "data": {
      "text/plain": [
       "(1531, 15)"
      ]
     },
     "execution_count": 39,
     "metadata": {},
     "output_type": "execute_result"
    }
   ],
   "source": [
    "df.shape"
   ]
  },
  {
   "cell_type": "code",
   "execution_count": 123,
   "metadata": {},
   "outputs": [],
   "source": [
    "retriever = vectorstore.as_retriever(\n",
    "        search_type=\"similarity\",  # Recherche des voisins les plus proches\n",
    "        search_kwargs={\n",
    "            \"k\": 10,  # Retourner les 10 voisins les plus proches\n",
    "        }\n",
    "    )"
   ]
  },
  {
   "cell_type": "code",
   "execution_count": 124,
   "metadata": {},
   "outputs": [],
   "source": [
    "# Fonction pour récupérer les recommandations pertinentes (par exemple, par ID ou feedback utilisateur)\n",
    "def get_relevant_products(user_preferences):\n",
    "    # Cette fonction retourne une liste d'IDs de produits pertinents (simulation ici)\n",
    "    return user_preferences  # Liste des produits pertinents pour l'utilisateur"
   ]
  },
  {
   "cell_type": "code",
   "execution_count": 125,
   "metadata": {},
   "outputs": [
    {
     "name": "stdout",
     "output_type": "stream",
     "text": [
      "     id_produit          saveur\n",
      "842         844  fraise, bonbon\n"
     ]
    }
   ],
   "source": [
    "# Utilisez str.contains pour filtrer les lignes\n",
    "# Filtrer les lignes où la colonne 'saveur' contient 'lime'\n",
    "filtered_produit_id = df[df['saveur'].str.contains('fraise, bonbon', case=False)][['id_produit', 'saveur']]\n",
    "\n",
    "# Afficher les produits_id filtrés\n",
    "print(filtered_produit_id)\n"
   ]
  },
  {
   "cell_type": "code",
   "execution_count": null,
   "metadata": {},
   "outputs": [],
   "source": [
    "# Simuler les préférences de l'utilisateur (par exemple, un ensemble d'IDs de produits pertinents)\n",
    "user_relevant_ids = [844]  # Exemple : ces produits sont pertinents pour l'utilisateur\n"
   ]
  },
  {
   "cell_type": "code",
   "execution_count": 127,
   "metadata": {},
   "outputs": [],
   "source": [
    "query = \"Quel produit contient des saveurs de fraise et bonbon ?\""
   ]
  },
  {
   "cell_type": "code",
   "execution_count": 128,
   "metadata": {},
   "outputs": [
    {
     "name": "stdout",
     "output_type": "stream",
     "text": [
      "Saveurs extraites de la requête : ['fraise', 'bonbon']\n"
     ]
    }
   ],
   "source": [
    "# Fonction pour extraire les saveurs de la requête et les rechercher dans les résultats\n",
    "def extract_flavors_from_query(query):\n",
    "    \"\"\"\n",
    "    Cette fonction extrait les saveurs présentes dans la requête `query`\n",
    "    et retourne une liste des saveurs trouvées parmi celles définies dans `flavor_list`.\n",
    "    \"\"\"\n",
    "    # Liste des saveurs disponibles\n",
    "    flavor_list = [\"cassis\", \"lime\", \"fraise\", \"menthe\", \"mangue\", \"pêche\", \"bonbon\"]\n",
    "\n",
    "    found_flavors = []\n",
    "    \n",
    "    # Pour chaque saveur de la liste, vérifier si elle est mentionnée dans la requête\n",
    "    for flavor in flavor_list:\n",
    "        if re.search(rf'\\b{flavor}\\b', query, re.IGNORECASE):\n",
    "            found_flavors.append(flavor)\n",
    "\n",
    "    return found_flavors\n",
    "\n",
    "\n",
    "# Fonction pour interroger le vecteur et récupérer les saveurs associées à la requête\n",
    "def search_for_flavor(query):\n",
    "    # Extraire les saveurs mentionnées dans la requête\n",
    "    flavors_in_query = extract_flavors_from_query(query)\n",
    "\n",
    "    # Afficher uniquement les saveurs extraites\n",
    "    print(f\"Saveurs extraites de la requête : {flavors_in_query}\")\n",
    "\n",
    "    # Retourner les saveurs extraites sous forme de chaîne, séparées par des virgules\n",
    "    return \", \".join(flavors_in_query)\n",
    "\n",
    "\n",
    "\n",
    "# Utilisation de la fonction search_for_flavor dans retriever.invoke\n",
    "flavors_in_query = search_for_flavor(query)"
   ]
  },
  {
   "cell_type": "code",
   "execution_count": 119,
   "metadata": {},
   "outputs": [
    {
     "data": {
      "text/plain": [
       "'fraise, bonbon'"
      ]
     },
     "execution_count": 119,
     "metadata": {},
     "output_type": "execute_result"
    }
   ],
   "source": [
    "flavors_in_query"
   ]
  },
  {
   "cell_type": "code",
   "execution_count": 141,
   "metadata": {},
   "outputs": [],
   "source": [
    "# Récupérer les recommandations du modèle\n",
    "recommendations = retriever.invoke(query,  filter={\"saveur\": flavors_in_query}) #, filter={\"saveur\": flavors_in_query})  # Exécution du retriever avec une requête d'exemple\n",
    "recommended_ids = [rec.metadata[\"id_produit\"] for rec in recommendations]\n"
   ]
  },
  {
   "cell_type": "code",
   "execution_count": 143,
   "metadata": {},
   "outputs": [
    {
     "data": {
      "text/plain": [
       "[844]"
      ]
     },
     "execution_count": 143,
     "metadata": {},
     "output_type": "execute_result"
    }
   ],
   "source": [
    "recommended_ids"
   ]
  },
  {
   "cell_type": "code",
   "execution_count": 142,
   "metadata": {},
   "outputs": [
    {
     "data": {
      "text/plain": [
       "[Document(metadata={'source': '../../RGBD/table_produits/produits.csv', 'row': 842, 'id_produit': 844, 'saveur': 'fraise, bonbon'}, page_content=\"Le Fraise Candy est un e liquide 50ml d'origine française, fabriqué par Prestige Fruits (Vape Connection) pour la gamme Sweety Fruits. Il vous propose une saveur fraîche de fraise façon bonbon. Créé à partir d'arômes, de propylène glycol (PG) et de glycérine végétale (VG), il est proposé en50PG/50VGafin d'offrir un excellent compromis entre saveurs, hit en gorge et vapeur. Il est compatible tout type de matériel e-cig. Le Fraise Candy est un e liquide surboosté et non nicotiné, conditionné en fiole de type PET 60ml. Dessus, un bouchon avec sécurité enfant et un embout fin très pratique. Rempli à hauteur de 50ml, il pourra être accompagné d'un booster de nicotine au besoin. Qui est Prestige Fruits ? Comme son nom l'indique, le fabriquant française s'est spécialisé dans la reproduction des saveurs de fruits à travers sa large gamme d'e-liquides. La collection Prestige Fruits s'adresse aux vapoteurs à la recherche de goûts tropicaux ou de mélanges complexes. Comment préparer votre e-liquide Fraise Candy ? Le Fraise Candy est proposé en version50mlboostée en arômes dans un flacon de60ml. Si vous le souhaitez, vous pouvez ajouter un ou plusieurs boosters de nicotine selon vos besoins sans perte de saveur. Pour booster votre e-liquide, vous devez : Indications pour préparer votre e-liquide surboosté de 50 ml : La place disponible dans le flacon d'origine n’est peut-être pas suffisante pour booster votre e-liquide au taux de nicotine souhaité. Pour les dosages importants, nous vous conseillons l’utilisation de contenants plus importants commeun flacon de 100ml graduéouun flacon Twist de 230ml gradué. Astuce : pensez à adapter votre matériel au ratio PG/VG de votre e-liquide ! Vous limiterez ainsi le risque de fuite et l’usure prématurée de vos résistances ! Quel taux de nicotine choisir pour votre e-liquide ? Le choix de votre taux de nicotine dépend de votre profil de fumeur ainsi que de la cigarette électronique utilisée : Si vous utilisez du matériel plus performant avec une résistance inférieure à 1 ohm et pour une puissance supérieure à 30 watts, vous pouvez diviser votre taux de nicotine par deux. Nos conseils pour la maturation de votre e-liquide surboosté De la même façon que pour un e-liquide DIY, on peut observer un temps de repos avec un e-liquide surboosté en arômes après l’ajout d’un ou plusieurs boosters de nicotine. Ce temps de maturation que l’on appelle aussi “steep” permet aux arômes de se développer et de mieux s’exprimer. Pour une maturation optimale, il faut compter : Pour un rendu optimal : secouez votre fiole de e-liquide une fois par jour pour que les arômes se diffusent correctement. Conservation de votre e-liquide Pour une conservation optimale de votre e-liquide, nous vous conseillons de stocker votre flacon à l'abri de la lumière dans un droit sec et à température ambiante. Après contacts répétés à l'air et à la lumière, la couleur de votre e-liquide peut se foncer. Ce changement de couleur n'affecte ni la qualité ni le goût de votre e-liquide. La date indiquée sur l'étiquette est une DLUO (date limite d'utilisation optimale) ou DDM (date de durabilité minimale). Passé cette date, le e-liquide peut encore être consommé.\")]"
      ]
     },
     "execution_count": 142,
     "metadata": {},
     "output_type": "execute_result"
    }
   ],
   "source": [
    "recommendations"
   ]
  },
  {
   "cell_type": "code",
   "execution_count": 122,
   "metadata": {},
   "outputs": [
    {
     "data": {
      "text/plain": [
       "[Document(metadata={'source': '../../RGBD/table_produits/produits.csv', 'row': 842, 'id_produit': 844, 'saveur': 'fraise, bonbon'}, page_content=\"Le Fraise Candy est un e liquide 50ml d'origine française, fabriqué par Prestige Fruits (Vape Connection) pour la gamme Sweety Fruits. Il vous propose une saveur fraîche de fraise façon bonbon. Créé à partir d'arômes, de propylène glycol (PG) et de glycérine végétale (VG), il est proposé en50PG/50VGafin d'offrir un excellent compromis entre saveurs, hit en gorge et vapeur. Il est compatible tout type de matériel e-cig. Le Fraise Candy est un e liquide surboosté et non nicotiné, conditionné en fiole de type PET 60ml. Dessus, un bouchon avec sécurité enfant et un embout fin très pratique. Rempli à hauteur de 50ml, il pourra être accompagné d'un booster de nicotine au besoin. Qui est Prestige Fruits ? Comme son nom l'indique, le fabriquant française s'est spécialisé dans la reproduction des saveurs de fruits à travers sa large gamme d'e-liquides. La collection Prestige Fruits s'adresse aux vapoteurs à la recherche de goûts tropicaux ou de mélanges complexes. Comment préparer votre e-liquide Fraise Candy ? Le Fraise Candy est proposé en version50mlboostée en arômes dans un flacon de60ml. Si vous le souhaitez, vous pouvez ajouter un ou plusieurs boosters de nicotine selon vos besoins sans perte de saveur. Pour booster votre e-liquide, vous devez : Indications pour préparer votre e-liquide surboosté de 50 ml : La place disponible dans le flacon d'origine n’est peut-être pas suffisante pour booster votre e-liquide au taux de nicotine souhaité. Pour les dosages importants, nous vous conseillons l’utilisation de contenants plus importants commeun flacon de 100ml graduéouun flacon Twist de 230ml gradué. Astuce : pensez à adapter votre matériel au ratio PG/VG de votre e-liquide ! Vous limiterez ainsi le risque de fuite et l’usure prématurée de vos résistances ! Quel taux de nicotine choisir pour votre e-liquide ? Le choix de votre taux de nicotine dépend de votre profil de fumeur ainsi que de la cigarette électronique utilisée : Si vous utilisez du matériel plus performant avec une résistance inférieure à 1 ohm et pour une puissance supérieure à 30 watts, vous pouvez diviser votre taux de nicotine par deux. Nos conseils pour la maturation de votre e-liquide surboosté De la même façon que pour un e-liquide DIY, on peut observer un temps de repos avec un e-liquide surboosté en arômes après l’ajout d’un ou plusieurs boosters de nicotine. Ce temps de maturation que l’on appelle aussi “steep” permet aux arômes de se développer et de mieux s’exprimer. Pour une maturation optimale, il faut compter : Pour un rendu optimal : secouez votre fiole de e-liquide une fois par jour pour que les arômes se diffusent correctement. Conservation de votre e-liquide Pour une conservation optimale de votre e-liquide, nous vous conseillons de stocker votre flacon à l'abri de la lumière dans un droit sec et à température ambiante. Après contacts répétés à l'air et à la lumière, la couleur de votre e-liquide peut se foncer. Ce changement de couleur n'affecte ni la qualité ni le goût de votre e-liquide. La date indiquée sur l'étiquette est une DLUO (date limite d'utilisation optimale) ou DDM (date de durabilité minimale). Passé cette date, le e-liquide peut encore être consommé.\")]"
      ]
     },
     "execution_count": 122,
     "metadata": {},
     "output_type": "execute_result"
    }
   ],
   "source": [
    "retriever.invoke(query,  filter={\"saveur\": flavors_in_query})"
   ]
  },
  {
   "cell_type": "code",
   "execution_count": 109,
   "metadata": {},
   "outputs": [
    {
     "data": {
      "text/plain": [
       "[Document(metadata={'source': '../../RGBD/table_produits/produits.csv', 'row': 842, 'id_produit': 844, 'saveur': 'fraise, bonbon'}, page_content=\"Le Fraise Candy est un e liquide 50ml d'origine française, fabriqué par Prestige Fruits (Vape Connection) pour la gamme Sweety Fruits. Il vous propose une saveur fraîche de fraise façon bonbon. Créé à partir d'arômes, de propylène glycol (PG) et de glycérine végétale (VG), il est proposé en50PG/50VGafin d'offrir un excellent compromis entre saveurs, hit en gorge et vapeur. Il est compatible tout type de matériel e-cig. Le Fraise Candy est un e liquide surboosté et non nicotiné, conditionné en fiole de type PET 60ml. Dessus, un bouchon avec sécurité enfant et un embout fin très pratique. Rempli à hauteur de 50ml, il pourra être accompagné d'un booster de nicotine au besoin. Qui est Prestige Fruits ? Comme son nom l'indique, le fabriquant française s'est spécialisé dans la reproduction des saveurs de fruits à travers sa large gamme d'e-liquides. La collection Prestige Fruits s'adresse aux vapoteurs à la recherche de goûts tropicaux ou de mélanges complexes. Comment préparer votre e-liquide Fraise Candy ? Le Fraise Candy est proposé en version50mlboostée en arômes dans un flacon de60ml. Si vous le souhaitez, vous pouvez ajouter un ou plusieurs boosters de nicotine selon vos besoins sans perte de saveur. Pour booster votre e-liquide, vous devez : Indications pour préparer votre e-liquide surboosté de 50 ml : La place disponible dans le flacon d'origine n’est peut-être pas suffisante pour booster votre e-liquide au taux de nicotine souhaité. Pour les dosages importants, nous vous conseillons l’utilisation de contenants plus importants commeun flacon de 100ml graduéouun flacon Twist de 230ml gradué. Astuce : pensez à adapter votre matériel au ratio PG/VG de votre e-liquide ! Vous limiterez ainsi le risque de fuite et l’usure prématurée de vos résistances ! Quel taux de nicotine choisir pour votre e-liquide ? Le choix de votre taux de nicotine dépend de votre profil de fumeur ainsi que de la cigarette électronique utilisée : Si vous utilisez du matériel plus performant avec une résistance inférieure à 1 ohm et pour une puissance supérieure à 30 watts, vous pouvez diviser votre taux de nicotine par deux. Nos conseils pour la maturation de votre e-liquide surboosté De la même façon que pour un e-liquide DIY, on peut observer un temps de repos avec un e-liquide surboosté en arômes après l’ajout d’un ou plusieurs boosters de nicotine. Ce temps de maturation que l’on appelle aussi “steep” permet aux arômes de se développer et de mieux s’exprimer. Pour une maturation optimale, il faut compter : Pour un rendu optimal : secouez votre fiole de e-liquide une fois par jour pour que les arômes se diffusent correctement. Conservation de votre e-liquide Pour une conservation optimale de votre e-liquide, nous vous conseillons de stocker votre flacon à l'abri de la lumière dans un droit sec et à température ambiante. Après contacts répétés à l'air et à la lumière, la couleur de votre e-liquide peut se foncer. Ce changement de couleur n'affecte ni la qualité ni le goût de votre e-liquide. La date indiquée sur l'étiquette est une DLUO (date limite d'utilisation optimale) ou DDM (date de durabilité minimale). Passé cette date, le e-liquide peut encore être consommé.\")]"
      ]
     },
     "execution_count": 109,
     "metadata": {},
     "output_type": "execute_result"
    }
   ],
   "source": [
    "retriever.invoke(query,  filter={\"saveur\": 'fraise, bonbon'})"
   ]
  },
  {
   "cell_type": "code",
   "execution_count": 110,
   "metadata": {},
   "outputs": [],
   "source": [
    "# Calculer la précision\n",
    "def calculate_precision(recommended_ids, relevant_ids):\n",
    "    # Nombre de recommandations pertinentes\n",
    "    relevant_recommendations = set(recommended_ids).intersection(set(relevant_ids))\n",
    "    precision = len(relevant_recommendations) / len(recommended_ids) if len(recommended_ids) > 0 else 0\n",
    "    return precision"
   ]
  },
  {
   "cell_type": "code",
   "execution_count": 111,
   "metadata": {},
   "outputs": [],
   "source": [
    "# Calculer la précision pour les recommandations données\n",
    "precision = calculate_precision(recommended_ids, user_relevant_ids)"
   ]
  },
  {
   "cell_type": "code",
   "execution_count": 112,
   "metadata": {},
   "outputs": [
    {
     "name": "stdout",
     "output_type": "stream",
     "text": [
      "Précision (Precision) : 100.00%\n"
     ]
    }
   ],
   "source": [
    "print(f\"Précision (Precision) : {precision * 100:.2f}%\")"
   ]
  },
  {
   "cell_type": "markdown",
   "metadata": {},
   "source": [
    "precision"
   ]
  },
  {
   "cell_type": "markdown",
   "metadata": {},
   "source": [
    "recuperer le saveur"
   ]
  },
  {
   "cell_type": "code",
   "execution_count": null,
   "metadata": {},
   "outputs": [],
   "source": [
    "\n",
    "\n",
    "# Fonction pour extraire les saveurs de la requête\n",
    "def extract_flavors_from_query(query):\n",
    "    flavor_list = [\"cassis\", \"lime\", \"fraise\", \"menthe\", \"mangue\", \"pêche\", \"bonbon\"]\n",
    "    found_flavors = []\n",
    "\n",
    "    # Pour chaque saveur dans la liste, vérifier si elle est mentionnée dans la requête\n",
    "    for flavor in flavor_list:\n",
    "        if re.search(rf'\\b{flavor}\\b', query, re.IGNORECASE):\n",
    "            found_flavors.append(flavor)\n",
    "\n",
    "    return found_flavors\n",
    "\n",
    "# Fonction principale de recherche avec filtrage post-retrieval\n",
    "def search_for_flavor_with_other_flavors(query, vectorstore):\n",
    "    # Extraire les saveurs mentionnées dans la requête\n",
    "    flavors_in_query = extract_flavors_from_query(query)\n",
    "\n",
    "    if not flavors_in_query:\n",
    "        print(\"Aucune saveur mentionnée dans la requête.\")\n",
    "        return []\n",
    "\n",
    "    print(f\"Saveurs extraites de la requête : {flavors_in_query}\")\n",
    "\n",
    "    # Paramétrer le retriever pour la recherche par similarité\n",
    "    retriever = vectorstore.as_retriever(\n",
    "        search_type=\"similarity\",  # Recherche des voisins les plus proches\n",
    "        search_kwargs={\n",
    "            \"k\": 10,  # Retourner les 10 voisins les plus proches\n",
    "        }\n",
    "    )\n",
    "\n",
    "    # Effectuer la recherche dans le vectorstore\n",
    "    results = retriever.invoke(query)\n",
    "\n",
    "    # Filtrage des résultats pour ne garder que ceux contenant les saveurs mentionnées\n",
    "    filtered_results = []\n",
    "    for result in results:\n",
    "        # Vérifier si la saveur de la requête est présente dans les résultats\n",
    "        product_flavors = result.metadata.get('saveur', '').lower().split(', ')\n",
    "        if any(flavor.lower() in product_flavors for flavor in flavors_in_query):\n",
    "            filtered_results.append(result)\n",
    "\n",
    "    # Si aucun produit n'est trouvé avec les saveurs de la requête, renvoyer tous les résultats\n",
    "    if not filtered_results:\n",
    "        filtered_results = results\n",
    "\n",
    "    # Retourner les résultats filtrés\n",
    "    return filtered_results\n"
   ]
  },
  {
   "cell_type": "code",
   "execution_count": 176,
   "metadata": {},
   "outputs": [],
   "source": [
    "query = \"Quel produit contient des saveurs fraise et bonbon ?\""
   ]
  },
  {
   "cell_type": "markdown",
   "metadata": {},
   "source": [
    "affiche les saveurs"
   ]
  },
  {
   "cell_type": "code",
   "execution_count": 177,
   "metadata": {},
   "outputs": [
    {
     "name": "stdout",
     "output_type": "stream",
     "text": [
      "Saveurs extraites de la requête : ['fraise', 'bonbon']\n"
     ]
    }
   ],
   "source": [
    "# Appeler la fonction de recherche\n",
    "results = search_for_flavor_with_other_flavors(query, vectorstore)"
   ]
  },
  {
   "cell_type": "markdown",
   "metadata": {},
   "source": [
    "affiche les id des produits recommandés"
   ]
  },
  {
   "cell_type": "code",
   "execution_count": 179,
   "metadata": {},
   "outputs": [
    {
     "data": {
      "text/plain": [
       "[855, 464, 797, 844, 921, 822]"
      ]
     },
     "execution_count": 179,
     "metadata": {},
     "output_type": "execute_result"
    }
   ],
   "source": [
    "recommended_ids = [rec.metadata[\"id_produit\"] for rec in results]\n",
    "recommended_ids\n"
   ]
  },
  {
   "cell_type": "markdown",
   "metadata": {},
   "source": [
    "a la main mettre en place une variable avec le id du produit qui match mieux"
   ]
  },
  {
   "cell_type": "code",
   "execution_count": 187,
   "metadata": {},
   "outputs": [],
   "source": [
    "user_relevant_ids = [844, 921, 797, 464, 855]"
   ]
  },
  {
   "cell_type": "markdown",
   "metadata": {},
   "source": [
    "calculer la precision"
   ]
  },
  {
   "cell_type": "code",
   "execution_count": 188,
   "metadata": {},
   "outputs": [
    {
     "name": "stdout",
     "output_type": "stream",
     "text": [
      "Précision (Precision) : 83.33%\n"
     ]
    }
   ],
   "source": [
    "# Calculer la précision\n",
    "def calculate_precision(recommended_ids, relevant_ids):\n",
    "    # Nombre de recommandations pertinentes\n",
    "    relevant_recommendations = set(recommended_ids).intersection(set(relevant_ids))\n",
    "    precision = len(relevant_recommendations) / len(recommended_ids) if len(recommended_ids) > 0 else 0\n",
    "    return precision\n",
    "\n",
    "# Calculer la précision pour les recommandations données\n",
    "precision = calculate_precision(recommended_ids, user_relevant_ids)\n",
    "print(f\"Précision (Precision) : {precision * 100:.2f}%\")"
   ]
  },
  {
   "cell_type": "code",
   "execution_count": 182,
   "metadata": {},
   "outputs": [
    {
     "name": "stdout",
     "output_type": "stream",
     "text": [
      "Saveurs extraites de la requête : ['fraise', 'bonbon']\n",
      "{'source': '../../RGBD/table_produits/produits.csv', 'row': 853, 'id_produit': 855, 'saveur': 'parfait, pomme, bonbon, bonbons'}\n",
      "{'source': '../../RGBD/table_produits/produits.csv', 'row': 462, 'id_produit': 464, 'saveur': 'fraise, barbe à papa, lime, bonbon, bonbons'}\n",
      "{'source': '../../RGBD/table_produits/produits.csv', 'row': 795, 'id_produit': 797, 'saveur': 'fraise, lime, bonbon, fruit du dragon'}\n",
      "{'source': '../../RGBD/table_produits/produits.csv', 'row': 842, 'id_produit': 844, 'saveur': 'fraise, bonbon'}\n",
      "{'source': '../../RGBD/table_produits/produits.csv', 'row': 919, 'id_produit': 921, 'saveur': 'fraise, lime, vin, bonbon'}\n",
      "{'source': '../../RGBD/table_produits/produits.csv', 'row': 820, 'id_produit': 822, 'saveur': 'fraise, lime, figue'}\n"
     ]
    }
   ],
   "source": [
    "\n",
    "\n",
    "# Assurez-vous que vectorstore est correctement initialisé et contient les bons produits\n",
    "\n",
    "# Appeler la fonction de recherche\n",
    "results = search_for_flavor_with_other_flavors(query, vectorstore)\n",
    "\n",
    "# Afficher les résultats\n",
    "if results:\n",
    "    for result in results:\n",
    "        print(result.metadata)\n",
    "else:\n",
    "    print(\"Aucun produit correspondant.\")"
   ]
  },
  {
   "cell_type": "code",
   "execution_count": 185,
   "metadata": {},
   "outputs": [
    {
     "data": {
      "text/plain": [
       "['fraise', 'bonbon']"
      ]
     },
     "execution_count": 185,
     "metadata": {},
     "output_type": "execute_result"
    }
   ],
   "source": [
    "flavors_in_query"
   ]
  },
  {
   "cell_type": "code",
   "execution_count": 138,
   "metadata": {},
   "outputs": [
    {
     "name": "stdout",
     "output_type": "stream",
     "text": [
      "Saveurs extraites de la requête : ['fraise', 'bonbon']\n",
      "Aucun produit correspondant.\n"
     ]
    }
   ],
   "source": [
    "# Requête de l'utilisateur\n",
    "query = \"Quel produit contient des saveurs fraise et bonbon ?\"\n",
    "\n",
    "\n",
    "# Appeler la fonction de recherche\n",
    "results = search_for_flavor_with_other_flavors(query, vectorstore)\n",
    "\n",
    "# Afficher les résultats\n",
    "if results:\n",
    "    print(\"Produits trouvés :\", results)\n",
    "else:\n",
    "    print(\"Aucun produit correspondant.\")\n"
   ]
  },
  {
   "cell_type": "code",
   "execution_count": null,
   "metadata": {},
   "outputs": [],
   "source": []
  },
  {
   "cell_type": "code",
   "execution_count": 153,
   "metadata": {},
   "outputs": [],
   "source": [
    "def extract_flavors_from_query(query):\n",
    "    \"\"\"\n",
    "    Cette fonction extrait les saveurs présentes dans la requête `query`\n",
    "    et retourne une liste des saveurs trouvées parmi celles définies dans `flavor_list`.\n",
    "    \"\"\"\n",
    "    # Liste des saveurs disponibles\n",
    "    flavor_list = [\"cassis\", \"lime\", \"fraise\", \"menthe\", \"mangue\", \"pêche\", \"bonbon\"]\n",
    "\n",
    "    found_flavors = []\n",
    "    \n",
    "    # Pour chaque saveur de la liste, vérifier si elle est mentionnée dans la requête\n",
    "    for flavor in flavor_list:\n",
    "        if re.search(rf'\\b{flavor}\\b', query, re.IGNORECASE):\n",
    "            found_flavors.append(flavor)\n",
    "\n",
    "    return found_flavors\n",
    "\n",
    "def search_for_flavor_with_other_flavors(query, vectorstore):\n",
    "    # Extraire les saveurs mentionnées dans la requête\n",
    "    flavors_in_query = extract_flavors_from_query(query)\n",
    "\n",
    "    if not flavors_in_query:\n",
    "        print(\"Aucune saveur mentionnée dans la requête.\")\n",
    "        return []\n",
    "\n",
    "    print(f\"Saveurs extraites de la requête : {flavors_in_query}\")\n",
    "\n",
    "    # Si moins de 2 saveurs sont mentionnées, utiliser un filtre strict\n",
    "    if len(flavors_in_query) < 2:\n",
    "        retriever = vectorstore.as_retriever(\n",
    "            search_type=\"similarity\",  # Recherche des voisins les plus proches\n",
    "            search_kwargs={\n",
    "                \"k\": 10,  # Retourner les 10 voisins les plus proches\n",
    "            }\n",
    "        )\n",
    "\n",
    "        # Effectuer la recherche dans le vectorstore avec un filtre sur les saveurs\n",
    "        results = retriever.invoke(query, filter={\"saveur\": flavors_in_query})\n",
    "\n",
    "        return results\n",
    "    \n",
    "    # Si 2 ou plus saveurs sont mentionnées, effectuer une recherche par similarité puis filtrer les résultats\n",
    "    elif len(flavors_in_query) >= 2:\n",
    "        retriever = vectorstore.as_retriever(\n",
    "            search_type=\"similarity\",  # Recherche des voisins les plus proches\n",
    "            search_kwargs={\n",
    "                \"k\": 10,  # Retourner les 10 voisins les plus proches\n",
    "            }\n",
    "        )\n",
    "\n",
    "        # Effectuer la recherche dans le vectorstore\n",
    "        results = retriever.invoke(query)\n",
    "\n",
    "        # Filtrage des résultats pour ne garder que ceux contenant les saveurs mentionnées\n",
    "        filtered_results = []\n",
    "        for result in results:\n",
    "            product_flavors = result.metadata.get('saveur', '').lower().split(', ')\n",
    "            if any(flavor.lower() in product_flavors for flavor in flavors_in_query):\n",
    "                filtered_results.append(result)\n",
    "\n",
    "        # Retourner les résultats filtrés\n",
    "        return filtered_results\n"
   ]
  },
  {
   "cell_type": "code",
   "execution_count": 154,
   "metadata": {},
   "outputs": [],
   "source": [
    "query = \"Quel produit contient des saveurs de fraise et de bonbon ?\""
   ]
  },
  {
   "cell_type": "code",
   "execution_count": 155,
   "metadata": {},
   "outputs": [],
   "source": [
    "flavors_in_query = extract_flavors_from_query(query)"
   ]
  },
  {
   "cell_type": "code",
   "execution_count": 156,
   "metadata": {},
   "outputs": [
    {
     "data": {
      "text/plain": [
       "['fraise', 'bonbon']"
      ]
     },
     "execution_count": 156,
     "metadata": {},
     "output_type": "execute_result"
    }
   ],
   "source": [
    "flavors_in_query"
   ]
  },
  {
   "cell_type": "code",
   "execution_count": 157,
   "metadata": {},
   "outputs": [
    {
     "name": "stdout",
     "output_type": "stream",
     "text": [
      "Saveurs extraites de la requête : ['fraise', 'bonbon']\n",
      "{'source': '../../RGBD/table_produits/produits.csv', 'row': 853, 'id_produit': 855, 'saveur': 'parfait, pomme, bonbon, bonbons'}\n",
      "{'source': '../../RGBD/table_produits/produits.csv', 'row': 795, 'id_produit': 797, 'saveur': 'fraise, lime, bonbon, fruit du dragon'}\n",
      "{'source': '../../RGBD/table_produits/produits.csv', 'row': 462, 'id_produit': 464, 'saveur': 'fraise, barbe à papa, lime, bonbon, bonbons'}\n",
      "{'source': '../../RGBD/table_produits/produits.csv', 'row': 842, 'id_produit': 844, 'saveur': 'fraise, bonbon'}\n",
      "{'source': '../../RGBD/table_produits/produits.csv', 'row': 919, 'id_produit': 921, 'saveur': 'fraise, lime, vin, bonbon'}\n",
      "{'source': '../../RGBD/table_produits/produits.csv', 'row': 294, 'id_produit': 295, 'saveur': 'fraise, lime'}\n"
     ]
    }
   ],
   "source": [
    "\n",
    "\n",
    "# Assurez-vous que vectorstore est correctement initialisé et contient les bons produits\n",
    "\n",
    "# Appeler la fonction de recherche\n",
    "results = search_for_flavor_with_other_flavors(query, vectorstore)\n",
    "\n",
    "# Afficher les résultats\n",
    "if results:\n",
    "    for result in results:\n",
    "        print(result.metadata)\n",
    "else:\n",
    "    print(\"Aucun produit correspondant.\")"
   ]
  },
  {
   "cell_type": "code",
   "execution_count": 158,
   "metadata": {},
   "outputs": [
    {
     "name": "stdout",
     "output_type": "stream",
     "text": [
      "Saveurs extraites de la requête : ['fraise', 'bonbon']\n",
      "{'source': '../../RGBD/table_produits/produits.csv', 'row': 853, 'id_produit': 855, 'saveur': 'parfait, pomme, bonbon, bonbons'}\n",
      "{'source': '../../RGBD/table_produits/produits.csv', 'row': 795, 'id_produit': 797, 'saveur': 'fraise, lime, bonbon, fruit du dragon'}\n",
      "{'source': '../../RGBD/table_produits/produits.csv', 'row': 462, 'id_produit': 464, 'saveur': 'fraise, barbe à papa, lime, bonbon, bonbons'}\n",
      "{'source': '../../RGBD/table_produits/produits.csv', 'row': 842, 'id_produit': 844, 'saveur': 'fraise, bonbon'}\n",
      "{'source': '../../RGBD/table_produits/produits.csv', 'row': 919, 'id_produit': 921, 'saveur': 'fraise, lime, vin, bonbon'}\n",
      "{'source': '../../RGBD/table_produits/produits.csv', 'row': 294, 'id_produit': 295, 'saveur': 'fraise, lime'}\n"
     ]
    }
   ],
   "source": [
    "uery = \"Quel produit contient des saveurs de fraise ?\"\n",
    "\n",
    "# Assurez-vous que vectorstore est correctement initialisé et contient les bons produits\n",
    "\n",
    "# Appeler la fonction de recherche\n",
    "results = search_for_flavor_with_other_flavors(query, vectorstore)\n",
    "\n",
    "# Afficher les résultats\n",
    "if results:\n",
    "    for result in results:\n",
    "        print(result.metadata)\n",
    "else:\n",
    "    print(\"Aucun produit correspondant.\")"
   ]
  }
 ],
 "metadata": {
  "kernelspec": {
   "display_name": "nlp",
   "language": "python",
   "name": "python3"
  },
  "language_info": {
   "codemirror_mode": {
    "name": "ipython",
    "version": 3
   },
   "file_extension": ".py",
   "mimetype": "text/x-python",
   "name": "python",
   "nbconvert_exporter": "python",
   "pygments_lexer": "ipython3",
   "version": "3.10.15"
  }
 },
 "nbformat": 4,
 "nbformat_minor": 2
}
