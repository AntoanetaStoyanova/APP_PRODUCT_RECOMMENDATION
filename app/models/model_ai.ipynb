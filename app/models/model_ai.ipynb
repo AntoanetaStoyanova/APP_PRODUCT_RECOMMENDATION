{
 "cells": [
  {
   "cell_type": "code",
   "execution_count": 1,
   "metadata": {},
   "outputs": [],
   "source": [
    "import os\n",
    "import openai\n",
    "\n",
    "from dotenv import load_dotenv, find_dotenv\n",
    "_ = load_dotenv(find_dotenv()) # read local .env file\n",
    "\n",
    "azure_openai_api_key = os.getenv('AZURE_OPENAI_API_KEY_4')\n",
    "azure_openai_endpoint = os.getenv('AZURE_OPENAI_API_ENDPOINT_4')\n",
    "deployment_name = os.getenv('AZURE_DEPLOYMENT_NAME_4')\n",
    "\n",
    "\n",
    "# Set up Azure OpenAI API (for Azure deployment)\n",
    "openai.api_type = \"azure\"\n",
    "openai.api_key = azure_openai_api_key\n",
    "openai.api_base = azure_openai_endpoint\n",
    "openai.api_version = \"2023-05-15\"  # Ensure this is up to date\n",
    "\n",
    "import warnings\n",
    "warnings.filterwarnings('ignore')"
   ]
  },
  {
   "cell_type": "code",
   "execution_count": 2,
   "metadata": {},
   "outputs": [],
   "source": [
    "from langchain.chat_models import ChatOpenAI\n",
    "from langchain.prompts import ChatPromptTemplate\n",
    "from langchain_core.runnables import RunnablePassthrough\n",
    "from langchain_core.output_parsers import StrOutputParser\n",
    "from langchain.chat_models import AzureChatOpenAI\n",
    "from langchain.embeddings import HuggingFaceEmbeddings\n",
    "from langchain.document_loaders import CSVLoader\n",
    "from langchain_community.vectorstores import FAISS\n"
   ]
  },
  {
   "cell_type": "code",
   "execution_count": 3,
   "metadata": {},
   "outputs": [
    {
     "name": "stderr",
     "output_type": "stream",
     "text": [
      "C:\\Users\\antoa\\AppData\\Local\\Temp\\ipykernel_35616\\1637258887.py:1: LangChainDeprecationWarning: The class `AzureChatOpenAI` was deprecated in LangChain 0.0.10 and will be removed in 1.0. An updated version of the class exists in the :class:`~langchain-openai package and should be used instead. To use it run `pip install -U :class:`~langchain-openai` and import as `from :class:`~langchain_openai import AzureChatOpenAI``.\n",
      "  llm = AzureChatOpenAI(\n"
     ]
    }
   ],
   "source": [
    "llm = AzureChatOpenAI(\n",
    "    api_key=azure_openai_api_key,  # Azure OpenAI API Key\n",
    "    api_version=\"2023-12-01-preview\",  # API version (you can adjust it as needed)\n",
    "    azure_endpoint=azure_openai_endpoint,  # Azure OpenAI endpoint\n",
    "    deployment_name=deployment_name,  # Ensure deployment_name is the correct one you configured in Azure\n",
    "    temperature=0  # Optional: Adjust the temperature for randomness in responses\n",
    ")"
   ]
  },
  {
   "cell_type": "code",
   "execution_count": 24,
   "metadata": {},
   "outputs": [],
   "source": [
    "#  Charger FAISS avec les métadonnées\n",
    "embeddings = HuggingFaceEmbeddings(model_name=\"sentence-transformers/all-MiniLM-L6-v2\")\n",
    "vectorstore = FAISS.load_local('faiss_vector_store', embeddings=embeddings, allow_dangerous_deserialization=True)\n",
    "\n",
    "\n",
    "def extract_flavor_from_query(query):\n",
    "    # Utilisation d'une expression régulière pour extraire les saveurs de la phrase\n",
    "    flavors = re.findall(r'\\b(?:à la?|avec|et)\\s*(\\w+)', query.lower())\n",
    "    # Join flavors into a single string separated by comma\n",
    "    return ', '.join(flavors)\n",
    "\n",
    "#  Fonction pour récupérer les documents contenant cette saveur\n",
    "def search_by_flavor(query):\n",
    "    #  Extraire la saveur demandée avec le LLM\n",
    "    flavor = extract_flavor_from_query(query)\n",
    "    print(f\"Saveur détectée : {flavor}\")  # Debugging\n",
    "\n",
    "    # Récupérer tous les documents indexés dans FAISS\n",
    "    all_docs = vectorstore.docstore._dict.values()\n",
    "\n",
    "    # Filtrer uniquement ceux qui contiennent cette saveur\n",
    "    filtered_docs = [doc for doc in all_docs if flavor in doc.metadata.get(\"saveur\", \"\").lower()]\n",
    "\n",
    "    if not filtered_docs:\n",
    "        return f\"Aucun e-liquide trouvé avec la saveur '{flavor}'.\"\n",
    "    # Limiter aux 4 premiers documents\n",
    "    filtered_docs = filtered_docs[:4]\n",
    "\n",
    "    #  Afficher les résultats trouvés\n",
    "    results = \"\\n\\n\".join([f\" **Produit** : {doc.page_content}\\n **Saveur** : {doc.metadata['saveur']}\" for doc in filtered_docs])\n",
    "    \n",
    "    return f\"Voici les e-liquides correspondant à la saveur '{flavor}':\\n\\n{results}\""
   ]
  },
  {
   "cell_type": "markdown",
   "metadata": {},
   "source": [
    "je retravail # # 🔹 Fonction pour extraire la saveur demandée par l'utilisateur\n",
    "def extract_flavor_from_query(query):\n",
    "     prompt = f\"Quelle est la saveur mentionnée dans cette phrase : '{query}' ? Donne seulement la saveur exacte, sans phrase supplémentaire.\"\n",
    "     return llm.predict(prompt).strip().lower()  # Convertir en minuscule pour éviter les erreurs\n",
    " avec   \n",
    "\n",
    " def extract_flavor_from_query(query):\n",
    "    # Utilisation d'une expression régulière pour extraire les saveurs de la phrase\n",
    "    flavors = re.findall(r'\\b(?:à la?|avec|et)\\s*(\\w+)', query.lower())\n",
    "    # Join flavors into a single string separated by comma\n",
    "    return ', '.join(flavors)\n",
    "pour que Lime et fraise et pas que lime , fraise"
   ]
  },
  {
   "cell_type": "code",
   "execution_count": 25,
   "metadata": {},
   "outputs": [
    {
     "name": "stdout",
     "output_type": "stream",
     "text": [
      "Saveur détectée : fraise, lime\n",
      "Voici les e-liquides correspondant à la saveur 'fraise, lime':\n",
      "\n",
      " **Produit** : Découvrez une mono-saveur dédiée à la fraise des bois, dans un e-liquide fabriqué en France par PULP. Le produit est idéal pour débuter, déjàprêt à vaperet disponible en plusieurs taux de nicotine : 0, 3, 6 ou 12mg/ml. Le Fraise Sauvage est élaboré à partir d'arômes alimentaires, de propylène glycol et de glycérine végétale à hauteur de 70PG et 30VG. Vous retrouverez ce e-liquide dans des flacons de 10ml en plastique PET avec embout fin. Ces fioles sont également équipées d'une sécurité enfant. Qui est PULP ? C'est dans leur laboratoire français, et plus particulièrement parisien que les aromaticiens de la marque PULP conçoivent leurs multiples recettes, et ce, toujours avec le sens du détail. Ainsi, il vous présente aussi bien des e-liquides prêts à vaper, à booster, ou encore des concentrés DIY (Do It Yourself) aux saveurs finement reproduites et de diverses variétés. Nos conseils pour utiliser votre e-liquide Fraise Sauvage L'utilisation d'un e-liquide est exclusivement réservée à la cigarette électronique. Nous vous recommandons de bien agiter votre flacon de e-liquide avant emploi. Pour limiter les risques de fuites et prolonger la durée de vie de vos résistances, nous vous conseillons d'utiliser un clearomiseur adapté au taux PG/VG de votre e-liquide. Quel taux de nicotine choisir pour votre e-liquide ? Le choix de votre taux de nicotine dépend de votre profil de fumeur ainsi que de la cigarette électronique utilisée. Si vous utilisez une cigarette électronique équipée d'une résistance égale ou supérieure à 1 ohm et à une puissance ne dépassant pas les 30 watts, voici nos recommandations pour choisir votre taux de nicotine : Si vous utilisez une cigarette électronique plus performante équipée de résistances dont la valeur est inférieure à 1 ohm et pour une puissance supérieure à 30 watts, nous vous conseillons d'utiliser un taux de nicotine plus faible : Conservation de votre e-liquide Pour une conservation optimale de votre e-liquide, nous vous conseillons de stocker votre flacon à l'abri de la lumière dans un droit sec et à température ambiante. Après contacts répétés à l'air et à la lumière, la couleur de votre e-liquide peut se foncer. Ce changement de couleur n'affecte ni la qualité ni le goût de votre e-liquide. La date indiquée sur l'étiquette est une DLUO (date limite d'utilisation optimale) ou DDM (date de durabilité minimale). Passé cette date, le e-liquide peut encore être consommé. Mises en garde et contre-indications : Précautions d'emploi :\n",
      " **Saveur** : fraise, lime\n",
      "\n",
      " **Produit** : Le Player, unesaveur fraîche de fruit du dragon, fraise et pastèque, dans cette recette de e-liquide à booster de chez Hello Cloudy. Présenté dans un format de 200ml non nicotiné, vous pouvez au besoin le personnaliser en ajoutant dans sa fiole des boosters 10ml (non inclus). Fabriqué en France, il se compose d'arômes alimentaires, de propylène glycol (PG) et de glycérine végétale (VG), pour un ratio 50PG/50VG. Son flacon de 200ml est équipé d'un bouchon avec sécurité enfant et d'un embout fin. Qui est Hello Cloudy ? Hello Cloudy est un fabricant français de e-liquides pour cigarettes électroniques. Spécialiste des saveurs de fruits, la marque accompagne parfois ses recettes de fraîcheur. Retrouvez les e-liquides Hello Cloudy en format de 200ml à booster, conditionnés dans des flacons équipés d'une ouverture sécurisée et d'un embout fin. Comment préparer votre e-liquide Player ? Ce e-liquide est proposé en version200mlboostée en arômes. Si vous le souhaitez, vous pouvez ainsi ajouter un ou plusieurs boosters de nicotine selon vos besoins sans perte de saveur. Pour booster votre e-liquide, vous devez : Indications pour préparer votre e-liquide surboosté de 100 ml : La place disponible dans le flacon d'origine n’est peut-être pas suffisante pour booster votre e-liquide au taux de nicotine souhaité. Pour les dosages importants, nous vous conseillons l’utilisation de contenants plus importants commeun flacon de 100ml graduéouun flacon Twist de 230ml gradué. Astuce : pensez à adapter votre matériel au ratio PG/VG de votre e-liquide ! Vous limiterez ainsi le risque de fuite et l’usure prématurée de vos résistances ! Quel taux de nicotine choisir pour votre e-liquide ? Le choix de votre taux de nicotine dépend de votre profil de fumeur ainsi que de la cigarette électronique utilisée : Si vous utilisez du matériel plus performant avec une résistance inférieure à 1 ohm et pour une puissance supérieure à 30 watts, vous pouvez diviser votre taux de nicotine par deux. Nos conseils pour la maturation de votre e-liquide surboosté De la même façon que pour un e-liquide DIY, on peut observer un temps de repos avec un e-liquide surboosté en arômes après l’ajout d’un ou plusieurs boosters de nicotine. Ce temps de maturation que l’on appelle aussi “steep” permet aux arômes de se développer et de mieux s’exprimer. Pour une maturation optimale, il faut compter : Pour un rendu optimal : secouez votre fiole de e-liquide une fois par jour pour que les arômes se diffusent correctement. Conservation de votre e-liquide Pour une conservation optimale de votre e-liquide, nous vous conseillons de stocker votre flacon à l'abri de la lumière dans un droit sec et à température ambiante. Après contacts répétés à l'air et à la lumière, la couleur de votre e-liquide peut se foncer. Ce changement de couleur n'affecte ni la qualité ni le goût de votre e-liquide. La date indiquée sur l'étiquette est une DLUO (date limite d'utilisation optimale) ou DDM (date de durabilité minimale). Passé cette date, le e-liquide peut encore être consommé.\n",
      " **Saveur** : fraise, lime, pastèque, fruit du dragon\n",
      "\n",
      " **Produit** : Le Miss Fraise par Alfaliquid est un e-liquide fabriqué en France et vous propose une saveur defraise. Sa recette est élaborée à partir d'arômes alimentaires, de propylène glycol (PG) et de glycérine végétale (VG). Le taux dePG/VG (74/26)et le choix des taux de nicotine (0, 3, 6 ou 12mg/ml) permettent de satisfaire le plus grand nombre de vapoteurs. Proposé en flacons de type PET de 10ml avec sécurité enfants et embouts fins, il vous permet de remplir facilement toutes vos cigarettes électroniques. Qui est Alfaliquid ? Le fabricant français s'est fait reconnaître par ses recettes de e-liquides, et ce, au fil du temps. Mettant à l'honneur aussi bien des goûts fruités que classics par exemple, soyez toujours certain de trouver votre prêt à l'emploi avec Alfaliquid. Nos conseils pour utiliser votre e-liquide Miss Fraise L'utilisation d'un e-liquide est exclusivement réservée à la cigarette électronique. Nous vous recommandons de bien agiter votre flacon de e-liquide avant emploi. Pour limiter les risques de fuites et prolonger la durée de vie de vos résistances, nous vous conseillons d'utiliser un clearomiseur adapté au taux PG/VG de votre e-liquide. Quel taux de nicotine choisir pour votre e-liquide ? Le choix de votre taux de nicotine dépend de votre profil de fumeur ainsi que de la cigarette électronique utilisée. Si vous utilisez une cigarette électronique équipée d'une résistance égale ou supérieure à 1 ohm et à une puissance ne dépassant pas les 30 watts, voici nos recommandations pour choisir votre taux de nicotine : Si vous utilisez une cigarette électronique plus performante équipée de résistances dont la valeur est inférieure à 1 ohm et pour une puissance supérieure à 30 watts, nous vous conseillons d'utiliser un taux de nicotine plus faible : Conservation de votre e-liquide Pour une conservation optimale de votre e-liquide, nous vous conseillons de stocker votre flacon à l'abri de la lumière dans un droit sec et à température ambiante. Après contacts répétés à l'air et à la lumière, la couleur de votre e-liquide peut se foncer. Ce changement de couleur n'affecte ni la qualité ni le goût de votre e-liquide. La date indiquée sur l'étiquette est une DLUO (date limite d'utilisation optimale) ou DDM (date de durabilité minimale). Passé cette date, le e-liquide peut encore être consommé. Mises en garde et contre-indications : Précautions d'emploi :\n",
      " **Saveur** : fraise, lime\n",
      "\n",
      " **Produit** : Le Acai Fruit Pot 100ml est un e-liquide à booster issu de la collection Fruits de la marque Chuffed, auxsaveurs fraîches de kiwi, fraise et baie d'açaï. Sa recette fabriquée en France se compose d'arômes alimentaires, de propylène glycol (PG) et de glycérine végétale (VG), pour un ratio 30PG/70VG. Présenté dans une fiole de 120ml dotée d'un bouchon sécurisé et d'un embout fin,vous pouvez au besoin lui additionnerdu liquide de base ou des boosters 10ml de nicotine (non inclus). Qui est Chuffed ? Chuffed est une marque originaire du Royaume-Uni, spécialisée dans la conception de e-liquides pour cigarette électronique. Retrouvez les recettes de Chuffed en format de 100ml, non nicotinés de base et à booster en fonction de vos besoins. Comment préparer votre e-liquide Acai Fruit Pot ? Ce e-liquide est proposé en version100mlboostée en arômes dans un flacon de120ml. Si vous le souhaitez, vous pouvez ajouter un ou plusieurs boosters de nicotine selon vos besoins sans perte de saveur. Pour booster votre e-liquide, vous devez : Indications pour préparer votre e-liquide surboosté de 50 ml : La place disponible dans le flacon d'origine n’est peut-être pas suffisante pour booster votre e-liquide au taux de nicotine souhaité. Pour les dosages importants, nous vous conseillons l’utilisation de contenants plus importants commeun flacon de 100ml graduéouun flacon Twist de 230ml gradué. Astuce : pensez à adapter votre matériel au ratio PG/VG de votre e-liquide ! Vous limiterez ainsi le risque de fuite et l’usure prématurée de vos résistances ! Quel taux de nicotine choisir pour votre e-liquide ? Le choix de votre taux de nicotine dépend de votre profil de fumeur ainsi que de la cigarette électronique utilisée : Si vous utilisez du matériel plus performant avec une résistance inférieure à 1 ohm et pour une puissance supérieure à 30 watts, vous pouvez diviser votre taux de nicotine par deux. Nos conseils pour la maturation de votre e-liquide surboosté De la même façon que pour un e-liquide DIY, on peut observer un temps de repos avec un e-liquide surboosté en arômes après l’ajout d’un ou plusieurs boosters de nicotine. Ce temps de maturation que l’on appelle aussi “steep” permet aux arômes de se développer et de mieux s’exprimer. Pour une maturation optimale, il faut compter : Pour un rendu optimal : secouez votre fiole de e-liquide une fois par jour pour que les arômes se diffusent correctement. Conservation de votre e-liquide Pour une conservation optimale de votre e-liquide, nous vous conseillons de stocker votre flacon à l'abri de la lumière dans un droit sec et à température ambiante. Après contacts répétés à l'air et à la lumière, la couleur de votre e-liquide peut se foncer. Ce changement de couleur n'affecte ni la qualité ni le goût de votre e-liquide. La date indiquée sur l'étiquette est une DLUO (date limite d'utilisation optimale) ou DDM (date de durabilité minimale). Passé cette date, le e-liquide peut encore être consommé.\n",
      " **Saveur** : fraise, lime, baie, kiwi\n"
     ]
    }
   ],
   "source": [
    "# 🎯 Tester la fonction\n",
    "query = \"Je veux un e-liquide à la fraise et lime\"\n",
    "result = search_by_flavor(query)\n",
    "print(result)"
   ]
  },
  {
   "cell_type": "markdown",
   "metadata": {},
   "source": [
    "que des produits qui ont les saveur demander "
   ]
  },
  {
   "cell_type": "code",
   "execution_count": 68,
   "metadata": {},
   "outputs": [
    {
     "name": "stdout",
     "output_type": "stream",
     "text": [
      "Saveurs détectées : {'fraise', 'lime'}\n",
      " Voici les e-liquides contenant **exactement** 'fraise, lime':\n",
      "\n",
      "**Produit** : Découvrez une mono-saveur dédiée à la fraise des bois, dans un e-liquide fabriqué en France par PULP. Le produit est idéal pour débuter, déjàprêt à vaperet disponible en plusieurs taux de nicotine : 0, 3, 6 ou 12mg/ml. Le Fraise Sauvage est élaboré à partir d'arômes alimentaires, de propylène glycol et de glycérine végétale à hauteur de 70PG et 30VG. Vous retrouverez ce e-liquide dans des flacons de 10ml en plastique PET avec embout fin. Ces fioles sont également équipées d'une sécurité enfant. Qui est PULP ? C'est dans leur laboratoire français, et plus particulièrement parisien que les aromaticiens de la marque PULP conçoivent leurs multiples recettes, et ce, toujours avec le sens du détail. Ainsi, il vous présente aussi bien des e-liquides prêts à vaper, à booster, ou encore des concentrés DIY (Do It Yourself) aux saveurs finement reproduites et de diverses variétés. Nos conseils pour utiliser votre e-liquide Fraise Sauvage L'utilisation d'un e-liquide est exclusivement réservée à la cigarette électronique. Nous vous recommandons de bien agiter votre flacon de e-liquide avant emploi. Pour limiter les risques de fuites et prolonger la durée de vie de vos résistances, nous vous conseillons d'utiliser un clearomiseur adapté au taux PG/VG de votre e-liquide. Quel taux de nicotine choisir pour votre e-liquide ? Le choix de votre taux de nicotine dépend de votre profil de fumeur ainsi que de la cigarette électronique utilisée. Si vous utilisez une cigarette électronique équipée d'une résistance égale ou supérieure à 1 ohm et à une puissance ne dépassant pas les 30 watts, voici nos recommandations pour choisir votre taux de nicotine : Si vous utilisez une cigarette électronique plus performante équipée de résistances dont la valeur est inférieure à 1 ohm et pour une puissance supérieure à 30 watts, nous vous conseillons d'utiliser un taux de nicotine plus faible : Conservation de votre e-liquide Pour une conservation optimale de votre e-liquide, nous vous conseillons de stocker votre flacon à l'abri de la lumière dans un droit sec et à température ambiante. Après contacts répétés à l'air et à la lumière, la couleur de votre e-liquide peut se foncer. Ce changement de couleur n'affecte ni la qualité ni le goût de votre e-liquide. La date indiquée sur l'étiquette est une DLUO (date limite d'utilisation optimale) ou DDM (date de durabilité minimale). Passé cette date, le e-liquide peut encore être consommé. Mises en garde et contre-indications : Précautions d'emploi :\n",
      "**Saveur** : fraise, lime\n",
      "\n",
      "**Produit** : Le Miss Fraise par Alfaliquid est un e-liquide fabriqué en France et vous propose une saveur defraise. Sa recette est élaborée à partir d'arômes alimentaires, de propylène glycol (PG) et de glycérine végétale (VG). Le taux dePG/VG (74/26)et le choix des taux de nicotine (0, 3, 6 ou 12mg/ml) permettent de satisfaire le plus grand nombre de vapoteurs. Proposé en flacons de type PET de 10ml avec sécurité enfants et embouts fins, il vous permet de remplir facilement toutes vos cigarettes électroniques. Qui est Alfaliquid ? Le fabricant français s'est fait reconnaître par ses recettes de e-liquides, et ce, au fil du temps. Mettant à l'honneur aussi bien des goûts fruités que classics par exemple, soyez toujours certain de trouver votre prêt à l'emploi avec Alfaliquid. Nos conseils pour utiliser votre e-liquide Miss Fraise L'utilisation d'un e-liquide est exclusivement réservée à la cigarette électronique. Nous vous recommandons de bien agiter votre flacon de e-liquide avant emploi. Pour limiter les risques de fuites et prolonger la durée de vie de vos résistances, nous vous conseillons d'utiliser un clearomiseur adapté au taux PG/VG de votre e-liquide. Quel taux de nicotine choisir pour votre e-liquide ? Le choix de votre taux de nicotine dépend de votre profil de fumeur ainsi que de la cigarette électronique utilisée. Si vous utilisez une cigarette électronique équipée d'une résistance égale ou supérieure à 1 ohm et à une puissance ne dépassant pas les 30 watts, voici nos recommandations pour choisir votre taux de nicotine : Si vous utilisez une cigarette électronique plus performante équipée de résistances dont la valeur est inférieure à 1 ohm et pour une puissance supérieure à 30 watts, nous vous conseillons d'utiliser un taux de nicotine plus faible : Conservation de votre e-liquide Pour une conservation optimale de votre e-liquide, nous vous conseillons de stocker votre flacon à l'abri de la lumière dans un droit sec et à température ambiante. Après contacts répétés à l'air et à la lumière, la couleur de votre e-liquide peut se foncer. Ce changement de couleur n'affecte ni la qualité ni le goût de votre e-liquide. La date indiquée sur l'étiquette est une DLUO (date limite d'utilisation optimale) ou DDM (date de durabilité minimale). Passé cette date, le e-liquide peut encore être consommé. Mises en garde et contre-indications : Précautions d'emploi :\n",
      "**Saveur** : fraise, lime\n",
      "\n",
      "**Produit** : Le Strawberry 100ml est un e-liquide à booster issu de la collection Fizzy Juice par Mohawk&Co, auxsaveurs fraîches de fraises. Sa recette fabriquée en France se compose d'arômes alimentaires, de propylène glycol (PG) et de glycérine végétale (VG), pour un ratio 30PG/70VG. Présenté dans une fiole de 120ml dotée d'un bouchon sécurisé et d'un embout fin,vous pouvez au besoin lui additionnerdu liquide de base ou des boosters 10ml de nicotine (non inclus). Qui est Mohawk&Co ? Mohawk&Co est un fabricant de e-liquides pour cigarettes électronique basé en Malaise. Spécialiste de saveurs fraîches aux fruits, la marque vous propose ses recettes dans des formats de 100ml, non nicotinées de base à booster en fonction de vos besoins ! Comment préparer votre e-liquide Strawberry ? Le Strawberry est proposé en version100mlboostée en arômes dans un flacon de120ml. Si vous le souhaitez, vous pouvez ajouter un ou plusieurs boosters de nicotine selon vos besoins sans perte de saveur. Pour booster votre e-liquide, vous devez : Indications pour préparer votre e-liquide surboosté de 50 ml : La place disponible dans le flacon d'origine n’est peut-être pas suffisante pour booster votre e-liquide au taux de nicotine souhaité. Pour les dosages importants, nous vous conseillons l’utilisation de contenants plus importants commeun flacon de 100ml graduéouun flacon Twist de 230ml gradué. Astuce : pensez à adapter votre matériel au ratio PG/VG de votre e-liquide ! Vous limiterez ainsi le risque de fuite et l’usure prématurée de vos résistances ! Quel taux de nicotine choisir pour votre e-liquide ? Le choix de votre taux de nicotine dépend de votre profil de fumeur ainsi que de la cigarette électronique utilisée : Si vous utilisez du matériel plus performant avec une résistance inférieure à 1 ohm et pour une puissance supérieure à 30 watts, vous pouvez diviser votre taux de nicotine par deux. Nos conseils pour la maturation de votre e-liquide surboosté De la même façon que pour un e-liquide DIY, on peut observer un temps de repos avec un e-liquide surboosté en arômes après l’ajout d’un ou plusieurs boosters de nicotine. Ce temps de maturation que l’on appelle aussi “steep” permet aux arômes de se développer et de mieux s’exprimer. Pour une maturation optimale, il faut compter : Pour un rendu optimal : secouez votre fiole de e-liquide une fois par jour pour que les arômes se diffusent correctement. Conservation de votre e-liquide Pour une conservation optimale de votre e-liquide, nous vous conseillons de stocker votre flacon à l'abri de la lumière dans un droit sec et à température ambiante. Après contacts répétés à l'air et à la lumière, la couleur de votre e-liquide peut se foncer. Ce changement de couleur n'affecte ni la qualité ni le goût de votre e-liquide. La date indiquée sur l'étiquette est une DLUO (date limite d'utilisation optimale) ou DDM (date de durabilité minimale). Passé cette date, le e-liquide peut encore être consommé.\n",
      "**Saveur** : fraise, lime\n",
      "\n",
      "**Produit** : Le Fraise Symphonie 50ml est un e-liquide non nicotiné à booster, auxsaveurs de fraises. Il est fabriqué en France par la marque Le Coq Qui Vape. Il se compose d'arômes alimentaires, de propylène glycol (PG) et de glycérine végétale (VG), pour un ratio 50PG/50VG. Vous pourrez au besoincompléter le flaconavec un booster 10ml de nicotine (non inclus), ou du liquide de base afin de diluer légèrement les saveurs. Il vous est proposé dans une fiole de 60ml pourvue d'un bouchon à ouverture sécurisée, ainsi que d'un embout fin simplifiant le remplissage de votre réservoir. Qui est Le Coq Qui Vape ? Le Coq Qui Vape est un fabricant français de e-liquides et concentrés pour cigarette électronique. Originaire de région parisienne, cette entreprise familiale met un point d'honneur à vous proposer des produits de qualité, élaborés dans les laboratoires Airomia. Comment préparer votre e-liquide Fraise Symphonie ? Ce e-liquide est proposé en version50mlboostée en arômes dans un flacon de60ml. Si vous le souhaitez, vous pouvez ainsi ajouter un ou plusieurs boosters de nicotine selon vos besoins sans perte de saveur. Pour booster votre e-liquide, vous devez : Indications pour préparer votre e-liquide surboosté de 50 ml : La place disponible dans le flacon d'origine n’est peut-être pas suffisante pour booster votre e-liquide au taux de nicotine souhaité. Pour les dosages importants, nous vous conseillons l’utilisation de contenants plus importants commeun flacon de 100ml graduéouun flacon Twist de 230ml gradué. Astuce : pensez à adapter votre matériel au ratio PG/VG de votre e-liquide ! Vous limiterez ainsi le risque de fuite et l’usure prématurée de vos résistances ! Quel taux de nicotine choisir pour votre e-liquide ? Le choix de votre taux de nicotine dépend de votre profil de fumeur ainsi que de la cigarette électronique utilisée : Si vous utilisez du matériel plus performant avec une résistance inférieure à 1 ohm et pour une puissance supérieure à 30 watts, vous pouvez diviser votre taux de nicotine par deux. Nos conseils pour la maturation de votre e-liquide surboosté De la même façon que pour un e-liquide DIY, on peut observer un temps de repos avec un e-liquide surboosté en arômes après l’ajout d’un ou plusieurs boosters de nicotine. Ce temps de maturation que l’on appelle aussi “steep” permet aux arômes de se développer et de mieux s’exprimer. Pour une maturation optimale, il faut compter : Pour un rendu optimal : secouez votre fiole de e-liquide une fois par jour pour que les arômes se diffusent correctement. Conservation de votre e-liquide Pour une conservation optimale de votre e-liquide, nous vous conseillons de stocker votre flacon à l'abri de la lumière dans un droit sec et à température ambiante. Après contacts répétés à l'air et à la lumière, la couleur de votre e-liquide peut se foncer. Ce changement de couleur n'affecte ni la qualité ni le goût de votre e-liquide. La date indiquée sur l'étiquette est une DLUO (date limite d'utilisation optimale) ou DDM (date de durabilité minimale). Passé cette date, le e-liquide peut encore être consommé.\n",
      "**Saveur** : fraise, lime\n",
      "\n",
      "**Produit** : Cette recette de la gamme Pulp Kitchen par Pulp vous propose dessaveurs de fraisesdans un format de 50ml. Conçu en France, le e-liquide Strawberry Field est fabriqué à partir d'arômes alimentaires, de propylène glycol (PG) et de glycérine végétale (VG), pour un ratio 40PG/60VG. Son flacon de 60ml est doté d'un bouchon sécurisé et d'un embout fin, et peut au besoin être complété par un booster 10ml (non inclus). Qui est PULP ? C'est dans leur laboratoire français, et plus particulièrement parisien que les aromaticiens de la marque PULP conçoivent leurs multiples recettes, et ce, toujours avec le sens du détail. Ainsi, il vous présente aussi bien des e-liquides prêts à vaper, à booster, ou encore des concentrés DIY (Do It Yourself) aux saveurs finement reproduites et de diverses variétés. Comment préparer votre e-liquide Strawberry Field ? Ce e-liquide est proposé en version50mlboostée en arômes, dans un flacon de 60ml. Si vous le souhaitez, vous pouvez ainsi ajouter un booster de nicotine selon vos besoins sans perte de saveur. Pour booster votre e-liquide, vous devez : Indications pour préparer votre e-liquide surboosté de 100 ml : La place disponible dans le flacon d'origine n’est peut-être pas suffisante pour booster votre e-liquide au taux de nicotine souhaité. Pour les dosages importants, nous vous conseillons l’utilisation de contenants plus importants commeun flacon de 100ml graduéouun flacon Twist de 230ml gradué. Astuce : pensez à adapter votre matériel au ratio PG/VG de votre e-liquide ! Vous limiterez ainsi le risque de fuite et l’usure prématurée de vos résistances ! Quel taux de nicotine choisir pour votre e-liquide ? Le choix de votre taux de nicotine dépend de votre profil de fumeur ainsi que de la cigarette électronique utilisée : Si vous utilisez du matériel plus performant avec une résistance inférieure à 1 ohm et pour une puissance supérieure à 30 watts, vous pouvez diviser votre taux de nicotine par deux. Nos conseils pour la maturation de votre e-liquide surboosté De la même façon que pour un e-liquide DIY, on peut observer un temps de repos avec un e-liquide surboosté en arômes après l’ajout d’un ou plusieurs boosters de nicotine. Ce temps de maturation que l’on appelle aussi “steep” permet aux arômes de se développer et de mieux s’exprimer. Pour une maturation optimale, il faut compter : Pour un rendu optimal : secouez votre fiole de e-liquide une fois par jour pour que les arômes se diffusent correctement. Conservation de votre e-liquide Pour une conservation optimale de votre e-liquide, nous vous conseillons de stocker votre flacon à l'abri de la lumière dans un droit sec et à température ambiante. Après contacts répétés à l'air et à la lumière, la couleur de votre e-liquide peut se foncer. Ce changement de couleur n'affecte ni la qualité ni le goût de votre e-liquide. La date indiquée sur l'étiquette est une DLUO (date limite d'utilisation optimale) ou DDM (date de durabilité minimale). Passé cette date, le e-liquide peut encore être consommé.\n",
      "**Saveur** : fraise, lime\n",
      "\n",
      "**Produit** : Issu des laboratoires français de Alfaliquid, le Fraise Gariguette 10ml est exclusivement réservé au réservoir de votre cigarette électronique. Il reproduit toutes les saveurs d'unefraise de type gariguette. Ce e-liquide est élaboré à partir d'arômes alimentaires, de propylène glycol (PG) et de glycérine végétale (VG), pour un ratio74PG/26VG. Prêt à l'emploi, vous sélectionnez à la commande le taux de nicotine qui vous convient parmi les différents proposés. Le flacon 10ml du Fraise Gariguette vous est livré doté d'un bouchon sécurisé et d'un embout fin facilitant le remplissage de votre réservoir. Qui est Alfaliquid ? Le fabricant français s'est fait reconnaître par ses recettes de e-liquides, et ce, au fil du temps. Mettant à l'honneur aussi bien des goûts fruités que classics par exemple, soyez toujours certain de trouver votre prêt à l'emploi avec Alfaliquid. Nos conseils pour utiliser votre e-liquide Fraise Gariguette L'utilisation d'un e-liquide est exclusivement réservée à la cigarette électronique. Nous vous recommandons de bien agiter votre flacon de e-liquide avant emploi. Pour limiter les risques de fuites et prolonger la durée de vie de vos résistances, nous vous conseillons d'utiliser un clearomiseur adapté au taux PG/VG de votre e-liquide. Quel taux de nicotine choisir pour votre e-liquide ? Le choix de votre taux de nicotine dépend de votre profil de fumeur ainsi que de la cigarette électronique utilisée. Si vous utilisez une cigarette électronique équipée d'une résistance égale ou supérieure à 1 ohm et à une puissance ne dépassant pas les 30 watts, voici nos recommandations pour choisir votre taux de nicotine : Si vous utilisez une cigarette électronique plus performante équipée de résistances dont la valeur est inférieure à 1 ohm et pour une puissance supérieure à 30 watts, nous vous conseillons d'utiliser un taux de nicotine plus faible : Conservation de votre e-liquide Pour une conservation optimale de votre e-liquide, nous vous conseillons de stocker votre flacon à l'abri de la lumière dans un droit sec et à température ambiante. Après contacts répétés à l'air et à la lumière, la couleur de votre e-liquide peut se foncer. Ce changement de couleur n'affecte ni la qualité ni le goût de votre e-liquide. La date indiquée sur l'étiquette est une DLUO (date limite d'utilisation optimale) ou DDM (date de durabilité minimale). Passé cette date, le e-liquide peut encore être consommé. Mises en garde et contre-indications : Précautions d'emploi :\n",
      "**Saveur** : fraise, lime\n",
      "\n",
      "**Produit** : Le Fraise est un e-liquide fabriqué en France par Curieux pour sa collection Natural. Il vous propose unemono saveur de fraises. Sa recette à booster et sans nicotine se compose d'arômes alimentaires, de végétol (50%) et de glycérine végétale (50%). Elle pourra au besoin êtrepersonnaliséeavec de la base neutre ou des boosters 10ml de nicotine (non inclus). Le flacon de 70ml du e-liquide Fraise 50ml est doté d'un bouchon sécurisé et d'un embout fin facilitant le remplissage de votre réservoir. Qui est Curieux ? Curieux est un fabricant français de liquides pour cigarette électronique, réputé notamment pour sa célèbre recette fruitée du Licorne. La marque décline ses recettes en différentes gammes, permettant à tout vapoteur de trouver le mix qui lui convient : Editions Astrale, Natural ou encore Oldies. Retrouvez les créations de chez Curieux en format e-liquide prêt-à-vaper, à booster, ou en concentré DIY ! La gamme Natural Le fabricant français vous propose une collection complète de all-days, tous élaborés à partir d'une base 100% végétale. Le végétol remplace le propylène glycol, ici dans un ratio Végétol / Glycérine Végétale de 50/50. Comment préparer votre e-liquide Fraise ? Ce e-liquide est proposé en version dans une fiole de70mlremplie à hauteur de 50ml. Si vous le souhaitez, vous pouvez ainsi ajouter un ou plusieurs boosters de nicotine selon vos besoins. Pour booster votre e-liquide, vous devez : Indications pour préparer votre e-liquide surboosté de 100 ml : La place disponible dans le flacon d'origine n’est peut-être pas suffisante pour booster votre e-liquide au taux de nicotine souhaité. Pour les dosages importants, nous vous conseillons l’utilisation de contenants plus importants commeun flacon de 100ml graduéouun flacon Twist de 230ml gradué. Astuce : pensez à adapter votre matériel au ratio PG/VG de votre e-liquide ! Vous limiterez ainsi le risque de fuite et l’usure prématurée de vos résistances ! Quel taux de nicotine choisir pour votre e-liquide ? Le choix de votre taux de nicotine dépend de votre profil de fumeur ainsi que de la cigarette électronique utilisée : Si vous utilisez du matériel plus performant avec une résistance inférieure à 1 ohm et pour une puissance supérieure à 30 watts, vous pouvez diviser votre taux de nicotine par deux. Nos conseils pour la maturation de votre e-liquide à booster De la même façon que pour un e-liquide DIY, on peut observer un temps de repos avec un e-liquide boosté en arômes après l’ajout d’un ou plusieurs boosters de nicotine. Ce temps de maturation que l’on appelle aussi “steep” permet aux arômes de se développer et de mieux s’exprimer. Pour une maturation optimale, il faut compter : Pour un rendu optimal : secouez votre fiole de e-liquide une fois par jour pour que les arômes se diffusent correctement. Conservation de votre e-liquide Pour une conservation optimale de votre e-liquide, nous vous conseillons de stocker votre flacon à l'abri de la lumière dans un droit sec et à température ambiante. Après contacts répétés à l'air et à la lumière, la couleur de votre e-liquide peut se foncer. Ce changement de couleur n'affecte ni la qualité ni le goût de votre e-liquide. La date indiquée sur l'étiquette est une DLUO (date limite d'utilisation optimale) ou DDM (date de durabilité minimale). Passé cette date, le e-liquide peut encore être consommé.\n",
      "**Saveur** : fraise, lime\n",
      "\n",
      "**Produit** : Le e-liquide Fraise Pour Les Balaises 50ml est fabriqué en France par Cabochard. Il vous propose unemono-saveur de fraise. Il est composé d'arômes alimentaires, de propylène glycol (PG), et de glycérine végétale (VG) dans un ratio50PG/50VG. Il s'agit d'un e-liquide conditionné en flacons de 60ml remplis à hauteur de 50ml afin de vous permettre l'ajout d'un booster de nicotine (non inclus) au besoin. Ces flacons disposent d'une sécurité enfant ainsi que d'un embout fin pour remplir votre clearomiseur ou atomiseur en toute simplicité. Qui est Cabochard ? Cabochard est un fabricant français de e-liquides pour cigarettes électroniques. Il est spécialisé dans la création de recettes non nicotinées de base, à booster selon vos besoins ! Retrouvez les e-liquides Cabochard dans des flacons de 60ml remplis à hauteur de 50ml, et équipés d'une ouverture sécurisée. Comment préparer votre e-liquide Fraise Pour Les Balaises ? Le Fraise Pour Les Balaises est proposé en version50mlboostée en arômes dans un flacon de60ml. Si vous le souhaitez, vous pouvez ainsi ajouter un ou plusieurs boosters de nicotine selon vos besoins sans perte de saveur. Pour booster votre e-liquide, vous devez : Indications pour préparer votre e-liquide surboosté de 50 ml : La place disponible dans le flacon d'origine n’est peut-être pas suffisante pour booster votre e-liquide au taux de nicotine souhaité. Pour les dosages importants, nous vous conseillons l’utilisation de contenants plus importants commeun flacon de 100ml graduéouun flacon Twist de 230ml gradué. Astuce : pensez à adapter votre matériel au ratio PG/VG de votre e-liquide ! Vous limiterez ainsi le risque de fuite et l’usure prématurée de vos résistances ! Quel taux de nicotine choisir pour votre e-liquide ? Le choix de votre taux de nicotine dépend de votre profil de fumeur ainsi que de la cigarette électronique utilisée : Si vous utilisez du matériel plus performant avec une résistance inférieure à 1 ohm et pour une puissance supérieure à 30 watts, vous pouvez diviser votre taux de nicotine par deux. Nos conseils pour la maturation de votre e-liquide surboosté De la même façon que pour un e-liquide DIY, on peut observer un temps de repos avec un e-liquide surboosté en arômes après l’ajout d’un ou plusieurs boosters de nicotine. Ce temps de maturation que l’on appelle aussi “steep” permet aux arômes de se développer et de mieux s’exprimer. Pour une maturation optimale, il faut compter : Pour un rendu optimal : secouez votre fiole de e-liquide une fois par jour pour que les arômes se diffusent correctement. Conservation de votre e-liquide Pour une conservation optimale de votre e-liquide, nous vous conseillons de stocker votre flacon à l'abri de la lumière dans un droit sec et à température ambiante. Après contacts répétés à l'air et à la lumière, la couleur de votre e-liquide peut se foncer. Ce changement de couleur n'affecte ni la qualité ni le goût de votre e-liquide. La date indiquée sur l'étiquette est une DLUO (date limite d'utilisation optimale) ou DDM (date de durabilité minimale). Passé cette date, le e-liquide peut encore être consommé.\n",
      "**Saveur** : fraise, lime\n",
      "\n",
      "**Produit** : Pulp vous propose unesaveur fruitée au goût de fraises des bois, exclusivement destinée au réservoir de votre cigarette électronique. Non nicotiné de base, La Fraise Sauvage vous estlivré avec un booster 10mlvous permettant de nicotiner le e-liquide à hauteur de 3mg/ml, et ce, directement dans sa fiole de 60ml. Composé d'arômes alimentaires, de propylène glycol (PG) et de glycérine végétale (VG), il vous est présenté dans un ratio PG/VG de 70/30. De fabrication 100% française, La Fraise Sauvage est conditionné dans un flacon équipé d'un bouchon avec sécurité enfant et d'un embout fin. Comment utiliser votre e-liquide La Fraise Sauvage ? La Fraise Sauvage est proposé en version50mlboostée en arômes dans un flacon de60ml. Si vous le souhaitez, vous pouvez ajouter un ou plusieurs boosters de nicotine selon vos besoins sans perte de saveur. Pour booster votre e-liquide, vous devez : Indications pour préparer votre e-liquide surboosté de 50 ml : La place disponible dans le flacon d'origine n’est peut-être pas suffisante pour booster votre e-liquide au taux de nicotine souhaité. Pour les dosages importants, nous vous conseillons l’utilisation de contenants plus importants commeun flacon de 100ml graduéouun flacon Twist de 230ml gradué. Astuce : pensez à adapter votre matériel au ratio PG/VG de votre e-liquide ! Vous limiterez ainsi le risque de fuite et l’usure prématurée de vos résistances ! Quel taux de nicotine choisir pour votre e-liquide ? Le choix de votre taux de nicotine dépend de votre profil de fumeur ainsi que de la cigarette électronique utilisée : Si vous utilisez du matériel plus performant avec une résistance inférieure à 1 ohm et pour une puissance supérieure à 30 watts, vous pouvez diviser votre taux de nicotine par deux. Nos conseils pour la maturation de votre e-liquide surboosté De la même façon que pour un e-liquide DIY, on peut observer un temps de repos avec un e-liquide surboosté en arômes après l’ajout d’un ou plusieurs boosters de nicotine. Ce temps de maturation que l’on appelle aussi “steep” permet aux arômes de se développer et de mieux s’exprimer. Pour une maturation optimale, il faut compter : Pour un rendu optimal : secouez votre fiole de e-liquide une fois par jour pour que les arômes se diffusent correctement. Conservation de votre e-liquide Pour une conservation optimale de votre e-liquide, nous vous conseillons de stocker votre flacon à l'abri de la lumière dans un droit sec et à température ambiante. Après contacts répétés à l'air et à la lumière, la couleur de votre e-liquide peut se foncer. Ce changement de couleur n'affecte ni la qualité ni le goût de votre e-liquide. La date indiquée sur l'étiquette est une DLUO (date limite d'utilisation optimale) ou DDM (date de durabilité minimale). Passé cette date, le e-liquide peut encore être consommé.\n",
      "**Saveur** : fraise, lime\n",
      "\n",
      "**Produit** : Le Fraise des Bois 10ml est un e-liquide pour cigarette électronique français, fabriqué par Alfaliquid, vous proposant des saveursfruitées. Élaboré à partir d'arômes alimentaires, de propylène glycol (PG) et de glycérine végétale (VG), il vous est proposé dans un ratio74PG/26VG. Le Fraise des Bois 10ml estprêt à l'emploiet déjà nicotiné ; vous sélectionnerez à la commande le taux de nicotine qui vous convient. Son flacon est équipé d'un bouchon avec protection enfant et d'un embout fin facilitant le remplissage de votre réservoir. Qui est Alfaliquid ? Le fabricant français s'est fait reconnaître par ses recettes de e-liquides, et ce, au fil du temps. Mettant à l'honneur aussi bien des goûts fruités que classics par exemple, soyez toujours certain de trouver votre prêt à l'emploi avec Alfaliquid. Nos conseils pour utiliser votre e-liquide Fraise des Bois L'utilisation d'un e-liquide est exclusivement réservée à la cigarette électronique. Nous vous recommandons de bien agiter votre flacon de e-liquide avant emploi. Pour limiter les risques de fuites et prolonger la durée de vie de vos résistances, nous vous conseillons d'utiliser un clearomiseur adapté au taux PG/VG de votre e-liquide. Quel taux de nicotine choisir pour votre e-liquide ? Le choix de votre taux de nicotine dépend de votre profil de fumeur ainsi que de la cigarette électronique utilisée. Si vous utilisez une cigarette électronique équipée d'une résistance égale ou supérieure à 1 ohm et à une puissance ne dépassant pas les 30 watts, voici nos recommandations pour choisir votre taux de nicotine : Si vous utilisez une cigarette électronique plus performante équipée de résistances dont la valeur est inférieure à 1 ohm et pour une puissance supérieure à 30 watts, nous vous conseillons d'utiliser un taux de nicotine plus faible : Conservation de votre e-liquide Pour une conservation optimale de votre e-liquide, nous vous conseillons de stocker votre flacon à l'abri de la lumière dans un droit sec et à température ambiante. Après contacts répétés à l'air et à la lumière, la couleur de votre e-liquide peut se foncer. Ce changement de couleur n'affecte ni la qualité ni le goût de votre e-liquide. La date indiquée sur l'étiquette est une DLUO (date limite d'utilisation optimale) ou DDM (date de durabilité minimale). Passé cette date, le e-liquide peut encore être consommé. Mises en garde et contre-indications : Précautions d'emploi :\n",
      "**Saveur** : fraise, lime\n",
      "\n",
      "**Produit** : Cette recette de la gamme Movie Juice par Secret's Lab vous propose dessaveurs de fraise et d'arbousier, le tout dans un format de 100ml. Conçu en France, le e-liquide Fraise Anatomy est fabriqué à partir d'arômes alimentaires, de propylène glycol (PG) et de glycérine végétale (VG), pour un ratio 50PG/50VG. Son flacon de 120ml est doté d'un bouchon sécurisé et d'un embout fin, et peut au besoin être complété par un ou deux boosters 10ml (non inclus). Qui est Secret's Lab ? Ce fabricant français élabore toutes ses recettes pour cigarettes électroniques dans ses laboratoires situés à Marseille. Secret's Lab est notamment le créateur de gammes de renommées, telles que Secret Keys, Secret Garden, ou encore Biggy Bear. La gamme Movie Juice La marque française Secret's Lab vous propose une série de recettes aux fruits, dans des e-liquides au format de 100ml ! Les créations Movie Juice sont non nicotinées de base et peuvent être boostées au besoin dans leur fiole de 120ml. Comment préparer votre e-liquide Fraise Anatomy ? Ce e-liquide est proposé en version100mlboostée en arômes, dans un flacon de 120ml. Si vous le souhaitez, vous pouvez ainsi ajouter jusqu'à deux boosters de nicotine selon vos besoins sans perte de saveur. Pour booster votre e-liquide, vous devez : Indications pour préparer votre e-liquide surboosté de 100 ml : La place disponible dans le flacon d'origine n’est peut-être pas suffisante pour booster votre e-liquide au taux de nicotine souhaité. Pour les dosages importants, nous vous conseillons l’utilisation de contenants plus importants commeun flacon de 100ml graduéouun flacon Twist de 230ml gradué. Astuce : pensez à adapter votre matériel au ratio PG/VG de votre e-liquide ! Vous limiterez ainsi le risque de fuite et l’usure prématurée de vos résistances ! Quel taux de nicotine choisir pour votre e-liquide ? Le choix de votre taux de nicotine dépend de votre profil de fumeur ainsi que de la cigarette électronique utilisée : Si vous utilisez du matériel plus performant avec une résistance inférieure à 1 ohm et pour une puissance supérieure à 30 watts, vous pouvez diviser votre taux de nicotine par deux. Nos conseils pour la maturation de votre e-liquide surboosté De la même façon que pour un e-liquide DIY, on peut observer un temps de repos avec un e-liquide surboosté en arômes après l’ajout d’un ou plusieurs boosters de nicotine. Ce temps de maturation que l’on appelle aussi “steep” permet aux arômes de se développer et de mieux s’exprimer. Pour une maturation optimale, il faut compter : Pour un rendu optimal : secouez votre fiole de e-liquide une fois par jour pour que les arômes se diffusent correctement. Conservation de votre e-liquide Pour une conservation optimale de votre e-liquide, nous vous conseillons de stocker votre flacon à l'abri de la lumière dans un droit sec et à température ambiante. Après contacts répétés à l'air et à la lumière, la couleur de votre e-liquide peut se foncer. Ce changement de couleur n'affecte ni la qualité ni le goût de votre e-liquide. La date indiquée sur l'étiquette est une DLUO (date limite d'utilisation optimale) ou DDM (date de durabilité minimale). Passé cette date, le e-liquide peut encore être consommé.\n",
      "**Saveur** : fraise, lime\n",
      "\n",
      "**Produit** : Le e-liquide L'Eau Tropicale 30ml vous est proposé par la marque française Greeneo CBD en collaboration avec Petit Nuage. Sa recette au goût defruits exotiques fraisest réalisée à partir d'arômes alimentaires, de propylène glycol (PG) et de glycérine végétale (VG), pour un ratio 70PG/30VG. L'Eau Tropicale vous est proposé dans un taux de 1000mg/30ml deCBD certifié sans THC, soit 333mg/10ml. Prêt à l'emploi, ce e-liquide vous est livré dans une fiole de type PET de 30ml, équipé d'une sécurité enfant et d'un embout fin, facilitant le bon remplissage de votre réservoir de cigarette électronique. Pour un dosage de CBD compris entre 300mg et 500mg, il est vous recommandé d'avoir une expérience des effets du CBD et d'en profiter de manière occasionnelle. Qui est Greeno ? Née en 2017, Greeneo est une marque française de liquides pour cigarette électronique, spécialisée dans la fabrication de produits au CBD, certifiés sans THC. Retrouvez ainsi toute une collection de recettes prêtes à vaper au CBD, ainsi que des boosters CBD destinés à vos préparations DIY. Les e-liquides Greeneo sont issus de plantes de chanvre biologiques et européennes, vous garantissant une qualité supérieure. Qu'est-ce que le CBD ? Le CBD ou cannabidiol est une molécule issue de la plante du cannabis, reconnue pour ses vertus anxiolytiques. Le CBD se diffère radicalement du THC (tétrahydrocannabinol), notamment de par son absence totale d'effets psychotropes, rendant ainsi son utilisation légale en France. En effet, bien que la production, la détention et l'utilisation de cannabis soient prohibées dans l'Hexagone, il existe une dérogation permettant l'emploi du chanvre à des fins industrielles, à la seule condition que les variétés utilisées soient dépourvues de propriétés stupéfiantes (soit une teneur inférieure à 0.2% de THC). Ce qui est le cas pour tous les produits proposés chez Arômes et Liquides (A&L). Quel taux de CBD me convient ? Pour que votre expérience de vape soit optimale, il faut bien noter que vous devez adapter votre dosage en fonction du matériel dont vous disposez. D'une part, pour ne pas l'endommager trop rapidement à cause de mauvaises pratiques, et d'autre part, pour ne pas altérer les arômes ou les effets de votre e-liquide au CBD. - Pour les dosages bas inférieurs à 150mg pour 10ml, il est préférable de vapoter de manière ponctuelle (petites sessions) et sur la durée (en plusieurs sessions) pour obtenir les effets apaisants propres au CBD. - Pour les dosages moyens entre 150 et 300mg pour 10ml, les effets seront plus marqués, il est donc préférable d'y aller progressivement et d'espacer ses prises. - Pour les dosages élevés supérieurs à 500mg pour 10ml, le e-liquide doit être dilué à une base neutre non nicotinée et ne surtout jamais être consommé en l'état. Attention, nous vous recommandons fortement dene pas ajouter de nicotine dans votre e-liquide CBDauquel cas cela annulerait tous les effets du CBD. À noter qu'il est d'usage de préférer une vape en MTL (tirage indirect) dans le cas d'une consommation de CBD qui permet de ne pas excéder les 25W.En effet au-delà de 30W, les molécules de CBD sont détruites, votre liquide perd donc tout son intérêt. Conservation de votre e-liquide Pour une conservation optimale de votre e-liquide, nous vous conseillons de stocker votre flacon à l'abri de la lumière dans un droit sec et à température ambiante. Après contacts répétés à l'air et à la lumière, la couleur de votre e-liquide peut se foncer. Ce changement de couleur n'affecte ni la qualité ni le goût de votre e-liquide. La date indiquée sur l'étiquette est une DLUO (date limite d'utilisation optimale) ou DDM (date de durabilité minimale). Passé cette date, le e-liquide peut encore être consommé. Mises en garde et contre-indications : Précautions d'emploi :\n",
      "**Saveur** : fraise, lime\n",
      "\n",
      "**Produit** : Le e-liquide pour cigarette électronique Fraise Basilic est fabriqué en France par Millésime. Sa recette allie une fraise à des feuilles fraîches de basilic. Non nicotiné et surboosté en arômes, il est élaboré à partir d'arômes alimentaires, de propylène glycol (PG) et de glycérine végétale (VG), pour unratio PG/VG de 50/50. Le flacon 70ml du Fraise Basilic 50ml est équipé d'un bouchon avec protection enfant et d'un embout fin. Qui est Millésime ? Millésime prouve au gré de ses recettes fabriquées en France sa maîtrise des saveurs, vous offrant ainsi une vape de qualité. Contrôlant avec précision leurs créations, soyez certain de profiter d'e-liquides premium lors de vos séances de vapotage. Comment préparer votre e-liquide Fraise Basilic ? Le Fraise Basilic est proposé en version50mlboostée en arômes dans un flacon de70ml. Si vous le souhaitez, vous pouvez ajouter un ou plusieurs boosters de nicotine selon vos besoins sans perte de saveur. Pour booster votre e-liquide, vous devez : Indications pour préparer votre e-liquide surboosté de 50 ml : La place disponible dans le flacon d'origine n’est peut-être pas suffisante pour booster votre e-liquide au taux de nicotine souhaité. Pour les dosages importants, nous vous conseillons l’utilisation de contenants plus importants commeun flacon de 100ml graduéouun flacon Twist de 230ml gradué. Astuce : pensez à adapter votre matériel au ratio PG/VG de votre e-liquide ! Vous limiterez ainsi le risque de fuite et l’usure prématurée de vos résistances ! Quel taux de nicotine choisir pour votre e-liquide ? Le choix de votre taux de nicotine dépend de votre profil de fumeur ainsi que de la cigarette électronique utilisée : Si vous utilisez du matériel plus performant avec une résistance inférieure à 1 ohm et pour une puissance supérieure à 30 watts, vous pouvez diviser votre taux de nicotine par deux. Nos conseils pour la maturation de votre e-liquide surboosté De la même façon que pour un e-liquide DIY, on peut observer un temps de repos avec un e-liquide surboosté en arômes après l’ajout d’un ou plusieurs boosters de nicotine. Ce temps de maturation que l’on appelle aussi “steep” permet aux arômes de se développer et de mieux s’exprimer. Pour une maturation optimale, il faut compter : Pour un rendu optimal : secouez votre fiole de e-liquide une fois par jour pour que les arômes se diffusent correctement. Conservation de votre e-liquide Pour une conservation optimale de votre e-liquide Fraise Basilic, nous vous conseillons de stocker votre flacon à l'abri de la lumière dans un droit sec et à température ambiante. Après contacts répétés à l'air et à la lumière, la couleur de votre e-liquide peut se foncer. Ce changement de couleur n'affecte ni la qualité ni le goût de votre e-liquide. La date indiquée sur l'étiquette est une DLUO (date limite d'utilisation optimale) ou DDM (date de durabilité minimale). Passé cette date, le e-liquide peut encore être consommé.\n",
      "**Saveur** : fraise, lime\n",
      "\n",
      "**Produit** : Le e-liquide pour cigarette électronique Lilya est fabriqué en France par Swoke, pour sa collection Saint Flava. Il vous propose des saveurs demangoustanet defraise. Il est élaboré à partir d'arômes alimentaires, de propylène glycol (PG) et de glycérine végétale (VG), pour unratio PG/VG de 40/60. Le Lilya 50ml est conditionné en fiole de 75ml, vous permettant ainsi de compléter sa recette avec de la base neutre ou des boosters de nicotine (non inclus). Cette fiole est dotée d'un bouchon avec ouverture sécurisée, ainsi que d'un embout fin facilitant le remplissage de votre réservoir. Qui est Swoke ? Le fabricant français Swoke doit son succès dans le monde de la vape grâce à ses nombreuses gammes à thèmes de e-liquides et concentrés DIY finement réalisés, comme par exemple Saint Flava ou encore Vape Party. Quelques mots sur Saint Flava Véritable référence dans le milieu de la vape, mais aussi parmi les collections du fabricant Swoke, Saint Flava se décline en e-liquides à booster, mais également en arômes DIY (Do It Yourself), tous aux saveurs de fruits avec ou sans un goût frais ! Comment préparer votre e-liquide Lilya ? Le Lilya est proposé en version50mlboostée en arômes dans un flacon de75ml. Si vous le souhaitez, vous pouvez ajouter un ou plusieurs boosters de nicotine selon vos besoins sans perte de saveur. Pour booster votre e-liquide, vous devez : Indications pour préparer votre e-liquide surboosté de 50 ml : La place disponible dans le flacon d'origine n’est peut-être pas suffisante pour booster votre e-liquide au taux de nicotine souhaité. Pour les dosages importants, nous vous conseillons l’utilisation de contenants plus importants commeun flacon de 100ml graduéouun flacon Twist de 230ml gradué. Astuce : pensez à adapter votre matériel au ratio PG/VG de votre e-liquide ! Vous limiterez ainsi le risque de fuite et l’usure prématurée de vos résistances ! Quel taux de nicotine choisir pour votre e-liquide ? Le choix de votre taux de nicotine dépend de votre profil de fumeur ainsi que de la cigarette électronique utilisée : Si vous utilisez du matériel plus performant avec une résistance inférieure à 1 ohm et pour une puissance supérieure à 30 watts, vous pouvez diviser votre taux de nicotine par deux. Nos conseils pour la maturation de votre e-liquide surboosté De la même façon que pour un e-liquide DIY, on peut observer un temps de repos avec un e-liquide surboosté en arômes après l’ajout d’un ou plusieurs boosters de nicotine. Ce temps de maturation que l’on appelle aussi “steep” permet aux arômes de se développer et de mieux s’exprimer. Pour une maturation optimale, il faut compter : Pour un rendu optimal : secouez votre fiole de e-liquide une fois par jour pour que les arômes se diffusent correctement. Conservation de votre e-liquide Pour une conservation optimale de votre e-liquide, nous vous conseillons de stocker votre flacon à l'abri de la lumière dans un droit sec et à température ambiante. Après contacts répétés à l'air et à la lumière, la couleur de votre e-liquide peut se foncer. Ce changement de couleur n'affecte ni la qualité ni le goût de votre e-liquide. La date indiquée sur l'étiquette est une DLUO (date limite d'utilisation optimale) ou DDM (date de durabilité minimale). Passé cette date, le e-liquide peut encore être consommé.\n",
      "**Saveur** : fraise, lime\n",
      "\n",
      "**Produit** : Le Charlotte de chez Jin & Juice vous propose toutes lessaveurs d'une charlotte aux fraises, le tout dans un format de 200ml. Vous pouvez au besoin personnaliser ce e-liquideà boosteren utilisant une fiole vide pour réaliser votre mélange. Conçu en France, il est fabriqué à partir d'arômes alimentaires, de propylène glycol (PG) et de glycérine végétale (VG), pour un ratio 30PG/70VG. Son flacon de 200ml est doté d'un bouchon sécurisé et d'un embout fin. Qui est Jin & Juice ? Ce fabricant français élabore toutes ses recettes pour cigarettes électroniques dans ses laboratoires français. La marque Jin & Juice est spécialisée dans les e-liquides en grand format, non nicotinés de base et à booster ! Comment préparer votre e-liquide Charlotte ? Ce e-liquide est proposé en version200mlboostée en arômes. Si vous le souhaitez, vous pouvez ainsi ajouter un ou plusieurs boosters de nicotine selon vos besoins sans perte de saveur. Pour booster votre e-liquide, vous devez : Indications pour préparer votre e-liquide surboosté de 100 ml : La place disponible dans le flacon d'origine n’est peut-être pas suffisante pour booster votre e-liquide au taux de nicotine souhaité. Pour les dosages importants, nous vous conseillons l’utilisation de contenants plus importants commeun flacon de 100ml graduéouun flacon Twist de 230ml gradué. Astuce : pensez à adapter votre matériel au ratio PG/VG de votre e-liquide ! Vous limiterez ainsi le risque de fuite et l’usure prématurée de vos résistances ! Quel taux de nicotine choisir pour votre e-liquide ? Le choix de votre taux de nicotine dépend de votre profil de fumeur ainsi que de la cigarette électronique utilisée : Si vous utilisez du matériel plus performant avec une résistance inférieure à 1 ohm et pour une puissance supérieure à 30 watts, vous pouvez diviser votre taux de nicotine par deux. Nos conseils pour la maturation de votre e-liquide surboosté De la même façon que pour un e-liquide DIY, on peut observer un temps de repos avec un e-liquide surboosté en arômes après l’ajout d’un ou plusieurs boosters de nicotine. Ce temps de maturation que l’on appelle aussi “steep” permet aux arômes de se développer et de mieux s’exprimer. Pour une maturation optimale, il faut compter : Pour un rendu optimal : secouez votre fiole de e-liquide une fois par jour pour que les arômes se diffusent correctement. Conservation de votre e-liquide Pour une conservation optimale de votre e-liquide, nous vous conseillons de stocker votre flacon à l'abri de la lumière dans un droit sec et à température ambiante. Après contacts répétés à l'air et à la lumière, la couleur de votre e-liquide peut se foncer. Ce changement de couleur n'affecte ni la qualité ni le goût de votre e-liquide. La date indiquée sur l'étiquette est une DLUO (date limite d'utilisation optimale) ou DDM (date de durabilité minimale). Passé cette date, le e-liquide peut encore être consommé.\n",
      "**Saveur** : fraise, lime\n",
      "\n",
      "**Produit** : La Gomme de chez Jin & Juice vous propose toutes lessaveurs de chewing-gum et de fraises, le tout dans un format de 200ml. Vous pouvez au besoin personnaliser ce e-liquideà boosteren utilisant une fiole vide pour réaliser votre mélange. Conçu en France, il est fabriqué à partir d'arômes alimentaires, de propylène glycol (PG) et de glycérine végétale (VG), pour un ratio 30PG/70VG. Son flacon de 200ml est doté d'un bouchon sécurisé et d'un embout fin. Qui est Jin & Juice ? Ce fabricant français élabore toutes ses recettes pour cigarettes électroniques dans ses laboratoires français. La marque Jin & Juice est spécialisée dans les e-liquides en grand format, non nicotinés de base et à booster ! Comment préparer votre e-liquide La Gomme ? Ce e-liquide est proposé en version200mlboostée en arômes. Si vous le souhaitez, vous pouvez ainsi ajouter un ou plusieurs boosters de nicotine selon vos besoins sans perte de saveur. Pour booster votre e-liquide, vous devez : Indications pour préparer votre e-liquide surboosté de 100 ml : La place disponible dans le flacon d'origine n’est peut-être pas suffisante pour booster votre e-liquide au taux de nicotine souhaité. Pour les dosages importants, nous vous conseillons l’utilisation de contenants plus importants commeun flacon de 100ml graduéouun flacon Twist de 230ml gradué. Astuce : pensez à adapter votre matériel au ratio PG/VG de votre e-liquide ! Vous limiterez ainsi le risque de fuite et l’usure prématurée de vos résistances ! Quel taux de nicotine choisir pour votre e-liquide ? Le choix de votre taux de nicotine dépend de votre profil de fumeur ainsi que de la cigarette électronique utilisée : Si vous utilisez du matériel plus performant avec une résistance inférieure à 1 ohm et pour une puissance supérieure à 30 watts, vous pouvez diviser votre taux de nicotine par deux. Nos conseils pour la maturation de votre e-liquide surboosté De la même façon que pour un e-liquide DIY, on peut observer un temps de repos avec un e-liquide surboosté en arômes après l’ajout d’un ou plusieurs boosters de nicotine. Ce temps de maturation que l’on appelle aussi “steep” permet aux arômes de se développer et de mieux s’exprimer. Pour une maturation optimale, il faut compter : Pour un rendu optimal : secouez votre fiole de e-liquide une fois par jour pour que les arômes se diffusent correctement. Conservation de votre e-liquide Pour une conservation optimale de votre e-liquide, nous vous conseillons de stocker votre flacon à l'abri de la lumière dans un droit sec et à température ambiante. Après contacts répétés à l'air et à la lumière, la couleur de votre e-liquide peut se foncer. Ce changement de couleur n'affecte ni la qualité ni le goût de votre e-liquide. La date indiquée sur l'étiquette est une DLUO (date limite d'utilisation optimale) ou DDM (date de durabilité minimale). Passé cette date, le e-liquide peut encore être consommé.\n",
      "**Saveur** : fraise, lime\n",
      "\n",
      "**Produit** : Fabriqué dans les laboratoires français de la marque T-Juice le Crumby Crush 50ml est un e-liquide destiné au réservoir de votre cigarette électronique. Il vous propose des saveurs decrumbleaux goûts defraiseet derhubarbe. Élaboré à partir d'arômes alimentaires, de propylène glycol (PG) et de glycérine végétale (VG), il vous est proposé dans unratio PG/VG de 50/50. Sa formule non nicotinée pourra au besoin être nicotinée, en ajoutant jusqu'à 25ml de booster dans son flacon. Le Crumby Crush est conditionné en fiole de 75ml, remplie à hauteur de 50ml de e-liquide. Cette fiole est dotée d'un bouchon avec protection enfant et d'un embout fin permettant un remplissage précis de votre réservoir. Qui est T-Juice ? Implanté en Angleterre, et plus particulièrement dans le sud-ouest de Londres, la marque T-Juice vous présente une collection de recettes diverses et variées. Que ce soit des e-liquides ou arômes concentrés DIY (Do It Yourself), soyez certain de faire le bon choix avec la marque T-Juice ! Mondialement reconnu pour sa recette du Red Astaire, n'hésitez pas à découvrir des recettes encore plus vastes, mais toujours aussi abouties. Comment préparer votre e-liquide Crumby Crush ? Le Raven Blue est proposé en version50mlboostée en arômes dans un flacon de75ml. Si vous le souhaitez, vous pouvez ainsi ajouter un ou plusieurs boosters de nicotine selon vos besoins sans perte de saveur. Pour booster votre e-liquide, vous devez : Indications pour préparer votre e-liquide surboosté de 50 ml : La place disponible dans le flacon d'origine n’est peut-être pas suffisante pour booster votre e-liquide au taux de nicotine souhaité. Pour les dosages importants, nous vous conseillons l’utilisation de contenants plus importants commeun flacon de 100ml graduéouun flacon Twist de 230ml gradué. Astuce : pensez à adapter votre matériel au ratio PG/VG de votre e-liquide ! Vous limiterez ainsi le risque de fuite et l’usure prématurée de vos résistances ! Quel taux de nicotine choisir pour votre e-liquide ? Le choix de votre taux de nicotine dépend de votre profil de fumeur ainsi que de la cigarette électronique utilisée : Si vous utilisez du matériel plus performant avec une résistance inférieure à 1 ohm et pour une puissance supérieure à 30 watts, vous pouvez diviser votre taux de nicotine par deux. Nos conseils pour la maturation de votre e-liquide surboosté De la même façon que pour un e-liquide DIY, on peut observer un temps de repos avec un e-liquide surboosté en arômes après l’ajout d’un ou plusieurs boosters de nicotine. Ce temps de maturation que l’on appelle aussi “steep” permet aux arômes de se développer et de mieux s’exprimer. Pour une maturation optimale, il faut compter : Pour un rendu optimal : secouez votre fiole de e-liquide une fois par jour pour que les arômes se diffusent correctement. Conservation de votre e-liquide Pour une conservation optimale de votre e-liquide, nous vous conseillons de stocker votre flacon à l'abri de la lumière dans un droit sec et à température ambiante. Après contacts répétés à l'air et à la lumière, la couleur de votre e-liquide peut se foncer. Ce changement de couleur n'affecte ni la qualité ni le goût de votre e-liquide. La date indiquée sur l'étiquette est une DLUO (date limite d'utilisation optimale) ou DDM (date de durabilité minimale). Passé cette date, le e-liquide peut encore être consommé.\n",
      "**Saveur** : fraise, lime\n"
     ]
    }
   ],
   "source": [
    "import re\n",
    "\n",
    "# Charger FAISS avec les métadonnées\n",
    "embeddings = HuggingFaceEmbeddings(model_name=\"sentence-transformers/all-MiniLM-L6-v2\")\n",
    "vectorstore = FAISS.load_local('faiss_vector_store', embeddings=embeddings, allow_dangerous_deserialization=True)\n",
    "\n",
    "def extract_flavor_from_query(query):\n",
    "    \"\"\"Extrait les saveurs de la phrase utilisateur.\"\"\"\n",
    "    flavors = re.findall(r'\\b(?:à la?|avec|et)\\s*([\\w-]+)', query.lower())  # Capture des mots après 'à la', 'avec', 'et'\n",
    "    return set(flavors)  # Retourne un ensemble de saveurs pour éviter les doublons\n",
    "\n",
    "def search_by_flavor(query):\n",
    "    \"\"\"Cherche les e-liquides contenant exactement les saveurs demandées.\"\"\"\n",
    "    # Extraire les saveurs demandées\n",
    "    requested_flavors = extract_flavor_from_query(query)\n",
    "    print(f\"Saveurs détectées : {requested_flavors}\")  # Debugging\n",
    "\n",
    "    # Récupérer tous les documents indexés dans FAISS\n",
    "    all_docs = vectorstore.docstore._dict.values()\n",
    "\n",
    "    # Filtrer uniquement ceux qui contiennent exactement ces saveurs (ni plus, ni moins)\n",
    "    filtered_docs = [\n",
    "        doc for doc in all_docs \n",
    "        if set(doc.metadata.get(\"saveur\", \"\").lower().split(\", \")) == requested_flavors\n",
    "    ]\n",
    "\n",
    "    if not filtered_docs:\n",
    "        return f\"Aucun e-liquide trouvé avec **exactement** les saveurs '{', '.join(requested_flavors)}'.\"\n",
    "\n",
    "    # Limiter aux 4 premiers résultats\n",
    "    # filtered_docs = filtered_docs[:4]\n",
    "\n",
    "    # Construire la réponse\n",
    "    results = \"\\n\\n\".join([\n",
    "        f\"**Produit** : {doc.page_content}\\n**Saveur** : {doc.metadata['saveur']}\" \n",
    "        for doc in filtered_docs\n",
    "    ])\n",
    "    \n",
    "    return f\" Voici les e-liquides contenant **exactement** '{', '.join(requested_flavors)}':\\n\\n{results}\"\n",
    "\n",
    "#  Tester la fonction\n",
    "query = \"Je veux un e-liquide à la fraise et lime\"\n",
    "result = search_by_flavor(query)\n",
    "print(result)\n"
   ]
  },
  {
   "cell_type": "code",
   "execution_count": 72,
   "metadata": {},
   "outputs": [
    {
     "name": "stdout",
     "output_type": "stream",
     "text": [
      "Je te propose le produit \"Bloody Lime\" de la gamme Fruizee par Eliquid France. C'est un e-liquide pour cigarette électronique aux saveurs de citron vert et de fruits rouges. Il est disponible en différents formats, y compris prêt à l'emploi et à booster, avec des options de nicotine variées. Ce produit est fabriqué en France et est connu pour ses saveurs fruitées et fraîches.\n"
     ]
    }
   ],
   "source": [
    "\n",
    "# Fonction pour extraire les saveurs de la requête utilisateur\n",
    "def extract_flavor_from_query(query):\n",
    "    \"\"\"Extrait les saveurs de la phrase utilisateur.\"\"\"\n",
    "    flavors = re.findall(r'\\b(?:à la?|avec|et)\\s*([\\w-]+)', query.lower())  # Capture des mots après 'à la', 'avec', 'et'\n",
    "    return set(flavors)  # Retourne un ensemble de saveurs pour éviter les doublons\n",
    "\n",
    "# Fonction pour effectuer la recherche par saveur dans FAISS\n",
    "def search_by_flavor(query):\n",
    "    \"\"\"Cherche les e-liquides contenant exactement les saveurs demandées.\"\"\"\n",
    "    # Extraire les saveurs demandées\n",
    "    requested_flavors = extract_flavor_from_query(query)\n",
    "    print(f\"Saveurs détectées : {requested_flavors}\")  # Debugging\n",
    "\n",
    "    # Récupérer tous les documents indexés dans FAISS\n",
    "    all_docs = vectorstore.docstore._dict.values()\n",
    "\n",
    "    # Filtrer uniquement ceux qui contiennent exactement ces saveurs (ni plus, ni moins)\n",
    "    filtered_docs = [\n",
    "        doc for doc in all_docs \n",
    "        if set(doc.metadata.get(\"saveur\", \"\").lower().split(\", \")) == requested_flavors\n",
    "    ]\n",
    "\n",
    "    if not filtered_docs:\n",
    "        return f\"Aucun e-liquide trouvé avec **exactement** les saveurs '{', '.join(requested_flavors)}'.\"\n",
    "\n",
    "    # Limiter aux 4 premiers résultats\n",
    "    filtered_docs = filtered_docs[:4]\n",
    "\n",
    "    # Construire la réponse\n",
    "    results = \"\\n\\n\".join([f\"**Produit** : {doc.page_content}\\n**Saveur** : {doc.metadata['saveur']}\" \n",
    "                          for doc in filtered_docs])\n",
    "    \n",
    "    return f\"Voici les e-liquides contenant **exactement** '{', '.join(requested_flavors)}':\\n\\n{results}\"\n",
    "\n",
    "# Intégration de FAISS en tant que retriever dans la chaîne RAG\n",
    "retriever = vectorstore.as_retriever(\n",
    "    search_type=\"similarity_score_threshold\",\n",
    "    search_kwargs={\"score_threshold\": 0.1}\n",
    ")\n",
    "\n",
    "# Définition du prompt pour la génération de réponse\n",
    "prompt_template = \"\"\"\n",
    "You are an assistant for question-answering tasks.\n",
    "Use the following pieces of retrieved context to answer the question.\n",
    "If you don't know the answer, just say that you don't know.\n",
    "\n",
    "Question: {question}\n",
    "\n",
    "Context: {context}\n",
    "\n",
    "Answer:\n",
    "\"\"\"\n",
    "prompt = ChatPromptTemplate.from_template(prompt_template)\n",
    "\n",
    "# Pipeline de question-réponse\n",
    "def format_docs(docs):\n",
    "    return \"\\n\\n\".join(doc.page_content for doc in docs)\n",
    "\n",
    "# Initialisation de la chaîne de question-réponse\n",
    "qa_chain = (\n",
    "    {\n",
    "        \"context\": retriever | format_docs,\n",
    "        \"question\": RunnablePassthrough(),\n",
    "    }\n",
    "    | prompt\n",
    "    | llm\n",
    "    | StrOutputParser()\n",
    ")\n",
    "\n",
    "# Test de la chaîne\n",
    "try:\n",
    "    question = 'Propose moi un produit avec lime'\n",
    "    response = qa_chain.invoke(question)\n",
    "    print(response)\n",
    "\n",
    "except Exception as e:\n",
    "    print(f\"Erreur lors de l'invocation : {e}\")\n"
   ]
  },
  {
   "cell_type": "code",
   "execution_count": 73,
   "metadata": {},
   "outputs": [],
   "source": [
    "from langchain.schema import Document\n"
   ]
  },
  {
   "cell_type": "code",
   "execution_count": 74,
   "metadata": {},
   "outputs": [
    {
     "name": "stdout",
     "output_type": "stream",
     "text": [
      "Nombre de documents chargés : 1531\n",
      "Vector store enregistré avec succès !\n",
      "Je te propose le produit \"Bloody Lime 50ml Fruizee\" de Eliquid France. C'est un e-liquide aux saveurs fraîches de citron vert et de baies rouges, avec un ratio PG/VG de 30/70. Il est disponible en flacon de 60ml, surboosté en arômes, et peut être boosté en nicotine selon tes besoins. Voici le lien pour plus de détails : [Bloody Lime 50ml Fruizee](https://www.aromes-et-liquides.fr/e-liquide-fruizee/14130-bloody-lime-50-ml.html).\n"
     ]
    }
   ],
   "source": [
    "\n",
    "# Étape 1: Charger les documents à partir du CSV avec gestion des métadonnées\n",
    "try:\n",
    "    loader = CSVLoader(file_path='../../RGBD/table_produits/produits.csv', encoding='utf-8')\n",
    "    raw_documents = loader.load()\n",
    "    print(f\"Nombre de documents chargés : {len(raw_documents)}\")\n",
    "except Exception as e:\n",
    "    print(f\"Erreur lors du chargement des documents : {e}\")\n",
    "    raw_documents = []\n",
    "\n",
    "# Étape 2: Transformer les documents pour inclure la colonne \"saveur\" dans les métadonnées\n",
    "documents = []\n",
    "for doc in raw_documents:\n",
    "    metadata = doc.metadata  # Récupérer les métadonnées existantes\n",
    "    if \"saveur\" in metadata:  # Vérifier si la colonne existe\n",
    "        metadata[\"saveur\"] = metadata[\"saveur\"]  # Ajouter \"saveur\" aux métadonnées\n",
    "    documents.append(Document(page_content=doc.page_content, metadata=metadata))\n",
    "\n",
    "# Étape 3: Création et sauvegarde du vecteur FAISS avec métadonnées\n",
    "embeddings = HuggingFaceEmbeddings(model_name=\"sentence-transformers/all-MiniLM-L6-v2\")\n",
    "try:\n",
    "    vectorstore = FAISS.from_documents(documents, embeddings)\n",
    "    vectorstore.save_local('faiss_vector_store')\n",
    "    print(\"Vector store enregistré avec succès !\")\n",
    "except Exception as e:\n",
    "    print(f\"Erreur lors de la création du vectorstore : {e}\")\n",
    "\n",
    "# Fonction pour extraire les saveurs de la requête utilisateur\n",
    "def extract_flavor_from_query(query):\n",
    "    \"\"\"Extrait les saveurs de la phrase utilisateur.\"\"\"\n",
    "    flavors = re.findall(r'\\b(?:à la?|avec|et)\\s*([\\w-]+)', query.lower())  # Capture des mots après 'à la', 'avec', 'et'\n",
    "    return set(flavors)  # Retourne un ensemble de saveurs pour éviter les doublons\n",
    "\n",
    "# Fonction pour effectuer la recherche par saveur dans FAISS\n",
    "def search_by_flavor(query):\n",
    "    \"\"\"Cherche les e-liquides contenant exactement les saveurs demandées.\"\"\"\n",
    "    # Extraire les saveurs demandées\n",
    "    requested_flavors = extract_flavor_from_query(query)\n",
    "    print(f\"Saveurs détectées : {requested_flavors}\")  # Debugging\n",
    "\n",
    "    # Récupérer tous les documents indexés dans FAISS\n",
    "    all_docs = vectorstore.docstore._dict.values()\n",
    "\n",
    "    # Filtrer uniquement ceux qui contiennent exactement ces saveurs (ni plus, ni moins)\n",
    "    filtered_docs = [\n",
    "        doc for doc in all_docs \n",
    "        if set(doc.metadata.get(\"saveur\", \"\").lower().split(\", \")) == requested_flavors\n",
    "    ]\n",
    "\n",
    "    if not filtered_docs:\n",
    "        return f\"Aucun e-liquide trouvé avec **exactement** les saveurs '{', '.join(requested_flavors)}'.\"\n",
    "\n",
    "    # Limiter aux 4 premiers résultats\n",
    "    filtered_docs = filtered_docs[:4]\n",
    "\n",
    "    # Construire la réponse\n",
    "    results = \"\\n\\n\".join([f\"**Produit** : {doc.page_content}\\n**Saveur** : {doc.metadata['saveur']}\" \n",
    "                          for doc in filtered_docs])\n",
    "    \n",
    "    return f\"Voici les e-liquides contenant **exactement** '{', '.join(requested_flavors)}':\\n\\n{results}\"\n",
    "\n",
    "# Intégration de FAISS en tant que retriever dans la chaîne RAG\n",
    "retriever = vectorstore.as_retriever(\n",
    "    search_type=\"similarity_score_threshold\",\n",
    "    search_kwargs={\"score_threshold\": 0.1}\n",
    ")\n",
    "\n",
    "# Définition du prompt pour la génération de réponse\n",
    "prompt_template = \"\"\"\n",
    "You are an assistant for question-answering tasks.\n",
    "Use the following pieces of retrieved context to answer the question.\n",
    "If you don't know the answer, just say that you don't know.\n",
    "\n",
    "Question: {question}\n",
    "\n",
    "Context: {context}\n",
    "\n",
    "Answer:\n",
    "\"\"\"\n",
    "prompt = ChatPromptTemplate.from_template(prompt_template)\n",
    "\n",
    "# Fonction pour formater les documents récupérés dans un format lisible pour le modèle\n",
    "def format_docs(docs):\n",
    "    return \"\\n\\n\".join(doc.page_content for doc in docs)\n",
    "\n",
    "# Initialisation de la chaîne de question-réponse\n",
    "qa_chain = (\n",
    "    {\n",
    "        \"context\": retriever | format_docs,\n",
    "        \"question\": RunnablePassthrough(),\n",
    "    }\n",
    "    | prompt\n",
    "    | llm\n",
    "    | StrOutputParser()\n",
    ")\n",
    "\n",
    "# Test de la chaîne avec une requête utilisateur\n",
    "try:\n",
    "    question = 'Propose moi un produit avec lime'\n",
    "    response = qa_chain.invoke(question)\n",
    "    print(response)\n",
    "\n",
    "except Exception as e:\n",
    "    print(f\"Erreur lors de l'invocation : {e}\")\n"
   ]
  },
  {
   "cell_type": "code",
   "execution_count": 75,
   "metadata": {},
   "outputs": [
    {
     "name": "stdout",
     "output_type": "stream",
     "text": [
      "Je te propose le produit \"Pack Dessert A&L\" qui contient un e-liquide avec des saveurs de fraise et de lime. Ce pack comprend trois e-liquides de 10ml chacun, fabriqués en France, et est proposé par Arômes et Liquides.\n"
     ]
    }
   ],
   "source": [
    "# Test de la chaîne avec une requête utilisateur\n",
    "try:\n",
    "    question = 'Propose moi un produit avec lime et fraise'\n",
    "    response = qa_chain.invoke(question)\n",
    "    print(response)\n",
    "\n",
    "except Exception as e:\n",
    "    print(f\"Erreur lors de l'invocation : {e}\")"
   ]
  },
  {
   "cell_type": "code",
   "execution_count": 82,
   "metadata": {},
   "outputs": [],
   "source": [
    "# Fonction pour afficher les documents avec une saveur spécifiée\n",
    "def display_docs_with_flavor(flavor):\n",
    "    # Récupérer tous les documents indexés dans FAISS\n",
    "    all_docs = vectorstore.docstore._dict.values()\n",
    "    \n",
    "    # Filtrer uniquement ceux qui contiennent la saveur demandée\n",
    "    filtered_docs = [\n",
    "        doc for doc in all_docs if \"saveur\" in doc.metadata and flavor.lower() in doc.metadata[\"saveur\"].lower()\n",
    "    ]\n",
    "    \n",
    "    # Affichage des documents filtrés\n",
    "    if filtered_docs:\n",
    "        for doc in filtered_docs:\n",
    "            print(f\"Produit : {doc.page_content}\\nSaveur : {doc.metadata['saveur']}\\n\")\n",
    "    else:\n",
    "        print(f\"Aucun document trouvé avec la saveur '{flavor}'.\")"
   ]
  },
  {
   "cell_type": "markdown",
   "metadata": {},
   "source": []
  },
  {
   "cell_type": "code",
   "execution_count": 153,
   "metadata": {},
   "outputs": [
    {
     "name": "stdout",
     "output_type": "stream",
     "text": [
      "Nombre de documents préparés : 1531\n",
      "Vector store FAISS sauvegardé avec succès.\n",
      "🚀 FAISS vector store chargé et prêt à l'emploi !\n"
     ]
    }
   ],
   "source": [
    "import pandas as pd\n",
    "\n",
    "# Charger le CSV\n",
    "csv_path = \"../../RGBD/table_produits/produits.csv\"   # Remplace avec le chemin réel si besoin\n",
    "df = pd.read_csv(csv_path, encoding='utf-8')\n",
    "\n",
    "# Vérifier que la colonne \"description\" existe bien\n",
    "if \"description\" not in df.columns:\n",
    "    raise ValueError(\"⚠️ La colonne 'description' n'existe pas dans le CSV ! Vérifie le nom des colonnes.\")\n",
    "\n",
    "# Transformer chaque ligne en objet Document avec métadonnées\n",
    "documents = []\n",
    "for index, row in df.iterrows():\n",
    "    metadata = {\"source\": csv_path, \"row\": index}\n",
    "\n",
    "    if \"saveur\" in row:\n",
    "        metadata[\"saveur\"] = str(row[\"saveur\"])  # Ajouter la saveur dans les métadonnées\n",
    "\n",
    "    documents.append(Document(page_content=str(row[\"description\"]), metadata=metadata))\n",
    "\n",
    "print(f\"Nombre de documents préparés : {len(documents)}\")\n",
    "\n",
    "# Création et sauvegarde du FAISS vector store avec métadonnées\n",
    "from langchain.vectorstores import FAISS\n",
    "from langchain.embeddings import HuggingFaceEmbeddings\n",
    "\n",
    "embeddings = HuggingFaceEmbeddings(model_name=\"sentence-transformers/all-MiniLM-L6-v2\")\n",
    "\n",
    "try:\n",
    "    vectorstore = FAISS.from_documents(documents, embeddings)\n",
    "    vectorstore.save_local('faiss_vector_store')\n",
    "    print(\"Vector store FAISS sauvegardé avec succès.\")\n",
    "except Exception as e:\n",
    "    print(f\"Erreur lors de la création du vectorstore : {e}\")\n",
    "\n",
    "# Chargement du vecteur\n",
    "vectorstore = FAISS.load_local('faiss_vector_store', embeddings=embeddings, allow_dangerous_deserialization=True)\n",
    "\n",
    "retriever = vectorstore.as_retriever(\n",
    "    search_type=\"similarity_score_threshold\",\n",
    "    search_kwargs={\"score_threshold\": 0.1}\n",
    ")\n",
    "query = \"Saveur cassis lime\"\n",
    "print(\"🚀 FAISS vector store chargé et prêt à l'emploi !\")"
   ]
  },
  {
   "cell_type": "code",
   "execution_count": 154,
   "metadata": {},
   "outputs": [
    {
     "data": {
      "text/plain": [
       "[Document(metadata={'source': '../../RGBD/table_produits/produits.csv', 'row': 281, 'saveur': 'cassis, lime, mangue'}, page_content=\"Le Cassis Mangue est un e-liquideà boosterde la collection Fruizee par Eliquid France, auxsaveurs fraîches de mangue et de cassis. Sa recette fabriquée en France se compose d'arômes alimentaires, de propylène glycol (PG) et de glycérine végétale (VG), pour un ratio 30PG/70VG. Vous pouvez au besoin ajouter un booster 10ml de nicotine (non inclus). Il vous est livré dans unflacon de 60mldoté d'un embout fin et d'un bouchon avec sécurité enfant. Qui est Eliquid France ? Créé en 2013 à Nieul sur Mer en Charente-Maritime, le laboratoire Eliquid France s'est fait une place de choix dans l'univers de la vape grâce à des liquides de qualité, exportant ses créations dans le monde entier. Toujours en recherche d'innovation, la marque française propose des recettes variées aux saveurs allant de simples à complexes, et se déclinant autant en arôme DIY qu'en e-liquide prêt à vaper. La gamme Fruizee Collection ayant fait la réputation de la marque Eliquid France, elle mélange des saveurs fraîches de fruits finement réalisées, dans des recettes DIY comme dans des e-liquides prêts à vaper ou à booster ! Comment préparer votre e-liquide Cassis Mangue ? Le Cassis Mangue est proposé en version50mlboostée en arômes dans un flacon de60ml. Si vous le souhaitez, vous pouvez ainsi ajouter un booster de nicotine selon vos besoins sans perte de saveur. Pour booster votre e-liquide, vous devez : Indications pour préparer votre e-liquide surboosté de 50 ml : La place disponible dans le flacon d'origine n’est peut-être pas suffisante pour booster votre e-liquide au taux de nicotine souhaité. Pour les dosages importants, nous vous conseillons l’utilisation de contenants plus importants commeun flacon de 100ml graduéouun flacon Twist de 230ml gradué. Astuce : pensez à adapter votre matériel au ratio PG/VG de votre e-liquide ! Vous limiterez ainsi le risque de fuite et l’usure prématurée de vos résistances ! Quel taux de nicotine choisir pour votre e-liquide ? Le choix de votre taux de nicotine dépend de votre profil de fumeur ainsi que de la cigarette électronique utilisée : Si vous utilisez du matériel plus performant avec une résistance inférieure à 1 ohm et pour une puissance supérieure à 30 watts, vous pouvez diviser votre taux de nicotine par deux. Nos conseils pour la maturation de votre e-liquide surboosté De la même façon que pour un e-liquide DIY, on peut observer un temps de repos avec un e-liquide surboosté en arômes après l’ajout d’un ou plusieurs boosters de nicotine. Ce temps de maturation que l’on appelle aussi “steep” permet aux arômes de se développer et de mieux s’exprimer. Pour une maturation optimale, il faut compter : Pour un rendu optimal : secouez votre fiole de e-liquide une fois par jour pour que les arômes se diffusent correctement. Conservation de votre e-liquide Pour une conservation optimale de votre e-liquide, nous vous conseillons de stocker votre flacon à l'abri de la lumière dans un droit sec et à température ambiante. Après contacts répétés à l'air et à la lumière, la couleur de votre e-liquide peut se foncer. Ce changement de couleur n'affecte ni la qualité ni le goût de votre e-liquide. La date indiquée sur l'étiquette est une DLUO (date limite d'utilisation optimale) ou DDM (date de durabilité minimale). Passé cette date, le e-liquide peut encore être consommé.\"),\n",
       " Document(metadata={'source': '../../RGBD/table_produits/produits.csv', 'row': 723, 'saveur': 'cassis, lime'}, page_content=\"Le Cassis est un e-liquide fabriqué en France par Curieux pour sa collection Natural. Il vous propose unesaveur fraîche de cassis. Sa recette à booster et sans nicotine se compose d'arômes alimentaires, de végétol (50%) et de glycérine végétale (50%). Elle pourra au besoin êtrepersonnaliséeavec de la base neutre ou des boosters 10ml de nicotine (non inclus). Le flacon de 70ml du e-liquide Cassis 50ml est doté d'un bouchon sécurisé et d'un embout fin facilitant le remplissage de votre réservoir. Qui est Curieux ? Curieux est un fabricant français de liquides pour cigarette électronique, réputé notamment pour sa célèbre recette fruitée du Licorne. La marque décline ses recettes en différentes gammes, permettant à tout vapoteur de trouver le mix qui lui convient : Editions Astrale, Natural ou encore Oldies. Retrouvez les créations de chez Curieux en format e-liquide prêt-à-vaper, à booster, ou en concentré DIY ! La gamme Natural Le fabricant français vous propose une collection complète de all-days, tous élaborés à partir d'une base 100% végétale. Le végétol remplace le propylène glycol, ici dans un ratio Végétol / Glycérine Végétale de 50/50. Comment préparer votre e-liquide Cassis ? Ce e-liquide est proposé en version dans une fiole de70mlremplie à hauteur de 50ml. Si vous le souhaitez, vous pouvez ainsi ajouter un ou plusieurs boosters de nicotine selon vos besoins. Pour booster votre e-liquide, vous devez : Indications pour préparer votre e-liquide surboosté de 100 ml : La place disponible dans le flacon d'origine n’est peut-être pas suffisante pour booster votre e-liquide au taux de nicotine souhaité. Pour les dosages importants, nous vous conseillons l’utilisation de contenants plus importants commeun flacon de 100ml graduéouun flacon Twist de 230ml gradué. Astuce : pensez à adapter votre matériel au ratio PG/VG de votre e-liquide ! Vous limiterez ainsi le risque de fuite et l’usure prématurée de vos résistances ! Quel taux de nicotine choisir pour votre e-liquide ? Le choix de votre taux de nicotine dépend de votre profil de fumeur ainsi que de la cigarette électronique utilisée : Si vous utilisez du matériel plus performant avec une résistance inférieure à 1 ohm et pour une puissance supérieure à 30 watts, vous pouvez diviser votre taux de nicotine par deux. Nos conseils pour la maturation de votre e-liquide à booster De la même façon que pour un e-liquide DIY, on peut observer un temps de repos avec un e-liquide boosté en arômes après l’ajout d’un ou plusieurs boosters de nicotine. Ce temps de maturation que l’on appelle aussi “steep” permet aux arômes de se développer et de mieux s’exprimer. Pour une maturation optimale, il faut compter : Pour un rendu optimal : secouez votre fiole de e-liquide une fois par jour pour que les arômes se diffusent correctement. Conservation de votre e-liquide Pour une conservation optimale de votre e-liquide, nous vous conseillons de stocker votre flacon à l'abri de la lumière dans un droit sec et à température ambiante. Après contacts répétés à l'air et à la lumière, la couleur de votre e-liquide peut se foncer. Ce changement de couleur n'affecte ni la qualité ni le goût de votre e-liquide. La date indiquée sur l'étiquette est une DLUO (date limite d'utilisation optimale) ou DDM (date de durabilité minimale). Passé cette date, le e-liquide peut encore être consommé.\"),\n",
       " Document(metadata={'source': '../../RGBD/table_produits/produits.csv', 'row': 446, 'saveur': 'cassis, lime, menthol'}, page_content=\"Le Cassis est un e-liquide à booster au format 50ml de la collection Evolution par Liquideo. Il vous propose dessaveurs de cassisdans sa recette fabriquée en France. Composé d'arômes alimentaires, de propylène glycol (PG) et de glycérine végétale (VG), dans un ratio 50PG/50VG, vous pouvez au besoin ajouter des boosters 10ml de nicotine (vendus séparément). Il vous est livré dans une fiole de 70ml dotée d'un bouchon sécurisé et d'un embout fin simplifiant le remplissage de votre réservoir. Qui est Liquideo ? Liquideo est un fabricant français, et plus précisément parisien, spécialisé dans la création d'e-liquides. Se destinant à tous les vapoteurs, ses recettes se déclinent sous plusieurs gammes dont Multi Freeze ou encore Evolution, pour ne citer que celles-ci. La gamme Evolution Avec sa collection Evolution, Liquideo revient à l'essentiel en proposant des recettes façon mono-saveur, qu'elles présentent un goût fruité, mentholé ou encore classic. Retrouvez les créations Evolution dans des formats non nicotinés à booster ou en prêt-à-vaper, toujours conditionnées en fioles PET équipées d'un bouchon avec sécurité enfant et d'un embout fin. Comment préparer votre e-liquide Cassis ? Le Cassis est proposé en version50mlboostée en arômes dans un flacon de70ml. Si vous le souhaitez, vous pouvez ainsi ajouter un ou plusieurs boosters de nicotine selon vos besoins sans perte de saveur. Pour booster votre e-liquide, vous devez : Indications pour préparer votre e-liquide surboosté de 50 ml : La place disponible dans le flacon d'origine n’est peut-être pas suffisante pour booster votre e-liquide au taux de nicotine souhaité. Pour les dosages importants, nous vous conseillons l’utilisation de contenants plus importants commeun flacon de 100ml graduéouun flacon Twist de 230ml gradué. Astuce : pensez à adapter votre matériel au ratio PG/VG de votre e-liquide ! Vous limiterez ainsi le risque de fuite et l’usure prématurée de vos résistances ! Quel taux de nicotine choisir pour votre e-liquide ? Le choix de votre taux de nicotine dépend de votre profil de fumeur ainsi que de la cigarette électronique utilisée : Si vous utilisez du matériel plus performant avec une résistance inférieure à 1 ohm et pour une puissance supérieure à 30 watts, vous pouvez diviser votre taux de nicotine par deux. Nos conseils pour la maturation de votre e-liquide surboosté De la même façon que pour un e-liquide DIY, on peut observer un temps de repos avec un e-liquide surboosté en arômes après l’ajout d’un ou plusieurs boosters de nicotine. Ce temps de maturation que l’on appelle aussi “steep” permet aux arômes de se développer et de mieux s’exprimer. Pour une maturation optimale, il faut compter : Pour un rendu optimal : secouez votre fiole de e-liquide une fois par jour pour que les arômes se diffusent correctement. Conservation de votre e-liquide Pour une conservation optimale de votre e-liquide, nous vous conseillons de stocker votre flacon à l'abri de la lumière dans un droit sec et à température ambiante. Après contacts répétés à l'air et à la lumière, la couleur de votre e-liquide peut se foncer. Ce changement de couleur n'affecte ni la qualité ni le goût de votre e-liquide. La date indiquée sur l'étiquette est une DLUO (date limite d'utilisation optimale) ou DDM (date de durabilité minimale). Passé cette date, le e-liquide peut encore être consommé.\"),\n",
       " Document(metadata={'source': '../../RGBD/table_produits/produits.csv', 'row': 782, 'saveur': 'grenade, lime, cassis'}, page_content=\"Le Cassigre 50ml est un e-liquide à booster fabriqué en France par la marque e.Tasty, pour sa collection Amalgam. Il vous propose dessaveurs de grenade et de cassis. Sa recette est composée d'arômes alimentaires, de propylène glycol (PG) et de glycérine végétale (VG), pour un ratio50PG/50VG. Sa recette pourra au besoin êtrecomplétée avec des boosters10ml de nicotine (non inclus). Il vous est livré dans un flacon de 75ml doté d'un bouchon sécurisé et d'un embout fin compte-gouttes. Qui est e.Tasty ? e.Tasty est un fabricant français reconnu dans le monde de la vape pour sa maîtrise des saveurs, mais également pour sa recherche constante de qualité supérieure. Ainsi, qu'elles soient fruitées, fraîches ou encore classics, soyez toujours certain avec e.Tasty de vapoter des recettes de qualité premium ! Comment préparer votre e-liquide Cassigre ? Le Cassigre est proposé en version50mlboostée en arômes dans un flacon de75ml. Si vous le souhaitez, vous pouvez ainsi ajouter un ou plusieurs boosters de nicotine selon vos besoins sans perte de saveur. Pour booster votre e-liquide, vous devez : Indications pour préparer votre e-liquide surboosté de 50 ml : La place disponible dans le flacon d'origine n’est peut-être pas suffisante pour booster votre e-liquide au taux de nicotine souhaité. Pour les dosages importants, nous vous conseillons l’utilisation de contenants plus importants commeun flacon de 100ml graduéouun flacon Twist de 230ml gradué. Astuce : pensez à adapter votre matériel au ratio PG/VG de votre e-liquide ! Vous limiterez ainsi le risque de fuite et l’usure prématurée de vos résistances ! Quel taux de nicotine choisir pour votre e-liquide ? Le choix de votre taux de nicotine dépend de votre profil de fumeur ainsi que de la cigarette électronique utilisée : Si vous utilisez du matériel plus performant avec une résistance inférieure à 1 ohm et pour une puissance supérieure à 30 watts, vous pouvez diviser votre taux de nicotine par deux. Nos conseils pour la maturation de votre e-liquide surboosté De la même façon que pour un e-liquide DIY, on peut observer un temps de repos avec un e-liquide surboosté en arômes après l’ajout d’un ou plusieurs boosters de nicotine. Ce temps de maturation que l’on appelle aussi “steep” permet aux arômes de se développer et de mieux s’exprimer. Pour une maturation optimale, il faut compter : Pour un rendu optimal : secouez votre fiole de e-liquide une fois par jour pour que les arômes se diffusent correctement. Conservation de votre e-liquide Pour une conservation optimale de votre e-liquide, nous vous conseillons de stocker votre flacon à l'abri de la lumière dans un droit sec et à température ambiante. Après contacts répétés à l'air et à la lumière, la couleur de votre e-liquide peut se foncer. Ce changement de couleur n'affecte ni la qualité ni le goût de votre e-liquide. La date indiquée sur l'étiquette est une DLUO (date limite d'utilisation optimale) ou DDM (date de durabilité minimale). Passé cette date, le e-liquide peut encore être consommé.\")]"
      ]
     },
     "execution_count": 154,
     "metadata": {},
     "output_type": "execute_result"
    }
   ],
   "source": [
    "\n",
    "retriever.invoke(query)"
   ]
  },
  {
   "cell_type": "code",
   "execution_count": 89,
   "metadata": {},
   "outputs": [
    {
     "name": "stdout",
     "output_type": "stream",
     "text": [
      "Saveur trouvée : cassis, lime\n",
      "Description du produit : Le Cassis est un e-liquide fabriqué en France par Curieux pour sa collection Natural. Il vous propose unesaveur fraîche de cassis. Sa recette à booster et sans nicotine se compose d'arômes alimentaires, de végétol (50%) et de glycérine végétale (50%). Elle pourra au besoin êtrepersonnaliséeavec de la base neutre ou des boosters 10ml de nicotine (non inclus). Le flacon de 70ml du e-liquide Cassis 50ml est doté d'un bouchon sécurisé et d'un embout fin facilitant le remplissage de votre réservoir. Qui est Curieux ? Curieux est un fabricant français de liquides pour cigarette électronique, réputé notamment pour sa célèbre recette fruitée du Licorne. La marque décline ses recettes en différentes gammes, permettant à tout vapoteur de trouver le mix qui lui convient : Editions Astrale, Natural ou encore Oldies. Retrouvez les créations de chez Curieux en format e-liquide prêt-à-vaper, à booster, ou en concentré DIY ! La gamme Natural Le fabricant français vous propose une collection complète de all-days, tous élaborés à partir d'une base 100% végétale. Le végétol remplace le propylène glycol, ici dans un ratio Végétol / Glycérine Végétale de 50/50. Comment préparer votre e-liquide Cassis ? Ce e-liquide est proposé en version dans une fiole de70mlremplie à hauteur de 50ml. Si vous le souhaitez, vous pouvez ainsi ajouter un ou plusieurs boosters de nicotine selon vos besoins. Pour booster votre e-liquide, vous devez : Indications pour préparer votre e-liquide surboosté de 100 ml : La place disponible dans le flacon d'origine n’est peut-être pas suffisante pour booster votre e-liquide au taux de nicotine souhaité. Pour les dosages importants, nous vous conseillons l’utilisation de contenants plus importants commeun flacon de 100ml graduéouun flacon Twist de 230ml gradué. Astuce : pensez à adapter votre matériel au ratio PG/VG de votre e-liquide ! Vous limiterez ainsi le risque de fuite et l’usure prématurée de vos résistances ! Quel taux de nicotine choisir pour votre e-liquide ? Le choix de votre taux de nicotine dépend de votre profil de fumeur ainsi que de la cigarette électronique utilisée : Si vous utilisez du matériel plus performant avec une résistance inférieure à 1 ohm et pour une puissance supérieure à 30 watts, vous pouvez diviser votre taux de nicotine par deux. Nos conseils pour la maturation de votre e-liquide à booster De la même façon que pour un e-liquide DIY, on peut observer un temps de repos avec un e-liquide boosté en arômes après l’ajout d’un ou plusieurs boosters de nicotine. Ce temps de maturation que l’on appelle aussi “steep” permet aux arômes de se développer et de mieux s’exprimer. Pour une maturation optimale, il faut compter : Pour un rendu optimal : secouez votre fiole de e-liquide une fois par jour pour que les arômes se diffusent correctement. Conservation de votre e-liquide Pour une conservation optimale de votre e-liquide, nous vous conseillons de stocker votre flacon à l'abri de la lumière dans un droit sec et à température ambiante. Après contacts répétés à l'air et à la lumière, la couleur de votre e-liquide peut se foncer. Ce changement de couleur n'affecte ni la qualité ni le goût de votre e-liquide. La date indiquée sur l'étiquette est une DLUO (date limite d'utilisation optimale) ou DDM (date de durabilité minimale). Passé cette date, le e-liquide peut encore être consommé.\n",
      "\n",
      "Saveur trouvée : grenade, lime, cassis\n",
      "Description du produit : Le Cassigre 50ml est un e-liquide à booster fabriqué en France par la marque e.Tasty, pour sa collection Amalgam. Il vous propose dessaveurs de grenade et de cassis. Sa recette est composée d'arômes alimentaires, de propylène glycol (PG) et de glycérine végétale (VG), pour un ratio50PG/50VG. Sa recette pourra au besoin êtrecomplétée avec des boosters10ml de nicotine (non inclus). Il vous est livré dans un flacon de 75ml doté d'un bouchon sécurisé et d'un embout fin compte-gouttes. Qui est e.Tasty ? e.Tasty est un fabricant français reconnu dans le monde de la vape pour sa maîtrise des saveurs, mais également pour sa recherche constante de qualité supérieure. Ainsi, qu'elles soient fruitées, fraîches ou encore classics, soyez toujours certain avec e.Tasty de vapoter des recettes de qualité premium ! Comment préparer votre e-liquide Cassigre ? Le Cassigre est proposé en version50mlboostée en arômes dans un flacon de75ml. Si vous le souhaitez, vous pouvez ainsi ajouter un ou plusieurs boosters de nicotine selon vos besoins sans perte de saveur. Pour booster votre e-liquide, vous devez : Indications pour préparer votre e-liquide surboosté de 50 ml : La place disponible dans le flacon d'origine n’est peut-être pas suffisante pour booster votre e-liquide au taux de nicotine souhaité. Pour les dosages importants, nous vous conseillons l’utilisation de contenants plus importants commeun flacon de 100ml graduéouun flacon Twist de 230ml gradué. Astuce : pensez à adapter votre matériel au ratio PG/VG de votre e-liquide ! Vous limiterez ainsi le risque de fuite et l’usure prématurée de vos résistances ! Quel taux de nicotine choisir pour votre e-liquide ? Le choix de votre taux de nicotine dépend de votre profil de fumeur ainsi que de la cigarette électronique utilisée : Si vous utilisez du matériel plus performant avec une résistance inférieure à 1 ohm et pour une puissance supérieure à 30 watts, vous pouvez diviser votre taux de nicotine par deux. Nos conseils pour la maturation de votre e-liquide surboosté De la même façon que pour un e-liquide DIY, on peut observer un temps de repos avec un e-liquide surboosté en arômes après l’ajout d’un ou plusieurs boosters de nicotine. Ce temps de maturation que l’on appelle aussi “steep” permet aux arômes de se développer et de mieux s’exprimer. Pour une maturation optimale, il faut compter : Pour un rendu optimal : secouez votre fiole de e-liquide une fois par jour pour que les arômes se diffusent correctement. Conservation de votre e-liquide Pour une conservation optimale de votre e-liquide, nous vous conseillons de stocker votre flacon à l'abri de la lumière dans un droit sec et à température ambiante. Après contacts répétés à l'air et à la lumière, la couleur de votre e-liquide peut se foncer. Ce changement de couleur n'affecte ni la qualité ni le goût de votre e-liquide. La date indiquée sur l'étiquette est une DLUO (date limite d'utilisation optimale) ou DDM (date de durabilité minimale). Passé cette date, le e-liquide peut encore être consommé.\n",
      "\n",
      "Saveur trouvée : cassis, lime, mangue\n",
      "Description du produit : Le Cassis Mangue est un e-liquideà boosterde la collection Fruizee par Eliquid France, auxsaveurs fraîches de mangue et de cassis. Sa recette fabriquée en France se compose d'arômes alimentaires, de propylène glycol (PG) et de glycérine végétale (VG), pour un ratio 30PG/70VG. Vous pouvez au besoin ajouter un booster 10ml de nicotine (non inclus). Il vous est livré dans unflacon de 60mldoté d'un embout fin et d'un bouchon avec sécurité enfant. Qui est Eliquid France ? Créé en 2013 à Nieul sur Mer en Charente-Maritime, le laboratoire Eliquid France s'est fait une place de choix dans l'univers de la vape grâce à des liquides de qualité, exportant ses créations dans le monde entier. Toujours en recherche d'innovation, la marque française propose des recettes variées aux saveurs allant de simples à complexes, et se déclinant autant en arôme DIY qu'en e-liquide prêt à vaper. La gamme Fruizee Collection ayant fait la réputation de la marque Eliquid France, elle mélange des saveurs fraîches de fruits finement réalisées, dans des recettes DIY comme dans des e-liquides prêts à vaper ou à booster ! Comment préparer votre e-liquide Cassis Mangue ? Le Cassis Mangue est proposé en version50mlboostée en arômes dans un flacon de60ml. Si vous le souhaitez, vous pouvez ainsi ajouter un booster de nicotine selon vos besoins sans perte de saveur. Pour booster votre e-liquide, vous devez : Indications pour préparer votre e-liquide surboosté de 50 ml : La place disponible dans le flacon d'origine n’est peut-être pas suffisante pour booster votre e-liquide au taux de nicotine souhaité. Pour les dosages importants, nous vous conseillons l’utilisation de contenants plus importants commeun flacon de 100ml graduéouun flacon Twist de 230ml gradué. Astuce : pensez à adapter votre matériel au ratio PG/VG de votre e-liquide ! Vous limiterez ainsi le risque de fuite et l’usure prématurée de vos résistances ! Quel taux de nicotine choisir pour votre e-liquide ? Le choix de votre taux de nicotine dépend de votre profil de fumeur ainsi que de la cigarette électronique utilisée : Si vous utilisez du matériel plus performant avec une résistance inférieure à 1 ohm et pour une puissance supérieure à 30 watts, vous pouvez diviser votre taux de nicotine par deux. Nos conseils pour la maturation de votre e-liquide surboosté De la même façon que pour un e-liquide DIY, on peut observer un temps de repos avec un e-liquide surboosté en arômes après l’ajout d’un ou plusieurs boosters de nicotine. Ce temps de maturation que l’on appelle aussi “steep” permet aux arômes de se développer et de mieux s’exprimer. Pour une maturation optimale, il faut compter : Pour un rendu optimal : secouez votre fiole de e-liquide une fois par jour pour que les arômes se diffusent correctement. Conservation de votre e-liquide Pour une conservation optimale de votre e-liquide, nous vous conseillons de stocker votre flacon à l'abri de la lumière dans un droit sec et à température ambiante. Après contacts répétés à l'air et à la lumière, la couleur de votre e-liquide peut se foncer. Ce changement de couleur n'affecte ni la qualité ni le goût de votre e-liquide. La date indiquée sur l'étiquette est une DLUO (date limite d'utilisation optimale) ou DDM (date de durabilité minimale). Passé cette date, le e-liquide peut encore être consommé.\n",
      "\n",
      "Saveur trouvée : cactus, framboise, gâteau, cassis, lime, amande\n",
      "Description du produit : Le Cassis Framboise Cactus 50ml est un e-liquide à booster de la marque Mexican Cartel, auxsaveurs fraîches de framboise, cassis et cactus. Sa recette fabriquée en France se compose d'arômes alimentaires, de propylène glycol (PG) et de glycérine végétale (VG), pour un ratio 30PG/70VG. Présenté dans une fiole de 60ml dotée d'un bouchon sécurisé et d'un embout fin,vous pouvez au besoin lui additionnerdu liquide de base ou un booster 10ml de nicotine (non inclus). Qui est Mexican Cartel ? Mexican Cartel est une marque française de liquides pour cigarettes électroniques. Retrouvez leurs recettes en arômes concentrés et en e-liquides à booster, tous conditionnés dans des flacons équipés d'une ouverture sécurisée et d'un embout fin. Spécialisé dans les saveurs fraîches de fruits, le fabricant vous propose également des mélanges plus complexes aux goûts de gâteaux et d'amandes. Comment préparer votre e-liquide Cassis Framboise Cactus ? Ce e-liquide est proposé en version50mlboostée en arômes dans un flacon de60ml. Si vous le souhaitez, vous pouvez ajouter un ou plusieurs boosters de nicotine selon vos besoins sans perte de saveur. Pour booster votre e-liquide, vous devez : Indications pour préparer votre e-liquide surboosté de 50 ml : La place disponible dans le flacon d'origine n’est peut-être pas suffisante pour booster votre e-liquide au taux de nicotine souhaité. Pour les dosages importants, nous vous conseillons l’utilisation de contenants plus importants commeun flacon de 100ml graduéouun flacon Twist de 230ml gradué. Astuce : pensez à adapter votre matériel au ratio PG/VG de votre e-liquide ! Vous limiterez ainsi le risque de fuite et l’usure prématurée de vos résistances ! Quel taux de nicotine choisir pour votre e-liquide ? Le choix de votre taux de nicotine dépend de votre profil de fumeur ainsi que de la cigarette électronique utilisée : Si vous utilisez du matériel plus performant avec une résistance inférieure à 1 ohm et pour une puissance supérieure à 30 watts, vous pouvez diviser votre taux de nicotine par deux. Nos conseils pour la maturation de votre e-liquide surboosté De la même façon que pour un e-liquide DIY, on peut observer un temps de repos avec un e-liquide surboosté en arômes après l’ajout d’un ou plusieurs boosters de nicotine. Ce temps de maturation que l’on appelle aussi “steep” permet aux arômes de se développer et de mieux s’exprimer. Pour une maturation optimale, il faut compter : Pour un rendu optimal : secouez votre fiole de e-liquide une fois par jour pour que les arômes se diffusent correctement. Conservation de votre e-liquide Pour une conservation optimale de votre e-liquide, nous vous conseillons de stocker votre flacon à l'abri de la lumière dans un droit sec et à température ambiante. Après contacts répétés à l'air et à la lumière, la couleur de votre e-liquide peut se foncer. Ce changement de couleur n'affecte ni la qualité ni le goût de votre e-liquide. La date indiquée sur l'étiquette est une DLUO (date limite d'utilisation optimale) ou DDM (date de durabilité minimale). Passé cette date, le e-liquide peut encore être consommé.\n",
      "\n"
     ]
    },
    {
     "name": "stderr",
     "output_type": "stream",
     "text": [
      "C:\\Users\\antoa\\AppData\\Local\\Temp\\ipykernel_35616\\41954493.py:4: LangChainDeprecationWarning: The method `BaseRetriever.get_relevant_documents` was deprecated in langchain-core 0.1.46 and will be removed in 1.0. Use :meth:`~invoke` instead.\n",
      "  results = retriever.get_relevant_documents(query)\n"
     ]
    }
   ],
   "source": [
    "# Fonction pour interroger le vecteur et récupérer la saveur associée\n",
    "def search_for_flavor(query, vectorstore, retriever, llm):\n",
    "    # Effectuer la recherche avec le modèle\n",
    "    results = retriever.get_relevant_documents(query)\n",
    "\n",
    "    # Afficher les saveurs des résultats\n",
    "    for result in results:\n",
    "        # Accéder à la saveur dans les métadonnées\n",
    "        flavor = result.metadata.get(\"saveur\", \"Saveur non trouvée\")\n",
    "        print(f\"Saveur trouvée : {flavor}\")\n",
    "        print(f\"Description du produit : {result.page_content}\\n\")\n",
    "        \n",
    "# Exemple d'appel à la fonction avec une requête utilisateur\n",
    "query = \"Saveur cassis lime\"  # Vous pouvez ajuster la requête comme nécessaire\n",
    "search_for_flavor(query, vectorstore, retriever, llm)"
   ]
  },
  {
   "cell_type": "code",
   "execution_count": 132,
   "metadata": {},
   "outputs": [
    {
     "name": "stdout",
     "output_type": "stream",
     "text": [
      "Saveurs extraites de la requête : ['cassis', 'lime']\n"
     ]
    }
   ],
   "source": [
    "import re\n",
    "\n",
    "# Fonction pour extraire les saveurs de la requête et les rechercher dans les résultats\n",
    "def extract_flavors_from_query(query):\n",
    "    \"\"\"\n",
    "    Cette fonction extrait les saveurs présentes dans la requête `query`\n",
    "    et retourne une liste des saveurs trouvées parmi celles définies dans `flavor_list`.\n",
    "    \"\"\"\n",
    "    # Liste des saveurs disponibles\n",
    "    flavor_list = [\"cassis\", \"lime\", \"fraise\", \"menthe\", \"mangue\", \"pêche\"]\n",
    "\n",
    "    found_flavors = []\n",
    "    \n",
    "    # Pour chaque saveur de la liste, vérifier si elle est mentionnée dans la requête\n",
    "    for flavor in flavor_list:\n",
    "        if re.search(rf'\\b{flavor}\\b', query, re.IGNORECASE):\n",
    "            found_flavors.append(flavor)\n",
    "\n",
    "    return found_flavors\n",
    "\n",
    "\n",
    "# Fonction pour interroger le vecteur et récupérer les saveurs associées à la requête\n",
    "def search_for_flavor(query):\n",
    "    # Extraire les saveurs mentionnées dans la requête\n",
    "    flavors_in_query = extract_flavors_from_query(query)\n",
    "\n",
    "    # Afficher uniquement les saveurs extraites\n",
    "    print(f\"Saveurs extraites de la requête : {flavors_in_query}\")\n",
    "\n",
    "    # Retourner les saveurs extraites sous forme de chaîne, séparées par des virgules\n",
    "    return \", \".join(flavors_in_query)\n",
    "\n",
    "# Exemple d'appel à la fonction avec une requête utilisateur\n",
    "query = \"Je veux un e-liquide avec lime et cassis\"  # Vous pouvez ajuster la requête comme nécessaire\n",
    "\n",
    "# Utilisation de la fonction search_for_flavor dans retriever.invoke\n",
    "flavors_in_query = search_for_flavor(query)\n",
    "\n"
   ]
  },
  {
   "cell_type": "code",
   "execution_count": 133,
   "metadata": {},
   "outputs": [
    {
     "data": {
      "text/plain": [
       "[Document(metadata={'source': '../../RGBD/table_produits/produits.csv', 'row': 723, 'saveur': 'cassis, lime'}, page_content=\"Le Cassis est un e-liquide fabriqué en France par Curieux pour sa collection Natural. Il vous propose unesaveur fraîche de cassis. Sa recette à booster et sans nicotine se compose d'arômes alimentaires, de végétol (50%) et de glycérine végétale (50%). Elle pourra au besoin êtrepersonnaliséeavec de la base neutre ou des boosters 10ml de nicotine (non inclus). Le flacon de 70ml du e-liquide Cassis 50ml est doté d'un bouchon sécurisé et d'un embout fin facilitant le remplissage de votre réservoir. Qui est Curieux ? Curieux est un fabricant français de liquides pour cigarette électronique, réputé notamment pour sa célèbre recette fruitée du Licorne. La marque décline ses recettes en différentes gammes, permettant à tout vapoteur de trouver le mix qui lui convient : Editions Astrale, Natural ou encore Oldies. Retrouvez les créations de chez Curieux en format e-liquide prêt-à-vaper, à booster, ou en concentré DIY ! La gamme Natural Le fabricant français vous propose une collection complète de all-days, tous élaborés à partir d'une base 100% végétale. Le végétol remplace le propylène glycol, ici dans un ratio Végétol / Glycérine Végétale de 50/50. Comment préparer votre e-liquide Cassis ? Ce e-liquide est proposé en version dans une fiole de70mlremplie à hauteur de 50ml. Si vous le souhaitez, vous pouvez ainsi ajouter un ou plusieurs boosters de nicotine selon vos besoins. Pour booster votre e-liquide, vous devez : Indications pour préparer votre e-liquide surboosté de 100 ml : La place disponible dans le flacon d'origine n’est peut-être pas suffisante pour booster votre e-liquide au taux de nicotine souhaité. Pour les dosages importants, nous vous conseillons l’utilisation de contenants plus importants commeun flacon de 100ml graduéouun flacon Twist de 230ml gradué. Astuce : pensez à adapter votre matériel au ratio PG/VG de votre e-liquide ! Vous limiterez ainsi le risque de fuite et l’usure prématurée de vos résistances ! Quel taux de nicotine choisir pour votre e-liquide ? Le choix de votre taux de nicotine dépend de votre profil de fumeur ainsi que de la cigarette électronique utilisée : Si vous utilisez du matériel plus performant avec une résistance inférieure à 1 ohm et pour une puissance supérieure à 30 watts, vous pouvez diviser votre taux de nicotine par deux. Nos conseils pour la maturation de votre e-liquide à booster De la même façon que pour un e-liquide DIY, on peut observer un temps de repos avec un e-liquide boosté en arômes après l’ajout d’un ou plusieurs boosters de nicotine. Ce temps de maturation que l’on appelle aussi “steep” permet aux arômes de se développer et de mieux s’exprimer. Pour une maturation optimale, il faut compter : Pour un rendu optimal : secouez votre fiole de e-liquide une fois par jour pour que les arômes se diffusent correctement. Conservation de votre e-liquide Pour une conservation optimale de votre e-liquide, nous vous conseillons de stocker votre flacon à l'abri de la lumière dans un droit sec et à température ambiante. Après contacts répétés à l'air et à la lumière, la couleur de votre e-liquide peut se foncer. Ce changement de couleur n'affecte ni la qualité ni le goût de votre e-liquide. La date indiquée sur l'étiquette est une DLUO (date limite d'utilisation optimale) ou DDM (date de durabilité minimale). Passé cette date, le e-liquide peut encore être consommé.\"),\n",
       " Document(metadata={'source': '../../RGBD/table_produits/produits.csv', 'row': 701, 'saveur': 'cassis, lime'}, page_content=\"Le Cassis Noir est un e-liquide à booster au format 50ml de la collection Petit Nuage par Roykin. Il vous propose dessaveurs fraîches d'un bubble-gum au cassis, dans sa recette fabriquée en France. Composé d'arômes alimentaires, de propylène glycol (PG) et de glycérine végétale (VG), dans un ratio 50PG/50VG, vous pouvez au besoin lui ajouter des boosters 10ml de nicotine (vendus séparément). Pour cela, utilisez le flacon 30ml vide et gradué fourni avec votre e-liquide. Il vous est livré dans une fiole de 60ml dotée d'un bouchon sécurisé et d'un embout fin simplifiant le remplissage de votre réservoir. Qui est Roykin ? Innovation, ambition et excellence sont les maîtres mots de ce fabricant français basé en région parisienne. C'est à travers des gammes célèbres telles que Petit Nuage ou encore Greeneo que la marque s'est imposée dans l'univers de la vape. Spécialiste du e-liquide, Roykin propose ses créations en format prêt-à-l'emploi ou à booster, répondant ainsi aux besoins de tout type de vapoteur. La gamme Petit Nuage Cette collection de e-liquides propose un large éventail de recettes à vapoter, allant de la plus simple à la plus complexe. En prêt-à-vaper ou à booster, chaque création Petit Nuage est élaborée dans les laboratoires français de Roykin, dans le respect d'un cahier des charges strict pour des produits de qualité premium. Comment préparer votre e-liquide Cassis Noir ? Ce e-liquide vous est proposé en version60mlboostée en arômes, accompagné d'une fiole vide et graduée de 30ml. Si vous le souhaitez, vous pouvez ainsi le compléter avec un ou plusieurs boosters de nicotine selon vos besoins. Pour booster votre e-liquide, vous devez : Indications pour préparer votre e-liquide surboosté de 50 ml : La place disponible dans le flacon d'origine n’est peut-être pas suffisante pour booster votre e-liquide au taux de nicotine souhaité. Pour les dosages importants, nous vous conseillons l’utilisation de contenants plus importants commeun flacon de 100ml graduéouun flacon Twist de 230ml gradué. Astuce : pensez à adapter votre matériel au ratio PG/VG de votre e-liquide ! Vous limiterez ainsi le risque de fuite et l’usure prématurée de vos résistances ! Quel taux de nicotine choisir pour votre e-liquide ? Le choix de votre taux de nicotine dépend de votre profil de fumeur ainsi que de la cigarette électronique utilisée : Si vous utilisez du matériel plus performant avec une résistance inférieure à 1 ohm et pour une puissance supérieure à 30 watts, vous pouvez diviser votre taux de nicotine par deux. Nos conseils pour la maturation de votre e-liquide surboosté De la même façon que pour un e-liquide DIY, on peut observer un temps de repos avec un e-liquide surboosté en arômes après l’ajout d’un ou plusieurs boosters de nicotine. Ce temps de maturation que l’on appelle aussi “steep” permet aux arômes de se développer et de mieux s’exprimer. Pour une maturation optimale, il faut compter : Pour un rendu optimal : secouez votre fiole de e-liquide une fois par jour pour que les arômes se diffusent correctement. Conservation de votre e-liquide Pour une conservation optimale de votre e-liquide, nous vous conseillons de stocker votre flacon à l'abri de la lumière dans un droit sec et à température ambiante. Après contacts répétés à l'air et à la lumière, la couleur de votre e-liquide peut se foncer. Ce changement de couleur n'affecte ni la qualité ni le goût de votre e-liquide. La date indiquée sur l'étiquette est une DLUO (date limite d'utilisation optimale) ou DDM (date de durabilité minimale). Passé cette date, le e-liquide peut encore être consommé.\")]"
      ]
     },
     "execution_count": 133,
     "metadata": {},
     "output_type": "execute_result"
    }
   ],
   "source": [
    "retriever.invoke(query, filter={\"saveur\": flavors_in_query})"
   ]
  },
  {
   "cell_type": "code",
   "execution_count": 134,
   "metadata": {},
   "outputs": [
    {
     "name": "stderr",
     "output_type": "stream",
     "text": [
      "No relevant docs were retrieved using the relevance score threshold 0.1\n"
     ]
    },
    {
     "data": {
      "text/plain": [
       "[]"
      ]
     },
     "execution_count": 134,
     "metadata": {},
     "output_type": "execute_result"
    }
   ],
   "source": [
    "retriever.invoke(query, filter={\"saveur\": \"lime\"})"
   ]
  },
  {
   "cell_type": "code",
   "execution_count": 151,
   "metadata": {},
   "outputs": [
    {
     "name": "stdout",
     "output_type": "stream",
     "text": [
      "Saveurs extraites de la requête : ['cassis']\n",
      "Réponse générée par le modèle : Vous pouvez opter pour plusieurs e-liquides avec saveur cassis. Voici quelques options :\n",
      "\n",
      "1. **Le Cassis de la collection Freeze par Liquideo** : Un e-liquide non nicotiné à booster, avec un goût de cassis, lime, baie, et baie noire. Il est fabriqué en France avec un ratio PG/VG de 50/50.\n",
      "\n",
      "2. **Le Cassis de la collection Evolution par Liquideo** : Un e-liquide à booster avec des saveurs de cassis, lime, et menthol, également fabriqué en France avec un ratio PG/VG de 50/50.\n",
      "\n",
      "3. **Le Cassis de la collection Natural par Curieux** : Propose une saveur fraîche de cassis, avec une composition de végétol (50%) et de glycérine végétale (50%).\n",
      "\n",
      "4. **Le Framboise Cassis de la collection 1900 par Curieux** : Un e-liquide avec des saveurs de cassis et de framboise, avec un ratio PG/VG de 40/60.\n",
      "\n",
      "Ces options vous permettent de choisir selon vos préférences de saveur et de composition.\n"
     ]
    }
   ],
   "source": [
    "#  Charger FAISS avec les métadonnées\n",
    "embeddings = HuggingFaceEmbeddings(model_name=\"sentence-transformers/all-MiniLM-L6-v2\")\n",
    "vectorstore = FAISS.load_local('faiss_vector_store', embeddings=embeddings, allow_dangerous_deserialization=True)\n",
    "\n",
    "retriever = vectorstore.as_retriever(\n",
    "    search_type=\"similarity_score_threshold\",\n",
    "    search_kwargs={\"score_threshold\": 0.1}\n",
    ")\n",
    "\n",
    "# Fonction pour extraire les saveurs de la requête\n",
    "def extract_flavors_from_query(query):\n",
    "    \"\"\"\n",
    "    Cette fonction extrait les saveurs présentes dans la requête `query`\n",
    "    et retourne une liste des saveurs trouvées parmi celles définies dans `flavor_list`.\n",
    "    \"\"\"\n",
    "    # Liste des saveurs disponibles\n",
    "    flavor_list = [\"cassis\", \"lime\", \"fraise\", \"menthe\", \"mangue\", \"pêche\"]\n",
    "\n",
    "    found_flavors = []\n",
    "    \n",
    "    # Pour chaque saveur de la liste, vérifier si elle est mentionnée dans la requête\n",
    "    for flavor in flavor_list:\n",
    "        if re.search(rf'\\b{flavor}\\b', query, re.IGNORECASE):\n",
    "            found_flavors.append(flavor)\n",
    "\n",
    "    return found_flavors\n",
    "\n",
    "\n",
    "# Fonction pour interroger le vecteur et récupérer les saveurs associées à la requête\n",
    "def search_for_flavor(query):\n",
    "    # Extraire les saveurs mentionnées dans la requête\n",
    "    flavors_in_query = extract_flavors_from_query(query)\n",
    "\n",
    "    # Afficher uniquement les saveurs extraites\n",
    "    print(f\"Saveurs extraites de la requête : {flavors_in_query}\")\n",
    "\n",
    "    # Retourner les saveurs extraites sous forme de chaîne, séparées par des virgules\n",
    "    return \", \".join(flavors_in_query)\n",
    "\n",
    "\n",
    "# Exemple d'appel à la fonction avec une requête utilisateur\n",
    "query = \"Je veux un e-liquide avec cassis\"\n",
    "\n",
    "# Extraction des saveurs\n",
    "flavors_in_query = search_for_flavor(query)\n",
    "\n",
    "\n",
    "\n",
    "# Définition du prompt pour la génération de réponse\n",
    "prompt_template = \"\"\"\n",
    "You are an assistant for question-answering tasks.\n",
    "Use the following pieces of retrieved context to answer the question.\n",
    "If you don't know the answer, just say that you don't know.\n",
    "\n",
    "Question: {question}\n",
    "\n",
    "Context: {context}\n",
    "\n",
    "Answer:\n",
    "\"\"\"\n",
    "\n",
    "# Initialisation du prompt\n",
    "prompt = ChatPromptTemplate.from_template(prompt_template)\n",
    "\n",
    "# Formatage des documents de contexte\n",
    "def format_docs(flavors):\n",
    "    # Création du contexte avec les saveurs extraites\n",
    "    return f\"Les saveurs extraites sont : {flavors}\"\n",
    "\n",
    "# Pipeline de question-réponse\n",
    "qa_chain = (\n",
    "    {\n",
    "        \"context\": retriever | format_docs,  # Utilisation du retriever pour obtenir des contextes\n",
    "        \"question\": RunnablePassthrough(),\n",
    "    }\n",
    "    | prompt\n",
    "    | llm\n",
    "    | StrOutputParser()  # Extraction de la réponse\n",
    ")\n",
    "\n",
    "# Exécution de la chaîne de question-réponse et affichage du résultat\n",
    "# Ici, tu passes les saveurs extraites en tant que contexte dans le modèle\n",
    "response = qa_chain.invoke(query, filter={\"saveur\": flavors_in_query})\n",
    "# Affichage du résultat\n",
    "print(f\"Réponse générée par le modèle : {response}\")\n"
   ]
  },
  {
   "cell_type": "code",
   "execution_count": 145,
   "metadata": {},
   "outputs": [
    {
     "data": {
      "text/plain": [
       "'cassis, lime'"
      ]
     },
     "execution_count": 145,
     "metadata": {},
     "output_type": "execute_result"
    }
   ],
   "source": [
    "flavors_in_query"
   ]
  },
  {
   "cell_type": "code",
   "execution_count": 146,
   "metadata": {},
   "outputs": [
    {
     "data": {
      "text/plain": [
       "'Je veux un e-liquide avec lime et cassis'"
      ]
     },
     "execution_count": 146,
     "metadata": {},
     "output_type": "execute_result"
    }
   ],
   "source": [
    "query"
   ]
  },
  {
   "cell_type": "code",
   "execution_count": null,
   "metadata": {},
   "outputs": [],
   "source": [
    "# Fonction pour extraire les saveurs de la requête\n",
    "def extract_flavors_from_query(query):\n",
    "    \"\"\"\n",
    "    Cette fonction extrait les saveurs présentes dans la requête `query`\n",
    "    et retourne une liste des saveurs trouvées parmi celles définies dans `flavor_list`.\n",
    "    \"\"\"\n",
    "    # Liste des saveurs disponibles\n",
    "    flavor_list = [\"cassis\", \"lime\", \"fraise\", \"menthe\", \"mangue\", \"pêche\"]\n",
    "\n",
    "    found_flavors = []\n",
    "    \n",
    "    # Pour chaque saveur de la liste, vérifier si elle est mentionnée dans la requête\n",
    "    for flavor in flavor_list:\n",
    "        if re.search(rf'\\b{flavor}\\b', query, re.IGNORECASE):\n",
    "            found_flavors.append(flavor)\n",
    "\n",
    "    return found_flavors"
   ]
  },
  {
   "cell_type": "code",
   "execution_count": null,
   "metadata": {},
   "outputs": [],
   "source": [
    "# Exemple d'appel à la fonction avec une requête utilisateur\n",
    "query = \"Je veux un e-liquide avec cassis\"\n",
    "extract_flavors_from_query(query)"
   ]
  },
  {
   "cell_type": "code",
   "execution_count": 152,
   "metadata": {},
   "outputs": [
    {
     "name": "stdout",
     "output_type": "stream",
     "text": [
      "Contenu : Le Cassis Mangue est un e-liquideà boosterde la collection Fruizee par Eliquid France, auxsaveurs fraîches de mangue et de cassis. Sa recette fabriquée en France se compose d'arômes alimentaires, de propylène glycol (PG) et de glycérine végétale (VG), pour un ratio 30PG/70VG. Vous pouvez au besoin ajouter un booster 10ml de nicotine (non inclus). Il vous est livré dans unflacon de 60mldoté d'un embout fin et d'un bouchon avec sécurité enfant. Qui est Eliquid France ? Créé en 2013 à Nieul sur Mer en Charente-Maritime, le laboratoire Eliquid France s'est fait une place de choix dans l'univers de la vape grâce à des liquides de qualité, exportant ses créations dans le monde entier. Toujours en recherche d'innovation, la marque française propose des recettes variées aux saveurs allant de simples à complexes, et se déclinant autant en arôme DIY qu'en e-liquide prêt à vaper. La gamme Fruizee Collection ayant fait la réputation de la marque Eliquid France, elle mélange des saveurs fraîches de fruits finement réalisées, dans des recettes DIY comme dans des e-liquides prêts à vaper ou à booster ! Comment préparer votre e-liquide Cassis Mangue ? Le Cassis Mangue est proposé en version50mlboostée en arômes dans un flacon de60ml. Si vous le souhaitez, vous pouvez ainsi ajouter un booster de nicotine selon vos besoins sans perte de saveur. Pour booster votre e-liquide, vous devez : Indications pour préparer votre e-liquide surboosté de 50 ml : La place disponible dans le flacon d'origine n’est peut-être pas suffisante pour booster votre e-liquide au taux de nicotine souhaité. Pour les dosages importants, nous vous conseillons l’utilisation de contenants plus importants commeun flacon de 100ml graduéouun flacon Twist de 230ml gradué. Astuce : pensez à adapter votre matériel au ratio PG/VG de votre e-liquide ! Vous limiterez ainsi le risque de fuite et l’usure prématurée de vos résistances ! Quel taux de nicotine choisir pour votre e-liquide ? Le choix de votre taux de nicotine dépend de votre profil de fumeur ainsi que de la cigarette électronique utilisée : Si vous utilisez du matériel plus performant avec une résistance inférieure à 1 ohm et pour une puissance supérieure à 30 watts, vous pouvez diviser votre taux de nicotine par deux. Nos conseils pour la maturation de votre e-liquide surboosté De la même façon que pour un e-liquide DIY, on peut observer un temps de repos avec un e-liquide surboosté en arômes après l’ajout d’un ou plusieurs boosters de nicotine. Ce temps de maturation que l’on appelle aussi “steep” permet aux arômes de se développer et de mieux s’exprimer. Pour une maturation optimale, il faut compter : Pour un rendu optimal : secouez votre fiole de e-liquide une fois par jour pour que les arômes se diffusent correctement. Conservation de votre e-liquide Pour une conservation optimale de votre e-liquide, nous vous conseillons de stocker votre flacon à l'abri de la lumière dans un droit sec et à température ambiante. Après contacts répétés à l'air et à la lumière, la couleur de votre e-liquide peut se foncer. Ce changement de couleur n'affecte ni la qualité ni le goût de votre e-liquide. La date indiquée sur l'étiquette est une DLUO (date limite d'utilisation optimale) ou DDM (date de durabilité minimale). Passé cette date, le e-liquide peut encore être consommé.\n",
      "Saveur : cassis, lime, mangue\n",
      "Contenu : Le Cassis est un e-liquide fabriqué en France par Curieux pour sa collection Natural. Il vous propose unesaveur fraîche de cassis. Sa recette à booster et sans nicotine se compose d'arômes alimentaires, de végétol (50%) et de glycérine végétale (50%). Elle pourra au besoin êtrepersonnaliséeavec de la base neutre ou des boosters 10ml de nicotine (non inclus). Le flacon de 70ml du e-liquide Cassis 50ml est doté d'un bouchon sécurisé et d'un embout fin facilitant le remplissage de votre réservoir. Qui est Curieux ? Curieux est un fabricant français de liquides pour cigarette électronique, réputé notamment pour sa célèbre recette fruitée du Licorne. La marque décline ses recettes en différentes gammes, permettant à tout vapoteur de trouver le mix qui lui convient : Editions Astrale, Natural ou encore Oldies. Retrouvez les créations de chez Curieux en format e-liquide prêt-à-vaper, à booster, ou en concentré DIY ! La gamme Natural Le fabricant français vous propose une collection complète de all-days, tous élaborés à partir d'une base 100% végétale. Le végétol remplace le propylène glycol, ici dans un ratio Végétol / Glycérine Végétale de 50/50. Comment préparer votre e-liquide Cassis ? Ce e-liquide est proposé en version dans une fiole de70mlremplie à hauteur de 50ml. Si vous le souhaitez, vous pouvez ainsi ajouter un ou plusieurs boosters de nicotine selon vos besoins. Pour booster votre e-liquide, vous devez : Indications pour préparer votre e-liquide surboosté de 100 ml : La place disponible dans le flacon d'origine n’est peut-être pas suffisante pour booster votre e-liquide au taux de nicotine souhaité. Pour les dosages importants, nous vous conseillons l’utilisation de contenants plus importants commeun flacon de 100ml graduéouun flacon Twist de 230ml gradué. Astuce : pensez à adapter votre matériel au ratio PG/VG de votre e-liquide ! Vous limiterez ainsi le risque de fuite et l’usure prématurée de vos résistances ! Quel taux de nicotine choisir pour votre e-liquide ? Le choix de votre taux de nicotine dépend de votre profil de fumeur ainsi que de la cigarette électronique utilisée : Si vous utilisez du matériel plus performant avec une résistance inférieure à 1 ohm et pour une puissance supérieure à 30 watts, vous pouvez diviser votre taux de nicotine par deux. Nos conseils pour la maturation de votre e-liquide à booster De la même façon que pour un e-liquide DIY, on peut observer un temps de repos avec un e-liquide boosté en arômes après l’ajout d’un ou plusieurs boosters de nicotine. Ce temps de maturation que l’on appelle aussi “steep” permet aux arômes de se développer et de mieux s’exprimer. Pour une maturation optimale, il faut compter : Pour un rendu optimal : secouez votre fiole de e-liquide une fois par jour pour que les arômes se diffusent correctement. Conservation de votre e-liquide Pour une conservation optimale de votre e-liquide, nous vous conseillons de stocker votre flacon à l'abri de la lumière dans un droit sec et à température ambiante. Après contacts répétés à l'air et à la lumière, la couleur de votre e-liquide peut se foncer. Ce changement de couleur n'affecte ni la qualité ni le goût de votre e-liquide. La date indiquée sur l'étiquette est une DLUO (date limite d'utilisation optimale) ou DDM (date de durabilité minimale). Passé cette date, le e-liquide peut encore être consommé.\n",
      "Saveur : cassis, lime\n",
      "Contenu : Le Cassis est un e-liquide à booster au format 50ml de la collection Evolution par Liquideo. Il vous propose dessaveurs de cassisdans sa recette fabriquée en France. Composé d'arômes alimentaires, de propylène glycol (PG) et de glycérine végétale (VG), dans un ratio 50PG/50VG, vous pouvez au besoin ajouter des boosters 10ml de nicotine (vendus séparément). Il vous est livré dans une fiole de 70ml dotée d'un bouchon sécurisé et d'un embout fin simplifiant le remplissage de votre réservoir. Qui est Liquideo ? Liquideo est un fabricant français, et plus précisément parisien, spécialisé dans la création d'e-liquides. Se destinant à tous les vapoteurs, ses recettes se déclinent sous plusieurs gammes dont Multi Freeze ou encore Evolution, pour ne citer que celles-ci. La gamme Evolution Avec sa collection Evolution, Liquideo revient à l'essentiel en proposant des recettes façon mono-saveur, qu'elles présentent un goût fruité, mentholé ou encore classic. Retrouvez les créations Evolution dans des formats non nicotinés à booster ou en prêt-à-vaper, toujours conditionnées en fioles PET équipées d'un bouchon avec sécurité enfant et d'un embout fin. Comment préparer votre e-liquide Cassis ? Le Cassis est proposé en version50mlboostée en arômes dans un flacon de70ml. Si vous le souhaitez, vous pouvez ainsi ajouter un ou plusieurs boosters de nicotine selon vos besoins sans perte de saveur. Pour booster votre e-liquide, vous devez : Indications pour préparer votre e-liquide surboosté de 50 ml : La place disponible dans le flacon d'origine n’est peut-être pas suffisante pour booster votre e-liquide au taux de nicotine souhaité. Pour les dosages importants, nous vous conseillons l’utilisation de contenants plus importants commeun flacon de 100ml graduéouun flacon Twist de 230ml gradué. Astuce : pensez à adapter votre matériel au ratio PG/VG de votre e-liquide ! Vous limiterez ainsi le risque de fuite et l’usure prématurée de vos résistances ! Quel taux de nicotine choisir pour votre e-liquide ? Le choix de votre taux de nicotine dépend de votre profil de fumeur ainsi que de la cigarette électronique utilisée : Si vous utilisez du matériel plus performant avec une résistance inférieure à 1 ohm et pour une puissance supérieure à 30 watts, vous pouvez diviser votre taux de nicotine par deux. Nos conseils pour la maturation de votre e-liquide surboosté De la même façon que pour un e-liquide DIY, on peut observer un temps de repos avec un e-liquide surboosté en arômes après l’ajout d’un ou plusieurs boosters de nicotine. Ce temps de maturation que l’on appelle aussi “steep” permet aux arômes de se développer et de mieux s’exprimer. Pour une maturation optimale, il faut compter : Pour un rendu optimal : secouez votre fiole de e-liquide une fois par jour pour que les arômes se diffusent correctement. Conservation de votre e-liquide Pour une conservation optimale de votre e-liquide, nous vous conseillons de stocker votre flacon à l'abri de la lumière dans un droit sec et à température ambiante. Après contacts répétés à l'air et à la lumière, la couleur de votre e-liquide peut se foncer. Ce changement de couleur n'affecte ni la qualité ni le goût de votre e-liquide. La date indiquée sur l'étiquette est une DLUO (date limite d'utilisation optimale) ou DDM (date de durabilité minimale). Passé cette date, le e-liquide peut encore être consommé.\n",
      "Saveur : cassis, lime, menthol\n",
      "Contenu : Le Cassigre 50ml est un e-liquide à booster fabriqué en France par la marque e.Tasty, pour sa collection Amalgam. Il vous propose dessaveurs de grenade et de cassis. Sa recette est composée d'arômes alimentaires, de propylène glycol (PG) et de glycérine végétale (VG), pour un ratio50PG/50VG. Sa recette pourra au besoin êtrecomplétée avec des boosters10ml de nicotine (non inclus). Il vous est livré dans un flacon de 75ml doté d'un bouchon sécurisé et d'un embout fin compte-gouttes. Qui est e.Tasty ? e.Tasty est un fabricant français reconnu dans le monde de la vape pour sa maîtrise des saveurs, mais également pour sa recherche constante de qualité supérieure. Ainsi, qu'elles soient fruitées, fraîches ou encore classics, soyez toujours certain avec e.Tasty de vapoter des recettes de qualité premium ! Comment préparer votre e-liquide Cassigre ? Le Cassigre est proposé en version50mlboostée en arômes dans un flacon de75ml. Si vous le souhaitez, vous pouvez ainsi ajouter un ou plusieurs boosters de nicotine selon vos besoins sans perte de saveur. Pour booster votre e-liquide, vous devez : Indications pour préparer votre e-liquide surboosté de 50 ml : La place disponible dans le flacon d'origine n’est peut-être pas suffisante pour booster votre e-liquide au taux de nicotine souhaité. Pour les dosages importants, nous vous conseillons l’utilisation de contenants plus importants commeun flacon de 100ml graduéouun flacon Twist de 230ml gradué. Astuce : pensez à adapter votre matériel au ratio PG/VG de votre e-liquide ! Vous limiterez ainsi le risque de fuite et l’usure prématurée de vos résistances ! Quel taux de nicotine choisir pour votre e-liquide ? Le choix de votre taux de nicotine dépend de votre profil de fumeur ainsi que de la cigarette électronique utilisée : Si vous utilisez du matériel plus performant avec une résistance inférieure à 1 ohm et pour une puissance supérieure à 30 watts, vous pouvez diviser votre taux de nicotine par deux. Nos conseils pour la maturation de votre e-liquide surboosté De la même façon que pour un e-liquide DIY, on peut observer un temps de repos avec un e-liquide surboosté en arômes après l’ajout d’un ou plusieurs boosters de nicotine. Ce temps de maturation que l’on appelle aussi “steep” permet aux arômes de se développer et de mieux s’exprimer. Pour une maturation optimale, il faut compter : Pour un rendu optimal : secouez votre fiole de e-liquide une fois par jour pour que les arômes se diffusent correctement. Conservation de votre e-liquide Pour une conservation optimale de votre e-liquide, nous vous conseillons de stocker votre flacon à l'abri de la lumière dans un droit sec et à température ambiante. Après contacts répétés à l'air et à la lumière, la couleur de votre e-liquide peut se foncer. Ce changement de couleur n'affecte ni la qualité ni le goût de votre e-liquide. La date indiquée sur l'étiquette est une DLUO (date limite d'utilisation optimale) ou DDM (date de durabilité minimale). Passé cette date, le e-liquide peut encore être consommé.\n",
      "Saveur : grenade, lime, cassis\n"
     ]
    }
   ],
   "source": [
    "# Requête de recherche\n",
    "query = \"Quel produit contient des saveurs de cassis ?\"\n",
    "results = retriever.get_relevant_documents(query)\n",
    "\n",
    "# Extraction des métadonnées des résultats\n",
    "for result in results:\n",
    "    print(f\"Contenu : {result.page_content}\")\n",
    "    print(f\"Saveur : {result.metadata.get('saveur', 'Aucune saveur spécifiée')}\") "
   ]
  }
 ],
 "metadata": {
  "kernelspec": {
   "display_name": "nlp",
   "language": "python",
   "name": "python3"
  },
  "language_info": {
   "codemirror_mode": {
    "name": "ipython",
    "version": 3
   },
   "file_extension": ".py",
   "mimetype": "text/x-python",
   "name": "python",
   "nbconvert_exporter": "python",
   "pygments_lexer": "ipython3",
   "version": "3.10.15"
  }
 },
 "nbformat": 4,
 "nbformat_minor": 2
}
