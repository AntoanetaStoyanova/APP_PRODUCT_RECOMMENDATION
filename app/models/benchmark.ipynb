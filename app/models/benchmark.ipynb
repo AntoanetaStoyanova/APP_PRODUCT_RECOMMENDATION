{
 "cells": [
  {
   "cell_type": "markdown",
   "metadata": {},
   "source": [
    "TF_IDF"
   ]
  },
  {
   "cell_type": "code",
   "execution_count": 1,
   "metadata": {},
   "outputs": [],
   "source": [
    "import os\n",
    "import pandas as pd\n",
    "from sklearn.feature_extraction.text import TfidfVectorizer\n",
    "from sklearn.metrics.pairwise import cosine_similarity"
   ]
  },
  {
   "cell_type": "code",
   "execution_count": 3,
   "metadata": {},
   "outputs": [
    {
     "name": "stdout",
     "output_type": "stream",
     "text": [
      "['a', 'ai', 'aie', 'aient', 'aies', 'ait', 'alors', 'as', 'au', 'aucun']\n"
     ]
    }
   ],
   "source": [
    "# Charger le fichier de mots vides (stopwords) personnalisés\n",
    "french_stopwords_path = '../../app/models/french.txt'\n",
    "\n",
    "# Vérifier si le fichier existe et le lire\n",
    "if os.path.exists(french_stopwords_path):\n",
    "    with open(french_stopwords_path, 'r', encoding='utf-8') as file:\n",
    "        french_stopwords = file.read().splitlines()  # Lire chaque ligne comme un mot séparé\n",
    "    print(french_stopwords[:10])  # 10 premiers mots \n",
    "else:\n",
    "    print(f\"Le fichier french.txt est introuvable dans {french_stopwords_path}\")"
   ]
  },
  {
   "cell_type": "code",
   "execution_count": 4,
   "metadata": {},
   "outputs": [],
   "source": [
    "# Charger les données depuis le CSV\n",
    "df = pd.read_csv('../../RGBD/table_produits/produits.csv')"
   ]
  },
  {
   "cell_type": "code",
   "execution_count": 5,
   "metadata": {},
   "outputs": [],
   "source": [
    "# les descriptions des produits\n",
    "descriptions = df['description'].tolist()\n",
    "# Initialisation du vectoriseur TF-IDF avec la liste personnalisée de mots vides\n",
    "vectorizer = TfidfVectorizer(stop_words=french_stopwords)\n",
    "# Transformation des descriptions en vecteurs TF-IDF\n",
    "tfidf_matrix = vectorizer.fit_transform(descriptions)"
   ]
  },
  {
   "cell_type": "code",
   "execution_count": 6,
   "metadata": {},
   "outputs": [],
   "source": [
    "# Fonction pour recommander des produits basés sur une requête utilisateur\n",
    "def recommend_by_query(query, tfidf_matrix, vectorizer, top_n=5):\n",
    "    # Transformation de la requête en vecteur TF-IDF\n",
    "    query_tfidf = vectorizer.transform([query])\n",
    "    \n",
    "    # Calcul de la similarité cosinus entre la requête et les descriptions des produits\n",
    "    cosine_similarities = cosine_similarity(query_tfidf, tfidf_matrix).flatten()\n",
    "    \n",
    "    # Trier les indices des produits les plus similaires\n",
    "    similar_indices = cosine_similarities.argsort()[-top_n:][::-1]\n",
    "    \n",
    "    # Afficher les produits recommandés\n",
    "    print(f\"Produits recommandés pour la requête '{query}':\\n\")\n",
    "    for idx in similar_indices:\n",
    "        print(f\"Produit {idx+1}: {df['description'][idx]} - Similarité: {cosine_similarities[idx]:.4f}\")"
   ]
  },
  {
   "cell_type": "code",
   "execution_count": 7,
   "metadata": {},
   "outputs": [
    {
     "name": "stdout",
     "output_type": "stream",
     "text": [
      "Produits recommandés pour la requête 'Saveur menthe':\n",
      "\n",
      "Produit 1274: Le Menthe Verte Glacée reprend lessaveurs fraîches d'une menthe chlorophylle, dans une recette signée PULP. Prêt à vaper(PAV), il vous est proposé dans plusieurs taux de nicotine au choix (0, 3, 6 et 12mg/ml), à sélectionner à la commande. Le Menthe Verte Glacée est élaboré à partir d'une base PG/VG de 70/30, et vous est livré dans une fiole de 10ml. Le Menthe Verte Glacée est un e-liquide exclusivement destiné au réservoir de votre cigarette électronique. Il est fabriqué en France par Pulp, à partir d'arômes alimentaires, de propylène glycol et de glycérine végétale. Le e-liquide Menthe Verte Glacée vous est livré dans un flacon de 10ml, équipé d'un bouchon avec sécurité enfant et d'un embout fin facilitant le remplissage de votre réservoir. Qui est PULP ? C'est dans leur laboratoire français, et plus particulièrement parisien que les aromaticiens de la marque PULP conçoivent leurs multiples recettes, et ce, toujours avec le sens du détail. Ainsi, il vous présente aussi bien des e-liquides prêts à vaper, à booster, ou encore des concentrés DIY (Do It Yourself) aux saveurs finement reproduites et de diverses variétés. Nos conseils pour utiliser votre e-liquide Menthe Verte Glacée L'utilisation d'un e-liquide est exclusivement réservée à la cigarette électronique. Nous vous recommandons de bien agiter votre flacon de e-liquide avant emploi. Pour limiter les risques de fuites et prolonger la durée de vie de vos résistances, nous vous conseillons d'utiliser un clearomiseur adapté au taux PG/VG de votre e-liquide. Quel taux de nicotine choisir pour votre e-liquide ? Le choix de votre taux de nicotine dépend de votre profil de fumeur ainsi que de la cigarette électronique utilisée. Si vous utilisez une cigarette électronique équipée d'une résistance égale ou supérieure à 1 ohm et à une puissance ne dépassant pas les 30 watts, voici nos recommandations pour choisir votre taux de nicotine : Si vous utilisez une cigarette électronique plus performante équipée de résistances dont la valeur est inférieure à 1 ohm et pour une puissance supérieure à 30 watts, nous vous conseillons d'utiliser un taux de nicotine plus faible : Conservation de votre e-liquide Pour une conservation optimale de votre e-liquide, nous vous conseillons de stocker votre flacon à l'abri de la lumière dans un droit sec et à température ambiante. Après contacts répétés à l'air et à la lumière, la couleur de votre e-liquide peut se foncer. Ce changement de couleur n'affecte ni la qualité ni le goût de votre e-liquide. La date indiquée sur l'étiquette est une DLUO (date limite d'utilisation optimale) ou DDM (date de durabilité minimale). Passé cette date, le e-liquide peut encore être consommé. Mises en garde et contre-indications : Précautions d'emploi : - Similarité: 0.3462\n",
      "Produit 1343: Pulp vous propose de vapoter une saveur de boisson mentholée, grâce à son e-liquide pour cigarette électronique Le Thé à la Menthe. Non nicotiné de base, il vous estlivré avec un booster 10mlafin au besoin de le vaper dans un taux de 3mg/ml de nicotine. Le e-liquide Le Thé à la Menthe est fabriqué en France à partir d'arômes alimentaires, de propylène glycol (PG) et de glycérine végétale (VG), dans unratio PG/VG de 70/30. Recevez-le dans une fiole de 60ml remplie à hauteur de 50ml de e-liquide, et dotée d'un bouchon avec sécurité enfant et d'un embout fin. Comment utiliser votre e-liquide Le Thé à la Menthe ? Le Thé à la Menthe est proposé en version50mlboostée en arômes dans un flacon de60ml. Si vous le souhaitez, vous pouvez ajouter un ou plusieurs boosters de nicotine selon vos besoins sans perte de saveur. Pour booster votre e-liquide, vous devez : Indications pour préparer votre e-liquide surboosté de 50 ml : La place disponible dans le flacon d'origine n’est peut-être pas suffisante pour booster votre e-liquide au taux de nicotine souhaité. Pour les dosages importants, nous vous conseillons l’utilisation de contenants plus importants commeun flacon de 100ml graduéouun flacon Twist de 230ml gradué. Astuce : pensez à adapter votre matériel au ratio PG/VG de votre e-liquide ! Vous limiterez ainsi le risque de fuite et l’usure prématurée de vos résistances ! Quel taux de nicotine choisir pour votre e-liquide ? Le choix de votre taux de nicotine dépend de votre profil de fumeur ainsi que de la cigarette électronique utilisée : Si vous utilisez du matériel plus performant avec une résistance inférieure à 1 ohm et pour une puissance supérieure à 30 watts, vous pouvez diviser votre taux de nicotine par deux. Nos conseils pour la maturation de votre e-liquide surboosté De la même façon que pour un e-liquide DIY, on peut observer un temps de repos avec un e-liquide surboosté en arômes après l’ajout d’un ou plusieurs boosters de nicotine. Ce temps de maturation que l’on appelle aussi “steep” permet aux arômes de se développer et de mieux s’exprimer. Pour une maturation optimale, il faut compter : Pour un rendu optimal : secouez votre fiole de e-liquide une fois par jour pour que les arômes se diffusent correctement. Conservation de votre e-liquide Pour une conservation optimale de votre e-liquide, nous vous conseillons de stocker votre flacon à l'abri de la lumière dans un droit sec et à température ambiante. Après contacts répétés à l'air et à la lumière, la couleur de votre e-liquide peut se foncer. Ce changement de couleur n'affecte ni la qualité ni le goût de votre e-liquide. La date indiquée sur l'étiquette est une DLUO (date limite d'utilisation optimale) ou DDM (date de durabilité minimale). Passé cette date, le e-liquide peut encore être consommé. - Similarité: 0.3261\n",
      "Produit 1250: Fabriqué en France par Alfaliquid, le Menthe Polaire 10ml est un e-liquide pour cigarette électronique. Il vous propose un mélange de saveurs mentholées et fraîches à travers une menthe verte. Composé d'arômes alimentaires, de propylène glycol (PG) et de glycérine végétale (VG), il est élaboré à partir d'une base76PG/24VG. Faites votre choix entre les différents taux de nicotine proposés. Le flacon du Menthe Polaire 10ml est doté d'un bouchon avec protection enfant et d'un embout fin. Qui est Alfaliquid ? Le fabricant français s'est fait reconnaître par ses recettes de e-liquides, et ce, au fil du temps. Mettant à l'honneur aussi bien des goûts fruités que classics par exemple, soyez toujours certain de trouver votre prêt à l'emploi avec Alfaliquid. Nos conseils pour utiliser votre e-liquide Menthe Polaire L'utilisation d'un e-liquide est exclusivement réservée à la cigarette électronique. Nous vous recommandons de bien agiter votre flacon de e-liquide avant emploi. Pour limiter les risques de fuites et prolonger la durée de vie de vos résistances, nous vous conseillons d'utiliser un clearomiseur adapté au taux PG/VG de votre e-liquide. Quel taux de nicotine choisir pour votre e-liquide ? Le choix de votre taux de nicotine dépend de votre profil de fumeur ainsi que de la cigarette électronique utilisée. Si vous utilisez une cigarette électronique équipée d'une résistance égale ou supérieure à 1 ohm et à une puissance ne dépassant pas les 30 watts, voici nos recommandations pour choisir votre taux de nicotine : Si vous utilisez une cigarette électronique plus performante équipée de résistances dont la valeur est inférieure à 1 ohm et pour une puissance supérieure à 30 watts, nous vous conseillons d'utiliser un taux de nicotine plus faible : Conservation de votre e-liquide Pour une conservation optimale de votre e-liquide, nous vous conseillons de stocker votre flacon à l'abri de la lumière dans un droit sec et à température ambiante. Après contacts répétés à l'air et à la lumière, la couleur de votre e-liquide peut se foncer. Ce changement de couleur n'affecte ni la qualité ni le goût de votre e-liquide. La date indiquée sur l'étiquette est une DLUO (date limite d'utilisation optimale) ou DDM (date de durabilité minimale). Passé cette date, le e-liquide peut encore être consommé. Mises en garde et contre-indications : Précautions d'emploi : - Similarité: 0.3105\n",
      "Produit 100: Si les Français de VDLV n'ont plus besoin d'être présentés, leur e-liquide Fraise Menthe mérite un tapis rouge pour son arrivée ! Retrouvez dans sa recette unmélange frais et fruité de fraises et de menthe, accompagné d'un goût d'anis et d'eucalyptus. Le Fraise Menthe est un e-liquide pour cigarette électronique entièrement conçu et fabriqué en France par Vincent Dans Les Vapes. Il se compose d'arômes alimentaires, de propylène glycol (PG) et de glycérine végétale (VG) dans un ratio de 50PG/50VG. Il vous sera proposé en fiole de 10ml avec sécurité enfant et embout fin pour faciliter le remplissage de votre cigarette électronique. Issu de la collection Cirkus, le Fraise Menthe est disponible en plusieurs taux de nicotine au choix :3, 6 et 12mg/ml. Qui est VDLV ? VDLV, pour Vincent Dans Les Vapes, est un fabricant français de liquides pour cigarette électronique. Depuis 2012, la marque basée en Gironde s'attache à proposer des produits de qualité aux vapoteurs du monde entier. Fort de diverses gammes telles que Cirkus, Classic Wanted ou encore V'ICE, VDLV s'adresse autant aux amateurs de e-liquides prêts à vaper qu'aux utilisateurs d'arômes DIY. La gamme Cirkus Si le fabricant français bénéficie d'une place de choix dans l'univers de la vape, c'est notamment grâce à sa collection Cirkus. Cette gamme de recettes variées se décline autant en e-liquides prêts à vaper qu'en arômes DIY (Do It Yourself). Découvrez toute une série de produits à vaper de qualité, d'origine 100% française. Nos conseils pour utiliser votre e-liquide Fraise Menthe L'utilisation d'un e-liquide est exclusivement réservée à la cigarette électronique. Nous vous recommandons de bien agiter votre flacon de e-liquide avant emploi. Pour limiter les risques de fuites et prolonger la durée de vie de vos résistances, nous vous conseillons d'utiliser un clearomiseur adapté au taux PG/VG de votre e-liquide. Quel taux de nicotine choisir pour votre e-liquide ? Le choix de votre taux de nicotine dépend de votre profil de fumeur ainsi que de la cigarette électronique utilisée. Si vous utilisez une cigarette électronique équipée d'une résistance égale ou supérieure à 1 ohm et à une puissance ne dépassant pas les 30 watts, voici nos recommandations pour choisir votre taux de nicotine : Si vous utilisez une cigarette électronique plus performante équipée de résistances dont la valeur est inférieure à 1 ohm et pour une puissance supérieure à 30 watts, nous vous conseillons d'utiliser un taux de nicotine plus faible : Conservation de votre e-liquide Pour une conservation optimale de votre e-liquide, nous vous conseillons de stocker votre flacon à l'abri de la lumière dans un droit sec et à température ambiante. Après contacts répétés à l'air et à la lumière, la couleur de votre e-liquide peut se foncer. Ce changement de couleur n'affecte ni la qualité ni le goût de votre e-liquide. La date indiquée sur l'étiquette est une DLUO (date limite d'utilisation optimale) ou DDM (date de durabilité minimale). Passé cette date, le e-liquide peut encore être consommé. Mises en garde et contre-indications : Précautions d'emploi : - Similarité: 0.3063\n",
      "Produit 1264: Le Menthe Glaciale est un e-liquide à booster au format 50ml de chez Alfaliquid. Il vous propose dessaveurs fraîches de menthe, dans une recette fabriquée en France. Composé d'arômes alimentaires, de propylène glycol (PG) et de glycérine végétale (VG), dans un ratio 50PG/50VG,vous pouvez au besoin ajouter des boosters10ml de nicotine (vendus séparément). Il vous est livré dans une fiole de 70ml dotée d'une ouverture sécurisée et d'un embout fin simplifiant le remplissage de votre réservoir. Qui est Alfaliquid ? Le fabricant français s'est fait reconnaître par ses recettes de e-liquides pour cigarette électronique, et ce, au fil du temps. Mettant à l'honneur aussi bien des goûts de fruits que classics par exemple, soyez toujours certain de trouver votre prêt à l'emploi avec Alfaliquid. Comment préparer votre e-liquide Menthe Glaciale ? Ce e-liquide est proposé en version50mlboostée en arômes dans un flacon de70ml. Si vous le souhaitez, vous pouvez ainsi ajouter un ou plusieurs boosters de nicotine selon vos besoins sans perte de saveur. Pour booster votre e-liquide, vous devez : Indications pour préparer votre e-liquide surboosté de 50 ml : La place disponible dans le flacon d'origine n’est peut-être pas suffisante pour booster votre e-liquide au taux de nicotine souhaité. Pour les dosages importants, nous vous conseillons l’utilisation de contenants plus importants commeun flacon de 100ml graduéouun flacon Twist de 230ml gradué. Astuce : pensez à adapter votre matériel au ratio PG/VG de votre e-liquide ! Vous limiterez ainsi le risque de fuite et l’usure prématurée de vos résistances ! Quel taux de nicotine choisir pour votre e-liquide ? Le choix de votre taux de nicotine dépend de votre profil de fumeur ainsi que de la cigarette électronique utilisée : Si vous utilisez du matériel plus performant avec une résistance inférieure à 1 ohm et pour une puissance supérieure à 30 watts, vous pouvez diviser votre taux de nicotine par deux. Nos conseils pour la maturation de votre e-liquide surboosté De la même façon que pour un e-liquide DIY, on peut observer un temps de repos avec un e-liquide surboosté en arômes après l’ajout d’un ou plusieurs boosters de nicotine. Ce temps de maturation que l’on appelle aussi “steep” permet aux arômes de se développer et de mieux s’exprimer. Pour une maturation optimale, il faut compter : Pour un rendu optimal : secouez votre fiole de e-liquide une fois par jour pour que les arômes se diffusent correctement. Conservation de votre e-liquide Pour une conservation optimale de votre e-liquide, nous vous conseillons de stocker votre flacon à l'abri de la lumière dans un droit sec et à température ambiante. Après contacts répétés à l'air et à la lumière, la couleur de votre e-liquide peut se foncer. Ce changement de couleur n'affecte ni la qualité ni le goût de votre e-liquide. La date indiquée sur l'étiquette est une DLUO (date limite d'utilisation optimale) ou DDM (date de durabilité minimale). Passé cette date, le e-liquide peut encore être consommé. - Similarité: 0.2759\n"
     ]
    }
   ],
   "source": [
    "# Exemple d'appel avec la requête \"Saveur menthe\"\n",
    "recommend_by_query(\"Saveur menthe\", tfidf_matrix, vectorizer)"
   ]
  },
  {
   "cell_type": "code",
   "execution_count": 8,
   "metadata": {},
   "outputs": [],
   "source": [
    "# Requête de l'utilisateur\n",
    "requete_utilisateur = \"Saveur menthe\"\n",
    "X = vectorizer.fit_transform(df['description'])\n",
    "# Transformer la requête de l'utilisateur en vecteur TF-IDF\n",
    "requete_vector = vectorizer.transform([requete_utilisateur])\n",
    "# Calculer la similarité cosinus entre la requête et les descriptions des produits\n",
    "similarites = cosine_similarity(requete_vector, X)"
   ]
  },
  {
   "cell_type": "code",
   "execution_count": 9,
   "metadata": {},
   "outputs": [],
   "source": [
    "# Afficher les produits les plus similaires (triés par similarité décroissante)\n",
    "df['similarity'] = similarites.flatten()\n",
    "df_sorted = df.sort_values(by='similarity', ascending=False)"
   ]
  },
  {
   "cell_type": "code",
   "execution_count": 10,
   "metadata": {},
   "outputs": [
    {
     "data": {
      "text/html": [
       "<div>\n",
       "<style scoped>\n",
       "    .dataframe tbody tr th:only-of-type {\n",
       "        vertical-align: middle;\n",
       "    }\n",
       "\n",
       "    .dataframe tbody tr th {\n",
       "        vertical-align: top;\n",
       "    }\n",
       "\n",
       "    .dataframe thead th {\n",
       "        text-align: right;\n",
       "    }\n",
       "</style>\n",
       "<table border=\"1\" class=\"dataframe\">\n",
       "  <thead>\n",
       "    <tr style=\"text-align: right;\">\n",
       "      <th></th>\n",
       "      <th>id_produit</th>\n",
       "      <th>description</th>\n",
       "      <th>similarity</th>\n",
       "    </tr>\n",
       "  </thead>\n",
       "  <tbody>\n",
       "    <tr>\n",
       "      <th>1273</th>\n",
       "      <td>1275</td>\n",
       "      <td>Le Menthe Verte Glacée reprend lessaveurs fraî...</td>\n",
       "      <td>0.346166</td>\n",
       "    </tr>\n",
       "    <tr>\n",
       "      <th>1342</th>\n",
       "      <td>1344</td>\n",
       "      <td>Pulp vous propose de vapoter une saveur de boi...</td>\n",
       "      <td>0.326076</td>\n",
       "    </tr>\n",
       "    <tr>\n",
       "      <th>1249</th>\n",
       "      <td>1251</td>\n",
       "      <td>Fabriqué en France par Alfaliquid, le Menthe P...</td>\n",
       "      <td>0.310499</td>\n",
       "    </tr>\n",
       "    <tr>\n",
       "      <th>99</th>\n",
       "      <td>100</td>\n",
       "      <td>Si les Français de VDLV n'ont plus besoin d'êt...</td>\n",
       "      <td>0.306293</td>\n",
       "    </tr>\n",
       "    <tr>\n",
       "      <th>1263</th>\n",
       "      <td>1265</td>\n",
       "      <td>Le Menthe Glaciale est un e-liquide à booster ...</td>\n",
       "      <td>0.275879</td>\n",
       "    </tr>\n",
       "    <tr>\n",
       "      <th>...</th>\n",
       "      <td>...</td>\n",
       "      <td>...</td>\n",
       "      <td>...</td>\n",
       "    </tr>\n",
       "    <tr>\n",
       "      <th>701</th>\n",
       "      <td>703</td>\n",
       "      <td>Le Cassis Noir est un e-liquide à booster au f...</td>\n",
       "      <td>0.000000</td>\n",
       "    </tr>\n",
       "    <tr>\n",
       "      <th>699</th>\n",
       "      <td>701</td>\n",
       "      <td>Les vendanges ont été fructueuses chez The Fuu...</td>\n",
       "      <td>0.000000</td>\n",
       "    </tr>\n",
       "    <tr>\n",
       "      <th>695</th>\n",
       "      <td>697</td>\n",
       "      <td>Le Fraise Kiwi Salt est un e-liquide avec nico...</td>\n",
       "      <td>0.000000</td>\n",
       "    </tr>\n",
       "    <tr>\n",
       "      <th>685</th>\n",
       "      <td>687</td>\n",
       "      <td>Le Fraise Grenade est un e-liquide fabriqué en...</td>\n",
       "      <td>0.000000</td>\n",
       "    </tr>\n",
       "    <tr>\n",
       "      <th>1530</th>\n",
       "      <td>1533</td>\n",
       "      <td>Voici la recette du Blond Sec de chez Alfaliqu...</td>\n",
       "      <td>0.000000</td>\n",
       "    </tr>\n",
       "  </tbody>\n",
       "</table>\n",
       "<p>1531 rows × 3 columns</p>\n",
       "</div>"
      ],
      "text/plain": [
       "      id_produit                                        description  \\\n",
       "1273        1275  Le Menthe Verte Glacée reprend lessaveurs fraî...   \n",
       "1342        1344  Pulp vous propose de vapoter une saveur de boi...   \n",
       "1249        1251  Fabriqué en France par Alfaliquid, le Menthe P...   \n",
       "99           100  Si les Français de VDLV n'ont plus besoin d'êt...   \n",
       "1263        1265  Le Menthe Glaciale est un e-liquide à booster ...   \n",
       "...          ...                                                ...   \n",
       "701          703  Le Cassis Noir est un e-liquide à booster au f...   \n",
       "699          701  Les vendanges ont été fructueuses chez The Fuu...   \n",
       "695          697  Le Fraise Kiwi Salt est un e-liquide avec nico...   \n",
       "685          687  Le Fraise Grenade est un e-liquide fabriqué en...   \n",
       "1530        1533  Voici la recette du Blond Sec de chez Alfaliqu...   \n",
       "\n",
       "      similarity  \n",
       "1273    0.346166  \n",
       "1342    0.326076  \n",
       "1249    0.310499  \n",
       "99      0.306293  \n",
       "1263    0.275879  \n",
       "...          ...  \n",
       "701     0.000000  \n",
       "699     0.000000  \n",
       "695     0.000000  \n",
       "685     0.000000  \n",
       "1530    0.000000  \n",
       "\n",
       "[1531 rows x 3 columns]"
      ]
     },
     "execution_count": 10,
     "metadata": {},
     "output_type": "execute_result"
    }
   ],
   "source": [
    "df_sorted[['id_produit', 'description', 'similarity']]"
   ]
  },
  {
   "cell_type": "markdown",
   "metadata": {},
   "source": [
    "bm25"
   ]
  },
  {
   "cell_type": "code",
   "execution_count": 90,
   "metadata": {},
   "outputs": [],
   "source": [
    "# Importer la bibliothèque BM25\n",
    "from rank_bm25 import BM25Okapi\n",
    "from nltk.tokenize import word_tokenize\n",
    "import string"
   ]
  },
  {
   "cell_type": "code",
   "execution_count": 91,
   "metadata": {},
   "outputs": [],
   "source": [
    "# Fonction de prétraitement (tokenisation et suppression de la ponctuation)\n",
    "def preprocess(text):\n",
    "    # Tokenisation et suppression de la ponctuation\n",
    "    tokens = word_tokenize(text.lower())\n",
    "    return [token for token in tokens if token not in string.punctuation]"
   ]
  },
  {
   "cell_type": "code",
   "execution_count": 92,
   "metadata": {},
   "outputs": [],
   "source": [
    "# Appliquer le prétraitement sur toutes les descriptions\n",
    "preprocessed_descriptions = [preprocess(desc) for desc in df['description']]\n"
   ]
  },
  {
   "cell_type": "code",
   "execution_count": 93,
   "metadata": {},
   "outputs": [],
   "source": [
    "# Initialiser le modèle BM25\n",
    "bm25 = BM25Okapi(preprocessed_descriptions)"
   ]
  },
  {
   "cell_type": "code",
   "execution_count": 94,
   "metadata": {},
   "outputs": [],
   "source": [
    "# Exemple de requête utilisateur\n",
    "query = \"Saveur cassis lime\"\n",
    "# Prétraiter la requête\n",
    "preprocessed_query = preprocess(query)"
   ]
  },
  {
   "cell_type": "code",
   "execution_count": null,
   "metadata": {},
   "outputs": [
    {
     "name": "stdout",
     "output_type": "stream",
     "text": [
      "Produits les plus pertinents pour la requête :\n",
      "                                           description  similarity_score\n",
      "101  Besoin d'un bon coup de fouet fruité, frais et...         10.749055\n",
      "369  Le Bloody Lime est un e-liquideà boosterde la ...         10.261856\n",
      "276  Le Bloody Lime est un e liquide au formatprêt ...         10.119159\n",
      "28   Le Frozen Lemon And Lime 100ml est un e-liquid...          9.297028\n",
      "257  Le Lime Berry 100ml est un e-liquide à booster...          9.160395\n"
     ]
    }
   ],
   "source": [
    "\n",
    "\n",
    "# Calculer la similarité BM25 pour chaque description\n",
    "scores = bm25.get_scores(preprocessed_query)\n",
    "# Afficher les scores de similarité pour chaque description\n",
    "df['similarity_score'] = scores\n",
    "# Trier les produits par score de similarité\n",
    "sorted_df = df.sort_values(by='similarity_score', ascending=False)\n",
    "# Afficher les 5 produits les plus pertinents\n",
    "print(\"Produits les plus pertinents pour la requête :\")\n",
    "print(sorted_df[['description', 'similarity_score']].head())\n"
   ]
  },
  {
   "cell_type": "code",
   "execution_count": 96,
   "metadata": {},
   "outputs": [
    {
     "name": "stdout",
     "output_type": "stream",
     "text": [
      "Produits les plus pertinents pour la requête 'Saveur cassis lime' :\n",
      "                                          description\n",
      "28  Le Frozen Lemon And Lime 100ml est un e-liquid...\n",
      "44  Fabriqué en France par Secret's Lab, le e-liqu...\n",
      "29  Fabriqué en France par Secret's Lab, le e-liqu...\n",
      "69  Retrouvez dessaveurs de cassis et de mentholda...\n",
      "78  Retrouvez lessaveurs fruitées de cassisdans ce...\n"
     ]
    }
   ],
   "source": [
    "# Calculer la similarité BM25 pour chaque description\n",
    "scores = bm25.get_scores(preprocessed_query)\n",
    "# Afficher les scores de similarité pour chaque description\n",
    "df['similarity_score'] = scores\n",
    "# Trier les produits par score de similarité\n",
    "sorted_df = df.sort_values(by='similarity_score', ascending=False)\n",
    "# Afficher les 5 produits les plus pertinents\n",
    "print(\"Produits les plus pertinents pour la requête 'Saveur cassis lime' :\")\n",
    "print(sorted_df[['description']].head())\n"
   ]
  },
  {
   "cell_type": "code",
   "execution_count": 17,
   "metadata": {},
   "outputs": [
    {
     "name": "stdout",
     "output_type": "stream",
     "text": [
      "\n",
      "Le produit le plus pertinent est :\n",
      "Besoin d'un bon coup de fouet fruité, frais et acidulé ? Essayez donc le e liquide Grapefruit Lime Ice par Frozen Freaks ! Ce revigorantmix d'agrumes et de fraicheurravivera le plaisir de vapoter, bouffée après bouffée. Et, grâce à son généreuxflacon 120ml, vous pourrez le booster à votre convenance ! Un mariage acidulé et frais... Nous vous proposons de vous laisser surprendre par une association mystérieuse et puissante de fruits et d'agrumes. Tout cela s'illustre par un mélange depamplemousseet decitron vertpour la note acidulée. Le tout accompagné par une vague de fraicheur intense pour sublimer la recette. Le Grapefruit Lime Ice est ainsi un e-liquide riche en saveurs et en fraicheur qui vous charmera instantanément ! Une recette puissante que l'on doit au fabricant anglais Frozen Freaks. ...en e-liquide 100ml à booster ! En plus d'être un merveilleux mélange fruité et glacé, le e-liquide Grapefruit Lime Ice par Frozen Freaks propose un maxi format à vapoter :100ml en fiole 120ml. Non nicotiné de base, ce surboosté pourra accueillir 20ml de boosters de nicotine, soit 2. Ainsi, vous atteindrez facilement les3mg/mlde nicotine ! Bien entendu, vous pourrez aussi le vaper de suite, en 0mg, ou encore le transvaser pour un taux nicotinique encore supérieur. Informations complémentaires Le e-liquide Grapefruit Lime est fabriqué au Royaume-Uni par Frozen Freaks. Il est composé d'arômes alimentaires, de propylène glycol, et de glycérine végétale dans un ratio 30PG/70VG. Vous pourrez ainsi profiter d'un bon rendu de saveurs avec un très beau volume de vapeur. Il s'agit d'un e-liquide conditionné en flacons de 120 ml de type unicorn, remplis à hauteur de 100 ml afin de vous permettre l'ajout d'un booster de nicotine au besoin. Vous ne perdrez alors pas en saveurs, le e-liquide étant surboosté en arôme. Les flacons disposent en outre d'une sécurité enfant ainsi que d'un embout fin pour remplir votre clearomiseur ou atomiseur en toute simplicité et sans perdre une seule goutte du précieux nectar. avec un score de similarité de 10.7491\n"
     ]
    }
   ],
   "source": [
    "# Si vous voulez afficher le produit le plus pertinent :\n",
    "most_relevant_product = sorted_df.iloc[0]\n",
    "print(f\"\\nLe produit le plus pertinent est :\\n{most_relevant_product['description']} avec un score de similarité de {most_relevant_product['similarity_score']:.4f}\")"
   ]
  },
  {
   "cell_type": "markdown",
   "metadata": {},
   "source": [
    "LMM"
   ]
  },
  {
   "cell_type": "code",
   "execution_count": 2,
   "metadata": {},
   "outputs": [],
   "source": [
    "import os\n",
    "import openai\n",
    "\n",
    "from dotenv import load_dotenv, find_dotenv\n",
    "_ = load_dotenv(find_dotenv()) # read local .env file\n",
    "\n",
    "azure_openai_api_key = os.getenv('AZURE_OPENAI_API_KEY_4')\n",
    "azure_openai_endpoint = os.getenv('AZURE_OPENAI_API_ENDPOINT_4')\n",
    "deployment_name = os.getenv('AZURE_DEPLOYMENT_NAME_4')\n",
    "\n",
    "\n",
    "# Set up Azure OpenAI API (for Azure deployment)\n",
    "openai.api_type = \"azure\"\n",
    "openai.api_key = azure_openai_api_key\n",
    "openai.api_base = azure_openai_endpoint\n",
    "openai.api_version = \"2023-05-15\"  # Ensure this is up to date\n",
    "\n",
    "import warnings\n",
    "warnings.filterwarnings('ignore')"
   ]
  },
  {
   "cell_type": "code",
   "execution_count": 3,
   "metadata": {},
   "outputs": [],
   "source": [
    "from langchain.chat_models import ChatOpenAI\n",
    "from langchain.prompts import ChatPromptTemplate\n",
    "from langchain_core.runnables import RunnablePassthrough\n",
    "from langchain_core.output_parsers import StrOutputParser\n",
    "from langchain.chat_models import AzureChatOpenAI\n",
    "from langchain.embeddings import HuggingFaceEmbeddings\n",
    "from langchain.document_loaders import CSVLoader\n",
    "from langchain_community.vectorstores import FAISS"
   ]
  },
  {
   "cell_type": "code",
   "execution_count": 4,
   "metadata": {},
   "outputs": [
    {
     "name": "stderr",
     "output_type": "stream",
     "text": [
      "C:\\Users\\antoa\\AppData\\Local\\Temp\\ipykernel_32964\\1637258887.py:1: LangChainDeprecationWarning: The class `AzureChatOpenAI` was deprecated in LangChain 0.0.10 and will be removed in 1.0. An updated version of the class exists in the :class:`~langchain-openai package and should be used instead. To use it run `pip install -U :class:`~langchain-openai` and import as `from :class:`~langchain_openai import AzureChatOpenAI``.\n",
      "  llm = AzureChatOpenAI(\n"
     ]
    }
   ],
   "source": [
    "llm = AzureChatOpenAI(\n",
    "    api_key=azure_openai_api_key,  # Azure OpenAI API Key\n",
    "    api_version=\"2023-12-01-preview\",  # API version (you can adjust it as needed)\n",
    "    azure_endpoint=azure_openai_endpoint,  # Azure OpenAI endpoint\n",
    "    deployment_name=deployment_name,  # Ensure deployment_name is the correct one you configured in Azure\n",
    "    temperature=0  # Optional: Adjust the temperature for randomness in responses\n",
    ")"
   ]
  },
  {
   "cell_type": "code",
   "execution_count": 5,
   "metadata": {},
   "outputs": [
    {
     "name": "stderr",
     "output_type": "stream",
     "text": [
      "C:\\Users\\antoa\\AppData\\Local\\Temp\\ipykernel_32964\\1118339573.py:2: LangChainDeprecationWarning: The class `HuggingFaceEmbeddings` was deprecated in LangChain 0.2.2 and will be removed in 1.0. An updated version of the class exists in the :class:`~langchain-huggingface package and should be used instead. To use it run `pip install -U :class:`~langchain-huggingface` and import as `from :class:`~langchain_huggingface import HuggingFaceEmbeddings``.\n",
      "  embeddings = HuggingFaceEmbeddings(model_name=\"sentence-transformers/all-MiniLM-L6-v2\")\n"
     ]
    },
    {
     "name": "stdout",
     "output_type": "stream",
     "text": [
      "WARNING:tensorflow:From c:\\Users\\antoa\\anaconda3\\envs\\nlp\\lib\\site-packages\\tf_keras\\src\\losses.py:2976: The name tf.losses.sparse_softmax_cross_entropy is deprecated. Please use tf.compat.v1.losses.sparse_softmax_cross_entropy instead.\n",
      "\n",
      "Nombre de documents chargés : 100\n",
      "Je te propose le produit \"Frozen Lemon And Lime 100ml Ice Chuffed\". C'est un e-liquide aux saveurs fraîches de citrons jaunes et verts, avec une contenance de 100ml. Il est fabriqué par la marque Chuffed, originaire du Royaume-Uni. Ce produit est surboosté en arômes et peut être ajusté avec des boosters de nicotine selon tes besoins. Voici le lien pour plus de détails : [Frozen Lemon And Lime 100ml Ice Chuffed](https://www.aromes-et-liquides.fr/e-liquide-chuffed/14228-frozen-lemon-and-lime-100ml-ice.html).\n"
     ]
    }
   ],
   "source": [
    "\n",
    "\n",
    "\n",
    "\n",
    "# Configuration des embeddings\n",
    "embeddings = HuggingFaceEmbeddings(model_name=\"sentence-transformers/all-MiniLM-L6-v2\")\n",
    "\n",
    "# Chargement des documents\n",
    "try:\n",
    "    loader = CSVLoader(file_path='rag_csv.csv', encoding='utf-8')\n",
    "    documents = loader.load()\n",
    "    print(f\"Nombre de documents chargés : {len(documents)}\")\n",
    "except Exception as e:\n",
    "    print(f\"Erreur lors du chargement des documents : {e}\")\n",
    "    documents = []\n",
    "\n",
    "# Création et sauvegarde du vecteur\n",
    "try:\n",
    "    vectorstore = FAISS.from_documents(documents, embeddings)\n",
    "    vectorstore.save_local('faiss_vector_store')\n",
    "except Exception as e:\n",
    "    print(f\"Erreur lors de la création du vectorstore : {e}\")\n",
    "\n",
    "# Chargement du vecteur\n",
    "vectorstore = FAISS.load_local('faiss_vector_store', embeddings=embeddings, allow_dangerous_deserialization=True)\n",
    "retriever = vectorstore.as_retriever(\n",
    "    search_type=\"similarity_score_threshold\",\n",
    "    search_kwargs={\"score_threshold\": 0.1}\n",
    ")\n",
    "\n",
    "# Définition du prompt\n",
    "prompt_template = \"\"\"\n",
    "You are an assistant for question-answering tasks.\n",
    "Use the following pieces of retrieved context to answer the question.\n",
    "If you don't know the answer, just say that you don't know.\n",
    "\n",
    "Question: {question}\n",
    "\n",
    "Context: {context}\n",
    "\n",
    "Answer:\n",
    "\"\"\"\n",
    "prompt = ChatPromptTemplate.from_template(prompt_template)\n",
    "\n",
    "# Pipeline de question-réponse\n",
    "def format_docs(docs):\n",
    "    return \"\\n\\n\".join(doc.page_content for doc in docs)\n",
    "\n",
    "qa_chain = (\n",
    "    {\n",
    "        \"context\": retriever | format_docs,\n",
    "        \"question\": RunnablePassthrough(),\n",
    "    }\n",
    "    | prompt\n",
    "    | llm\n",
    "    | StrOutputParser()\n",
    ")\n",
    "\n",
    "# Test de la chaîne\n",
    "try:\n",
    "    question ='Propose moi un produit avec lime'\n",
    "    response = qa_chain.invoke(question)\n",
    "    \n",
    "    print(response)\n",
    "    \n",
    "except Exception as e:\n",
    "    print(f\"Erreur lors de l'invocation : {e}\")"
   ]
  },
  {
   "cell_type": "code",
   "execution_count": 50,
   "metadata": {},
   "outputs": [],
   "source": [
    "\n",
    "import time\n",
    "import pandas as pd\n",
    "import numpy as np\n",
    "from rank_bm25 import BM25Okapi\n",
    "from sklearn.feature_extraction.text import TfidfVectorizer\n",
    "from sklearn.metrics.pairwise import cosine_similarity\n",
    "import faiss\n",
    "\n",
    "# 🔹 Liste des descriptions des produits\n",
    "descriptions = df['description'].tolist()\n",
    "\n",
    "# 🔹 Prétraitement des descriptions (tokenization) pour BM25\n",
    "preprocessed_descriptions = [desc.lower().split() for desc in descriptions]\n",
    "\n",
    "# 🔹 Initialisation du modèle BM25\n",
    "bm25 = BM25Okapi(preprocessed_descriptions)\n",
    "\n",
    "# 🔹 Initialisation du modèle TF-IDF\n",
    "vectorizer = TfidfVectorizer(stop_words=french_stopwords)\n",
    "tfidf_matrix = vectorizer.fit_transform(descriptions)\n",
    "\n",
    "# 🔹 FAISS - Création du vecteur FAISS\n",
    "embedding_dim = tfidf_matrix.shape[1]  # Dimension des vecteurs TF-IDF\n",
    "faiss_index = faiss.IndexFlatL2(embedding_dim)  # Index FAISS pour la distance L2\n",
    "\n",
    "# Ajouter les vecteurs TF-IDF à l'index FAISS\n",
    "faiss_index.add(tfidf_matrix.toarray().astype(np.float32))\n",
    "\n",
    "# 🔹 Fonction pour recommander des produits avec FAISS\n",
    "def recommend_by_faiss(query, faiss_index, vectorizer, df, top_n=5):\n",
    "    query_tfidf = vectorizer.transform([query]).toarray().astype(np.float32)  # Transformation de la requête en vecteur\n",
    "    distances, indices = faiss_index.search(query_tfidf, top_n)  # Recherche des produits les plus proches\n",
    "    \n",
    "    # 🔸 Création des résultats\n",
    "    results = [\n",
    "        {\"Nom Produit\": df.iloc[idx]['nom_produit'], \n",
    "         \"Saveur\": df.iloc[idx]['saveur'], \n",
    "         \"Distance\": round(distances[0][i], 4)}  # Distance entre les vecteurs\n",
    "        for i, idx in enumerate(indices[0])\n",
    "    ]\n",
    "    \n",
    "    return results#  Fonction pour recommander des produits avec BM25\n",
    "def recommend_by_bm25(query, bm25, preprocessed_descriptions, df, top_n=5):\n",
    "    preprocessed_query = query.lower().split()  # Tokenisation de la requête\n",
    "    bm25_scores = bm25.get_scores(preprocessed_query)  # Scores BM25\n",
    "    \n",
    "    # 🔸 Récupération des indices des produits les plus pertinents\n",
    "    similar_indices = np.argsort(bm25_scores)[-top_n:][::-1]\n",
    "\n",
    "    # 🔹 Création des résultats\n",
    "    results = [\n",
    "        {\"Nom Produit\": df.iloc[idx]['nom_produit'], \n",
    "         \"Saveur\": df.iloc[idx]['saveur'], \n",
    "         \"Score\": round(bm25_scores[idx], 4)}\n",
    "        for idx in similar_indices\n",
    "    ]\n",
    "\n",
    "    return results\n",
    "\n",
    "def recommend_by_tfidf(query, tfidf_matrix, vectorizer, df, top_n=5):\n",
    "    query_tfidf = vectorizer.transform([query])  # Transformation de la requête\n",
    "    print(f\"Requête transformée en TF-IDF : {query_tfidf.toarray()}\")\n",
    "    \n",
    "    cosine_similarities = cosine_similarity(query_tfidf, tfidf_matrix).flatten()\n",
    "    print(f\"Similarités cosinus : {cosine_similarities}\")  # Affiche les similarités cosinus\n",
    "    \n",
    "    # Récupérer les indices des produits les plus pertinents\n",
    "    similar_indices = np.argsort(cosine_similarities)[-top_n:][::-1]\n",
    "\n",
    "    # Création des résultats\n",
    "    results = [\n",
    "        {\"Nom Produit\": df.iloc[idx]['nom_produit'], \n",
    "         \"Saveur\": df.iloc[idx]['saveur'], \n",
    "         \"Score\": round(cosine_similarities[idx], 4)}\n",
    "        for idx in similar_indices\n",
    "    ]\n",
    "    \n",
    "    print(f\"Résultats recommandés : {results}\")  # Vérifie les résultats\n",
    "    return results"
   ]
  },
  {
   "cell_type": "code",
   "execution_count": 54,
   "metadata": {},
   "outputs": [
    {
     "name": "stdout",
     "output_type": "stream",
     "text": [
      "Requête transformée en TF-IDF : [[0. 0. 0. ... 0. 0. 0.]]\n",
      "Similarités cosinus : [0.00304647 0.08766949 0.         ... 0.04472108 0.00598506 0.        ]\n",
      "Résultats recommandés : [{'Nom Produit': 'Bloody Lime Fruizee', 'Saveur': 'citron vert, lime, fruits rouges, citron', 'Score': 0.3877}, {'Nom Produit': 'Bloody Lime 50ml Fruizee', 'Saveur': 'baies, lime, citron, baie, citron vert, baies rouges', 'Score': 0.3263}, {'Nom Produit': 'Grapefruit Lime Ice 100ml Frozen Freaks', 'Saveur': 'lime, citron, pamplemousse, citron vert, agrumes', 'Score': 0.2561}, {'Nom Produit': 'Frozen Lemon And Lime 100ml Ice Chuffed', 'Saveur': 'lime, citron, lemon', 'Score': 0.2231}, {'Nom Produit': 'Lime Berry 100ml Paradise Juice 66', 'Saveur': 'baies, lime, citron, baie, citron vert, baies rouges', 'Score': 0.2183}]\n"
     ]
    }
   ],
   "source": [
    "import time\n",
    "import pandas as pd\n",
    "import numpy as np\n",
    "\n",
    "# ⚡ Fonction pour mesurer le temps de réponse\n",
    "def measure_latency(model_name, func, *args):\n",
    "    start_time = time.time()\n",
    "    response = func(*args)  # Exécuter la fonction du modèle\n",
    "    end_time = time.time()\n",
    "    \n",
    "    latency = end_time - start_time\n",
    "    return {\"Modèle\": model_name, \"Temps (s)\": round(latency, 4), \"Réponse\": response}\n",
    "\n",
    "# ⚡ Fonction pour récupérer la réponse de BM25\n",
    "def get_bm25_response(query, bm25, preprocessed_descriptions, df):\n",
    "    return recommend_by_bm25(query, bm25, preprocessed_descriptions, df)\n",
    "\n",
    "# ⚡ Fonction pour récupérer la réponse de TF-IDF\n",
    "def get_tfidf_response(query, tfidf_matrix, vectorizer, df):\n",
    "    return recommend_by_tfidf(query, tfidf_matrix, vectorizer, df)\n",
    "\n",
    "# ⚡ Fonction pour récupérer la réponse de Azure OpenAI\n",
    "def get_llm_response(query):\n",
    "    return qa_chain.invoke(query)\n",
    "\n",
    "# 📌 Test avec une requête\n",
    "query = \"Propose-moi un produit avec lime\"\n",
    "\n",
    "# ⚡ Mesurer les performances\n",
    "results = [\n",
    "    measure_latency(\"TF-IDF\", get_tfidf_response, query, tfidf_matrix, vectorizer, df),\n",
    "    measure_latency(\"BM25\", get_bm25_response, query, bm25, preprocessed_descriptions, df),\n",
    "    measure_latency(\"FAISS\", recommend_by_faiss, query, faiss_index, vectorizer, df),\n",
    "    measure_latency(\"Azure OpenAI\", get_llm_response, query)\n",
    "]\n",
    "\n",
    "# 📊 Créer un DataFrame pour afficher les résultats\n",
    "df_comparaison = pd.DataFrame(results)\n",
    "\n",
    "\n"
   ]
  },
  {
   "cell_type": "code",
   "execution_count": 55,
   "metadata": {},
   "outputs": [
    {
     "data": {
      "text/html": [
       "<div>\n",
       "<style scoped>\n",
       "    .dataframe tbody tr th:only-of-type {\n",
       "        vertical-align: middle;\n",
       "    }\n",
       "\n",
       "    .dataframe tbody tr th {\n",
       "        vertical-align: top;\n",
       "    }\n",
       "\n",
       "    .dataframe thead th {\n",
       "        text-align: right;\n",
       "    }\n",
       "</style>\n",
       "<table border=\"1\" class=\"dataframe\">\n",
       "  <thead>\n",
       "    <tr style=\"text-align: right;\">\n",
       "      <th></th>\n",
       "      <th>Modèle</th>\n",
       "      <th>Temps (s)</th>\n",
       "      <th>Réponse</th>\n",
       "    </tr>\n",
       "  </thead>\n",
       "  <tbody>\n",
       "    <tr>\n",
       "      <th>0</th>\n",
       "      <td>TF-IDF</td>\n",
       "      <td>0.0120</td>\n",
       "      <td>[{'Nom Produit': 'Bloody Lime Fruizee', 'Saveu...</td>\n",
       "    </tr>\n",
       "    <tr>\n",
       "      <th>1</th>\n",
       "      <td>BM25</td>\n",
       "      <td>0.0077</td>\n",
       "      <td>[{'Nom Produit': 'Grapefruit Lime Ice 100ml Fr...</td>\n",
       "    </tr>\n",
       "    <tr>\n",
       "      <th>2</th>\n",
       "      <td>FAISS</td>\n",
       "      <td>0.0045</td>\n",
       "      <td>[{'Nom Produit': 'Bloody Lime Fruizee', 'Saveu...</td>\n",
       "    </tr>\n",
       "    <tr>\n",
       "      <th>3</th>\n",
       "      <td>Azure OpenAI</td>\n",
       "      <td>6.3890</td>\n",
       "      <td>Voici quelques produits contenant de la lime :...</td>\n",
       "    </tr>\n",
       "  </tbody>\n",
       "</table>\n",
       "</div>"
      ],
      "text/plain": [
       "         Modèle  Temps (s)                                            Réponse\n",
       "0        TF-IDF     0.0120  [{'Nom Produit': 'Bloody Lime Fruizee', 'Saveu...\n",
       "1          BM25     0.0077  [{'Nom Produit': 'Grapefruit Lime Ice 100ml Fr...\n",
       "2         FAISS     0.0045  [{'Nom Produit': 'Bloody Lime Fruizee', 'Saveu...\n",
       "3  Azure OpenAI     6.3890  Voici quelques produits contenant de la lime :..."
      ]
     },
     "execution_count": 55,
     "metadata": {},
     "output_type": "execute_result"
    }
   ],
   "source": [
    "df_comparaison"
   ]
  },
  {
   "cell_type": "code",
   "execution_count": 219,
   "metadata": {},
   "outputs": [],
   "source": [
    "# Exemple de DataFrame pour les descriptions de produits\n",
    "descriptions = df['description'].tolist()\n",
    "\n",
    "# Initialisation du vectoriseur TF-IDF avec les mots vides en français\n",
    "vectorizer = TfidfVectorizer(stop_words=french_stopwords)\n",
    "tfidf_matrix = vectorizer.fit_transform(descriptions)\n",
    "\n",
    "# Initialiser le modèle BM25 avec les descriptions prétraitées\n",
    "bm25 = BM25Okapi(preprocessed_descriptions)\n",
    "\n",
    "# Exemple de requête utilisateur pour BM25\n",
    "query = \"Saveur avec citron\"\n",
    "preprocessed_query = preprocess(query)\n",
    "scores_bm25 = bm25.get_scores(preprocessed_query)\n",
    "\n",
    "# Configuration des embeddings pour LLM\n",
    "embeddings = HuggingFaceEmbeddings(model_name=\"sentence-transformers/all-MiniLM-L6-v2\")\n"
   ]
  },
  {
   "cell_type": "code",
   "execution_count": 220,
   "metadata": {},
   "outputs": [
    {
     "name": "stdout",
     "output_type": "stream",
     "text": [
      "Nombre de documents chargés : 100\n"
     ]
    }
   ],
   "source": [
    "# Chargement des documents à partir d'un fichier CSV\n",
    "try:\n",
    "    loader = CSVLoader(file_path='rag_csv.csv', encoding='utf-8')\n",
    "    documents = loader.load()\n",
    "    print(f\"Nombre de documents chargés : {len(documents)}\")\n",
    "except Exception as e:\n",
    "    print(f\"Erreur lors du chargement des documents : {e}\")\n",
    "    documents = []\n",
    "\n",
    "# Création et sauvegarde du vecteur FAISS\n",
    "try:\n",
    "    vectorstore = FAISS.from_documents(documents, embeddings)\n",
    "    vectorstore.save_local('faiss_vector_store')\n",
    "except Exception as e:\n",
    "    print(f\"Erreur lors de la création du vectorstore FAISS : {e}\")\n",
    "\n",
    "# Chargement du vecteur FAISS\n",
    "vectorstore = FAISS.load_local('faiss_vector_store', embeddings=embeddings, allow_dangerous_deserialization=True)\n",
    "retriever = vectorstore.as_retriever(\n",
    "    search_type=\"similarity_score_threshold\",\n",
    "    search_kwargs={\"score_threshold\": 0.1}\n",
    ")\n"
   ]
  },
  {
   "cell_type": "code",
   "execution_count": 221,
   "metadata": {},
   "outputs": [],
   "source": [
    "# Résultats pour chaque modèle\n",
    "results = []\n"
   ]
  },
  {
   "cell_type": "code",
   "execution_count": 192,
   "metadata": {},
   "outputs": [],
   "source": [
    "# 1. Résultat pour TF-IDF\n",
    "try:\n",
    "    # Calcul des scores TF-IDF pour la requête\n",
    "    tfidf_scores = tfidf_matrix * vectorizer.transform([query]).T\n",
    "    \n",
    "    # Récupérer le score de similarité maximal\n",
    "    tfidf_similarity_score = tfidf_scores.max() if tfidf_scores.max() else None\n",
    "\n",
    "    # Récupérer le document avec le score de similarité maximal\n",
    "    most_similar_doc_index = tfidf_scores.argmax() if tfidf_scores.max() else None\n",
    "    tfidf_response = documents[most_similar_doc_index] if most_similar_doc_index is not None else \"Aucune réponse trouvée\"\n",
    "\n",
    "    # Ajouter le résultat à la liste des résultats\n",
    "    results.append({\n",
    "        'Modele': 'TF-IDF',\n",
    "        'Similarity': tfidf_similarity_score,\n",
    "        'Reponse': tfidf_response\n",
    "    })\n",
    "\n",
    "except Exception as e:\n",
    "    print(f\"Erreur TF-IDF : {e}\")\n",
    "    results.append({\n",
    "        'Modele': 'TF-IDF',\n",
    "        'Similarity': None,\n",
    "        'Reponse': \"Erreur lors de la récupération de la réponse TF-IDF\"\n",
    "    })\n"
   ]
  },
  {
   "cell_type": "code",
   "execution_count": 202,
   "metadata": {},
   "outputs": [],
   "source": [
    "result = []"
   ]
  },
  {
   "cell_type": "code",
   "execution_count": 222,
   "metadata": {},
   "outputs": [],
   "source": [
    "question = \"saveur citron\"\n",
    "# 1. Résultats pour TF-IDF\n",
    "query_tfidf = vectorizer.transform([question])  # Transformer la requête en vecteur TF-IDF\n",
    "cosine_similarities = cosine_similarity(query_tfidf, tfidf_matrix).flatten()  # Calcul de la similarité cosinus\n",
    "\n",
    "# Sélectionner le produit le plus similaire (le plus grand score de similarité)\n",
    "best_match_idx = cosine_similarities.argmax()  # Index du produit le plus similaire\n",
    "tfidf_similarity_score = cosine_similarities[best_match_idx]\n",
    "\n",
    "results.append({\n",
    "    'Modele': 'TF-IDF',\n",
    "    'Similarity': tfidf_similarity_score,\n",
    "    'Reponse': df['description'][best_match_idx]\n",
    "})"
   ]
  },
  {
   "cell_type": "code",
   "execution_count": 223,
   "metadata": {},
   "outputs": [],
   "source": [
    "# Prétraiter les descriptions et la requête\n",
    "preprocessed_descriptions = [preprocess(desc) for desc in df['description']]\n",
    "\n",
    "# Initialiser le modèle BM25\n",
    "bm25 = BM25Okapi(preprocessed_descriptions)\n",
    "\n",
    "# Exemple de requête utilisateur\n",
    "question = \"saveur citron\"\n",
    "\n",
    "# Prétraiter la requête\n",
    "preprocessed_query = preprocess(question)\n",
    "\n",
    "# Calculer la similarité BM25 pour chaque description\n",
    "scores = bm25.get_scores(preprocessed_query)\n",
    "\n",
    "# Sélectionner le produit le plus similaire (le plus grand score de similarité)\n",
    "best_match_idx = scores.argmax()  # Index du produit le plus similaire\n",
    "bm25_similarity_score = scores[best_match_idx]\n",
    "\n",
    "# Ajouter le résultat dans la liste 'results'\n",
    "results.append({\n",
    "    'Modele': 'BM25',\n",
    "    'Similarity': bm25_similarity_score,\n",
    "    'Reponse': df['description'][best_match_idx]\n",
    "})\n"
   ]
  },
  {
   "cell_type": "code",
   "execution_count": 224,
   "metadata": {},
   "outputs": [
    {
     "name": "stdout",
     "output_type": "stream",
     "text": [
      "Reponse LLM :  Je te propose le produit \"Frozen Lemon And Lime 100ml Ice Chuffed\". C'est un e-liquide aux saveurs fraîches de citrons jaunes et verts, avec une contenance de 100ml. Il est fabriqué par la marque Chuffed, originaire du Royaume-Uni. Ce produit est surboosté en arômes et peut être ajusté avec des boosters de nicotine selon tes besoins. Voici le lien pour plus de détails : [Frozen Lemon And Lime 100ml Ice Chuffed](https://www.aromes-et-liquides.fr/e-liquide-chuffed/14228-frozen-lemon-and-lime-100ml-ice.html).\n",
      "Similarité FAISS :  None\n"
     ]
    }
   ],
   "source": [
    "# Test de la chaîne\n",
    "try:\n",
    "    question = 'Propose moi un produit avec lime'\n",
    "    \n",
    "    # Utilisation de similarity_search directement sur le vectorstore pour récupérer les documents similaires\n",
    "    docs = vectorstore.similarity_search(question, k=5)  # k = 5 documents à récupérer\n",
    "    \n",
    "    # Vérification de la structure des documents pour accéder au score\n",
    "    if docs:\n",
    "        # Récupérer le score de similarité en accédant au score de chaque document\n",
    "        faiss_similarity_score = docs[0].score if hasattr(docs[0], 'score') else None  # Vérifier la présence du score\n",
    "    else:\n",
    "        faiss_similarity_score = None\n",
    "    \n",
    "    # Générer la réponse avec le QA chain\n",
    "    response = qa_chain.invoke(question)\n",
    "    \n",
    "    # Afficher les résultats\n",
    "    print(\"Reponse LLM : \", response)\n",
    "    print(\"Similarité FAISS : \", faiss_similarity_score)\n",
    "\n",
    "except Exception as e:\n",
    "    print(f\"Erreur lors de l'invocation : {e}\")\n"
   ]
  },
  {
   "cell_type": "code",
   "execution_count": 225,
   "metadata": {},
   "outputs": [],
   "source": [
    "import numpy as np\n",
    "\n",
    "# 4. Résultat pour LLM\n",
    "try:\n",
    "    # Obtenir la réponse via qa_chain\n",
    "    llm_response = qa_chain.invoke(question)\n",
    "    \n",
    "    # Calcul de la similarité entre la question et la réponse\n",
    "    query_embedding = embeddings.embed_query(question)  # Embedding de la question\n",
    "    llm_embedding = embeddings.embed_query(llm_response)  # Embedding de la réponse\n",
    "    \n",
    "    # Vérifier si les embeddings sont sous forme de liste de vecteurs, et extraire le premier vecteur si nécessaire\n",
    "    query_embedding = np.array(query_embedding[0]) if isinstance(query_embedding, list) else np.array(query_embedding)\n",
    "    llm_embedding = np.array(llm_embedding[0]) if isinstance(llm_embedding, list) else np.array(llm_embedding)\n",
    "    \n",
    "    # Calcul de la similarité cosinus\n",
    "    llm_similarity_score = np.dot(query_embedding, llm_embedding)  # Utiliser numpy pour le produit scalaire\n",
    "\n",
    "    # Ajouter les résultats à la liste\n",
    "    results.append({\n",
    "        'Modele': 'LLM',\n",
    "        'Similarity': llm_similarity_score,\n",
    "        'Reponse': llm_response\n",
    "    })\n",
    "except Exception as e:\n",
    "    print(f\"Erreur LLM : {e}\")\n",
    "    results.append({\n",
    "        'Modele': 'LLM',\n",
    "        'Similarity': None,\n",
    "        'Reponse': \"Erreur lors de la récupération de la réponse LLM\"\n",
    "    })\n"
   ]
  },
  {
   "cell_type": "code",
   "execution_count": 226,
   "metadata": {},
   "outputs": [
    {
     "data": {
      "text/html": [
       "<div>\n",
       "<style scoped>\n",
       "    .dataframe tbody tr th:only-of-type {\n",
       "        vertical-align: middle;\n",
       "    }\n",
       "\n",
       "    .dataframe tbody tr th {\n",
       "        vertical-align: top;\n",
       "    }\n",
       "\n",
       "    .dataframe thead th {\n",
       "        text-align: right;\n",
       "    }\n",
       "</style>\n",
       "<table border=\"1\" class=\"dataframe\">\n",
       "  <thead>\n",
       "    <tr style=\"text-align: right;\">\n",
       "      <th></th>\n",
       "      <th>Modele</th>\n",
       "      <th>Similarity</th>\n",
       "      <th>Reponse</th>\n",
       "    </tr>\n",
       "  </thead>\n",
       "  <tbody>\n",
       "    <tr>\n",
       "      <th>0</th>\n",
       "      <td>TF-IDF</td>\n",
       "      <td>0.886548</td>\n",
       "      <td>liquide au citron</td>\n",
       "    </tr>\n",
       "    <tr>\n",
       "      <th>1</th>\n",
       "      <td>BM25</td>\n",
       "      <td>0.813998</td>\n",
       "      <td>liquide au citron</td>\n",
       "    </tr>\n",
       "    <tr>\n",
       "      <th>2</th>\n",
       "      <td>LLM</td>\n",
       "      <td>0.010548</td>\n",
       "      <td>Je te propose le produit \"Frozen Lemon And Lime 100ml Ice Chuffed\". C'est un e-liquide aux saveurs fraîches de citrons jaunes et verts, avec une contenance de 100ml. Il est fabriqué par la marque Chuffed, originaire du Royaume-Uni. Ce produit est surboosté en arômes et peut être ajusté avec des boosters de nicotine selon tes besoins. Voici le lien pour plus de détails : [Frozen Lemon And Lime 100ml Ice Chuffed](https://www.aromes-et-liquides.fr/e-liquide-chuffed/14228-frozen-lemon-and-lime-100ml-ice.html).</td>\n",
       "    </tr>\n",
       "  </tbody>\n",
       "</table>\n",
       "</div>"
      ],
      "text/plain": [
       "   Modele  Similarity  \\\n",
       "0  TF-IDF    0.886548   \n",
       "1    BM25    0.813998   \n",
       "2     LLM    0.010548   \n",
       "\n",
       "                                                                                                                                                                                                                                                                                                                                                                                                                                                                                                                           Reponse  \n",
       "0                                                                                                                                                                                                                                                                                                                                                                                                                                                                                                                liquide au citron  \n",
       "1                                                                                                                                                                                                                                                                                                                                                                                                                                                                                                                liquide au citron  \n",
       "2  Je te propose le produit \"Frozen Lemon And Lime 100ml Ice Chuffed\". C'est un e-liquide aux saveurs fraîches de citrons jaunes et verts, avec une contenance de 100ml. Il est fabriqué par la marque Chuffed, originaire du Royaume-Uni. Ce produit est surboosté en arômes et peut être ajusté avec des boosters de nicotine selon tes besoins. Voici le lien pour plus de détails : [Frozen Lemon And Lime 100ml Ice Chuffed](https://www.aromes-et-liquides.fr/e-liquide-chuffed/14228-frozen-lemon-and-lime-100ml-ice.html).  "
      ]
     },
     "execution_count": 226,
     "metadata": {},
     "output_type": "execute_result"
    }
   ],
   "source": [
    "# Créer un DataFrame avec les résultats\n",
    "results_df = pd.DataFrame(results)\n",
    "\n",
    "# Afficher la table\n",
    "results_df"
   ]
  },
  {
   "cell_type": "code",
   "execution_count": 152,
   "metadata": {},
   "outputs": [
    {
     "name": "stdout",
     "output_type": "stream",
     "text": [
      "0                                                                                                                                                                                                                                                                                                                                                                                                                                                                                                                                                                                                                                                                                                                                                                                                                                                                                                                                                                                                                                Aucune réponse trouvée\n",
      "1                                                                                                                                                                                                                                                                                                                                                                                                                                                                                                                                                                                                                                                                                                                                                                                                                                                                                                                                                                                           Réponse basée sur le modèle BM25 (placez ici votre réponse)\n",
      "2    The term \"Saveur cassis lime\" refers to a flavor profile that includes blackcurrant (cassis) and lime. This flavor combination is found in several e-liquids, such as:\\n\\n1. **Cassis Frais Cirkus VDLV**: This e-liquid features flavors of cassis, lime, wine, and menthol. It is a fresh and fruity e-liquid made in France by Vincent Dans Les Vapes (VDLV).\\n\\n2. **Cassis Framboise Bleue 200ml Biggy Bear**: This e-liquid includes flavors of kiwi, strawberry, popcorn, raspberry, pomegranate, cassis, and lime. It is produced by Secret's Lab in France.\\n\\n3. **Blackcurrant Chew 100ml Fruits Chuffed**: This e-liquid has flavors of cassis, lime, and candy. It is a product of Chuffed, a brand from the United Kingdom.\\n\\n4. **Citron Cassis Fruizee**: This e-liquid combines the fruity and fresh flavors of cassis, lime, and lemon. It is made by Eliquid France.\\n\\nEach of these products offers a unique take on the cassis and lime flavor combination, often with additional flavors to enhance the vaping experience.\n",
      "Name: Reponse, dtype: object\n"
     ]
    }
   ],
   "source": [
    "import pandas as pd\n",
    "\n",
    "# Afficher toutes les colonnes sans troncature\n",
    "pd.set_option('display.max_colwidth', None)\n",
    "\n",
    "# Afficher toutes les réponses de la colonne 'Reponse'\n",
    "all_responses = results_df['Reponse']\n",
    "\n",
    "# Afficher les résultats\n",
    "print(all_responses)\n"
   ]
  },
  {
   "cell_type": "code",
   "execution_count": 184,
   "metadata": {},
   "outputs": [
    {
     "name": "stdout",
     "output_type": "stream",
     "text": [
      "(1, 5)\n"
     ]
    }
   ],
   "source": [
    "query_tfidf = vectorizer.transform([query])\n",
    "print(query_tfidf.shape)  # Vérifier la taille du vecteur de la requête\n"
   ]
  },
  {
   "cell_type": "code",
   "execution_count": 185,
   "metadata": {},
   "outputs": [
    {
     "name": "stdout",
     "output_type": "stream",
     "text": [
      "(4, 5)\n"
     ]
    }
   ],
   "source": [
    "print(tfidf_matrix.shape)  # Vérifier la forme de la matrice TF-IDF\n",
    "if tfidf_matrix.shape[0] == 0:\n",
    "    print(\"La matrice TF-IDF est vide\")\n"
   ]
  },
  {
   "cell_type": "markdown",
   "metadata": {},
   "source": []
  },
  {
   "cell_type": "code",
   "execution_count": 9,
   "metadata": {},
   "outputs": [
    {
     "name": "stdout",
     "output_type": "stream",
     "text": [
      "Score de similarité: 0.9838 - Contenu: index: 28\n",
      "url: https://www.aromes-et-liquides.fr/e-liquide-chuffed/14228-frozen-lemon-and-lime-100ml\n",
      "Score de similarité: 1.0127 - Contenu: index: 75\n",
      "url: https://www.aromes-et-liquides.fr/e-liquide-pulp/4838-e-liquide-cherry-frost-par-pulp\n",
      "Score de similarité: 1.0190 - Contenu: index: 4\n",
      "url: https://www.aromes-et-liquides.fr/e-liquide-t-juice/3539-e-liquide-red-astaire-par-t-j\n",
      "Score de similarité: 1.0370 - Contenu: index: 45\n",
      "url: https://www.aromes-et-liquides.fr/e-liquide-swoke/1722-e-liquide-bisou-v2-par-swoke.h\n",
      "Score de similarité: 1.0371 - Contenu: index: 23\n",
      "url: https://www.aromes-et-liquides.fr/e-liquide-eliquid-france/2525-exotic-eliquid-france\n"
     ]
    }
   ],
   "source": [
    "# Récupération des documents avec leurs scores\n",
    "question = \"Propose moi un produit avec lime\"\n",
    "retrieved_docs_with_scores = vectorstore.similarity_search_with_score(question, k=5)  # k = nombre max de documents à récupérer\n",
    "\n",
    "# Affichage des résultats\n",
    "for doc, score in retrieved_docs_with_scores:\n",
    "    print(f\"Score de similarité: {score:.4f} - Contenu: {doc.page_content[:100]}\")\n",
    "\n"
   ]
  },
  {
   "cell_type": "code",
   "execution_count": 8,
   "metadata": {},
   "outputs": [
    {
     "name": "stdout",
     "output_type": "stream",
     "text": [
      "Score Cosine Similarity: 0.4372 - Contenu: index: 8\n",
      "url: https://www.aromes-et-liquides.fr/e-liquide-pulp/1832-e-liquide-fraise-sauvage-pulp.html\n",
      "nom_produit: Fraise Sauvage PULP\n",
      "img_produit: https://assets.aromes-et-liquides.fr/54914-thickbox\n",
      "Score Cosine Similarity: 0.4311 - Contenu: index: 16\n",
      "url: https://www.aromes-et-liquides.fr/e-liquide-alfaliquid/2307-e-liquide-miss-fraise-par-alfaliquid.html\n",
      "nom_produit: Miss Fraise Alfaliquid\n",
      "img_produit: https://assets.aromes-et-liquides.\n",
      "Score Cosine Similarity: 0.4231 - Contenu: index: 99\n",
      "url: https://www.aromes-et-liquides.fr/e-liquide-cirkus-vdlv/10230-e-liquide-cirkus-fraise-menthe-par-vdlv.html\n",
      "nom_produit: Fraise Menthe Cirkus VDLV\n",
      "img_produit: https://assets.aromes-et-l\n",
      "Score Cosine Similarity: 0.4189 - Contenu: index: 81\n",
      "url: https://www.aromes-et-liquides.fr/e-liquide-fruizee/3886-e-liquide-fruizee-cassis-mangue-par-eliquid-france.html\n",
      "nom_produit: Cassis Mangue Fruizee\n",
      "img_produit: https://assets.aromes-et\n"
     ]
    }
   ],
   "source": [
    "from sklearn.metrics.pairwise import cosine_similarity\n",
    "import numpy as np\n",
    "\n",
    "# Encoder la question en embedding\n",
    "query_embedding = embeddings.embed_query(question)\n",
    "\n",
    "# Récupérer les documents et leurs embeddings\n",
    "retrieved_docs = retriever.get_relevant_documents(question)\n",
    "doc_embeddings = [embeddings.embed_query(doc.page_content) for doc in retrieved_docs]\n",
    "\n",
    "# Calculer les similarités cosinus\n",
    "similarities = cosine_similarity([query_embedding], doc_embeddings)[0]\n",
    "\n",
    "# Afficher les résultats\n",
    "for doc, score in zip(retrieved_docs, similarities):\n",
    "    print(f\"Score Cosine Similarity: {score:.4f} - Contenu: {doc.page_content[:200]}\")\n"
   ]
  },
  {
   "cell_type": "code",
   "execution_count": 10,
   "metadata": {},
   "outputs": [],
   "source": [
    "df = pd.read_csv('rag_csv.csv')"
   ]
  },
  {
   "cell_type": "code",
   "execution_count": 12,
   "metadata": {},
   "outputs": [],
   "source": [
    "# TF-IDF Similarity\n",
    "vectorizer = TfidfVectorizer()\n",
    "tfidf_matrix = vectorizer.fit_transform(df['description'])\n",
    "\n",
    "def recommend_tfidf(query, tfidf_matrix, vectorizer):\n",
    "    query_tfidf = vectorizer.transform([query])\n",
    "    cosine_sim = cosine_similarity(query_tfidf, tfidf_matrix).flatten()\n",
    "    idx = cosine_sim.argsort()[-1]  # Meilleur match\n",
    "    return df['description'][idx], cosine_sim[idx]\n"
   ]
  },
  {
   "cell_type": "code",
   "execution_count": 14,
   "metadata": {},
   "outputs": [],
   "source": [
    "from rank_bm25 import BM25Okapi"
   ]
  },
  {
   "cell_type": "code",
   "execution_count": 15,
   "metadata": {},
   "outputs": [],
   "source": [
    "#  BM25 Similarity\n",
    "\n",
    "preprocessed_descriptions = [desc.lower().split() for desc in df['description']]\n",
    "bm25 = BM25Okapi(preprocessed_descriptions)\n",
    "\n",
    "def recommend_bm25(query):\n",
    "    preprocessed_query = query.lower().split()\n",
    "    scores = bm25.get_scores(preprocessed_query)\n",
    "    idx = scores.argsort()[-1]  # Meilleur match\n",
    "    return df['description'][idx], scores[idx]"
   ]
  },
  {
   "cell_type": "code",
   "execution_count": 16,
   "metadata": {},
   "outputs": [],
   "source": [
    "# LLM + FAISS (Vector Search)\n",
    "\n",
    "embeddings = HuggingFaceEmbeddings(model_name=\"sentence-transformers/all-MiniLM-L6-v2\")\n",
    "vectorstore = FAISS.from_texts(df['description'].tolist(), embeddings)\n",
    "\n",
    "def recommend_llm(query):\n",
    "    retrieved_docs = vectorstore.similarity_search_with_score(query, k=1)  # k=1 pour le meilleur match\n",
    "    if retrieved_docs:\n",
    "        return retrieved_docs[0][0].page_content, retrieved_docs[0][1]\n",
    "    return \"Aucun résultat\", 0.0  # Si aucun document trouvé\n"
   ]
  },
  {
   "cell_type": "code",
   "execution_count": 17,
   "metadata": {},
   "outputs": [],
   "source": [
    "# Comparaison des Modèles\n",
    "\n",
    "query = \"Saveur cassis lime\"\n",
    "\n",
    "# Obtenir les résultats des trois modèles\n",
    "tfidf_result, tfidf_score = recommend_tfidf(query, tfidf_matrix, vectorizer)\n",
    "bm25_result, bm25_score = recommend_bm25(query)\n",
    "llm_result, llm_score = recommend_llm(query)\n"
   ]
  },
  {
   "cell_type": "code",
   "execution_count": 18,
   "metadata": {},
   "outputs": [],
   "source": [
    "# Création du tableau de comparaison\n",
    "comparison_df = pd.DataFrame({\n",
    "    \"Modèle\": [\"TF-IDF\", \"BM25\", \"LLM (FAISS + OpenAI)\"],\n",
    "    \"Similarité\": [tfidf_score, bm25_score, llm_score],\n",
    "    \"Réponse\": [tfidf_result, bm25_result, llm_result]\n",
    "})"
   ]
  },
  {
   "cell_type": "code",
   "execution_count": 20,
   "metadata": {},
   "outputs": [
    {
     "data": {
      "text/html": [
       "<div>\n",
       "<style scoped>\n",
       "    .dataframe tbody tr th:only-of-type {\n",
       "        vertical-align: middle;\n",
       "    }\n",
       "\n",
       "    .dataframe tbody tr th {\n",
       "        vertical-align: top;\n",
       "    }\n",
       "\n",
       "    .dataframe thead th {\n",
       "        text-align: right;\n",
       "    }\n",
       "</style>\n",
       "<table border=\"1\" class=\"dataframe\">\n",
       "  <thead>\n",
       "    <tr style=\"text-align: right;\">\n",
       "      <th></th>\n",
       "      <th>Modèle</th>\n",
       "      <th>Similarité</th>\n",
       "      <th>Réponse</th>\n",
       "    </tr>\n",
       "  </thead>\n",
       "  <tbody>\n",
       "    <tr>\n",
       "      <th>0</th>\n",
       "      <td>TF-IDF</td>\n",
       "      <td>0.114903</td>\n",
       "      <td>Le Frozen Lemon And Lime 100ml est un e-liquid...</td>\n",
       "    </tr>\n",
       "    <tr>\n",
       "      <th>1</th>\n",
       "      <td>BM25</td>\n",
       "      <td>6.130871</td>\n",
       "      <td>Le Frozen Lemon And Lime 100ml est un e-liquid...</td>\n",
       "    </tr>\n",
       "    <tr>\n",
       "      <th>2</th>\n",
       "      <td>LLM (FAISS + OpenAI)</td>\n",
       "      <td>1.271297</td>\n",
       "      <td>Le Cassis Mangue est un e-liquide français pou...</td>\n",
       "    </tr>\n",
       "  </tbody>\n",
       "</table>\n",
       "</div>"
      ],
      "text/plain": [
       "                 Modèle  Similarité  \\\n",
       "0                TF-IDF    0.114903   \n",
       "1                  BM25    6.130871   \n",
       "2  LLM (FAISS + OpenAI)    1.271297   \n",
       "\n",
       "                                             Réponse  \n",
       "0  Le Frozen Lemon And Lime 100ml est un e-liquid...  \n",
       "1  Le Frozen Lemon And Lime 100ml est un e-liquid...  \n",
       "2  Le Cassis Mangue est un e-liquide français pou...  "
      ]
     },
     "execution_count": 20,
     "metadata": {},
     "output_type": "execute_result"
    }
   ],
   "source": [
    "comparison_df"
   ]
  },
  {
   "cell_type": "markdown",
   "metadata": {},
   "source": [
    "normalisation des score"
   ]
  },
  {
   "cell_type": "code",
   "execution_count": 21,
   "metadata": {},
   "outputs": [],
   "source": [
    "from sklearn.preprocessing import MinMaxScaler\n",
    "import pandas as pd\n",
    "\n",
    "# Supposons que ces scores proviennent de tes modèles\n",
    "scores = {\n",
    "    \"TF-IDF\": tfidf_score,\n",
    "    \"BM25\": bm25_score,\n",
    "    \"LLM (FAISS + OpenAI)\": llm_score\n",
    "}\n",
    "\n",
    "# Convertir les scores en dataframe\n",
    "df_scores = pd.DataFrame(list(scores.items()), columns=[\"Modèle\", \"Score\"])\n",
    "\n",
    "# Initialiser le scaler MinMax\n",
    "scaler = MinMaxScaler()\n",
    "\n",
    "# Normaliser les scores (de 0 à 1)\n",
    "df_scores[\"Score Normalisé\"] = scaler.fit_transform(df_scores[[\"Score\"]])"
   ]
  },
  {
   "cell_type": "code",
   "execution_count": 22,
   "metadata": {},
   "outputs": [
    {
     "data": {
      "text/html": [
       "<div>\n",
       "<style scoped>\n",
       "    .dataframe tbody tr th:only-of-type {\n",
       "        vertical-align: middle;\n",
       "    }\n",
       "\n",
       "    .dataframe tbody tr th {\n",
       "        vertical-align: top;\n",
       "    }\n",
       "\n",
       "    .dataframe thead th {\n",
       "        text-align: right;\n",
       "    }\n",
       "</style>\n",
       "<table border=\"1\" class=\"dataframe\">\n",
       "  <thead>\n",
       "    <tr style=\"text-align: right;\">\n",
       "      <th></th>\n",
       "      <th>Modèle</th>\n",
       "      <th>Score</th>\n",
       "      <th>Score Normalisé</th>\n",
       "    </tr>\n",
       "  </thead>\n",
       "  <tbody>\n",
       "    <tr>\n",
       "      <th>0</th>\n",
       "      <td>TF-IDF</td>\n",
       "      <td>0.114903</td>\n",
       "      <td>0.000000</td>\n",
       "    </tr>\n",
       "    <tr>\n",
       "      <th>1</th>\n",
       "      <td>BM25</td>\n",
       "      <td>6.130871</td>\n",
       "      <td>1.000000</td>\n",
       "    </tr>\n",
       "    <tr>\n",
       "      <th>2</th>\n",
       "      <td>LLM (FAISS + OpenAI)</td>\n",
       "      <td>1.271297</td>\n",
       "      <td>0.192221</td>\n",
       "    </tr>\n",
       "  </tbody>\n",
       "</table>\n",
       "</div>"
      ],
      "text/plain": [
       "                 Modèle     Score  Score Normalisé\n",
       "0                TF-IDF  0.114903         0.000000\n",
       "1                  BM25  6.130871         1.000000\n",
       "2  LLM (FAISS + OpenAI)  1.271297         0.192221"
      ]
     },
     "execution_count": 22,
     "metadata": {},
     "output_type": "execute_result"
    }
   ],
   "source": [
    "df_scores"
   ]
  },
  {
   "cell_type": "code",
   "execution_count": 23,
   "metadata": {},
   "outputs": [
    {
     "name": "stdout",
     "output_type": "stream",
     "text": [
      "                 Modèle     Score  Score Normalisé\n",
      "0                TF-IDF  0.114903        -0.917241\n",
      "1                  BM25  6.130871         1.390823\n",
      "2  LLM (FAISS + OpenAI)  1.271297        -0.473583\n"
     ]
    }
   ],
   "source": [
    "from sklearn.preprocessing import StandardScaler\n",
    "import pandas as pd\n",
    "\n",
    "# Supposons que ces scores proviennent de tes modèles\n",
    "scores = {\n",
    "    \"TF-IDF\": tfidf_score,\n",
    "    \"BM25\": bm25_score,\n",
    "    \"LLM (FAISS + OpenAI)\": llm_score\n",
    "}\n",
    "\n",
    "# Convertir les scores en dataframe\n",
    "df_scores = pd.DataFrame(list(scores.items()), columns=[\"Modèle\", \"Score\"])\n",
    "\n",
    "# Initialiser le scaler Z-score\n",
    "scaler = StandardScaler()\n",
    "\n",
    "# Normaliser les scores (moyenne 0, écart-type 1)\n",
    "df_scores[\"Score Normalisé\"] = scaler.fit_transform(df_scores[[\"Score\"]])\n",
    "\n",
    "# Afficher le résultat\n",
    "print(df_scores)\n"
   ]
  },
  {
   "cell_type": "markdown",
   "metadata": {},
   "source": [
    "Évaluation basée sur des règles, où nous vérifions si la recommandation contient des mots-clés présents dans la requête.\n",
    "Évaluation avec une liste d'évaluateurs pour recueillir des évaluations manuelles des recommandations."
   ]
  },
  {
   "cell_type": "code",
   "execution_count": 25,
   "metadata": {},
   "outputs": [],
   "source": [
    "# 1. Évaluation basée sur des règles (Automatique)\n",
    "def is_recommendation_correct(query, recommendation):\n",
    "    \"\"\"\n",
    "    Vérifie si la recommandation contient des mots-clés présents dans la requête.\n",
    "    \"\"\"\n",
    "    query_keywords = set(query.lower().split())  # Divise la requête en mots-clés\n",
    "    recommendation_keywords = set(recommendation.lower().split())  # Divise la recommandation en mots-clés\n",
    "    \n",
    "    # Vérifie si les mots-clés de la requête sont dans la recommandation\n",
    "    return len(query_keywords & recommendation_keywords) > 0"
   ]
  },
  {
   "cell_type": "code",
   "execution_count": 26,
   "metadata": {},
   "outputs": [],
   "source": [
    "# 2. Liste d'évaluations manuelles\n",
    "evaluations = {\n",
    "    \"TF-IDF\": [\n",
    "        {\"query\": \"Saveur cassis lime\", \"recommandation\": \"Saveur cassis lime\", \"eval\": 1},  # 1 = correcte\n",
    "        {\"query\": \"Saveur pomme fraîche\", \"recommandation\": \"Saveur pomme cassis\", \"eval\": 0}, # 0 = incorrecte\n",
    "        {\"query\": \"Cassis et lime saveur\", \"recommandation\": \"Saveur citron cassis\", \"eval\": 1}\n",
    "    ],\n",
    "    \"BM25\": [\n",
    "        {\"query\": \"Saveur cassis lime\", \"recommandation\": \"Saveur cassis lime\", \"eval\": 1},\n",
    "        {\"query\": \"Saveur pomme fraîche\", \"recommandation\": \"Saveur pomme fraîche\", \"eval\": 1},\n",
    "        {\"query\": \"Cassis et lime saveur\", \"recommandation\": \"Saveur lime cassis\", \"eval\": 1}\n",
    "    ],\n",
    "    \"LLM (FAISS + OpenAI)\": [\n",
    "        {\"query\": \"Saveur cassis lime\", \"recommandation\": \"Saveur cassis lime\", \"eval\": 1},\n",
    "        {\"query\": \"Saveur pomme fraîche\", \"recommandation\": \"Saveur pomme fraîche\", \"eval\": 1},\n",
    "        {\"query\": \"Cassis et lime saveur\", \"recommandation\": \"Saveur cassis lime\", \"eval\": 1}\n",
    "    ]\n",
    "}"
   ]
  },
  {
   "cell_type": "code",
   "execution_count": 27,
   "metadata": {},
   "outputs": [],
   "source": [
    "# Calcul de la précision à partir des évaluations manuelles\n",
    "precision_scores_manual = {\n",
    "    model: sum([eval_info['eval'] for eval_info in evaluations[model]]) / len(evaluations[model])\n",
    "    for model in evaluations\n",
    "}"
   ]
  },
  {
   "cell_type": "code",
   "execution_count": 28,
   "metadata": {},
   "outputs": [],
   "source": [
    "# 3. Calcul de la précision à partir de l'évaluation basée sur des règles\n",
    "correct_recommendations = {\n",
    "    \"TF-IDF\": [\n",
    "        is_recommendation_correct(\"Saveur cassis lime\", \"Saveur cassis lime\"),\n",
    "        is_recommendation_correct(\"Saveur pomme fraîche\", \"Saveur pomme cassis\"),\n",
    "        is_recommendation_correct(\"Cassis et lime saveur\", \"Saveur citron cassis\")\n",
    "    ],\n",
    "    \n",
    "    \"BM25\": [\n",
    "        is_recommendation_correct(\"Saveur cassis lime\", \"Saveur cassis lime\"),\n",
    "        is_recommendation_correct(\"Saveur pomme fraîche\", \"Saveur pomme fraîche\"),\n",
    "        is_recommendation_correct(\"Cassis et lime saveur\", \"Saveur lime cassis\")\n",
    "    ],\n",
    "    \n",
    "    \"LLM (FAISS + OpenAI)\": [\n",
    "        is_recommendation_correct(\"Saveur cassis lime\", \"Saveur cassis lime\"),\n",
    "        is_recommendation_correct(\"Saveur pomme fraîche\", \"Saveur pomme fraîche\"),\n",
    "        is_recommendation_correct(\"Cassis et lime saveur\", \"Saveur cassis lime\")\n",
    "    ]\n",
    "}"
   ]
  },
  {
   "cell_type": "code",
   "execution_count": 29,
   "metadata": {},
   "outputs": [],
   "source": [
    "# Calcul de la précision à partir des règles\n",
    "precision_scores_rule_based = {\n",
    "    model: sum(correct_recommendations[model]) / len(correct_recommendations[model])\n",
    "    for model in correct_recommendations\n",
    "}"
   ]
  },
  {
   "cell_type": "code",
   "execution_count": 30,
   "metadata": {},
   "outputs": [
    {
     "name": "stdout",
     "output_type": "stream",
     "text": [
      "Précision des modèles (évaluation manuelle) : {'TF-IDF': 0.6666666666666666, 'BM25': 1.0, 'LLM (FAISS + OpenAI)': 1.0}\n",
      "Précision des modèles (basée sur des règles) : {'TF-IDF': 1.0, 'BM25': 1.0, 'LLM (FAISS + OpenAI)': 1.0}\n"
     ]
    }
   ],
   "source": [
    "# Afficher les résultats\n",
    "print(\"Précision des modèles (évaluation manuelle) :\", precision_scores_manual)\n",
    "print(\"Précision des modèles (basée sur des règles) :\", precision_scores_rule_based)"
   ]
  },
  {
   "cell_type": "code",
   "execution_count": 31,
   "metadata": {},
   "outputs": [
    {
     "name": "stdout",
     "output_type": "stream",
     "text": [
      "\n",
      "Modèle: TF-IDF\n",
      "Précision (évaluation manuelle) : 0.6666666666666666\n",
      "Précision (évaluation basée sur des règles) : 1.0\n",
      "\n",
      "Modèle: BM25\n",
      "Précision (évaluation manuelle) : 1.0\n",
      "Précision (évaluation basée sur des règles) : 1.0\n",
      "\n",
      "Modèle: LLM (FAISS + OpenAI)\n",
      "Précision (évaluation manuelle) : 1.0\n",
      "Précision (évaluation basée sur des règles) : 1.0\n"
     ]
    }
   ],
   "source": [
    "# Comparer les résultats entre l'évaluation manuelle et l'évaluation basée sur des règles\n",
    "for model in evaluations:\n",
    "    print(f\"\\nModèle: {model}\")\n",
    "    print(f\"Précision (évaluation manuelle) : {precision_scores_manual[model]}\")\n",
    "    print(f\"Précision (évaluation basée sur des règles) : {precision_scores_rule_based[model]}\")"
   ]
  },
  {
   "cell_type": "code",
   "execution_count": null,
   "metadata": {},
   "outputs": [],
   "source": []
  },
  {
   "cell_type": "code",
   "execution_count": 56,
   "metadata": {},
   "outputs": [
    {
     "name": "stdout",
     "output_type": "stream",
     "text": [
      "Le meilleur score de similarité cosinus entre la requête et les descriptions est : 0.3848816585632686\n"
     ]
    }
   ],
   "source": [
    "from sklearn.feature_extraction.text import TfidfVectorizer\n",
    "import numpy as np\n",
    "\n",
    "# Liste de descriptions (plusieurs descriptions de produits)\n",
    "descriptions = [\n",
    "    \"Le e-liquide Ragnarok par A&L Ultimate est un produit prêt à l'emploi pour cigarette électronique, avec des saveurs de fruits rouges et de cassis.\",\n",
    "    \"Ce e-liquide fruité à la fraise est parfait pour ceux qui aiment une touche sucrée de fruits frais.\",\n",
    "    \"Le e-liquide tropical mélange des saveurs de mangue, d'ananas et de fruits de la passion.\"\n",
    "]\n",
    "\n",
    "# Requête utilisateur\n",
    "requete_utilisateur = \"e-liquide fruité à la fraise\"\n",
    "\n",
    "# Initialiser un TF-IDF Vectorizer\n",
    "vectorizer = TfidfVectorizer()\n",
    "\n",
    "# Convertir les descriptions et la requête en vecteurs TF-IDF\n",
    "tfidf_matrix = vectorizer.fit_transform(descriptions + [requete_utilisateur])\n",
    "\n",
    "# Calculer la similarité cosinus entre la requête et toutes les descriptions\n",
    "similarity_scores = np.dot(tfidf_matrix[-1].toarray(), tfidf_matrix[:-1].toarray().T)\n",
    "\n",
    "# Récupérer le meilleur score (le score maximal)\n",
    "best_similarity_score = np.max(similarity_scores)\n",
    "\n",
    "# Afficher le meilleur score\n",
    "print(f\"Le meilleur score de similarité cosinus entre la requête et les descriptions est : {best_similarity_score}\")\n"
   ]
  },
  {
   "cell_type": "code",
   "execution_count": null,
   "metadata": {},
   "outputs": [
    {
     "name": "stdout",
     "output_type": "stream",
     "text": [
      "Le meilleur score de similarité cosinus entre la requête et les descriptions est : 0.19586681511555729\n"
     ]
    }
   ],
   "source": [
    "from sklearn.feature_extraction.text import TfidfVectorizer\n",
    "import numpy as np\n",
    "\n",
    "\n",
    "# Requête utilisateur\n",
    "requete_utilisateur = \"e-liquide fruité à la fraise\"\n",
    "\n",
    "# Initialiser un TF-IDF Vectorizer\n",
    "vectorizer = TfidfVectorizer()\n",
    "\n",
    "# Convertir les descriptions du DataFrame et la requête en vecteurs TF-IDF\n",
    "tfidf_matrix = vectorizer.fit_transform(df['description'].values.tolist() + [requete_utilisateur])\n",
    "\n",
    "# Calculer la similarité cosinus entre la requête et toutes les descriptions\n",
    "similarity_scores = np.dot(tfidf_matrix[-1].toarray(), tfidf_matrix[:-1].toarray().T)\n",
    "\n",
    "# Récupérer le meilleur score (le score maximal)\n",
    "best_similarity_score = np.max(similarity_scores)\n",
    "\n",
    "# Afficher le meilleur score\n",
    "print(f\"Le meilleur score de similarité cosinus entre la requête et les descriptions est : {best_similarity_score}\")\n"
   ]
  },
  {
   "cell_type": "code",
   "execution_count": 53,
   "metadata": {},
   "outputs": [
    {
     "name": "stdout",
     "output_type": "stream",
     "text": [
      "Le meilleur score BM25 entre la requête et les descriptions est : 1.1403394301403824\n"
     ]
    }
   ],
   "source": [
    "from rank_bm25 import BM25Okapi\n",
    "\n",
    "# Liste de descriptions (plusieurs descriptions de produits)\n",
    "descriptions = [\n",
    "    \"Le e-liquide Ragnarok par A&L Ultimate est un produit prêt à l'emploi pour cigarette électronique, avec des saveurs de fruits rouges et de cassis.\",\n",
    "    \"Ce e-liquide fruité à la fraise est parfait pour ceux qui aiment une touche sucrée de fruits frais.\",\n",
    "    \"Le e-liquide tropical mélange des saveurs de mangue, d'ananas et de fruits de la passion.\"\n",
    "]\n",
    "\n",
    "# Requête utilisateur\n",
    "requete_utilisateur = \"e-liquide fruité à la fraise\"\n",
    "\n",
    "# Tokenisation des descriptions et de la requête\n",
    "descriptions_tokens = [description.split() for description in descriptions]\n",
    "requete_tokens = requete_utilisateur.split()\n",
    "\n",
    "# Construire un modèle BM25 avec les descriptions\n",
    "bm25 = BM25Okapi(descriptions_tokens)\n",
    "\n",
    "# Calculer la similarité BM25 entre la requête et toutes les descriptions\n",
    "bm25_scores = bm25.get_scores(requete_tokens)\n",
    "\n",
    "# Récupérer le meilleur score (le score maximal)\n",
    "best_score = max(bm25_scores)\n",
    "\n",
    "# Afficher le meilleur score\n",
    "print(f\"Le meilleur score BM25 entre la requête et les descriptions est : {best_score}\")\n"
   ]
  },
  {
   "cell_type": "code",
   "execution_count": 80,
   "metadata": {},
   "outputs": [
    {
     "name": "stdout",
     "output_type": "stream",
     "text": [
      "Le meilleur score BM25 normalisé entre la requête et les descriptions est : 0.9999999999999998\n"
     ]
    }
   ],
   "source": [
    "# Requête utilisateur\n",
    "requete_utilisateur = \"e-liquide fruité à la fraise\"\n",
    "\n",
    "# Tokenisation des descriptions du DataFrame et de la requête\n",
    "descriptions_tokens = [description.split() for description in df['description'].tolist()]\n",
    "requete_tokens = requete_utilisateur.split()\n",
    "\n",
    "# Construire un modèle BM25 avec les descriptions\n",
    "bm25 = BM25Okapi(descriptions_tokens)\n",
    "\n",
    "# Calculer la similarité BM25 entre la requête et toutes les descriptions\n",
    "bm25_scores = bm25.get_scores(requete_tokens)\n",
    "\n",
    "# Normalisation Min-Max des scores BM25\n",
    "scaler = MinMaxScaler()\n",
    "bm25_scores_normalized = scaler.fit_transform(bm25_scores.reshape(-1, 1)).flatten()\n",
    "\n",
    "# Récupérer le meilleur score normalisé (le score maximal)\n",
    "best_normalized_score = max(bm25_scores_normalized)\n",
    "\n",
    "# Afficher le meilleur score normalisé\n",
    "print(f\"Le meilleur score BM25 normalisé entre la requête et les descriptions est : {best_normalized_score}\")"
   ]
  },
  {
   "cell_type": "code",
   "execution_count": 89,
   "metadata": {},
   "outputs": [
    {
     "name": "stdout",
     "output_type": "stream",
     "text": [
      "Score de similarité entre la requête et le contexte : 0.6568676602603319\n"
     ]
    }
   ],
   "source": [
    "from sklearn.metrics.pairwise import cosine_similarity\n",
    "import numpy as np\n",
    "\n",
    "# Fonction pour calculer la similarité cosinus entre deux textes\n",
    "def calculate_similarity(query, context, embeddings):\n",
    "    # Calculer les embeddings pour la requête et le contexte\n",
    "    query_embedding = embeddings.embed_query(query)\n",
    "    context_embedding = embeddings.embed_query(context)\n",
    "\n",
    "    # Calculer la similarité cosinus entre les deux embeddings\n",
    "    similarity_score = cosine_similarity([query_embedding], [context_embedding])\n",
    "    \n",
    "    return similarity_score[0][0]  # Récupérer la valeur de la similarité\n",
    "\n",
    "# Modifiez la fonction d'évaluation pour inclure la similarité\n",
    "def evaluate_similarity_with_score(query):\n",
    "    # Récupérer le contexte pertinent\n",
    "    context = get_relevant_context(query)\n",
    "    \n",
    "    # Calculer le score de similarité\n",
    "    similarity_score = calculate_similarity(query, context, embeddings)\n",
    "    \n",
    "    # Afficher le score de similarité\n",
    "    print(f\"Score de similarité entre la requête et le contexte : {similarity_score}\")\n",
    "    \n",
    "    return similarity_score  # Retourner seulement le score de similarité\n",
    "\n",
    "# Exemple de requête\n",
    "requete_utilisateur = \"e-liquide fruité à la fraise\"\n",
    "similarity_score = evaluate_similarity_with_score(requete_utilisateur)\n"
   ]
  },
  {
   "cell_type": "code",
   "execution_count": 99,
   "metadata": {},
   "outputs": [
    {
     "data": {
      "text/plain": [
       "Index(['index', 'url', 'nom_produit', 'img_produit', 'prix_produit',\n",
       "       'contenance', 'pg_vg', 'origine', 'frais', 'surbooste', 'saveur',\n",
       "       'description', 'brand', 'gout', 'info_brand', 'id_produit',\n",
       "       'similarity_score'],\n",
       "      dtype='object')"
      ]
     },
     "execution_count": 99,
     "metadata": {},
     "output_type": "execute_result"
    }
   ],
   "source": [
    "df.columns"
   ]
  },
  {
   "cell_type": "code",
   "execution_count": 101,
   "metadata": {},
   "outputs": [],
   "source": [
    "# Filtrer les lignes où le titre est \"Frozen Lemon And Lime 100ml Ice Chuffed\"\n",
    "resultat  = df[df['nom_produit'] == 'Frozen Lemon And Lime 100ml Ice Chuffed']"
   ]
  },
  {
   "cell_type": "code",
   "execution_count": 102,
   "metadata": {},
   "outputs": [
    {
     "name": "stdout",
     "output_type": "stream",
     "text": [
      "Le Frozen Lemon And Lime 100ml est un e-liquide à booster issu de la collection Ice de la marque Chuffed, auxsaveurs fraîches de citrons jaunes et verts. Sa recette fabriquée en France se compose d'arômes alimentaires, de propylène glycol (PG) et de glycérine végétale (VG), pour un ratio 30PG/70VG. Présenté dans une fiole de 120ml dotée d'un bouchon sécurisé et d'un embout fin,vous pouvez au besoin lui additionnerdu liquide de base ou des boosters 10ml de nicotine (non inclus). Qui est Chuffed ? Chuffed est une marque originaire du Royaume-Uni, spécialisée dans la conception de e-liquides pour cigarette électronique. Retrouvez les recettes de Chuffed en format de 100ml, non nicotinés de base et à booster en fonction de vos besoins. Comment préparer votre e-liquide Frozen Lemon And Lime ? Ce e-liquide est proposé en version100mlboostée en arômes dans un flacon de120ml. Si vous le souhaitez, vous pouvez ajouter un ou plusieurs boosters de nicotine selon vos besoins sans perte de saveur. Pour booster votre e-liquide, vous devez : Indications pour préparer votre e-liquide surboosté de 50 ml : La place disponible dans le flacon d'origine n’est peut-être pas suffisante pour booster votre e-liquide au taux de nicotine souhaité. Pour les dosages importants, nous vous conseillons l’utilisation de contenants plus importants commeun flacon de 100ml graduéouun flacon Twist de 230ml gradué. Astuce : pensez à adapter votre matériel au ratio PG/VG de votre e-liquide ! Vous limiterez ainsi le risque de fuite et l’usure prématurée de vos résistances ! Quel taux de nicotine choisir pour votre e-liquide ? Le choix de votre taux de nicotine dépend de votre profil de fumeur ainsi que de la cigarette électronique utilisée : Si vous utilisez du matériel plus performant avec une résistance inférieure à 1 ohm et pour une puissance supérieure à 30 watts, vous pouvez diviser votre taux de nicotine par deux. Nos conseils pour la maturation de votre e-liquide surboosté De la même façon que pour un e-liquide DIY, on peut observer un temps de repos avec un e-liquide surboosté en arômes après l’ajout d’un ou plusieurs boosters de nicotine. Ce temps de maturation que l’on appelle aussi “steep” permet aux arômes de se développer et de mieux s’exprimer. Pour une maturation optimale, il faut compter : Pour un rendu optimal : secouez votre fiole de e-liquide une fois par jour pour que les arômes se diffusent correctement. Conservation de votre e-liquide Pour une conservation optimale de votre e-liquide, nous vous conseillons de stocker votre flacon à l'abri de la lumière dans un droit sec et à température ambiante. Après contacts répétés à l'air et à la lumière, la couleur de votre e-liquide peut se foncer. Ce changement de couleur n'affecte ni la qualité ni le goût de votre e-liquide. La date indiquée sur l'étiquette est une DLUO (date limite d'utilisation optimale) ou DDM (date de durabilité minimale). Passé cette date, le e-liquide peut encore être consommé.\n"
     ]
    }
   ],
   "source": [
    "# Afficher la colonne 'description' pour les lignes filtrées\n",
    "if not resultat.empty:\n",
    "    descriptions = resultat['description'].tolist()\n",
    "    for desc in descriptions:\n",
    "        print(desc)\n",
    "else:\n",
    "    print(\"Aucune ligne correspondante trouvée.\")"
   ]
  }
 ],
 "metadata": {
  "kernelspec": {
   "display_name": "nlp",
   "language": "python",
   "name": "python3"
  },
  "language_info": {
   "codemirror_mode": {
    "name": "ipython",
    "version": 3
   },
   "file_extension": ".py",
   "mimetype": "text/x-python",
   "name": "python",
   "nbconvert_exporter": "python",
   "pygments_lexer": "ipython3",
   "version": "3.10.15"
  }
 },
 "nbformat": 4,
 "nbformat_minor": 2
}
