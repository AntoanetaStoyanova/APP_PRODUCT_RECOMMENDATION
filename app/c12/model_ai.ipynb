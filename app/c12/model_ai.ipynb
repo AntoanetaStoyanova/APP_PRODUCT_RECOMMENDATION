{
 "cells": [
  {
   "cell_type": "markdown",
   "metadata": {},
   "source": [
    "TF-IDF"
   ]
  },
  {
   "cell_type": "code",
   "execution_count": 76,
   "metadata": {},
   "outputs": [],
   "source": [
    "import os\n",
    "import pandas as pd\n",
    "from sklearn.feature_extraction.text import TfidfVectorizer\n",
    "from sklearn.metrics.pairwise import cosine_similarity"
   ]
  },
  {
   "cell_type": "code",
   "execution_count": 77,
   "metadata": {},
   "outputs": [
    {
     "name": "stdout",
     "output_type": "stream",
     "text": [
      "['a', 'ai', 'aie', 'aient', 'aies', 'ait', 'alors', 'as', 'au', 'aucun']\n"
     ]
    }
   ],
   "source": [
    "# Charger le fichier de mots vides (stopwords) personnalisés\n",
    "french_stopwords_path = '../../app/models/french.txt'\n",
    "\n",
    "# Vérifier si le fichier existe et le lire\n",
    "if os.path.exists(french_stopwords_path):\n",
    "    with open(french_stopwords_path, 'r', encoding='utf-8') as file:\n",
    "        french_stopwords = file.read().splitlines()  # Lire chaque ligne comme un mot séparé\n",
    "    print(french_stopwords[:10])  # 10 premiers mots \n",
    "else:\n",
    "    print(f\"Le fichier french.txt est introuvable dans {french_stopwords_path}\")"
   ]
  },
  {
   "cell_type": "code",
   "execution_count": 78,
   "metadata": {},
   "outputs": [],
   "source": [
    "# Charger les données depuis le CSV\n",
    "df = pd.read_csv('../../RGBD/table_produits/produits.csv')"
   ]
  },
  {
   "cell_type": "code",
   "execution_count": 79,
   "metadata": {},
   "outputs": [],
   "source": [
    "# les descriptions des produits\n",
    "descriptions = df['description'].tolist()"
   ]
  },
  {
   "cell_type": "code",
   "execution_count": 80,
   "metadata": {},
   "outputs": [],
   "source": [
    "# Initialisation du vectoriseur TF-IDF avec la liste personnalisée de mots vides\n",
    "vectorizer = TfidfVectorizer(stop_words=french_stopwords)"
   ]
  },
  {
   "cell_type": "code",
   "execution_count": 81,
   "metadata": {},
   "outputs": [],
   "source": [
    "# Transformation des descriptions en vecteurs TF-IDF\n",
    "tfidf_matrix = vectorizer.fit_transform(descriptions)"
   ]
  },
  {
   "cell_type": "code",
   "execution_count": 82,
   "metadata": {},
   "outputs": [],
   "source": [
    "# Fonction pour recommander des produits basés sur une requête utilisateur\n",
    "def recommend_by_query(query, tfidf_matrix, vectorizer, top_n=5):\n",
    "    # Transformation de la requête en vecteur TF-IDF\n",
    "    query_tfidf = vectorizer.transform([query])\n",
    "    \n",
    "    # Calcul de la similarité cosinus entre la requête et les descriptions des produits\n",
    "    cosine_similarities = cosine_similarity(query_tfidf, tfidf_matrix).flatten()\n",
    "    \n",
    "    # Trier les indices des produits les plus similaires\n",
    "    similar_indices = cosine_similarities.argsort()[-top_n:][::-1]\n",
    "    \n",
    "    # Afficher les produits recommandés\n",
    "    print(f\"Produits recommandés pour la requête '{query}':\\n\")\n",
    "    for idx in similar_indices:\n",
    "        print(f\"Produit {idx+1}: {df['description'][idx]} - Similarité: {cosine_similarities[idx]:.4f}\")\n"
   ]
  },
  {
   "cell_type": "code",
   "execution_count": 83,
   "metadata": {},
   "outputs": [
    {
     "name": "stdout",
     "output_type": "stream",
     "text": [
      "Produits recommandés pour la requête 'Saveur menthe':\n",
      "\n",
      "Produit 1274: Le Menthe Verte Glacée reprend lessaveurs fraîches d'une menthe chlorophylle, dans une recette signée PULP. Prêt à vaper(PAV), il vous est proposé dans plusieurs taux de nicotine au choix (0, 3, 6 et 12mg/ml), à sélectionner à la commande. Le Menthe Verte Glacée est élaboré à partir d'une base PG/VG de 70/30, et vous est livré dans une fiole de 10ml. Le Menthe Verte Glacée est un e-liquide exclusivement destiné au réservoir de votre cigarette électronique. Il est fabriqué en France par Pulp, à partir d'arômes alimentaires, de propylène glycol et de glycérine végétale. Le e-liquide Menthe Verte Glacée vous est livré dans un flacon de 10ml, équipé d'un bouchon avec sécurité enfant et d'un embout fin facilitant le remplissage de votre réservoir. Qui est PULP ? C'est dans leur laboratoire français, et plus particulièrement parisien que les aromaticiens de la marque PULP conçoivent leurs multiples recettes, et ce, toujours avec le sens du détail. Ainsi, il vous présente aussi bien des e-liquides prêts à vaper, à booster, ou encore des concentrés DIY (Do It Yourself) aux saveurs finement reproduites et de diverses variétés. Nos conseils pour utiliser votre e-liquide Menthe Verte Glacée L'utilisation d'un e-liquide est exclusivement réservée à la cigarette électronique. Nous vous recommandons de bien agiter votre flacon de e-liquide avant emploi. Pour limiter les risques de fuites et prolonger la durée de vie de vos résistances, nous vous conseillons d'utiliser un clearomiseur adapté au taux PG/VG de votre e-liquide. Quel taux de nicotine choisir pour votre e-liquide ? Le choix de votre taux de nicotine dépend de votre profil de fumeur ainsi que de la cigarette électronique utilisée. Si vous utilisez une cigarette électronique équipée d'une résistance égale ou supérieure à 1 ohm et à une puissance ne dépassant pas les 30 watts, voici nos recommandations pour choisir votre taux de nicotine : Si vous utilisez une cigarette électronique plus performante équipée de résistances dont la valeur est inférieure à 1 ohm et pour une puissance supérieure à 30 watts, nous vous conseillons d'utiliser un taux de nicotine plus faible : Conservation de votre e-liquide Pour une conservation optimale de votre e-liquide, nous vous conseillons de stocker votre flacon à l'abri de la lumière dans un droit sec et à température ambiante. Après contacts répétés à l'air et à la lumière, la couleur de votre e-liquide peut se foncer. Ce changement de couleur n'affecte ni la qualité ni le goût de votre e-liquide. La date indiquée sur l'étiquette est une DLUO (date limite d'utilisation optimale) ou DDM (date de durabilité minimale). Passé cette date, le e-liquide peut encore être consommé. Mises en garde et contre-indications : Précautions d'emploi : - Similarité: 0.3462\n",
      "Produit 1343: Pulp vous propose de vapoter une saveur de boisson mentholée, grâce à son e-liquide pour cigarette électronique Le Thé à la Menthe. Non nicotiné de base, il vous estlivré avec un booster 10mlafin au besoin de le vaper dans un taux de 3mg/ml de nicotine. Le e-liquide Le Thé à la Menthe est fabriqué en France à partir d'arômes alimentaires, de propylène glycol (PG) et de glycérine végétale (VG), dans unratio PG/VG de 70/30. Recevez-le dans une fiole de 60ml remplie à hauteur de 50ml de e-liquide, et dotée d'un bouchon avec sécurité enfant et d'un embout fin. Comment utiliser votre e-liquide Le Thé à la Menthe ? Le Thé à la Menthe est proposé en version50mlboostée en arômes dans un flacon de60ml. Si vous le souhaitez, vous pouvez ajouter un ou plusieurs boosters de nicotine selon vos besoins sans perte de saveur. Pour booster votre e-liquide, vous devez : Indications pour préparer votre e-liquide surboosté de 50 ml : La place disponible dans le flacon d'origine n’est peut-être pas suffisante pour booster votre e-liquide au taux de nicotine souhaité. Pour les dosages importants, nous vous conseillons l’utilisation de contenants plus importants commeun flacon de 100ml graduéouun flacon Twist de 230ml gradué. Astuce : pensez à adapter votre matériel au ratio PG/VG de votre e-liquide ! Vous limiterez ainsi le risque de fuite et l’usure prématurée de vos résistances ! Quel taux de nicotine choisir pour votre e-liquide ? Le choix de votre taux de nicotine dépend de votre profil de fumeur ainsi que de la cigarette électronique utilisée : Si vous utilisez du matériel plus performant avec une résistance inférieure à 1 ohm et pour une puissance supérieure à 30 watts, vous pouvez diviser votre taux de nicotine par deux. Nos conseils pour la maturation de votre e-liquide surboosté De la même façon que pour un e-liquide DIY, on peut observer un temps de repos avec un e-liquide surboosté en arômes après l’ajout d’un ou plusieurs boosters de nicotine. Ce temps de maturation que l’on appelle aussi “steep” permet aux arômes de se développer et de mieux s’exprimer. Pour une maturation optimale, il faut compter : Pour un rendu optimal : secouez votre fiole de e-liquide une fois par jour pour que les arômes se diffusent correctement. Conservation de votre e-liquide Pour une conservation optimale de votre e-liquide, nous vous conseillons de stocker votre flacon à l'abri de la lumière dans un droit sec et à température ambiante. Après contacts répétés à l'air et à la lumière, la couleur de votre e-liquide peut se foncer. Ce changement de couleur n'affecte ni la qualité ni le goût de votre e-liquide. La date indiquée sur l'étiquette est une DLUO (date limite d'utilisation optimale) ou DDM (date de durabilité minimale). Passé cette date, le e-liquide peut encore être consommé. - Similarité: 0.3261\n",
      "Produit 1250: Fabriqué en France par Alfaliquid, le Menthe Polaire 10ml est un e-liquide pour cigarette électronique. Il vous propose un mélange de saveurs mentholées et fraîches à travers une menthe verte. Composé d'arômes alimentaires, de propylène glycol (PG) et de glycérine végétale (VG), il est élaboré à partir d'une base76PG/24VG. Faites votre choix entre les différents taux de nicotine proposés. Le flacon du Menthe Polaire 10ml est doté d'un bouchon avec protection enfant et d'un embout fin. Qui est Alfaliquid ? Le fabricant français s'est fait reconnaître par ses recettes de e-liquides, et ce, au fil du temps. Mettant à l'honneur aussi bien des goûts fruités que classics par exemple, soyez toujours certain de trouver votre prêt à l'emploi avec Alfaliquid. Nos conseils pour utiliser votre e-liquide Menthe Polaire L'utilisation d'un e-liquide est exclusivement réservée à la cigarette électronique. Nous vous recommandons de bien agiter votre flacon de e-liquide avant emploi. Pour limiter les risques de fuites et prolonger la durée de vie de vos résistances, nous vous conseillons d'utiliser un clearomiseur adapté au taux PG/VG de votre e-liquide. Quel taux de nicotine choisir pour votre e-liquide ? Le choix de votre taux de nicotine dépend de votre profil de fumeur ainsi que de la cigarette électronique utilisée. Si vous utilisez une cigarette électronique équipée d'une résistance égale ou supérieure à 1 ohm et à une puissance ne dépassant pas les 30 watts, voici nos recommandations pour choisir votre taux de nicotine : Si vous utilisez une cigarette électronique plus performante équipée de résistances dont la valeur est inférieure à 1 ohm et pour une puissance supérieure à 30 watts, nous vous conseillons d'utiliser un taux de nicotine plus faible : Conservation de votre e-liquide Pour une conservation optimale de votre e-liquide, nous vous conseillons de stocker votre flacon à l'abri de la lumière dans un droit sec et à température ambiante. Après contacts répétés à l'air et à la lumière, la couleur de votre e-liquide peut se foncer. Ce changement de couleur n'affecte ni la qualité ni le goût de votre e-liquide. La date indiquée sur l'étiquette est une DLUO (date limite d'utilisation optimale) ou DDM (date de durabilité minimale). Passé cette date, le e-liquide peut encore être consommé. Mises en garde et contre-indications : Précautions d'emploi : - Similarité: 0.3105\n",
      "Produit 100: Si les Français de VDLV n'ont plus besoin d'être présentés, leur e-liquide Fraise Menthe mérite un tapis rouge pour son arrivée ! Retrouvez dans sa recette unmélange frais et fruité de fraises et de menthe, accompagné d'un goût d'anis et d'eucalyptus. Le Fraise Menthe est un e-liquide pour cigarette électronique entièrement conçu et fabriqué en France par Vincent Dans Les Vapes. Il se compose d'arômes alimentaires, de propylène glycol (PG) et de glycérine végétale (VG) dans un ratio de 50PG/50VG. Il vous sera proposé en fiole de 10ml avec sécurité enfant et embout fin pour faciliter le remplissage de votre cigarette électronique. Issu de la collection Cirkus, le Fraise Menthe est disponible en plusieurs taux de nicotine au choix :3, 6 et 12mg/ml. Qui est VDLV ? VDLV, pour Vincent Dans Les Vapes, est un fabricant français de liquides pour cigarette électronique. Depuis 2012, la marque basée en Gironde s'attache à proposer des produits de qualité aux vapoteurs du monde entier. Fort de diverses gammes telles que Cirkus, Classic Wanted ou encore V'ICE, VDLV s'adresse autant aux amateurs de e-liquides prêts à vaper qu'aux utilisateurs d'arômes DIY. La gamme Cirkus Si le fabricant français bénéficie d'une place de choix dans l'univers de la vape, c'est notamment grâce à sa collection Cirkus. Cette gamme de recettes variées se décline autant en e-liquides prêts à vaper qu'en arômes DIY (Do It Yourself). Découvrez toute une série de produits à vaper de qualité, d'origine 100% française. Nos conseils pour utiliser votre e-liquide Fraise Menthe L'utilisation d'un e-liquide est exclusivement réservée à la cigarette électronique. Nous vous recommandons de bien agiter votre flacon de e-liquide avant emploi. Pour limiter les risques de fuites et prolonger la durée de vie de vos résistances, nous vous conseillons d'utiliser un clearomiseur adapté au taux PG/VG de votre e-liquide. Quel taux de nicotine choisir pour votre e-liquide ? Le choix de votre taux de nicotine dépend de votre profil de fumeur ainsi que de la cigarette électronique utilisée. Si vous utilisez une cigarette électronique équipée d'une résistance égale ou supérieure à 1 ohm et à une puissance ne dépassant pas les 30 watts, voici nos recommandations pour choisir votre taux de nicotine : Si vous utilisez une cigarette électronique plus performante équipée de résistances dont la valeur est inférieure à 1 ohm et pour une puissance supérieure à 30 watts, nous vous conseillons d'utiliser un taux de nicotine plus faible : Conservation de votre e-liquide Pour une conservation optimale de votre e-liquide, nous vous conseillons de stocker votre flacon à l'abri de la lumière dans un droit sec et à température ambiante. Après contacts répétés à l'air et à la lumière, la couleur de votre e-liquide peut se foncer. Ce changement de couleur n'affecte ni la qualité ni le goût de votre e-liquide. La date indiquée sur l'étiquette est une DLUO (date limite d'utilisation optimale) ou DDM (date de durabilité minimale). Passé cette date, le e-liquide peut encore être consommé. Mises en garde et contre-indications : Précautions d'emploi : - Similarité: 0.3063\n",
      "Produit 1264: Le Menthe Glaciale est un e-liquide à booster au format 50ml de chez Alfaliquid. Il vous propose dessaveurs fraîches de menthe, dans une recette fabriquée en France. Composé d'arômes alimentaires, de propylène glycol (PG) et de glycérine végétale (VG), dans un ratio 50PG/50VG,vous pouvez au besoin ajouter des boosters10ml de nicotine (vendus séparément). Il vous est livré dans une fiole de 70ml dotée d'une ouverture sécurisée et d'un embout fin simplifiant le remplissage de votre réservoir. Qui est Alfaliquid ? Le fabricant français s'est fait reconnaître par ses recettes de e-liquides pour cigarette électronique, et ce, au fil du temps. Mettant à l'honneur aussi bien des goûts de fruits que classics par exemple, soyez toujours certain de trouver votre prêt à l'emploi avec Alfaliquid. Comment préparer votre e-liquide Menthe Glaciale ? Ce e-liquide est proposé en version50mlboostée en arômes dans un flacon de70ml. Si vous le souhaitez, vous pouvez ainsi ajouter un ou plusieurs boosters de nicotine selon vos besoins sans perte de saveur. Pour booster votre e-liquide, vous devez : Indications pour préparer votre e-liquide surboosté de 50 ml : La place disponible dans le flacon d'origine n’est peut-être pas suffisante pour booster votre e-liquide au taux de nicotine souhaité. Pour les dosages importants, nous vous conseillons l’utilisation de contenants plus importants commeun flacon de 100ml graduéouun flacon Twist de 230ml gradué. Astuce : pensez à adapter votre matériel au ratio PG/VG de votre e-liquide ! Vous limiterez ainsi le risque de fuite et l’usure prématurée de vos résistances ! Quel taux de nicotine choisir pour votre e-liquide ? Le choix de votre taux de nicotine dépend de votre profil de fumeur ainsi que de la cigarette électronique utilisée : Si vous utilisez du matériel plus performant avec une résistance inférieure à 1 ohm et pour une puissance supérieure à 30 watts, vous pouvez diviser votre taux de nicotine par deux. Nos conseils pour la maturation de votre e-liquide surboosté De la même façon que pour un e-liquide DIY, on peut observer un temps de repos avec un e-liquide surboosté en arômes après l’ajout d’un ou plusieurs boosters de nicotine. Ce temps de maturation que l’on appelle aussi “steep” permet aux arômes de se développer et de mieux s’exprimer. Pour une maturation optimale, il faut compter : Pour un rendu optimal : secouez votre fiole de e-liquide une fois par jour pour que les arômes se diffusent correctement. Conservation de votre e-liquide Pour une conservation optimale de votre e-liquide, nous vous conseillons de stocker votre flacon à l'abri de la lumière dans un droit sec et à température ambiante. Après contacts répétés à l'air et à la lumière, la couleur de votre e-liquide peut se foncer. Ce changement de couleur n'affecte ni la qualité ni le goût de votre e-liquide. La date indiquée sur l'étiquette est une DLUO (date limite d'utilisation optimale) ou DDM (date de durabilité minimale). Passé cette date, le e-liquide peut encore être consommé. - Similarité: 0.2759\n"
     ]
    }
   ],
   "source": [
    "# Exemple d'appel avec la requête \"Saveur menthe\"\n",
    "recommend_by_query(\"Saveur menthe\", tfidf_matrix, vectorizer)"
   ]
  },
  {
   "cell_type": "code",
   "execution_count": 26,
   "metadata": {},
   "outputs": [],
   "source": [
    "# Requête de l'utilisateur\n",
    "requete_utilisateur = \"Saveur menthe\""
   ]
  },
  {
   "cell_type": "code",
   "execution_count": 27,
   "metadata": {},
   "outputs": [],
   "source": [
    "X = vectorizer.fit_transform(df['description'])"
   ]
  },
  {
   "cell_type": "code",
   "execution_count": 28,
   "metadata": {},
   "outputs": [],
   "source": [
    "# Transformer la requête de l'utilisateur en vecteur TF-IDF\n",
    "requete_vector = vectorizer.transform([requete_utilisateur])"
   ]
  },
  {
   "cell_type": "code",
   "execution_count": 29,
   "metadata": {},
   "outputs": [],
   "source": [
    "# Calculer la similarité cosinus entre la requête et les descriptions des produits\n",
    "similarites = cosine_similarity(requete_vector, X)"
   ]
  },
  {
   "cell_type": "code",
   "execution_count": 30,
   "metadata": {},
   "outputs": [],
   "source": [
    "# Afficher les produits les plus similaires (triés par similarité décroissante)\n",
    "df['similarity'] = similarites.flatten()\n",
    "df_sorted = df.sort_values(by='similarity', ascending=False)"
   ]
  },
  {
   "cell_type": "code",
   "execution_count": 32,
   "metadata": {},
   "outputs": [
    {
     "data": {
      "text/plain": [
       "Index(['url', 'nom_produit', 'img_produit', 'prix_produit', 'contenance',\n",
       "       'pg_vg', 'origine', 'frais', 'surbooste', 'saveur', 'description',\n",
       "       'brand', 'gout', 'info_brand', 'id_produit', 'similarity'],\n",
       "      dtype='object')"
      ]
     },
     "execution_count": 32,
     "metadata": {},
     "output_type": "execute_result"
    }
   ],
   "source": [
    "df.columns"
   ]
  },
  {
   "cell_type": "code",
   "execution_count": 33,
   "metadata": {},
   "outputs": [
    {
     "name": "stdout",
     "output_type": "stream",
     "text": [
      "      id_produit                                        description  \\\n",
      "1273        1275  Le Menthe Verte Glacée reprend lessaveurs fraî...   \n",
      "1342        1344  Pulp vous propose de vapoter une saveur de boi...   \n",
      "1249        1251  Fabriqué en France par Alfaliquid, le Menthe P...   \n",
      "99           100  Si les Français de VDLV n'ont plus besoin d'êt...   \n",
      "1263        1265  Le Menthe Glaciale est un e-liquide à booster ...   \n",
      "...          ...                                                ...   \n",
      "701          703  Le Cassis Noir est un e-liquide à booster au f...   \n",
      "699          701  Les vendanges ont été fructueuses chez The Fuu...   \n",
      "695          697  Le Fraise Kiwi Salt est un e-liquide avec nico...   \n",
      "685          687  Le Fraise Grenade est un e-liquide fabriqué en...   \n",
      "1530        1533  Voici la recette du Blond Sec de chez Alfaliqu...   \n",
      "\n",
      "      similarity  \n",
      "1273    0.346166  \n",
      "1342    0.326076  \n",
      "1249    0.310499  \n",
      "99      0.306293  \n",
      "1263    0.275879  \n",
      "...          ...  \n",
      "701     0.000000  \n",
      "699     0.000000  \n",
      "695     0.000000  \n",
      "685     0.000000  \n",
      "1530    0.000000  \n",
      "\n",
      "[1531 rows x 3 columns]\n"
     ]
    }
   ],
   "source": [
    "\n",
    "print(df_sorted[['id_produit', 'description', 'similarity']])"
   ]
  },
  {
   "cell_type": "markdown",
   "metadata": {},
   "source": [
    " scores de similarité entre une requête donnée (par exemple, \"Saveur menthe\") et les descriptions de produits dans votre base de données. Voici ce que cela signifie et comment l'utiliser :\n",
    " Ces scores sont calculés en utilisant une mesure de similarité (la cosine similarity) qui permet de quantifier à quel point une description de produit correspond à une requête (comme \"Saveur menthe\"). Plus le score est élevé, plus la description du produit est similaire à la requête. Par exemple, un score de 0.346166 est plus proche d'un score parfait de 1 que d'un score de 0, ce qui signifie que le produit associé est plus pertinent pour la requête. Un score de 0.000000 indique une absence de similarité ou une correspondance faible avec la requête.  En triant les produits par ordre décroissant de similarité, vous obtiendrez les produits les plus pertinents pour la requête en haut de la liste."
   ]
  },
  {
   "cell_type": "code",
   "execution_count": 36,
   "metadata": {},
   "outputs": [
    {
     "name": "stdout",
     "output_type": "stream",
     "text": [
      "\n",
      "Produits recommandés :\n",
      "      id_produit                                        description    gout\n",
      "1273        1275  Le Menthe Verte Glacée reprend lessaveurs fraî...  menthe\n",
      "1342        1344  Pulp vous propose de vapoter une saveur de boi...   frais\n",
      "1249        1251  Fabriqué en France par Alfaliquid, le Menthe P...  menthe\n"
     ]
    }
   ],
   "source": [
    "# Recommander les 3 produits les plus similaires\n",
    "produits_recommandes = df_sorted[['id_produit', 'description', 'gout']].head(3)\n",
    "print(\"\\nProduits recommandés :\")\n",
    "print(produits_recommandes)\n"
   ]
  },
  {
   "cell_type": "markdown",
   "metadata": {},
   "source": [
    "benchmark\n",
    "Le benchmark concerne essentiellement la performance et la précision du modèle de recommandation basé sur la similarité cosinus et les vecteurs TF-IDF."
   ]
  },
  {
   "cell_type": "markdown",
   "metadata": {},
   "source": [
    "1. Temps de traitement (Latence)\n",
    "Objectif : Mesurer le temps nécessaire pour traiter une requête utilisateur, c'est-à-dire, combien de temps prend votre système pour transformer la requête en vecteur TF-IDF, calculer la similarité cosinus et retourner les produits recommandés.\n",
    "Comment mesurer : Vous pouvez utiliser la fonction time.time() pour mesurer le temps d'exécution entre le début et la fin du processus."
   ]
  },
  {
   "cell_type": "code",
   "execution_count": 84,
   "metadata": {},
   "outputs": [
    {
     "name": "stdout",
     "output_type": "stream",
     "text": [
      "Produits recommandés pour la requête 'Saveur menthe':\n",
      "\n",
      "Produit 1274: Le Menthe Verte Glacée reprend lessaveurs fraîches d'une menthe chlorophylle, dans une recette signée PULP. Prêt à vaper(PAV), il vous est proposé dans plusieurs taux de nicotine au choix (0, 3, 6 et 12mg/ml), à sélectionner à la commande. Le Menthe Verte Glacée est élaboré à partir d'une base PG/VG de 70/30, et vous est livré dans une fiole de 10ml. Le Menthe Verte Glacée est un e-liquide exclusivement destiné au réservoir de votre cigarette électronique. Il est fabriqué en France par Pulp, à partir d'arômes alimentaires, de propylène glycol et de glycérine végétale. Le e-liquide Menthe Verte Glacée vous est livré dans un flacon de 10ml, équipé d'un bouchon avec sécurité enfant et d'un embout fin facilitant le remplissage de votre réservoir. Qui est PULP ? C'est dans leur laboratoire français, et plus particulièrement parisien que les aromaticiens de la marque PULP conçoivent leurs multiples recettes, et ce, toujours avec le sens du détail. Ainsi, il vous présente aussi bien des e-liquides prêts à vaper, à booster, ou encore des concentrés DIY (Do It Yourself) aux saveurs finement reproduites et de diverses variétés. Nos conseils pour utiliser votre e-liquide Menthe Verte Glacée L'utilisation d'un e-liquide est exclusivement réservée à la cigarette électronique. Nous vous recommandons de bien agiter votre flacon de e-liquide avant emploi. Pour limiter les risques de fuites et prolonger la durée de vie de vos résistances, nous vous conseillons d'utiliser un clearomiseur adapté au taux PG/VG de votre e-liquide. Quel taux de nicotine choisir pour votre e-liquide ? Le choix de votre taux de nicotine dépend de votre profil de fumeur ainsi que de la cigarette électronique utilisée. Si vous utilisez une cigarette électronique équipée d'une résistance égale ou supérieure à 1 ohm et à une puissance ne dépassant pas les 30 watts, voici nos recommandations pour choisir votre taux de nicotine : Si vous utilisez une cigarette électronique plus performante équipée de résistances dont la valeur est inférieure à 1 ohm et pour une puissance supérieure à 30 watts, nous vous conseillons d'utiliser un taux de nicotine plus faible : Conservation de votre e-liquide Pour une conservation optimale de votre e-liquide, nous vous conseillons de stocker votre flacon à l'abri de la lumière dans un droit sec et à température ambiante. Après contacts répétés à l'air et à la lumière, la couleur de votre e-liquide peut se foncer. Ce changement de couleur n'affecte ni la qualité ni le goût de votre e-liquide. La date indiquée sur l'étiquette est une DLUO (date limite d'utilisation optimale) ou DDM (date de durabilité minimale). Passé cette date, le e-liquide peut encore être consommé. Mises en garde et contre-indications : Précautions d'emploi : - Similarité: 0.3462\n",
      "Produit 1343: Pulp vous propose de vapoter une saveur de boisson mentholée, grâce à son e-liquide pour cigarette électronique Le Thé à la Menthe. Non nicotiné de base, il vous estlivré avec un booster 10mlafin au besoin de le vaper dans un taux de 3mg/ml de nicotine. Le e-liquide Le Thé à la Menthe est fabriqué en France à partir d'arômes alimentaires, de propylène glycol (PG) et de glycérine végétale (VG), dans unratio PG/VG de 70/30. Recevez-le dans une fiole de 60ml remplie à hauteur de 50ml de e-liquide, et dotée d'un bouchon avec sécurité enfant et d'un embout fin. Comment utiliser votre e-liquide Le Thé à la Menthe ? Le Thé à la Menthe est proposé en version50mlboostée en arômes dans un flacon de60ml. Si vous le souhaitez, vous pouvez ajouter un ou plusieurs boosters de nicotine selon vos besoins sans perte de saveur. Pour booster votre e-liquide, vous devez : Indications pour préparer votre e-liquide surboosté de 50 ml : La place disponible dans le flacon d'origine n’est peut-être pas suffisante pour booster votre e-liquide au taux de nicotine souhaité. Pour les dosages importants, nous vous conseillons l’utilisation de contenants plus importants commeun flacon de 100ml graduéouun flacon Twist de 230ml gradué. Astuce : pensez à adapter votre matériel au ratio PG/VG de votre e-liquide ! Vous limiterez ainsi le risque de fuite et l’usure prématurée de vos résistances ! Quel taux de nicotine choisir pour votre e-liquide ? Le choix de votre taux de nicotine dépend de votre profil de fumeur ainsi que de la cigarette électronique utilisée : Si vous utilisez du matériel plus performant avec une résistance inférieure à 1 ohm et pour une puissance supérieure à 30 watts, vous pouvez diviser votre taux de nicotine par deux. Nos conseils pour la maturation de votre e-liquide surboosté De la même façon que pour un e-liquide DIY, on peut observer un temps de repos avec un e-liquide surboosté en arômes après l’ajout d’un ou plusieurs boosters de nicotine. Ce temps de maturation que l’on appelle aussi “steep” permet aux arômes de se développer et de mieux s’exprimer. Pour une maturation optimale, il faut compter : Pour un rendu optimal : secouez votre fiole de e-liquide une fois par jour pour que les arômes se diffusent correctement. Conservation de votre e-liquide Pour une conservation optimale de votre e-liquide, nous vous conseillons de stocker votre flacon à l'abri de la lumière dans un droit sec et à température ambiante. Après contacts répétés à l'air et à la lumière, la couleur de votre e-liquide peut se foncer. Ce changement de couleur n'affecte ni la qualité ni le goût de votre e-liquide. La date indiquée sur l'étiquette est une DLUO (date limite d'utilisation optimale) ou DDM (date de durabilité minimale). Passé cette date, le e-liquide peut encore être consommé. - Similarité: 0.3261\n",
      "Produit 1250: Fabriqué en France par Alfaliquid, le Menthe Polaire 10ml est un e-liquide pour cigarette électronique. Il vous propose un mélange de saveurs mentholées et fraîches à travers une menthe verte. Composé d'arômes alimentaires, de propylène glycol (PG) et de glycérine végétale (VG), il est élaboré à partir d'une base76PG/24VG. Faites votre choix entre les différents taux de nicotine proposés. Le flacon du Menthe Polaire 10ml est doté d'un bouchon avec protection enfant et d'un embout fin. Qui est Alfaliquid ? Le fabricant français s'est fait reconnaître par ses recettes de e-liquides, et ce, au fil du temps. Mettant à l'honneur aussi bien des goûts fruités que classics par exemple, soyez toujours certain de trouver votre prêt à l'emploi avec Alfaliquid. Nos conseils pour utiliser votre e-liquide Menthe Polaire L'utilisation d'un e-liquide est exclusivement réservée à la cigarette électronique. Nous vous recommandons de bien agiter votre flacon de e-liquide avant emploi. Pour limiter les risques de fuites et prolonger la durée de vie de vos résistances, nous vous conseillons d'utiliser un clearomiseur adapté au taux PG/VG de votre e-liquide. Quel taux de nicotine choisir pour votre e-liquide ? Le choix de votre taux de nicotine dépend de votre profil de fumeur ainsi que de la cigarette électronique utilisée. Si vous utilisez une cigarette électronique équipée d'une résistance égale ou supérieure à 1 ohm et à une puissance ne dépassant pas les 30 watts, voici nos recommandations pour choisir votre taux de nicotine : Si vous utilisez une cigarette électronique plus performante équipée de résistances dont la valeur est inférieure à 1 ohm et pour une puissance supérieure à 30 watts, nous vous conseillons d'utiliser un taux de nicotine plus faible : Conservation de votre e-liquide Pour une conservation optimale de votre e-liquide, nous vous conseillons de stocker votre flacon à l'abri de la lumière dans un droit sec et à température ambiante. Après contacts répétés à l'air et à la lumière, la couleur de votre e-liquide peut se foncer. Ce changement de couleur n'affecte ni la qualité ni le goût de votre e-liquide. La date indiquée sur l'étiquette est une DLUO (date limite d'utilisation optimale) ou DDM (date de durabilité minimale). Passé cette date, le e-liquide peut encore être consommé. Mises en garde et contre-indications : Précautions d'emploi : - Similarité: 0.3105\n",
      "Produit 100: Si les Français de VDLV n'ont plus besoin d'être présentés, leur e-liquide Fraise Menthe mérite un tapis rouge pour son arrivée ! Retrouvez dans sa recette unmélange frais et fruité de fraises et de menthe, accompagné d'un goût d'anis et d'eucalyptus. Le Fraise Menthe est un e-liquide pour cigarette électronique entièrement conçu et fabriqué en France par Vincent Dans Les Vapes. Il se compose d'arômes alimentaires, de propylène glycol (PG) et de glycérine végétale (VG) dans un ratio de 50PG/50VG. Il vous sera proposé en fiole de 10ml avec sécurité enfant et embout fin pour faciliter le remplissage de votre cigarette électronique. Issu de la collection Cirkus, le Fraise Menthe est disponible en plusieurs taux de nicotine au choix :3, 6 et 12mg/ml. Qui est VDLV ? VDLV, pour Vincent Dans Les Vapes, est un fabricant français de liquides pour cigarette électronique. Depuis 2012, la marque basée en Gironde s'attache à proposer des produits de qualité aux vapoteurs du monde entier. Fort de diverses gammes telles que Cirkus, Classic Wanted ou encore V'ICE, VDLV s'adresse autant aux amateurs de e-liquides prêts à vaper qu'aux utilisateurs d'arômes DIY. La gamme Cirkus Si le fabricant français bénéficie d'une place de choix dans l'univers de la vape, c'est notamment grâce à sa collection Cirkus. Cette gamme de recettes variées se décline autant en e-liquides prêts à vaper qu'en arômes DIY (Do It Yourself). Découvrez toute une série de produits à vaper de qualité, d'origine 100% française. Nos conseils pour utiliser votre e-liquide Fraise Menthe L'utilisation d'un e-liquide est exclusivement réservée à la cigarette électronique. Nous vous recommandons de bien agiter votre flacon de e-liquide avant emploi. Pour limiter les risques de fuites et prolonger la durée de vie de vos résistances, nous vous conseillons d'utiliser un clearomiseur adapté au taux PG/VG de votre e-liquide. Quel taux de nicotine choisir pour votre e-liquide ? Le choix de votre taux de nicotine dépend de votre profil de fumeur ainsi que de la cigarette électronique utilisée. Si vous utilisez une cigarette électronique équipée d'une résistance égale ou supérieure à 1 ohm et à une puissance ne dépassant pas les 30 watts, voici nos recommandations pour choisir votre taux de nicotine : Si vous utilisez une cigarette électronique plus performante équipée de résistances dont la valeur est inférieure à 1 ohm et pour une puissance supérieure à 30 watts, nous vous conseillons d'utiliser un taux de nicotine plus faible : Conservation de votre e-liquide Pour une conservation optimale de votre e-liquide, nous vous conseillons de stocker votre flacon à l'abri de la lumière dans un droit sec et à température ambiante. Après contacts répétés à l'air et à la lumière, la couleur de votre e-liquide peut se foncer. Ce changement de couleur n'affecte ni la qualité ni le goût de votre e-liquide. La date indiquée sur l'étiquette est une DLUO (date limite d'utilisation optimale) ou DDM (date de durabilité minimale). Passé cette date, le e-liquide peut encore être consommé. Mises en garde et contre-indications : Précautions d'emploi : - Similarité: 0.3063\n",
      "Produit 1264: Le Menthe Glaciale est un e-liquide à booster au format 50ml de chez Alfaliquid. Il vous propose dessaveurs fraîches de menthe, dans une recette fabriquée en France. Composé d'arômes alimentaires, de propylène glycol (PG) et de glycérine végétale (VG), dans un ratio 50PG/50VG,vous pouvez au besoin ajouter des boosters10ml de nicotine (vendus séparément). Il vous est livré dans une fiole de 70ml dotée d'une ouverture sécurisée et d'un embout fin simplifiant le remplissage de votre réservoir. Qui est Alfaliquid ? Le fabricant français s'est fait reconnaître par ses recettes de e-liquides pour cigarette électronique, et ce, au fil du temps. Mettant à l'honneur aussi bien des goûts de fruits que classics par exemple, soyez toujours certain de trouver votre prêt à l'emploi avec Alfaliquid. Comment préparer votre e-liquide Menthe Glaciale ? Ce e-liquide est proposé en version50mlboostée en arômes dans un flacon de70ml. Si vous le souhaitez, vous pouvez ainsi ajouter un ou plusieurs boosters de nicotine selon vos besoins sans perte de saveur. Pour booster votre e-liquide, vous devez : Indications pour préparer votre e-liquide surboosté de 50 ml : La place disponible dans le flacon d'origine n’est peut-être pas suffisante pour booster votre e-liquide au taux de nicotine souhaité. Pour les dosages importants, nous vous conseillons l’utilisation de contenants plus importants commeun flacon de 100ml graduéouun flacon Twist de 230ml gradué. Astuce : pensez à adapter votre matériel au ratio PG/VG de votre e-liquide ! Vous limiterez ainsi le risque de fuite et l’usure prématurée de vos résistances ! Quel taux de nicotine choisir pour votre e-liquide ? Le choix de votre taux de nicotine dépend de votre profil de fumeur ainsi que de la cigarette électronique utilisée : Si vous utilisez du matériel plus performant avec une résistance inférieure à 1 ohm et pour une puissance supérieure à 30 watts, vous pouvez diviser votre taux de nicotine par deux. Nos conseils pour la maturation de votre e-liquide surboosté De la même façon que pour un e-liquide DIY, on peut observer un temps de repos avec un e-liquide surboosté en arômes après l’ajout d’un ou plusieurs boosters de nicotine. Ce temps de maturation que l’on appelle aussi “steep” permet aux arômes de se développer et de mieux s’exprimer. Pour une maturation optimale, il faut compter : Pour un rendu optimal : secouez votre fiole de e-liquide une fois par jour pour que les arômes se diffusent correctement. Conservation de votre e-liquide Pour une conservation optimale de votre e-liquide, nous vous conseillons de stocker votre flacon à l'abri de la lumière dans un droit sec et à température ambiante. Après contacts répétés à l'air et à la lumière, la couleur de votre e-liquide peut se foncer. Ce changement de couleur n'affecte ni la qualité ni le goût de votre e-liquide. La date indiquée sur l'étiquette est une DLUO (date limite d'utilisation optimale) ou DDM (date de durabilité minimale). Passé cette date, le e-liquide peut encore être consommé. - Similarité: 0.2759\n",
      "Temps de traitement : 0.0150 secondes\n"
     ]
    }
   ],
   "source": [
    "import time\n",
    "\n",
    "start_time = time.time()\n",
    "recommend_by_query(\"Saveur menthe\", tfidf_matrix, vectorizer)\n",
    "end_time = time.time()\n",
    "print(f\"Temps de traitement : {end_time - start_time:.4f} secondes\")\n"
   ]
  },
  {
   "cell_type": "code",
   "execution_count": 108,
   "metadata": {},
   "outputs": [
    {
     "name": "stdout",
     "output_type": "stream",
     "text": [
      "Produits recommandés pour la requête 'Propose moi un produit avec lime':\n",
      "\n",
      "Produit 277: Le Bloody Lime est un e liquide au formatprêt à l'emploipour cigarette électronique. Il rejoint la célèbre gamme Fruizee, fabriquée en France par Eliquid France, et vous propose des saveurs de fruits rouges et citron vert. Composé d'arômes alimentaires, de propylène glycol (PG) et de glycérine végétale (VG), le Bloody Lime vous est proposé en50PG/50VG. De même, vous le retrouverez en fiole de type PET de 10ml, munie d'une sécurité enfant et d'un embout fin. Enfin, pour satisfaire tout type de vapoteur, le e-liquide Bloody Lime vous est présenté en différents taux de nicotine au choix, soit 3, 6 et 12mg/ml. Qui est Eliquid France ? Créé en 2013 à Nieul sur Mer en Charente-Maritime, le laboratoire Eliquid France s'est fait une place de choix dans l'univers de la vape grâce à des liquides de qualité, exportant ses créations dans le monde entier. Toujours en recherche d'innovation, la marque française propose des recettes variées aux saveurs allant de simples à complexes, et se déclinant autant en arôme DIY qu'en e-liquide prêt à vaper. La gamme Fruizee Collection ayant fait la réputation de la marque Eliquid France, elle mélange des saveurs fruitées et fraîches finement réalisées dans des recettes DIY comme dans des e-liquides prêts à vaper ou à booster ! Nos conseils pour utiliser votre e-liquide Bloody Lime L'utilisation d'un e-liquide est exclusivement réservée à la cigarette électronique. Nous vous recommandons de bien agiter votre flacon de e-liquide avant emploi. Pour limiter les risques de fuites et prolonger la durée de vie de vos résistances, nous vous conseillons d'utiliser un clearomiseur adapté au taux PG/VG de votre e-liquide. Quel taux de nicotine choisir pour votre e-liquide ? Le choix de votre taux de nicotine dépend de votre profil de fumeur ainsi que de la cigarette électronique utilisée. Si vous utilisez une cigarette électronique équipée d'une résistance égale ou supérieure à 1 ohm et à une puissance ne dépassant pas les 30 watts, voici nos recommandations pour choisir votre taux de nicotine : Si vous utilisez une cigarette électronique plus performante équipée de résistances dont la valeur est inférieure à 1 ohm et pour une puissance supérieure à 30 watts, nous vous conseillons d'utiliser un taux de nicotine plus faible : Conservation de votre e-liquide Pour une conservation optimale de votre e-liquide, nous vous conseillons de stocker votre flacon à l'abri de la lumière dans un droit sec et à température ambiante. Après contacts répétés à l'air et à la lumière, la couleur de votre e-liquide peut se foncer. Ce changement de couleur n'affecte ni la qualité ni le goût de votre e-liquide. La date indiquée sur l'étiquette est une DLUO (date limite d'utilisation optimale) ou DDM (date de durabilité minimale). Passé cette date, le e-liquide peut encore être consommé. Mises en garde et contre-indications : Précautions d'emploi : - Similarité: 0.3877\n",
      "Produit 370: Le Bloody Lime est un e-liquideà boosterde la collection Fruizee par Eliquid France, auxsaveurs fraîches de citron vert et de baies rouges. Sa recette fabriquée en France se compose d'arômes alimentaires, de propylène glycol (PG) et de glycérine végétale (VG), pour un ratio 30PG/70VG. Vous pouvez au besoin ajouter un booster 10ml de nicotine (non inclus). Il vous est livré dans unflacon de 60mldoté d'un embout fin et d'un bouchon avec sécurité enfant. Qui est Eliquid France ? Créé en 2013 à Nieul sur Mer en Charente-Maritime, le laboratoire Eliquid France s'est fait une place de choix dans l'univers de la vape grâce à des liquides de qualité, exportant ses créations dans le monde entier. Toujours en recherche d'innovation, la marque française propose des recettes variées aux saveurs allant de simples à complexes, et se déclinant autant en arôme DIY qu'en e-liquide prêt à vaper. La gamme Fruizee Collection ayant fait la réputation de la marque Eliquid France, elle mélange des saveurs fraîches de fruits finement réalisées, dans des recettes DIY comme dans des e-liquides prêts à vaper ou à booster ! Comment préparer votre e-liquide Bloody Lime ? Le Bloody Lime est proposé en version50mlboostée en arômes dans un flacon de60ml. Si vous le souhaitez, vous pouvez ainsi ajouter un booster de nicotine selon vos besoins sans perte de saveur. Pour booster votre e-liquide, vous devez : Indications pour préparer votre e-liquide surboosté de 50 ml : La place disponible dans le flacon d'origine n’est peut-être pas suffisante pour booster votre e-liquide au taux de nicotine souhaité. Pour les dosages importants, nous vous conseillons l’utilisation de contenants plus importants commeun flacon de 100ml graduéouun flacon Twist de 230ml gradué. Astuce : pensez à adapter votre matériel au ratio PG/VG de votre e-liquide ! Vous limiterez ainsi le risque de fuite et l’usure prématurée de vos résistances ! Quel taux de nicotine choisir pour votre e-liquide ? Le choix de votre taux de nicotine dépend de votre profil de fumeur ainsi que de la cigarette électronique utilisée : Si vous utilisez du matériel plus performant avec une résistance inférieure à 1 ohm et pour une puissance supérieure à 30 watts, vous pouvez diviser votre taux de nicotine par deux. Nos conseils pour la maturation de votre e-liquide surboosté De la même façon que pour un e-liquide DIY, on peut observer un temps de repos avec un e-liquide surboosté en arômes après l’ajout d’un ou plusieurs boosters de nicotine. Ce temps de maturation que l’on appelle aussi “steep” permet aux arômes de se développer et de mieux s’exprimer. Pour une maturation optimale, il faut compter : Pour un rendu optimal : secouez votre fiole de e-liquide une fois par jour pour que les arômes se diffusent correctement. Conservation de votre e-liquide Pour une conservation optimale de votre e-liquide, nous vous conseillons de stocker votre flacon à l'abri de la lumière dans un droit sec et à température ambiante. Après contacts répétés à l'air et à la lumière, la couleur de votre e-liquide peut se foncer. Ce changement de couleur n'affecte ni la qualité ni le goût de votre e-liquide. La date indiquée sur l'étiquette est une DLUO (date limite d'utilisation optimale) ou DDM (date de durabilité minimale). Passé cette date, le e-liquide peut encore être consommé. - Similarité: 0.3263\n",
      "Produit 102: Besoin d'un bon coup de fouet fruité, frais et acidulé ? Essayez donc le e liquide Grapefruit Lime Ice par Frozen Freaks ! Ce revigorantmix d'agrumes et de fraicheurravivera le plaisir de vapoter, bouffée après bouffée. Et, grâce à son généreuxflacon 120ml, vous pourrez le booster à votre convenance ! Un mariage acidulé et frais... Nous vous proposons de vous laisser surprendre par une association mystérieuse et puissante de fruits et d'agrumes. Tout cela s'illustre par un mélange depamplemousseet decitron vertpour la note acidulée. Le tout accompagné par une vague de fraicheur intense pour sublimer la recette. Le Grapefruit Lime Ice est ainsi un e-liquide riche en saveurs et en fraicheur qui vous charmera instantanément ! Une recette puissante que l'on doit au fabricant anglais Frozen Freaks. ...en e-liquide 100ml à booster ! En plus d'être un merveilleux mélange fruité et glacé, le e-liquide Grapefruit Lime Ice par Frozen Freaks propose un maxi format à vapoter :100ml en fiole 120ml. Non nicotiné de base, ce surboosté pourra accueillir 20ml de boosters de nicotine, soit 2. Ainsi, vous atteindrez facilement les3mg/mlde nicotine ! Bien entendu, vous pourrez aussi le vaper de suite, en 0mg, ou encore le transvaser pour un taux nicotinique encore supérieur. Informations complémentaires Le e-liquide Grapefruit Lime est fabriqué au Royaume-Uni par Frozen Freaks. Il est composé d'arômes alimentaires, de propylène glycol, et de glycérine végétale dans un ratio 30PG/70VG. Vous pourrez ainsi profiter d'un bon rendu de saveurs avec un très beau volume de vapeur. Il s'agit d'un e-liquide conditionné en flacons de 120 ml de type unicorn, remplis à hauteur de 100 ml afin de vous permettre l'ajout d'un booster de nicotine au besoin. Vous ne perdrez alors pas en saveurs, le e-liquide étant surboosté en arôme. Les flacons disposent en outre d'une sécurité enfant ainsi que d'un embout fin pour remplir votre clearomiseur ou atomiseur en toute simplicité et sans perdre une seule goutte du précieux nectar. - Similarité: 0.2561\n",
      "Produit 29: Le Frozen Lemon And Lime 100ml est un e-liquide à booster issu de la collection Ice de la marque Chuffed, auxsaveurs fraîches de citrons jaunes et verts. Sa recette fabriquée en France se compose d'arômes alimentaires, de propylène glycol (PG) et de glycérine végétale (VG), pour un ratio 30PG/70VG. Présenté dans une fiole de 120ml dotée d'un bouchon sécurisé et d'un embout fin,vous pouvez au besoin lui additionnerdu liquide de base ou des boosters 10ml de nicotine (non inclus). Qui est Chuffed ? Chuffed est une marque originaire du Royaume-Uni, spécialisée dans la conception de e-liquides pour cigarette électronique. Retrouvez les recettes de Chuffed en format de 100ml, non nicotinés de base et à booster en fonction de vos besoins. Comment préparer votre e-liquide Frozen Lemon And Lime ? Ce e-liquide est proposé en version100mlboostée en arômes dans un flacon de120ml. Si vous le souhaitez, vous pouvez ajouter un ou plusieurs boosters de nicotine selon vos besoins sans perte de saveur. Pour booster votre e-liquide, vous devez : Indications pour préparer votre e-liquide surboosté de 50 ml : La place disponible dans le flacon d'origine n’est peut-être pas suffisante pour booster votre e-liquide au taux de nicotine souhaité. Pour les dosages importants, nous vous conseillons l’utilisation de contenants plus importants commeun flacon de 100ml graduéouun flacon Twist de 230ml gradué. Astuce : pensez à adapter votre matériel au ratio PG/VG de votre e-liquide ! Vous limiterez ainsi le risque de fuite et l’usure prématurée de vos résistances ! Quel taux de nicotine choisir pour votre e-liquide ? Le choix de votre taux de nicotine dépend de votre profil de fumeur ainsi que de la cigarette électronique utilisée : Si vous utilisez du matériel plus performant avec une résistance inférieure à 1 ohm et pour une puissance supérieure à 30 watts, vous pouvez diviser votre taux de nicotine par deux. Nos conseils pour la maturation de votre e-liquide surboosté De la même façon que pour un e-liquide DIY, on peut observer un temps de repos avec un e-liquide surboosté en arômes après l’ajout d’un ou plusieurs boosters de nicotine. Ce temps de maturation que l’on appelle aussi “steep” permet aux arômes de se développer et de mieux s’exprimer. Pour une maturation optimale, il faut compter : Pour un rendu optimal : secouez votre fiole de e-liquide une fois par jour pour que les arômes se diffusent correctement. Conservation de votre e-liquide Pour une conservation optimale de votre e-liquide, nous vous conseillons de stocker votre flacon à l'abri de la lumière dans un droit sec et à température ambiante. Après contacts répétés à l'air et à la lumière, la couleur de votre e-liquide peut se foncer. Ce changement de couleur n'affecte ni la qualité ni le goût de votre e-liquide. La date indiquée sur l'étiquette est une DLUO (date limite d'utilisation optimale) ou DDM (date de durabilité minimale). Passé cette date, le e-liquide peut encore être consommé. - Similarité: 0.2231\n",
      "Produit 258: Le Lime Berry 100ml est un e-liquide à booster issu de la collection Paradise de la marque Juice 66, auxsaveurs fraîches de citron vert et de baies rouges. Sa recette fabriquée en France se compose d'arômes alimentaires, de propylène glycol (PG) et de glycérine végétale (VG), pour un ratio 50PG/50VG. Présenté dans une fiole de 120ml dotée d'un bouchon sécurisé et d'un embout fin,vous pouvez au besoin lui additionnerdu liquide de base ou des boosters 10ml de nicotine (non inclus). Qui est Juice 66 ? Juice 66 est une marque française de liquides pour e-cigarettes, spécialisées dans la fabrication de recette en grand format. Retrouvez toute une collection de e-liquides non nicotinés de base, à booster en fonction de vos besoins ! Juice 66 les conditionne dans des fioles de 120ml remplies à hauteur de 100ml, toutes équipées d'une ouverture sécurisée et d'un embout fin. Comment préparer votre e-liquide Lime Berry ? Ce e-liquide est proposé en version100mlboostée en arômes dans un flacon de120ml. Si vous le souhaitez, vous pouvez ajouter un ou plusieurs boosters de nicotine selon vos besoins sans perte de saveur. Pour booster votre e-liquide, vous devez : Indications pour préparer votre e-liquide surboosté de 50 ml : La place disponible dans le flacon d'origine n’est peut-être pas suffisante pour booster votre e-liquide au taux de nicotine souhaité. Pour les dosages importants, nous vous conseillons l’utilisation de contenants plus importants commeun flacon de 100ml graduéouun flacon Twist de 230ml gradué. Astuce : pensez à adapter votre matériel au ratio PG/VG de votre e-liquide ! Vous limiterez ainsi le risque de fuite et l’usure prématurée de vos résistances ! Quel taux de nicotine choisir pour votre e-liquide ? Le choix de votre taux de nicotine dépend de votre profil de fumeur ainsi que de la cigarette électronique utilisée : Si vous utilisez du matériel plus performant avec une résistance inférieure à 1 ohm et pour une puissance supérieure à 30 watts, vous pouvez diviser votre taux de nicotine par deux. Nos conseils pour la maturation de votre e-liquide surboosté De la même façon que pour un e-liquide DIY, on peut observer un temps de repos avec un e-liquide surboosté en arômes après l’ajout d’un ou plusieurs boosters de nicotine. Ce temps de maturation que l’on appelle aussi “steep” permet aux arômes de se développer et de mieux s’exprimer. Pour une maturation optimale, il faut compter : Pour un rendu optimal : secouez votre fiole de e-liquide une fois par jour pour que les arômes se diffusent correctement. Conservation de votre e-liquide Pour une conservation optimale de votre e-liquide, nous vous conseillons de stocker votre flacon à l'abri de la lumière dans un droit sec et à température ambiante. Après contacts répétés à l'air et à la lumière, la couleur de votre e-liquide peut se foncer. Ce changement de couleur n'affecte ni la qualité ni le goût de votre e-liquide. La date indiquée sur l'étiquette est une DLUO (date limite d'utilisation optimale) ou DDM (date de durabilité minimale). Passé cette date, le e-liquide peut encore être consommé. - Similarité: 0.2183\n",
      "Temps de traitement : 0.0110 secondes\n"
     ]
    }
   ],
   "source": [
    "import time\n",
    "\n",
    "start_time = time.time()\n",
    "recommend_by_query(\"Propose moi un produit avec lime\", tfidf_matrix, vectorizer)\n",
    "end_time = time.time()\n",
    "print(f\"Temps de traitement : {end_time - start_time:.4f} secondes\")"
   ]
  },
  {
   "cell_type": "markdown",
   "metadata": {},
   "source": [
    "2. Qualité des recommandations (Précision)\n",
    "Objectif : Évaluer si les produits recommandés sont pertinents par rapport à la requête de l'utilisateur.\n",
    "Comment mesurer : Vous pouvez tester manuellement la qualité des recommandations en comparant les produits recommandés avec des attentes ou en utilisant des mesures telles que la précision ou le rappel dans un jeu de données annoté.\n",
    "Précision : Nombre de produits pertinents dans les recommandations divisés par le nombre total de produits recommandés.\n",
    "Rappel : Nombre de produits pertinents dans les recommandations divisés par le nombre total de produits pertinents."
   ]
  },
  {
   "cell_type": "code",
   "execution_count": 85,
   "metadata": {},
   "outputs": [],
   "source": [
    "# Initialisation du vectoriseur TF-IDF avec la liste personnalisée de mots vides\n",
    "vectorizer = TfidfVectorizer(stop_words=french_stopwords)\n",
    "\n",
    "# Transformation des descriptions en vecteurs TF-IDF\n",
    "tfidf_matrix = vectorizer.fit_transform(df['description'])"
   ]
  },
  {
   "cell_type": "code",
   "execution_count": 95,
   "metadata": {},
   "outputs": [],
   "source": [
    "# Fonction pour recommander des produits basés sur une requête utilisateur et calculer la pertinence\n",
    "def assign_relevance_to_products(query, tfidf_matrix, vectorizer, threshold=0.5):\n",
    "    # Transformation de la requête en vecteur TF-IDF\n",
    "    query_tfidf = vectorizer.transform([query])\n",
    "    \n",
    "    # Calcul de la similarité cosinus entre la requête et les descriptions des produits\n",
    "    cosine_similarities = cosine_similarity(query_tfidf, tfidf_matrix).flatten()\n",
    "    \n",
    "    # Assigner une pertinence en fonction du seuil de similarité\n",
    "    relevance = [1 if similarity >= threshold else 0 for similarity in cosine_similarities]\n",
    "    return relevance, cosine_similarities"
   ]
  },
  {
   "cell_type": "code",
   "execution_count": 97,
   "metadata": {},
   "outputs": [
    {
     "name": "stdout",
     "output_type": "stream",
     "text": [
      "Les 10 produits les plus pertinents pour la requête : 'Saveur menthe'\n",
      "\n",
      "Produit 1274 - Description : Le Menthe Verte Glacée reprend lessaveurs fraîches d'une menthe chlorophylle, dans une recette signée PULP. Prêt à vaper(PAV), il vous est proposé dans plusieurs taux de nicotine au choix (0, 3, 6 et 12mg/ml), à sélectionner à la commande. Le Menthe Verte Glacée est élaboré à partir d'une base PG/VG de 70/30, et vous est livré dans une fiole de 10ml. Le Menthe Verte Glacée est un e-liquide exclusivement destiné au réservoir de votre cigarette électronique. Il est fabriqué en France par Pulp, à partir d'arômes alimentaires, de propylène glycol et de glycérine végétale. Le e-liquide Menthe Verte Glacée vous est livré dans un flacon de 10ml, équipé d'un bouchon avec sécurité enfant et d'un embout fin facilitant le remplissage de votre réservoir. Qui est PULP ? C'est dans leur laboratoire français, et plus particulièrement parisien que les aromaticiens de la marque PULP conçoivent leurs multiples recettes, et ce, toujours avec le sens du détail. Ainsi, il vous présente aussi bien des e-liquides prêts à vaper, à booster, ou encore des concentrés DIY (Do It Yourself) aux saveurs finement reproduites et de diverses variétés. Nos conseils pour utiliser votre e-liquide Menthe Verte Glacée L'utilisation d'un e-liquide est exclusivement réservée à la cigarette électronique. Nous vous recommandons de bien agiter votre flacon de e-liquide avant emploi. Pour limiter les risques de fuites et prolonger la durée de vie de vos résistances, nous vous conseillons d'utiliser un clearomiseur adapté au taux PG/VG de votre e-liquide. Quel taux de nicotine choisir pour votre e-liquide ? Le choix de votre taux de nicotine dépend de votre profil de fumeur ainsi que de la cigarette électronique utilisée. Si vous utilisez une cigarette électronique équipée d'une résistance égale ou supérieure à 1 ohm et à une puissance ne dépassant pas les 30 watts, voici nos recommandations pour choisir votre taux de nicotine : Si vous utilisez une cigarette électronique plus performante équipée de résistances dont la valeur est inférieure à 1 ohm et pour une puissance supérieure à 30 watts, nous vous conseillons d'utiliser un taux de nicotine plus faible : Conservation de votre e-liquide Pour une conservation optimale de votre e-liquide, nous vous conseillons de stocker votre flacon à l'abri de la lumière dans un droit sec et à température ambiante. Après contacts répétés à l'air et à la lumière, la couleur de votre e-liquide peut se foncer. Ce changement de couleur n'affecte ni la qualité ni le goût de votre e-liquide. La date indiquée sur l'étiquette est une DLUO (date limite d'utilisation optimale) ou DDM (date de durabilité minimale). Passé cette date, le e-liquide peut encore être consommé. Mises en garde et contre-indications : Précautions d'emploi : - Similarité : 0.3462 - Pertinence : Pertinent\n",
      "Produit 1343 - Description : Pulp vous propose de vapoter une saveur de boisson mentholée, grâce à son e-liquide pour cigarette électronique Le Thé à la Menthe. Non nicotiné de base, il vous estlivré avec un booster 10mlafin au besoin de le vaper dans un taux de 3mg/ml de nicotine. Le e-liquide Le Thé à la Menthe est fabriqué en France à partir d'arômes alimentaires, de propylène glycol (PG) et de glycérine végétale (VG), dans unratio PG/VG de 70/30. Recevez-le dans une fiole de 60ml remplie à hauteur de 50ml de e-liquide, et dotée d'un bouchon avec sécurité enfant et d'un embout fin. Comment utiliser votre e-liquide Le Thé à la Menthe ? Le Thé à la Menthe est proposé en version50mlboostée en arômes dans un flacon de60ml. Si vous le souhaitez, vous pouvez ajouter un ou plusieurs boosters de nicotine selon vos besoins sans perte de saveur. Pour booster votre e-liquide, vous devez : Indications pour préparer votre e-liquide surboosté de 50 ml : La place disponible dans le flacon d'origine n’est peut-être pas suffisante pour booster votre e-liquide au taux de nicotine souhaité. Pour les dosages importants, nous vous conseillons l’utilisation de contenants plus importants commeun flacon de 100ml graduéouun flacon Twist de 230ml gradué. Astuce : pensez à adapter votre matériel au ratio PG/VG de votre e-liquide ! Vous limiterez ainsi le risque de fuite et l’usure prématurée de vos résistances ! Quel taux de nicotine choisir pour votre e-liquide ? Le choix de votre taux de nicotine dépend de votre profil de fumeur ainsi que de la cigarette électronique utilisée : Si vous utilisez du matériel plus performant avec une résistance inférieure à 1 ohm et pour une puissance supérieure à 30 watts, vous pouvez diviser votre taux de nicotine par deux. Nos conseils pour la maturation de votre e-liquide surboosté De la même façon que pour un e-liquide DIY, on peut observer un temps de repos avec un e-liquide surboosté en arômes après l’ajout d’un ou plusieurs boosters de nicotine. Ce temps de maturation que l’on appelle aussi “steep” permet aux arômes de se développer et de mieux s’exprimer. Pour une maturation optimale, il faut compter : Pour un rendu optimal : secouez votre fiole de e-liquide une fois par jour pour que les arômes se diffusent correctement. Conservation de votre e-liquide Pour une conservation optimale de votre e-liquide, nous vous conseillons de stocker votre flacon à l'abri de la lumière dans un droit sec et à température ambiante. Après contacts répétés à l'air et à la lumière, la couleur de votre e-liquide peut se foncer. Ce changement de couleur n'affecte ni la qualité ni le goût de votre e-liquide. La date indiquée sur l'étiquette est une DLUO (date limite d'utilisation optimale) ou DDM (date de durabilité minimale). Passé cette date, le e-liquide peut encore être consommé. - Similarité : 0.3261 - Pertinence : Pertinent\n",
      "Produit 1250 - Description : Fabriqué en France par Alfaliquid, le Menthe Polaire 10ml est un e-liquide pour cigarette électronique. Il vous propose un mélange de saveurs mentholées et fraîches à travers une menthe verte. Composé d'arômes alimentaires, de propylène glycol (PG) et de glycérine végétale (VG), il est élaboré à partir d'une base76PG/24VG. Faites votre choix entre les différents taux de nicotine proposés. Le flacon du Menthe Polaire 10ml est doté d'un bouchon avec protection enfant et d'un embout fin. Qui est Alfaliquid ? Le fabricant français s'est fait reconnaître par ses recettes de e-liquides, et ce, au fil du temps. Mettant à l'honneur aussi bien des goûts fruités que classics par exemple, soyez toujours certain de trouver votre prêt à l'emploi avec Alfaliquid. Nos conseils pour utiliser votre e-liquide Menthe Polaire L'utilisation d'un e-liquide est exclusivement réservée à la cigarette électronique. Nous vous recommandons de bien agiter votre flacon de e-liquide avant emploi. Pour limiter les risques de fuites et prolonger la durée de vie de vos résistances, nous vous conseillons d'utiliser un clearomiseur adapté au taux PG/VG de votre e-liquide. Quel taux de nicotine choisir pour votre e-liquide ? Le choix de votre taux de nicotine dépend de votre profil de fumeur ainsi que de la cigarette électronique utilisée. Si vous utilisez une cigarette électronique équipée d'une résistance égale ou supérieure à 1 ohm et à une puissance ne dépassant pas les 30 watts, voici nos recommandations pour choisir votre taux de nicotine : Si vous utilisez une cigarette électronique plus performante équipée de résistances dont la valeur est inférieure à 1 ohm et pour une puissance supérieure à 30 watts, nous vous conseillons d'utiliser un taux de nicotine plus faible : Conservation de votre e-liquide Pour une conservation optimale de votre e-liquide, nous vous conseillons de stocker votre flacon à l'abri de la lumière dans un droit sec et à température ambiante. Après contacts répétés à l'air et à la lumière, la couleur de votre e-liquide peut se foncer. Ce changement de couleur n'affecte ni la qualité ni le goût de votre e-liquide. La date indiquée sur l'étiquette est une DLUO (date limite d'utilisation optimale) ou DDM (date de durabilité minimale). Passé cette date, le e-liquide peut encore être consommé. Mises en garde et contre-indications : Précautions d'emploi : - Similarité : 0.3105 - Pertinence : Pertinent\n",
      "Produit 100 - Description : Si les Français de VDLV n'ont plus besoin d'être présentés, leur e-liquide Fraise Menthe mérite un tapis rouge pour son arrivée ! Retrouvez dans sa recette unmélange frais et fruité de fraises et de menthe, accompagné d'un goût d'anis et d'eucalyptus. Le Fraise Menthe est un e-liquide pour cigarette électronique entièrement conçu et fabriqué en France par Vincent Dans Les Vapes. Il se compose d'arômes alimentaires, de propylène glycol (PG) et de glycérine végétale (VG) dans un ratio de 50PG/50VG. Il vous sera proposé en fiole de 10ml avec sécurité enfant et embout fin pour faciliter le remplissage de votre cigarette électronique. Issu de la collection Cirkus, le Fraise Menthe est disponible en plusieurs taux de nicotine au choix :3, 6 et 12mg/ml. Qui est VDLV ? VDLV, pour Vincent Dans Les Vapes, est un fabricant français de liquides pour cigarette électronique. Depuis 2012, la marque basée en Gironde s'attache à proposer des produits de qualité aux vapoteurs du monde entier. Fort de diverses gammes telles que Cirkus, Classic Wanted ou encore V'ICE, VDLV s'adresse autant aux amateurs de e-liquides prêts à vaper qu'aux utilisateurs d'arômes DIY. La gamme Cirkus Si le fabricant français bénéficie d'une place de choix dans l'univers de la vape, c'est notamment grâce à sa collection Cirkus. Cette gamme de recettes variées se décline autant en e-liquides prêts à vaper qu'en arômes DIY (Do It Yourself). Découvrez toute une série de produits à vaper de qualité, d'origine 100% française. Nos conseils pour utiliser votre e-liquide Fraise Menthe L'utilisation d'un e-liquide est exclusivement réservée à la cigarette électronique. Nous vous recommandons de bien agiter votre flacon de e-liquide avant emploi. Pour limiter les risques de fuites et prolonger la durée de vie de vos résistances, nous vous conseillons d'utiliser un clearomiseur adapté au taux PG/VG de votre e-liquide. Quel taux de nicotine choisir pour votre e-liquide ? Le choix de votre taux de nicotine dépend de votre profil de fumeur ainsi que de la cigarette électronique utilisée. Si vous utilisez une cigarette électronique équipée d'une résistance égale ou supérieure à 1 ohm et à une puissance ne dépassant pas les 30 watts, voici nos recommandations pour choisir votre taux de nicotine : Si vous utilisez une cigarette électronique plus performante équipée de résistances dont la valeur est inférieure à 1 ohm et pour une puissance supérieure à 30 watts, nous vous conseillons d'utiliser un taux de nicotine plus faible : Conservation de votre e-liquide Pour une conservation optimale de votre e-liquide, nous vous conseillons de stocker votre flacon à l'abri de la lumière dans un droit sec et à température ambiante. Après contacts répétés à l'air et à la lumière, la couleur de votre e-liquide peut se foncer. Ce changement de couleur n'affecte ni la qualité ni le goût de votre e-liquide. La date indiquée sur l'étiquette est une DLUO (date limite d'utilisation optimale) ou DDM (date de durabilité minimale). Passé cette date, le e-liquide peut encore être consommé. Mises en garde et contre-indications : Précautions d'emploi : - Similarité : 0.3063 - Pertinence : Pertinent\n",
      "Produit 1264 - Description : Le Menthe Glaciale est un e-liquide à booster au format 50ml de chez Alfaliquid. Il vous propose dessaveurs fraîches de menthe, dans une recette fabriquée en France. Composé d'arômes alimentaires, de propylène glycol (PG) et de glycérine végétale (VG), dans un ratio 50PG/50VG,vous pouvez au besoin ajouter des boosters10ml de nicotine (vendus séparément). Il vous est livré dans une fiole de 70ml dotée d'une ouverture sécurisée et d'un embout fin simplifiant le remplissage de votre réservoir. Qui est Alfaliquid ? Le fabricant français s'est fait reconnaître par ses recettes de e-liquides pour cigarette électronique, et ce, au fil du temps. Mettant à l'honneur aussi bien des goûts de fruits que classics par exemple, soyez toujours certain de trouver votre prêt à l'emploi avec Alfaliquid. Comment préparer votre e-liquide Menthe Glaciale ? Ce e-liquide est proposé en version50mlboostée en arômes dans un flacon de70ml. Si vous le souhaitez, vous pouvez ainsi ajouter un ou plusieurs boosters de nicotine selon vos besoins sans perte de saveur. Pour booster votre e-liquide, vous devez : Indications pour préparer votre e-liquide surboosté de 50 ml : La place disponible dans le flacon d'origine n’est peut-être pas suffisante pour booster votre e-liquide au taux de nicotine souhaité. Pour les dosages importants, nous vous conseillons l’utilisation de contenants plus importants commeun flacon de 100ml graduéouun flacon Twist de 230ml gradué. Astuce : pensez à adapter votre matériel au ratio PG/VG de votre e-liquide ! Vous limiterez ainsi le risque de fuite et l’usure prématurée de vos résistances ! Quel taux de nicotine choisir pour votre e-liquide ? Le choix de votre taux de nicotine dépend de votre profil de fumeur ainsi que de la cigarette électronique utilisée : Si vous utilisez du matériel plus performant avec une résistance inférieure à 1 ohm et pour une puissance supérieure à 30 watts, vous pouvez diviser votre taux de nicotine par deux. Nos conseils pour la maturation de votre e-liquide surboosté De la même façon que pour un e-liquide DIY, on peut observer un temps de repos avec un e-liquide surboosté en arômes après l’ajout d’un ou plusieurs boosters de nicotine. Ce temps de maturation que l’on appelle aussi “steep” permet aux arômes de se développer et de mieux s’exprimer. Pour une maturation optimale, il faut compter : Pour un rendu optimal : secouez votre fiole de e-liquide une fois par jour pour que les arômes se diffusent correctement. Conservation de votre e-liquide Pour une conservation optimale de votre e-liquide, nous vous conseillons de stocker votre flacon à l'abri de la lumière dans un droit sec et à température ambiante. Après contacts répétés à l'air et à la lumière, la couleur de votre e-liquide peut se foncer. Ce changement de couleur n'affecte ni la qualité ni le goût de votre e-liquide. La date indiquée sur l'étiquette est une DLUO (date limite d'utilisation optimale) ou DDM (date de durabilité minimale). Passé cette date, le e-liquide peut encore être consommé. - Similarité : 0.2759 - Pertinence : Pertinent\n",
      "Produit 1247 - Description : Des sensations parfumées et mentholées à chaque inspiration Spécialisé dans la conception de saveurs fruitées, le fabricant français Prestige Fruits vous propose aujourd'hui une évasion différente, aux nuances extrêmement intenses. Le e-liquide Menthe Verte s'impose comme une référence pour tous les amateurs de goûts mentholés et naturellement frais. Son format surboosté de 60 ml vous permettra surtout d'avoir sous la main une bonne réserve de eliquide et vous assure un mélange parfaitement dosé et équilibré. À chaque inspiration, vous ressentirez ainsi toute la puissance de ces brins de menthe fraichement cueillis, aux nuances naturellement rafraichissantes. Une authentique menthe, au goût envoutant La marque française Prestige Fruits le sait pertinemment, un liquide mentholé n'est rien sans sa touche de fraicheur. Mais ici, pas d'additifs frais ajoutés. Vous aurez simplement la douce sensation d'avoir tout juste senti et dégusté des brins de menthe fraichement ramassés. Et ça, ça n'a pas de prix ! Un e-liquide qui vous plonge au cœur de la nature, dans un tourbillon de goûts et d'odeurs envoutants. Informations complémentaires Le Menthe Verte est un e-liquide pour cigarette électronique de la gamme bien givrée Prestige Fresh, élaborée et fabriquée en France par Prestige Fruits. Sans sucralose, ce liquide est exclusivement composé d'arômes alimentaires, de propylène glycol et de glycérine végétale dans un ratio PG/VG de 50/50 et vous est proposé en 0 mg, en flacon de type PET de 60 ml, rempli à hauteur de 50 ml. Pour obtenir un eliquide nicotiné en 3 mg/ml, vous verserez un booster de nicotine directement dans votre fiole. Enfin, conformément aux normes de sécurité en vigueur, votre Menthe Verte dispose d'une protection enfant sur son bouchon ainsi que d'un embout fin qui facilitera le remplissage de votre clearomiseur ou atomiseur. - Similarité : 0.2748 - Pertinence : Pertinent\n",
      "Produit 1260 - Description : Réveillez vos papilles des saveurs rafraîchissantes du Menthe Glaciale Sel de Nicotine, une recette délicieusement mentholée proposée par Alfaliquid. Sa formule au sel de nicotine sera le parfait allié des primo-vapoteurs ; elle vous est présentée dans un formatprêt à l'emploi, en flacon de 10ml. Ce e-liquide pour cigarette électronique est élaboré dans un ratio PG/VG équilibré de 50/50. Une parfaite harmonie entre saveur et fraîcheur Alfaliquid vous propose de mettre un bout de banquise dans votre réservoir, grâce à la recette terriblement givrée de son Menthe Glaciale au Sel de Nicotine. Non seulement ce e-liquide va bousculer vos papilles de sa fraîcheur glacée, mais il va également subjuguer votre palais de ses saveurs intensémentmentholées. Son goût authentique de feuilles de menthe est élaboré dans une formule au sel de nicotine, idéal pour débuter dans la vape ! Choisir son taux en sel de nicotine Destiné au réservoir de votre cigarette électronique, le Menthe Glaciale Sel de Nicotine est un e-liquide fabriqué par Alfaliquid. Sa formule au sel de nicotine est idéale pour les vapoteurs ayant encore besoin d'un taux élevé, que ce soit en début ou en cours de sevrage tabagique. En effet, les sels de nicotine présentent l'avantage de procurer un hit plus doux en gorge que la nicotine traditionnelle. Suivez nos conseils ci-dessous afin de sélectionner à la commande le taux en sel de nicotine qui vous convient : Informations complémentaires De fabrication 100% française par Alfaliquid, le Menthe Glaciale Sel de Nicotine 10ml est un e-liquide pour cigarette électronique. Élaboré à partir d'arômes alimentaires, de propylène glycol (PG) et de glycérine végétale (VG), il vous est proposé dans unratio PG/VG de 50/50. En fonction du niveau de votre sevrage tabagique, vous choisirez à la commande le taux en sel de nicotine qui vous convient (10mg/ml ou 20mg/ml). Le e-liquide Menthe Glaciale Sel de Nicotine vous est livré dans une fiole PET de 10ml, dotée d'un bouchon avec protection enfant et d'un embout fin facilitant le remplissage de votre réservoir. - Similarité : 0.2647 - Pertinence : Pertinent\n",
      "Produit 1227 - Description : La Menthe Givrée de chez Jin & Juice vous propose dessaveurs fraîches de menthe, le tout dans un format de 200ml. Vous pouvez au besoin personnaliser ce e-liquideà boosteren utilisant une fiole vide pour réaliser votre mélange. Conçu en France, il est fabriqué à partir d'arômes alimentaires, de propylène glycol (PG) et de glycérine végétale (VG), pour un ratio 30PG/70VG. Son flacon de 200ml est doté d'un bouchon sécurisé et d'un embout fin. Qui est Jin & Juice ? Ce fabricant français élabore toutes ses recettes pour cigarettes électroniques dans ses laboratoires français. La marque Jin & Juice est spécialisée dans les e-liquides en grand format, non nicotinés de base et à booster ! Comment préparer votre e-liquide La Menthe Givrée ? Ce e-liquide est proposé en version200mlboostée en arômes. Si vous le souhaitez, vous pouvez ainsi ajouter un ou plusieurs boosters de nicotine selon vos besoins sans perte de saveur. Pour booster votre e-liquide, vous devez : Indications pour préparer votre e-liquide surboosté de 100 ml : La place disponible dans le flacon d'origine n’est peut-être pas suffisante pour booster votre e-liquide au taux de nicotine souhaité. Pour les dosages importants, nous vous conseillons l’utilisation de contenants plus importants commeun flacon de 100ml graduéouun flacon Twist de 230ml gradué. Astuce : pensez à adapter votre matériel au ratio PG/VG de votre e-liquide ! Vous limiterez ainsi le risque de fuite et l’usure prématurée de vos résistances ! Quel taux de nicotine choisir pour votre e-liquide ? Le choix de votre taux de nicotine dépend de votre profil de fumeur ainsi que de la cigarette électronique utilisée : Si vous utilisez du matériel plus performant avec une résistance inférieure à 1 ohm et pour une puissance supérieure à 30 watts, vous pouvez diviser votre taux de nicotine par deux. Nos conseils pour la maturation de votre e-liquide surboosté De la même façon que pour un e-liquide DIY, on peut observer un temps de repos avec un e-liquide surboosté en arômes après l’ajout d’un ou plusieurs boosters de nicotine. Ce temps de maturation que l’on appelle aussi “steep” permet aux arômes de se développer et de mieux s’exprimer. Pour une maturation optimale, il faut compter : Pour un rendu optimal : secouez votre fiole de e-liquide une fois par jour pour que les arômes se diffusent correctement. Conservation de votre e-liquide Pour une conservation optimale de votre e-liquide, nous vous conseillons de stocker votre flacon à l'abri de la lumière dans un droit sec et à température ambiante. Après contacts répétés à l'air et à la lumière, la couleur de votre e-liquide peut se foncer. Ce changement de couleur n'affecte ni la qualité ni le goût de votre e-liquide. La date indiquée sur l'étiquette est une DLUO (date limite d'utilisation optimale) ou DDM (date de durabilité minimale). Passé cette date, le e-liquide peut encore être consommé. - Similarité : 0.2598 - Pertinence : Pertinent\n",
      "Produit 1241 - Description : A&L vous propose une sélection de 3 e-liquides prêts à emploi au goût frais de menthe. Retrouvez la qualité premium des e-liquides A&L dans un pack découverte réunissant trois e-liquides mentholés : A&L Menthe Arctique, A&L Menthe Extra Glaciale, Shiva Ultimate. Le Pack Mentholé A&L vous est proposé en format prêt à vaper,taux de nicotine au choix(0, 3, 6 ou 12mg/ml). Composés d'arômes alimentaires, de propylène glycol (PG) et de glycérine végétale (VG), ils sont élaborés à partir d'une base50PG/50VG. Les 3 e-liquides (A&L Menthe Arctique, A&L Menthe Extra Glaciale et Shiva Ultimate A&L) sont conditionnés dans des fioles 10ml, équipées d'un bouchon sécurisé et d'un embout fin. Un trio de saveurs mentholées Vous êtes un amateur des saveurs mentholées et vous recherchez des e-liquides de qualité au goût frais de feuilles de menthe ? A&L se plie en quatre (enfin plutôt en trois) pour vous proposer un pack découverte de ses plus célèbres e-liquides mentholés : Les trois e-liquides 10ml du Pack Mentholé A&L Trois e-liquides prêts à l'emploi Idéal pour les primo-vapoteurs, ce pack est composé de trois e-liquides mentholés prêts à vaper. Sélectionnez simplement à la commande le taux de nicotine qui vous convient. Voici quelques conseils pour faire votre choix, en fonction de votre ancienne consommation de cigarette traditionnelle : Vous êtes en fin de sevrage tabagique ? Le Pack Mentholés A&L est également disponible sans nicotine, soit en0mg/ml. Conservation de votre e-liquide Pour une conservation optimale de votre e-liquide, nous vous conseillons de stocker votre flacon à l'abri de la lumière dans un droit sec et à température ambiante. Après contacts répétés à l'air et à la lumière, la couleur de votre e-liquide peut se foncer. Ce changement de couleur n'affecte ni la qualité ni le goût de votre e-liquide. La date indiquée sur l'étiquette est une DLUO (date limite d'utilisation optimale) ou DDM (date de durabilité minimale). Passé cette date, le e-liquide peut encore être consommé. Mises en garde et contre-indications : Précautions d'emploi : - Similarité : 0.2579 - Pertinence : Pertinent\n",
      "Produit 1248 - Description : Menthe Glaciale est un e-liquide à booster au format 50ml de chez Roykin. Il vous propose dessaveurs fraîches de menthe blanchedans sa recette fabriquée en France. Composé d'arômes alimentaires, de propylène glycol (PG) et de glycérine végétale (VG), dans un ratio 50PG/50VG, vous pouvez au besoin ajouter des boosters 10ml de nicotine (vendus séparément). Il vous est livré dans une fiole de 70ml dotée d'un bouchon sécurisé et d'un embout fin simplifiant le remplissage de votre réservoir. Qui est Roykin ? Innovation, ambition et excellence sont les maîtres mots de ce fabricant français basé en région parisienne. C'est à travers des gammes célèbres telles que Petit Nuage ou encore Greeneo que la marque s'est imposée dans l'univers de la vape. Spécialiste du e-liquide, Roykin propose ses créations en format prêt-à-l'emploi ou à booster, répondant ainsi aux besoins de tout type de vapoteur. Comment préparer votre e-liquide Menthe Glaciale ? Ce e-liquide vous est proposé en version50mlboostée en arômes dans un flacon de70ml. Si vous le souhaitez, vous pouvez ainsi ajouter un ou plusieurs boosters de nicotine selon vos besoins sans perte de saveur. Pour booster votre e-liquide, vous devez : Indications pour préparer votre e-liquide surboosté de 50 ml : La place disponible dans le flacon d'origine n’est peut-être pas suffisante pour booster votre e-liquide au taux de nicotine souhaité. Pour les dosages importants, nous vous conseillons l’utilisation de contenants plus importants commeun flacon de 100ml graduéouun flacon Twist de 230ml gradué. Astuce : pensez à adapter votre matériel au ratio PG/VG de votre e-liquide ! Vous limiterez ainsi le risque de fuite et l’usure prématurée de vos résistances ! Quel taux de nicotine choisir pour votre e-liquide ? Le choix de votre taux de nicotine dépend de votre profil de fumeur ainsi que de la cigarette électronique utilisée : Si vous utilisez du matériel plus performant avec une résistance inférieure à 1 ohm et pour une puissance supérieure à 30 watts, vous pouvez diviser votre taux de nicotine par deux. Nos conseils pour la maturation de votre e-liquide surboosté De la même façon que pour un e-liquide DIY, on peut observer un temps de repos avec un e-liquide surboosté en arômes après l’ajout d’un ou plusieurs boosters de nicotine. Ce temps de maturation que l’on appelle aussi “steep” permet aux arômes de se développer et de mieux s’exprimer. Pour une maturation optimale, il faut compter : Pour un rendu optimal : secouez votre fiole de e-liquide une fois par jour pour que les arômes se diffusent correctement. Conservation de votre e-liquide Pour une conservation optimale de votre e-liquide, nous vous conseillons de stocker votre flacon à l'abri de la lumière dans un droit sec et à température ambiante. Après contacts répétés à l'air et à la lumière, la couleur de votre e-liquide peut se foncer. Ce changement de couleur n'affecte ni la qualité ni le goût de votre e-liquide. La date indiquée sur l'étiquette est une DLUO (date limite d'utilisation optimale) ou DDM (date de durabilité minimale). Passé cette date, le e-liquide peut encore être consommé. - Similarité : 0.2541 - Pertinence : Pertinent\n"
     ]
    }
   ],
   "source": [
    "\n",
    "\n",
    "# Fonction pour afficher les 10 produits les plus pertinents pour une requête\n",
    "def print_top_10_recommendations(query, threshold=0.5):\n",
    "    relevance, cosine_similarities = assign_relevance_to_products(query, tfidf_matrix, vectorizer, threshold)\n",
    "    \n",
    "    # Créer un DataFrame avec les résultats de similarité et pertinence\n",
    "    results = pd.DataFrame({\n",
    "        'description': df['description'],\n",
    "        'similarity': cosine_similarities,\n",
    "        'relevance': relevance\n",
    "    })\n",
    "    \n",
    "    # Trier les produits par similarité décroissante\n",
    "    results_sorted = results.sort_values(by='similarity', ascending=False)\n",
    "    \n",
    "    # Afficher les 10 produits les plus pertinents\n",
    "    top_10 = results_sorted.head(10)\n",
    "    \n",
    "    print(f\"Les 10 produits les plus pertinents pour la requête : '{query}'\\n\")\n",
    "    for idx, row in top_10.iterrows():\n",
    "        pertinence = 'Pertinent' if row['relevance'] == 1 else 'Non pertinent'\n",
    "        print(f\"Produit {idx+1} - Description : {row['description']} - Similarité : {row['similarity']:.4f} - Pertinence : {pertinence}\")\n",
    "\n",
    "# Exemple d'appel avec la requête \"Saveur menthe\"\n",
    "print_top_10_recommendations(\"Saveur menthe\", threshold=0.2)\n"
   ]
  },
  {
   "cell_type": "markdown",
   "metadata": {},
   "source": [
    "3. Utilisation de mémoire (Consommation mémoire)\n",
    "Objectif : Mesurer la mémoire utilisée par le modèle et les calculs pour voir si votre solution peut évoluer avec des jeux de données plus volumineux.\n",
    "Comment mesurer : Utilisez des outils comme psutil ou memory_profiler pour mesurer l'utilisation de la mémoire."
   ]
  },
  {
   "cell_type": "code",
   "execution_count": 98,
   "metadata": {},
   "outputs": [
    {
     "name": "stdout",
     "output_type": "stream",
     "text": [
      "Utilisation de la mémoire avant recommandation: 824.96 MB\n",
      "Produits recommandés pour la requête 'Saveur menthe':\n",
      "\n",
      "Produit 1274: Le Menthe Verte Glacée reprend lessaveurs fraîches d'une menthe chlorophylle, dans une recette signée PULP. Prêt à vaper(PAV), il vous est proposé dans plusieurs taux de nicotine au choix (0, 3, 6 et 12mg/ml), à sélectionner à la commande. Le Menthe Verte Glacée est élaboré à partir d'une base PG/VG de 70/30, et vous est livré dans une fiole de 10ml. Le Menthe Verte Glacée est un e-liquide exclusivement destiné au réservoir de votre cigarette électronique. Il est fabriqué en France par Pulp, à partir d'arômes alimentaires, de propylène glycol et de glycérine végétale. Le e-liquide Menthe Verte Glacée vous est livré dans un flacon de 10ml, équipé d'un bouchon avec sécurité enfant et d'un embout fin facilitant le remplissage de votre réservoir. Qui est PULP ? C'est dans leur laboratoire français, et plus particulièrement parisien que les aromaticiens de la marque PULP conçoivent leurs multiples recettes, et ce, toujours avec le sens du détail. Ainsi, il vous présente aussi bien des e-liquides prêts à vaper, à booster, ou encore des concentrés DIY (Do It Yourself) aux saveurs finement reproduites et de diverses variétés. Nos conseils pour utiliser votre e-liquide Menthe Verte Glacée L'utilisation d'un e-liquide est exclusivement réservée à la cigarette électronique. Nous vous recommandons de bien agiter votre flacon de e-liquide avant emploi. Pour limiter les risques de fuites et prolonger la durée de vie de vos résistances, nous vous conseillons d'utiliser un clearomiseur adapté au taux PG/VG de votre e-liquide. Quel taux de nicotine choisir pour votre e-liquide ? Le choix de votre taux de nicotine dépend de votre profil de fumeur ainsi que de la cigarette électronique utilisée. Si vous utilisez une cigarette électronique équipée d'une résistance égale ou supérieure à 1 ohm et à une puissance ne dépassant pas les 30 watts, voici nos recommandations pour choisir votre taux de nicotine : Si vous utilisez une cigarette électronique plus performante équipée de résistances dont la valeur est inférieure à 1 ohm et pour une puissance supérieure à 30 watts, nous vous conseillons d'utiliser un taux de nicotine plus faible : Conservation de votre e-liquide Pour une conservation optimale de votre e-liquide, nous vous conseillons de stocker votre flacon à l'abri de la lumière dans un droit sec et à température ambiante. Après contacts répétés à l'air et à la lumière, la couleur de votre e-liquide peut se foncer. Ce changement de couleur n'affecte ni la qualité ni le goût de votre e-liquide. La date indiquée sur l'étiquette est une DLUO (date limite d'utilisation optimale) ou DDM (date de durabilité minimale). Passé cette date, le e-liquide peut encore être consommé. Mises en garde et contre-indications : Précautions d'emploi : - Similarité: 0.3462\n",
      "Produit 1343: Pulp vous propose de vapoter une saveur de boisson mentholée, grâce à son e-liquide pour cigarette électronique Le Thé à la Menthe. Non nicotiné de base, il vous estlivré avec un booster 10mlafin au besoin de le vaper dans un taux de 3mg/ml de nicotine. Le e-liquide Le Thé à la Menthe est fabriqué en France à partir d'arômes alimentaires, de propylène glycol (PG) et de glycérine végétale (VG), dans unratio PG/VG de 70/30. Recevez-le dans une fiole de 60ml remplie à hauteur de 50ml de e-liquide, et dotée d'un bouchon avec sécurité enfant et d'un embout fin. Comment utiliser votre e-liquide Le Thé à la Menthe ? Le Thé à la Menthe est proposé en version50mlboostée en arômes dans un flacon de60ml. Si vous le souhaitez, vous pouvez ajouter un ou plusieurs boosters de nicotine selon vos besoins sans perte de saveur. Pour booster votre e-liquide, vous devez : Indications pour préparer votre e-liquide surboosté de 50 ml : La place disponible dans le flacon d'origine n’est peut-être pas suffisante pour booster votre e-liquide au taux de nicotine souhaité. Pour les dosages importants, nous vous conseillons l’utilisation de contenants plus importants commeun flacon de 100ml graduéouun flacon Twist de 230ml gradué. Astuce : pensez à adapter votre matériel au ratio PG/VG de votre e-liquide ! Vous limiterez ainsi le risque de fuite et l’usure prématurée de vos résistances ! Quel taux de nicotine choisir pour votre e-liquide ? Le choix de votre taux de nicotine dépend de votre profil de fumeur ainsi que de la cigarette électronique utilisée : Si vous utilisez du matériel plus performant avec une résistance inférieure à 1 ohm et pour une puissance supérieure à 30 watts, vous pouvez diviser votre taux de nicotine par deux. Nos conseils pour la maturation de votre e-liquide surboosté De la même façon que pour un e-liquide DIY, on peut observer un temps de repos avec un e-liquide surboosté en arômes après l’ajout d’un ou plusieurs boosters de nicotine. Ce temps de maturation que l’on appelle aussi “steep” permet aux arômes de se développer et de mieux s’exprimer. Pour une maturation optimale, il faut compter : Pour un rendu optimal : secouez votre fiole de e-liquide une fois par jour pour que les arômes se diffusent correctement. Conservation de votre e-liquide Pour une conservation optimale de votre e-liquide, nous vous conseillons de stocker votre flacon à l'abri de la lumière dans un droit sec et à température ambiante. Après contacts répétés à l'air et à la lumière, la couleur de votre e-liquide peut se foncer. Ce changement de couleur n'affecte ni la qualité ni le goût de votre e-liquide. La date indiquée sur l'étiquette est une DLUO (date limite d'utilisation optimale) ou DDM (date de durabilité minimale). Passé cette date, le e-liquide peut encore être consommé. - Similarité: 0.3261\n",
      "Produit 1250: Fabriqué en France par Alfaliquid, le Menthe Polaire 10ml est un e-liquide pour cigarette électronique. Il vous propose un mélange de saveurs mentholées et fraîches à travers une menthe verte. Composé d'arômes alimentaires, de propylène glycol (PG) et de glycérine végétale (VG), il est élaboré à partir d'une base76PG/24VG. Faites votre choix entre les différents taux de nicotine proposés. Le flacon du Menthe Polaire 10ml est doté d'un bouchon avec protection enfant et d'un embout fin. Qui est Alfaliquid ? Le fabricant français s'est fait reconnaître par ses recettes de e-liquides, et ce, au fil du temps. Mettant à l'honneur aussi bien des goûts fruités que classics par exemple, soyez toujours certain de trouver votre prêt à l'emploi avec Alfaliquid. Nos conseils pour utiliser votre e-liquide Menthe Polaire L'utilisation d'un e-liquide est exclusivement réservée à la cigarette électronique. Nous vous recommandons de bien agiter votre flacon de e-liquide avant emploi. Pour limiter les risques de fuites et prolonger la durée de vie de vos résistances, nous vous conseillons d'utiliser un clearomiseur adapté au taux PG/VG de votre e-liquide. Quel taux de nicotine choisir pour votre e-liquide ? Le choix de votre taux de nicotine dépend de votre profil de fumeur ainsi que de la cigarette électronique utilisée. Si vous utilisez une cigarette électronique équipée d'une résistance égale ou supérieure à 1 ohm et à une puissance ne dépassant pas les 30 watts, voici nos recommandations pour choisir votre taux de nicotine : Si vous utilisez une cigarette électronique plus performante équipée de résistances dont la valeur est inférieure à 1 ohm et pour une puissance supérieure à 30 watts, nous vous conseillons d'utiliser un taux de nicotine plus faible : Conservation de votre e-liquide Pour une conservation optimale de votre e-liquide, nous vous conseillons de stocker votre flacon à l'abri de la lumière dans un droit sec et à température ambiante. Après contacts répétés à l'air et à la lumière, la couleur de votre e-liquide peut se foncer. Ce changement de couleur n'affecte ni la qualité ni le goût de votre e-liquide. La date indiquée sur l'étiquette est une DLUO (date limite d'utilisation optimale) ou DDM (date de durabilité minimale). Passé cette date, le e-liquide peut encore être consommé. Mises en garde et contre-indications : Précautions d'emploi : - Similarité: 0.3105\n",
      "Produit 100: Si les Français de VDLV n'ont plus besoin d'être présentés, leur e-liquide Fraise Menthe mérite un tapis rouge pour son arrivée ! Retrouvez dans sa recette unmélange frais et fruité de fraises et de menthe, accompagné d'un goût d'anis et d'eucalyptus. Le Fraise Menthe est un e-liquide pour cigarette électronique entièrement conçu et fabriqué en France par Vincent Dans Les Vapes. Il se compose d'arômes alimentaires, de propylène glycol (PG) et de glycérine végétale (VG) dans un ratio de 50PG/50VG. Il vous sera proposé en fiole de 10ml avec sécurité enfant et embout fin pour faciliter le remplissage de votre cigarette électronique. Issu de la collection Cirkus, le Fraise Menthe est disponible en plusieurs taux de nicotine au choix :3, 6 et 12mg/ml. Qui est VDLV ? VDLV, pour Vincent Dans Les Vapes, est un fabricant français de liquides pour cigarette électronique. Depuis 2012, la marque basée en Gironde s'attache à proposer des produits de qualité aux vapoteurs du monde entier. Fort de diverses gammes telles que Cirkus, Classic Wanted ou encore V'ICE, VDLV s'adresse autant aux amateurs de e-liquides prêts à vaper qu'aux utilisateurs d'arômes DIY. La gamme Cirkus Si le fabricant français bénéficie d'une place de choix dans l'univers de la vape, c'est notamment grâce à sa collection Cirkus. Cette gamme de recettes variées se décline autant en e-liquides prêts à vaper qu'en arômes DIY (Do It Yourself). Découvrez toute une série de produits à vaper de qualité, d'origine 100% française. Nos conseils pour utiliser votre e-liquide Fraise Menthe L'utilisation d'un e-liquide est exclusivement réservée à la cigarette électronique. Nous vous recommandons de bien agiter votre flacon de e-liquide avant emploi. Pour limiter les risques de fuites et prolonger la durée de vie de vos résistances, nous vous conseillons d'utiliser un clearomiseur adapté au taux PG/VG de votre e-liquide. Quel taux de nicotine choisir pour votre e-liquide ? Le choix de votre taux de nicotine dépend de votre profil de fumeur ainsi que de la cigarette électronique utilisée. Si vous utilisez une cigarette électronique équipée d'une résistance égale ou supérieure à 1 ohm et à une puissance ne dépassant pas les 30 watts, voici nos recommandations pour choisir votre taux de nicotine : Si vous utilisez une cigarette électronique plus performante équipée de résistances dont la valeur est inférieure à 1 ohm et pour une puissance supérieure à 30 watts, nous vous conseillons d'utiliser un taux de nicotine plus faible : Conservation de votre e-liquide Pour une conservation optimale de votre e-liquide, nous vous conseillons de stocker votre flacon à l'abri de la lumière dans un droit sec et à température ambiante. Après contacts répétés à l'air et à la lumière, la couleur de votre e-liquide peut se foncer. Ce changement de couleur n'affecte ni la qualité ni le goût de votre e-liquide. La date indiquée sur l'étiquette est une DLUO (date limite d'utilisation optimale) ou DDM (date de durabilité minimale). Passé cette date, le e-liquide peut encore être consommé. Mises en garde et contre-indications : Précautions d'emploi : - Similarité: 0.3063\n",
      "Produit 1264: Le Menthe Glaciale est un e-liquide à booster au format 50ml de chez Alfaliquid. Il vous propose dessaveurs fraîches de menthe, dans une recette fabriquée en France. Composé d'arômes alimentaires, de propylène glycol (PG) et de glycérine végétale (VG), dans un ratio 50PG/50VG,vous pouvez au besoin ajouter des boosters10ml de nicotine (vendus séparément). Il vous est livré dans une fiole de 70ml dotée d'une ouverture sécurisée et d'un embout fin simplifiant le remplissage de votre réservoir. Qui est Alfaliquid ? Le fabricant français s'est fait reconnaître par ses recettes de e-liquides pour cigarette électronique, et ce, au fil du temps. Mettant à l'honneur aussi bien des goûts de fruits que classics par exemple, soyez toujours certain de trouver votre prêt à l'emploi avec Alfaliquid. Comment préparer votre e-liquide Menthe Glaciale ? Ce e-liquide est proposé en version50mlboostée en arômes dans un flacon de70ml. Si vous le souhaitez, vous pouvez ainsi ajouter un ou plusieurs boosters de nicotine selon vos besoins sans perte de saveur. Pour booster votre e-liquide, vous devez : Indications pour préparer votre e-liquide surboosté de 50 ml : La place disponible dans le flacon d'origine n’est peut-être pas suffisante pour booster votre e-liquide au taux de nicotine souhaité. Pour les dosages importants, nous vous conseillons l’utilisation de contenants plus importants commeun flacon de 100ml graduéouun flacon Twist de 230ml gradué. Astuce : pensez à adapter votre matériel au ratio PG/VG de votre e-liquide ! Vous limiterez ainsi le risque de fuite et l’usure prématurée de vos résistances ! Quel taux de nicotine choisir pour votre e-liquide ? Le choix de votre taux de nicotine dépend de votre profil de fumeur ainsi que de la cigarette électronique utilisée : Si vous utilisez du matériel plus performant avec une résistance inférieure à 1 ohm et pour une puissance supérieure à 30 watts, vous pouvez diviser votre taux de nicotine par deux. Nos conseils pour la maturation de votre e-liquide surboosté De la même façon que pour un e-liquide DIY, on peut observer un temps de repos avec un e-liquide surboosté en arômes après l’ajout d’un ou plusieurs boosters de nicotine. Ce temps de maturation que l’on appelle aussi “steep” permet aux arômes de se développer et de mieux s’exprimer. Pour une maturation optimale, il faut compter : Pour un rendu optimal : secouez votre fiole de e-liquide une fois par jour pour que les arômes se diffusent correctement. Conservation de votre e-liquide Pour une conservation optimale de votre e-liquide, nous vous conseillons de stocker votre flacon à l'abri de la lumière dans un droit sec et à température ambiante. Après contacts répétés à l'air et à la lumière, la couleur de votre e-liquide peut se foncer. Ce changement de couleur n'affecte ni la qualité ni le goût de votre e-liquide. La date indiquée sur l'étiquette est une DLUO (date limite d'utilisation optimale) ou DDM (date de durabilité minimale). Passé cette date, le e-liquide peut encore être consommé. - Similarité: 0.2759\n",
      "Utilisation de la mémoire après recommandation: 824.96 MB\n"
     ]
    }
   ],
   "source": [
    "import psutil\n",
    "process = psutil.Process(os.getpid())\n",
    "print(f\"Utilisation de la mémoire avant recommandation: {process.memory_info().rss / 1024 ** 2:.2f} MB\")\n",
    "recommend_by_query(\"Saveur menthe\", tfidf_matrix, vectorizer)\n",
    "print(f\"Utilisation de la mémoire après recommandation: {process.memory_info().rss / 1024 ** 2:.2f} MB\")\n"
   ]
  },
  {
   "cell_type": "markdown",
   "metadata": {},
   "source": [
    " Précision du modèle TF-IDF et amélioration avec d'autres modèles\n",
    " Pour améliorer les performances de recommandation, vous pouvez comparer le modèle TF-IDF avec des modèles plus avancés comme BERT, Word2Vec, ou FastText pour obtenir des représentations plus riches des descriptions de produits. Voici un guide pour mesurer la précision du modèle TF-IDF et améliorer les recommandations en utilisant des modèles plus avancés."
   ]
  },
  {
   "cell_type": "code",
   "execution_count": 99,
   "metadata": {},
   "outputs": [
    {
     "name": "stderr",
     "output_type": "stream",
     "text": [
      "c:\\Users\\antoa\\anaconda3\\envs\\nlp\\lib\\site-packages\\tqdm\\auto.py:21: TqdmWarning: IProgress not found. Please update jupyter and ipywidgets. See https://ipywidgets.readthedocs.io/en/stable/user_install.html\n",
      "  from .autonotebook import tqdm as notebook_tqdm\n"
     ]
    }
   ],
   "source": [
    "from transformers import BertTokenizer, BertModel\n",
    "import torch\n",
    "from sklearn.metrics.pairwise import cosine_similarity\n",
    "import numpy as np"
   ]
  },
  {
   "cell_type": "code",
   "execution_count": 100,
   "metadata": {},
   "outputs": [],
   "source": [
    "# Charger le modèle BERT et son tokenizer\n",
    "tokenizer = BertTokenizer.from_pretrained('bert-base-uncased')\n",
    "model = BertModel.from_pretrained('bert-base-uncased')"
   ]
  },
  {
   "cell_type": "code",
   "execution_count": 101,
   "metadata": {},
   "outputs": [],
   "source": [
    "# Fonction pour obtenir les embeddings d'une description ou d'une requête\n",
    "def get_bert_embeddings(text):\n",
    "    inputs = tokenizer(text, return_tensors='pt', padding=True, truncation=True, max_length=512)\n",
    "    with torch.no_grad():\n",
    "        outputs = model(**inputs)\n",
    "    embeddings = outputs.last_hidden_state.mean(dim=1).squeeze()  # Moyenne des tokens pour obtenir l'embedding\n",
    "    return embeddings.numpy()"
   ]
  },
  {
   "cell_type": "code",
   "execution_count": 102,
   "metadata": {},
   "outputs": [],
   "source": [
    "# Exemple de requête\n",
    "query = \"Saveur menthe\""
   ]
  },
  {
   "cell_type": "code",
   "execution_count": 103,
   "metadata": {},
   "outputs": [],
   "source": [
    "# Obtenez les embeddings de la requête\n",
    "query_embedding = get_bert_embeddings(query)"
   ]
  },
  {
   "cell_type": "code",
   "execution_count": 104,
   "metadata": {},
   "outputs": [],
   "source": [
    "# Charger les descriptions de produits\n",
    "descriptions = df['description'].tolist()"
   ]
  },
  {
   "cell_type": "code",
   "execution_count": 105,
   "metadata": {},
   "outputs": [],
   "source": [
    "# Obtenir les embeddings des descriptions\n",
    "descriptions_embeddings = np.array([get_bert_embeddings(desc) for desc in descriptions])\n",
    "\n",
    "# Calculer la similarité cosinus entre la requête et les descriptions des produits\n",
    "similarities = cosine_similarity([query_embedding], descriptions_embeddings).flatten()\n"
   ]
  },
  {
   "cell_type": "code",
   "execution_count": 106,
   "metadata": {},
   "outputs": [],
   "source": [
    "# Trier les produits les plus similaires\n",
    "top_n = 10\n",
    "similar_indices = similarities.argsort()[-top_n:][::-1]"
   ]
  },
  {
   "cell_type": "code",
   "execution_count": 107,
   "metadata": {},
   "outputs": [
    {
     "name": "stdout",
     "output_type": "stream",
     "text": [
      "Produit 974: Découvrez le e-liquide Strawberry Macarron Salt Nic du fabricant anglais Vape Dinner Lady,un mélange de macaron et de coulis de fraiseà vaper ! Le Strawberry MacaroonSaltNic est un e-liquideprêt à l'emploi aux sels de nicotine. Il se compose d'arômes alimentaires, de propylène glycol et de glycérine végétale dans un ratioPG/VGde 50/50. Disponible en plusieurs 20mg/ml de sels de nicotine, il vous arrivera en fiole PET de 10ml, avec bouchon sécurisé et embout fin propre et pratique. Qui est Vape Dinner Lady ? Vape Dinner Lady est un fabricant anglais de recettes DIY mais aussi de e-liquides aux saveurs complexes comme fruitées et fraîches. Véritable référence dans la vaposphère, soyez certain en choisissant la marque britannique de vapoter un produit abouti dont la qualité n'est plus à prouver Qu'est-ce que les sels de nicotine ? Le sel de nicotine est la forme qui se rapproche le plus de la nicotine présente à l’état naturel dans la plante. En utilisant un e-liquide aux sels de nicotine, on retrouve des sensations similaires à celles ressenties avec une bouffée de cigarette de tabac traditionnelle. En effet, ce type de e liquide permet une assimilation plus rapide de la nicotine par l’organisme. Celui-ci se sent plus rapidement satisfait ce qui évite de monter le taux de nicotine ou la puissance du matériel pour obtenir des résultats similaires. Les sels de nicotine ont également l’avantage d’avoir un HIT doux. Autrement dit, une sensation moins marquée au niveau de la gorge au passage de la vapeur. À qui s’adresse un e-liquide aux sels de nicotine ? Les e-liquides aux sels de nicotine s’adressent particulièrement : Quel taux de nicotine choisir pour votre e-liquide au sel de nicotine ? Si vous êtes un fumeur qui débute avec la cigarette électronique : Si vous êtes vapoteur et que vous voulez découvrir les e-liquides aux sels de nicotine : Conservation de votre e-liquide Pour une conservation optimale de votre e-liquide, nous vous conseillons de stocker votre flacon à l'abri de la lumière dans un droit sec et à température ambiante. Après contacts répétés à l'air et à la lumière, la couleur de votre e-liquide peut se foncer. Ce changement de couleur n'affecte ni la qualité ni le goût de votre e-liquide. La date indiquée sur l'étiquette est une DLUO (date limite d'utilisation optimale) ou DDM (date de durabilité minimale). Passé cette date, le e-liquide peut encore être consommé. Mises en garde et contre-indications : Précautions d'emploi : - Similarité: 0.5061\n",
      "Produit 123: Le e-liquide Secret's Love 50ml par Secret's Lab est là pour célébrer l'amour. Avec son délicieux mix de fraises et de fruits du dragon sur lit de fraicheur, il vous emmène voguer sur les eaux de la passion jour après jour... Proposé en 0mg/ml de nicotine de base, son format 50ml à booster (fiole 60ml) permet de le déguster jusqu'à 3mg/ml de nicotine ! Fraise, pitaya et fraicheur : mode amour activé ! Revivez, jour après jour, la passion de la Saint Valentin ! Plus besoin d'attendre jusqu'au prochain 14 Février pour se voir offrir la meilleure des douceurs fraiches et fruitées... Le Secret's Love a percé le secret de l'amour et il ne tient qu'en deux ingrédients seulement. Deux fruits passionnés, entrefraisesintenses etfruits du dragonparfumés, qui se mêlent avec adresse dans une danse passionnée. Le tout, enseveli d'unefraicheurdouce, mais puissante, pour un pur moment d'extase ! Un e-liquide regorgeant de passion : 50ml à booster ! De l'amour, le e liquide Secret's Love est a à revendre ! Dans sa joliefiole de type PET 60 ml, il contient pas moins de 50 ml d'une histoire romantique, entre une fraise bombée de saveurs et gorgée de jus, et un pitaya à la chair onctueuse et exotique... Présenté en 0 mg de base, il pourra être utilisé de suite dans votre cigarette électronique : 50ml de e liquide non nicotiné. En ajoutant un booster de nicotine (non fourni) directement dans son flacon, vous augmenterez son volume et son taux de nicotine : 60ml de e liquide en 3mg. Et, en transvasant ce délectable duo fruité frais dans un contenant plus grand, vous pourrez obtenir un taux de nicotine encore supérieur ! Informations complémentaires Le Secret's Love est un e liquide pour cigarette électronique de la gamme Secret's Keys par Secret's LAb (JoshNoa). Entièrement fabriqué en France, il comprend des arômes alimentaires, du propylène glycol et de la glycérine végétale dans un ratio PG/VG de 50/50. Bon compromis de saveurs, vapeur et hit en gorge au rendez-vous, et compatibilité avec tout type de matériel e-cig ! Le e-liquide Secret's Love, c'est 50ml en 0mg, conditionné dans une fiole de type PET de 60ml. Il pourra accueillir un booster de nicotine directement dans son flacon, pour un taux final en 3mg. Sa fiole comporte, bien évidemment, un bouchon avec sécurité enfant et un embout fin très pratique. - Similarité: 0.5042\n",
      "Produit 168: Le French Liquide vous propose unassemblage mentholé et fruitéprêt à vaper, entre fruits rouges et feuilles de menthe. Le Souffle du Dragon est un e-liquide auxsels de nicotinefabriqué en France par Le French Liquide, pour sa collection Salt E-Vapor. Il se compose d'arômes alimentaires, de propylène glycol et de glycérine végétale, dans un ratio PG/VG de 50/50. Vous le retrouverez en fiole de 10 ml équipée d'une sécurité enfant et d'un embout fin afin de faciliter le remplissage de votre clearomiseur ou atomiseur. Le e-liquide Souffle du Dragon Salt E-Vapor par Le French Liquide sera disponible en plusieurs taux de sels de nicotine. Qui est Le French Liquide ? Le French Liquide est un fabricant français de liquides haut-de-gamme pour cigarette électronique. Distribuée par Lips France depuis 2013, cette marque a su se faire une place de choix dans l'univers de la vape, grâce à des recettes variées destinées à tout type de vapoteur. C'est à travers une multitude de gammes complexes que Le French Liquide s'est imposé comme leader sur le marché du liquide pour e-cig, comme notamment les collections Wonderful Tart, Artefact ou encore Moonshiners, sans oublier sa recette mythique au goût de café et de caramel : La Chose. La gamme Salt E-Vapor Le French Liquide consacre toute une collection aux e-liquides en sel de nicotine. Conditionnées en flacon de 10ml, les créations Salt E-Vapor se destinent aux utilisateurs ayant besoin de nicotine, et particulièrement aux primo-vapoteurs. Le fabricant propose une gamme de e-liquides aux saveurs variées, toujours élaborés à partir d'ingrédients de qualité et entièrement conçus en France. Qu'est-ce que les sels de nicotine ? Le sel de nicotine est la forme qui se rapproche le plus de la nicotine présente à l’état naturel dans la plante. En utilisant un e-liquide aux sels de nicotine, on retrouve des sensations similaires à celles ressenties avec une bouffée de cigarette de tabac traditionnelle. En effet, ce type de e liquide permet une assimilation plus rapide de la nicotine par l’organisme. Celui-ci se sent plus rapidement satisfait ce qui évite de monter le taux de nicotine ou la puissance du matériel pour obtenir des résultats similaires. Les sels de nicotine ont également l’avantage d’avoir un HIT doux. Autrement dit, une sensation moins marquée au niveau de la gorge au passage de la vapeur. À qui s’adresse un e-liquide aux sels de nicotine ? Les e-liquides aux sels de nicotine s’adressent particulièrement : Quel taux de nicotine choisir pour votre e-liquide au sel de nicotine ? Si vous êtes un fumeur qui débute avec la cigarette électronique : Si vous êtes vapoteur et que vous voulez découvrir les e-liquides aux sels de nicotine : Conservation de votre e-liquide Pour une conservation optimale de votre e-liquide, nous vous conseillons de stocker votre flacon à l'abri de la lumière dans un droit sec et à température ambiante. Après contacts répétés à l'air et à la lumière, la couleur de votre e-liquide peut se foncer. Ce changement de couleur n'affecte ni la qualité ni le goût de votre e-liquide. La date indiquée sur l'étiquette est une DLUO (date limite d'utilisation optimale) ou DDM (date de durabilité minimale). Passé cette date, le e-liquide peut encore être consommé. Mises en garde et contre-indications : Précautions d'emploi : - Similarité: 0.5042\n",
      "Produit 336: Le Daisy Berry est un e-liquide de la gamme Moonshiners par Le French Liquide.Il reproduit toutes les saveurs fruitées d'une grenade, d'une mûre et de cassis. De qualité premium, il se compose d'arômes alimentaires, de propylène glycol (PG) et de glycérine végétale (VG) dans un ratio PG/VG de 50/50. Conditionné en fiole de type PET de 60ml et seulement rempli à hauteur de 50ml, il vous suffira de lui adjoindre un booster de nicotine afin d'atteindre les 3 mg/ml de nicotine. Et ça tombe bien ! Le French Liquide vous joint un booster spécial Daisy Berry dans votre boite de livraison ! Enfin, tous les flacons Daisy Berry seront équipés de bouchons avec sécurité enfant, ainsi que d'embouts fins. Qui est Le French Liquide ? Le French Liquide est un fabricant français de liquides haut-de-gamme pour cigarette électronique. Distribuée par Lips France depuis 2013, cette marque a su se faire une place de choix dans l'univers de la vape, grâce à des recettes variées destinées à tout type de vapoteur. C'est à travers une multitude de gammes complexes que Le French Liquide s'est imposé comme leader sur le marché du liquide pour e-cig, comme notamment les collections Wonderful Tart, Artefact ou encore Moonshiners, sans oublier sa recette mythique au goût de café et de caramel : La Chose. La gamme Moonshiners Issue de la marque Le French Liquide, cette collection se destine aux vapoteurs amateurs de saveurs complexes. Les recettes sont disponibles aussi bien en version à booster qu'en prêt à vaper, ou encore avec du sel de nicotine. Comment préparer votre e-liquide Daisy Berry ? Le Daisy Berry est proposé en version50mlboostée en arômes dans un flacon de60ml. Si vous le souhaitez, vous pouvez ainsi ajouter un ou plusieurs boosters de nicotine selon vos besoins sans perte de saveur. Pour booster votre e-liquide, vous devez : Indications pour préparer votre e-liquide surboosté de 50 ml : La place disponible dans le flacon d'origine n’est peut-être pas suffisante pour booster votre e-liquide au taux de nicotine souhaité. Pour les dosages importants, nous vous conseillons l’utilisation de contenants plus importants commeun flacon de 100ml graduéouun flacon Twist de 230ml gradué. Astuce : pensez à adapter votre matériel au ratio PG/VG de votre e-liquide ! Vous limiterez ainsi le risque de fuite et l’usure prématurée de vos résistances ! Quel taux de nicotine choisir pour votre e-liquide ? Le choix de votre taux de nicotine dépend de votre profil de fumeur ainsi que de la cigarette électronique utilisée : Si vous utilisez du matériel plus performant avec une résistance inférieure à 1 ohm et pour une puissance supérieure à 30 watts, vous pouvez diviser votre taux de nicotine par deux. Nos conseils pour la maturation de votre e-liquide surboosté De la même façon que pour un e-liquide DIY, on peut observer un temps de repos avec un e-liquide surboosté en arômes après l’ajout d’un ou plusieurs boosters de nicotine. Ce temps de maturation que l’on appelle aussi “steep” permet aux arômes de se développer et de mieux s’exprimer. Pour une maturation optimale, il faut compter : Pour un rendu optimal : secouez votre fiole de e-liquide une fois par jour pour que les arômes se diffusent correctement. Conservation de votre e-liquide Pour une conservation optimale de votre e-liquide, nous vous conseillons de stocker votre flacon à l'abri de la lumière dans un droit sec et à température ambiante. Après contacts répétés à l'air et à la lumière, la couleur de votre e-liquide peut se foncer. Ce changement de couleur n'affecte ni la qualité ni le goût de votre e-liquide. La date indiquée sur l'étiquette est une DLUO (date limite d'utilisation optimale) ou DDM (date de durabilité minimale). Passé cette date, le e-liquide peut encore être consommé. - Similarité: 0.5018\n",
      "Produit 622: Le Tof est un e liquide pour cigarette électronique de la gamme Slime Monster, Vape'n Joy par Toutatis. Il vous propose des saveurs de fruits de la passion et de litchi. Entièrement fabriqué en France, il se compose d'arômes alimentaires, de propylène glycol et de glycérine végétale dans un ratio PG/VG de 50/50. De quoi vous assurer un excellent compromis entre saveurs, hit en gorge et vapeur, ainsi qu'une compatibilité à tout type de matériel e-cig. Le Tof est un e-liquide surboosté en arômes. Non nicotiné de base, il peut donc être complété de boosters de nicotine au besoin. Conditionné en fiole de type PET 100ml, Le Tof contient 80ml de e-liquide en 0mg/ml de nicotine. Sa fiole comporte un bouchon sécurisé ainsi qu'un embout fin. Qui est Toutatis ? Fabricant français aux multiples collection, Toutatis vous fait découvrir ses concentrés DIY (Do It Yourself) aux saveurs complexes ou encore des e-liquides à booster en grand format. L'intégralité des recettes respecte un processus de fabrication strict dans le plus grand respect des normes en vigueur. Comment préparer votre e-liquide Tof Slime Monster ? Le Enfer est proposé en version80mlboostée en arômes dans un flacon de100ml. Si vous le souhaitez, vous pouvez ainsi ajouter un ou plusieurs boosters de nicotine selon vos besoins sans perte de saveur. Pour booster votre e-liquide, vous devez : Indications pour préparer votre e-liquide surboosté de 50 ml : La place disponible dans le flacon d'origine n’est peut-être pas suffisante pour booster votre e-liquide au taux de nicotine souhaité. Pour les dosages importants, nous vous conseillons l’utilisation de contenants plus importants commeun flacon de 100ml graduéouun flacon Twist de 230ml gradué. Astuce : pensez à adapter votre matériel au ratio PG/VG de votre e-liquide ! Vous limiterez ainsi le risque de fuite et l’usure prématurée de vos résistances ! Quel taux de nicotine choisir pour votre e-liquide ? Le choix de votre taux de nicotine dépend de votre profil de fumeur ainsi que de la cigarette électronique utilisée : Si vous utilisez du matériel plus performant avec une résistance inférieure à 1 ohm et pour une puissance supérieure à 30 watts, vous pouvez diviser votre taux de nicotine par deux. Nos conseils pour la maturation de votre e-liquide surboosté De la même façon que pour un e-liquide DIY, on peut observer un temps de repos avec un e-liquide surboosté en arômes après l’ajout d’un ou plusieurs boosters de nicotine. Ce temps de maturation que l’on appelle aussi “steep” permet aux arômes de se développer et de mieux s’exprimer. Pour une maturation optimale, il faut compter : Pour un rendu optimal : secouez votre fiole de e-liquide une fois par jour pour que les arômes se diffusent correctement. Conservation de votre e-liquide Pour une conservation optimale de votre e-liquide, nous vous conseillons de stocker votre flacon à l'abri de la lumière dans un droit sec et à température ambiante. Après contacts répétés à l'air et à la lumière, la couleur de votre e-liquide peut se foncer. Ce changement de couleur n'affecte ni la qualité ni le goût de votre e-liquide. La date indiquée sur l'étiquette est une DLUO (date limite d'utilisation optimale) ou DDM (date de durabilité minimale). Passé cette date, le e-liquide peut encore être consommé. - Similarité: 0.5010\n",
      "Produit 1052: Le Gold Sucker est un e-liquide premium aux saveurs complexes declassic, decéréaleset aussi devanille. Il est entièrement fabriqué en France par Le French Liquide à partir d'arômes alimentaires, de propylène glycol (PG) et de glycérine végétale (VG) pour sa gamme e-liquide Moonshiners. Proposé en 50PG/50VG, vous le retrouvez également en fiole de type PET de 60ml, remplie à hauteur de 50ml. Un booster de 18mg/ml vous est également fourni, à verser directement dans le flacon, afin de le nicotiner à 3mg/ml de nicotine. Vos deux flacons comportent un bouchon avec sécurité enfant, ainsi qu'un embout fin très pratique pour le remplissage ! Qui est Le French Liquide ? Le French Liquide est un fabricant français de liquides haut-de-gamme pour cigarette électronique. Distribuée par Lips France depuis 2013, cette marque a su se faire une place de choix dans l'univers de la vape, grâce à des recettes variées destinées à tout type de vapoteur. C'est à travers une multitude de gammes complexes que Le French Liquide s'est imposé comme leader sur le marché du liquide pour e-cig, comme notamment les collections Wonderful Tart, Artefact ou encore Moonshiners, sans oublier sa recette mythique au goût de café et de caramel : La Chose. La gamme Moonshiners Issue de la marque Le French Liquide, cette collection se destine aux vapoteurs amateurs de saveurs complexes. Les recettes sont disponibles aussi bien en version à booster qu'en prêt à vaper, ou encore avec du sel de nicotine. Comment préparer votre e-liquide Gold Sucker ? Le Gold Sucker est proposé en version50mlboostée en arômes dans un flacon de60ml. Si vous le souhaitez, vous pouvez ainsi ajouter un ou plusieurs boosters de nicotine selon vos besoins sans perte de saveur. Pour booster votre e-liquide, vous devez : Indications pour préparer votre e-liquide surboosté de 50 ml : La place disponible dans le flacon d'origine n’est peut-être pas suffisante pour booster votre e-liquide au taux de nicotine souhaité. Pour les dosages importants, nous vous conseillons l’utilisation de contenants plus importants commeun flacon de 100ml graduéouun flacon Twist de 230ml gradué. Astuce : pensez à adapter votre matériel au ratio PG/VG de votre e-liquide ! Vous limiterez ainsi le risque de fuite et l’usure prématurée de vos résistances ! Quel taux de nicotine choisir pour votre e-liquide ? Le choix de votre taux de nicotine dépend de votre profil de fumeur ainsi que de la cigarette électronique utilisée : Si vous utilisez du matériel plus performant avec une résistance inférieure à 1 ohm et pour une puissance supérieure à 30 watts, vous pouvez diviser votre taux de nicotine par deux. Nos conseils pour la maturation de votre e-liquide surboosté De la même façon que pour un e-liquide DIY, on peut observer un temps de repos avec un e-liquide surboosté en arômes après l’ajout d’un ou plusieurs boosters de nicotine. Ce temps de maturation que l’on appelle aussi “steep” permet aux arômes de se développer et de mieux s’exprimer. Pour une maturation optimale, il faut compter : Pour un rendu optimal : secouez votre fiole de e-liquide une fois par jour pour que les arômes se diffusent correctement. Conservation de votre e-liquide Pour une conservation optimale de votre e-liquide, nous vous conseillons de stocker votre flacon à l'abri de la lumière dans un droit sec et à température ambiante. Après contacts répétés à l'air et à la lumière, la couleur de votre e-liquide peut se foncer. Ce changement de couleur n'affecte ni la qualité ni le goût de votre e-liquide. La date indiquée sur l'étiquette est une DLUO (date limite d'utilisation optimale) ou DDM (date de durabilité minimale). Passé cette date, le e-liquide peut encore être consommé. - Similarité: 0.5007\n",
      "Produit 1111: Une clé magique fait son apparition chez Secret's Lab et sa gamme Secret's Keys. Elle ouvre les portes d'un monde tout en gourmandise, pas qu'en chocolat,spécialement pour Pâques! Partez à la chasse aux œufs avec le e-liquide Secret's Egg en 50ml ! Un e-liquide plein de surprises... À vous de les trouver ! Au lieu de cacher de multiples œufs dans vos jardins, le fabricant français Secret's LAb vous propose plutôt de les retrouver à l'intérieur même de son merveilleux e-liquide Secret's Egg en 50ml. On vous donne quand même quelques indices : il aurait tendance à bien croustiller, puis à vous envelopper de notes chocolatées, caramélisées ou encore noisettées et pralinées... Un gourmand pour les grands, format à booster ! La chasse aux œufs, ce n'est pas que pour les enfants. Vous aussi vous aurez droit à votrepanier de gourmandisesà Pâques ! Grâce au joli format 50ml du e-liquide Secret's Egg, vous en aurez pour tout le week-end, voire toute la semaine... Vous pourrez même le dégusterau taux de nicotine de votre choix, entre 0 et 3 mg/ml de nicotine maximum. Proposé non nicotiné de base, ses 50ml sont conditionnés en fiole de type PET 60ml. Il restera donc 10ml spécialement pour votre booster de nicotine ! Informations complémentaires Le Secret's Egg est un e-liquide pour cigarette électronique de la gamme Secret's Keys par Secret's LAb (JoshNoa). Entièrement fabriqué en France, il se compose d'arômes, de propylène glycol et de glycérine végétale en 50PG/50VG. Un ratio équilibré, compatible tout type de matériel e-cig (sauf sub ohm). Conditionné en fiole de type PET de 60ml, le Secret's Egg est proposé en 50ml non nicotiné. Pour augmenter son taux nicotinique jusqu'à 3 mg/ml, vous devrez lui ajouter un booster de nicotine (non inclus). Son flacon présente également un bouchon sécurisé (protection enfant) et un embout fin. - Similarité: 0.5007\n",
      "Produit 1339: Le e-liquide Banane Kiwi de la gamme Leemo par Le French Liquide reproduit les saveurs fruitées etfraîchesd'unelimonadeaux saveurs debananeet dekiwi, dans un format à booster et non nicotiné de 50ml. Entièrement fabriqué en France, il se compose d'arômes, de propylène glycol (PG) et de glycérine végétale (VG) à hauteur de 50PG/50VG. Avec lui, vous trouvez un booster de nicotine Nicomax, prêt à insérer dans votre fiole. Puisqu'il est non nicotiné, il faudra lui ajouter ce même booster de nicotine si vous souhaitez du e-liquide nicotiné. Vous pouvez atteindre les 60ml en 3mg/ml de nicotine en lui ajoutant simplement le booster fourni. Notez que sa fiole type PET de 60ml présente un ingénieux bouchon \"IFillGood\" avec sécurité enfant et embout fin. Qui est Le French Liquide ? Le French Liquide est un fabricant français de liquides haut-de-gamme pour cigarette électronique. Distribuée par Lips France depuis 2013, cette marque a su se faire une place de choix dans l'univers de la vape, grâce à des recettes variées destinées à tout type de vapoteur. C'est à travers une multitude de gammes complexes que Le French Liquide s'est imposé comme leader sur le marché du liquide pour e-cig, comme notamment les collections Wonderful Tart, Artefact ou encore Moonshiners, sans oublier sa recette mythique au goût de café et de caramel : La Chose. La gamme Leemo S’inspirant directement d'une saveur de limonade, cette collection de e-liquides à booster s'adresse tout particulièrement aux vapoteurs adeptes de saveurs fraîches et fruitées. Toutes les recettes sont fabriquées avec minutie dans les laboratoires français de la marque Le French Liquide. Comment préparer votre e-liquide Banane Kiwi ? Le Banane Kiwi est proposé en version50mlboostée en arômes dans un flacon de60ml. Si vous le souhaitez, vous pouvez ainsi ajouter un ou plusieurs boosters de nicotine selon vos besoins sans perte de saveur. Pour booster votre e-liquide, vous devez : Indications pour préparer votre e-liquide surboosté de 50 ml : La place disponible dans le flacon d'origine n’est peut-être pas suffisante pour booster votre e-liquide au taux de nicotine souhaité. Pour les dosages importants, nous vous conseillons l’utilisation de contenants plus importants commeun flacon de 100ml graduéouun flacon Twist de 230ml gradué. Astuce : pensez à adapter votre matériel au ratio PG/VG de votre e-liquide ! Vous limiterez ainsi le risque de fuite et l’usure prématurée de vos résistances ! Quel taux de nicotine choisir pour votre e-liquide ? Le choix de votre taux de nicotine dépend de votre profil de fumeur ainsi que de la cigarette électronique utilisée : Si vous utilisez du matériel plus performant avec une résistance inférieure à 1 ohm et pour une puissance supérieure à 30 watts, vous pouvez diviser votre taux de nicotine par deux. Nos conseils pour la maturation de votre e-liquide surboosté De la même façon que pour un e-liquide DIY, on peut observer un temps de repos avec un e-liquide surboosté en arômes après l’ajout d’un ou plusieurs boosters de nicotine. Ce temps de maturation que l’on appelle aussi “steep” permet aux arômes de se développer et de mieux s’exprimer. Pour une maturation optimale, il faut compter : Pour un rendu optimal : secouez votre fiole de e-liquide une fois par jour pour que les arômes se diffusent correctement. Conservation de votre e-liquide Pour une conservation optimale de votre e-liquide, nous vous conseillons de stocker votre flacon à l'abri de la lumière dans un droit sec et à température ambiante. Après contacts répétés à l'air et à la lumière, la couleur de votre e-liquide peut se foncer. Ce changement de couleur n'affecte ni la qualité ni le goût de votre e-liquide. La date indiquée sur l'étiquette est une DLUO (date limite d'utilisation optimale) ou DDM (date de durabilité minimale). Passé cette date, le e-liquide peut encore être consommé. - Similarité: 0.5007\n",
      "Produit 1347: Le fabricant français vous propose un voyage gustatif aux notes terriblement ensoleillées, à travers la recette de son Tropical Icy Mix. Dégustez un mix tropical de mangues, d'ananas et de banane, dans un grand verre de glaçons pour un effet ultrarafraîchissant. Issu de la gamme Puff Juice, ce e-liquide pour cigarette électronique est non nicotiné de base et surboosté en arômes. Élaborée dans un ratio PG/VG de 40/60, sa formule ravira les amateurs desaveurs prononcéesde type puff. Un cocktail gorgé de soleil Embarquez dans l'aventure Puff Juice, pour une escapade inoubliable direction les tropiques ! Déambulez paisiblement le long d'une plage de sable chaud, avec à la main un grand verre rempli du délicieux cocktail local : le Tropical Icy Mix. The Fuu vous propose de revivre, l'espace d'une séance de vape, un pur moment de plaisir gustatif, aux notes exotiques demangue, d'ananaset debanane. Le fabricant vous sert ce nectar accompagné d'une rasade de glace pilée, pour un effetgivréà chaque bouffée. Un e-liquide surboosté à personnaliser Vous avez succombé aux saveurs estivales du Tropical Icy Mix par The Fuu et il vous tarde de le déguster ? Sachez tout d'abord que ce e-liquide pour cigarette électronique est non nicotiné de base, et conditionné enfiole de 75mlremplie à hauteur de 50ml. Cette astuce vous permet au besoin de compléter l'espace restant avec un peu de base neutre ou des boosters de nicotine. Ainsi, en fonction du niveau de votre sevrage tabagique et de vos envies, plusieurs solutions s'offrent à vous pour vapoter ce e-liquide de la gamme Puff Juices : Informations complémentaires Spécialement imaginé pour la gamme Puff Juice, le Tropical Icy Mix est un e-liquide fabriqué en France, par The Fuu. Destiné au réservoir de votre cigarette électronique, il se compose d'arômes alimentaires, de propylène glycol (PG) et de glycérine végétale (VG), pour unratio PG/VG de 40/60. Vous recevrez les 50ml du Tropical Icy Mix dans un flacon de 75ml, vous permettant au besoin de le compléter avec des boosters de nicotine (vendus séparément). Ce flacon est équipé d'un bouchon avec sécurité enfant et d'un embout fin pour un remplissage facile et précis de votre réservoir. - Similarité: 0.5004\n",
      "Produit 288: Retrouvez unerecette de grenadine fraîche accompagnée d'un jus de fraises et de framboises,dans un e-liquide à booster de la gamme Biggy Bear par Secret's Lab. Non nicotiné de base, vous pouvez au besoin le personnaliser en le complétant avec des boosters. Munissez-vous alors d'une fiole vide (vendue séparément) pour réaliser votre mélange. Fabriqué en France, le Grenadine Framboise Fraise se compose d'arômes alimentaires, de propylène glycol (PG) et de glycérine végétale (VG), pour un ratio 50PG/50VG. Son flacon de 200ml est équipé d'un bouchon sécurisé et d'un embout fin. Qui est Secret's Lab ? Ce fabricant français élabore toutes ses recettes pour cigarettes électroniques dans ses laboratoires situés à Marseille. Secret's Lab est notamment le créateur de gammes de renommées, telles que Secret Keys, Secret Garden, ou encore Biggy Bear. La gamme Biggy Bear La collection mythique à l'effigie d'un ours en peluche est issue de l'imagination des aromaticiens français de Secret's Lab. Retrouvez une gamme de recettes variées, disponibles en format e-liquides ou arômes DIY. Du mix fruité au popcorn caramélisé, vous trouverez sans nul doute la saveur qui vous convient parmi cette vaste collection. Comment préparer votre e-liquide Grenadine Framboise Fraise ? Ce e-liquide vous est proposé en version200mlboostée en arômes. Si vous le souhaitez, vous pouvez ainsi ajouter un ou plusieurs boosters de nicotine selon vos besoins, en utilisant un flacon vide. Indications pour préparer votre e-liquide surboosté de 100 ml : La place disponible dans le flacon d'origine n’est peut-être pas suffisante pour booster votre e-liquide au taux de nicotine souhaité. Pour les dosages importants, nous vous conseillons l’utilisation de contenants plus importants commeun flacon de 100ml graduéouun flacon Twist de 230ml gradué. Astuce : pensez à adapter votre matériel au ratio PG/VG de votre e-liquide ! Vous limiterez ainsi le risque de fuite et l’usure prématurée de vos résistances ! Quel taux de nicotine choisir pour votre e-liquide ? Le choix de votre taux de nicotine dépend de votre profil de fumeur ainsi que de la cigarette électronique utilisée : Si vous utilisez du matériel plus performant avec une résistance inférieure à 1 ohm et pour une puissance supérieure à 30 watts, vous pouvez diviser votre taux de nicotine par deux. Nos conseils pour la maturation de votre e-liquide surboosté De la même façon que pour un e-liquide DIY, on peut observer un temps de repos avec un e-liquide surboosté en arômes après l’ajout d’un ou plusieurs boosters de nicotine. Ce temps de maturation que l’on appelle aussi “steep” permet aux arômes de se développer et de mieux s’exprimer. Pour une maturation optimale, il faut compter : Pour un rendu optimal : secouez votre fiole de e-liquide une fois par jour pour que les arômes se diffusent correctement. Conservation de votre e-liquide Pour une conservation optimale de votre e-liquide, nous vous conseillons de stocker votre flacon à l'abri de la lumière dans un droit sec et à température ambiante. Après contacts répétés à l'air et à la lumière, la couleur de votre e-liquide peut se foncer. Ce changement de couleur n'affecte ni la qualité ni le goût de votre e-liquide. La date indiquée sur l'étiquette est une DLUO (date limite d'utilisation optimale) ou DDM (date de durabilité minimale). Passé cette date, le e-liquide peut encore être consommé. - Similarité: 0.4993\n"
     ]
    }
   ],
   "source": [
    "# Afficher les produits recommandés\n",
    "for idx in similar_indices:\n",
    "    print(f\"Produit {idx+1}: {df['description'][idx]} - Similarité: {similarities[idx]:.4f}\")"
   ]
  },
  {
   "cell_type": "markdown",
   "metadata": {},
   "source": [
    "Le TF-IDF Vectorizer est utilisé pour convertir les descriptions des produits et la requête de l'utilisateur en vecteurs.\n",
    "La similarité cosinus est calculée entre la requête de l'utilisateur et chaque produit pour déterminer les produits les plus proches.\n",
    "Les résultats sont triés en fonction de la similarité, et les produits les plus similaires à la requête sont affichés."
   ]
  },
  {
   "cell_type": "markdown",
   "metadata": {},
   "source": [
    "BM25"
   ]
  },
  {
   "cell_type": "code",
   "execution_count": 109,
   "metadata": {},
   "outputs": [],
   "source": [
    "# Importer la bibliothèque BM25\n",
    "from rank_bm25 import BM25Okapi\n",
    "from nltk.tokenize import word_tokenize\n",
    "import string"
   ]
  },
  {
   "cell_type": "code",
   "execution_count": 110,
   "metadata": {},
   "outputs": [],
   "source": [
    "# Fonction de prétraitement (tokenisation et suppression de la ponctuation)\n",
    "def preprocess(text):\n",
    "    # Tokenisation et suppression de la ponctuation\n",
    "    tokens = word_tokenize(text.lower())\n",
    "    return [token for token in tokens if token not in string.punctuation]"
   ]
  },
  {
   "cell_type": "code",
   "execution_count": 111,
   "metadata": {},
   "outputs": [],
   "source": [
    "# Appliquer le prétraitement sur toutes les descriptions\n",
    "preprocessed_descriptions = [preprocess(desc) for desc in df['description']]\n"
   ]
  },
  {
   "cell_type": "code",
   "execution_count": 112,
   "metadata": {},
   "outputs": [],
   "source": [
    "# Initialiser le modèle BM25\n",
    "bm25 = BM25Okapi(preprocessed_descriptions)\n"
   ]
  },
  {
   "cell_type": "code",
   "execution_count": 113,
   "metadata": {},
   "outputs": [],
   "source": [
    "# Exemple de requête utilisateur\n",
    "query = \"Saveur cassis lime\"\n"
   ]
  },
  {
   "cell_type": "code",
   "execution_count": 114,
   "metadata": {},
   "outputs": [],
   "source": [
    "# Prétraiter la requête\n",
    "preprocessed_query = preprocess(query)"
   ]
  },
  {
   "cell_type": "code",
   "execution_count": 49,
   "metadata": {},
   "outputs": [],
   "source": [
    "# Calculer la similarité BM25 pour chaque description\n",
    "scores = bm25.get_scores(preprocessed_query)\n"
   ]
  },
  {
   "cell_type": "code",
   "execution_count": 50,
   "metadata": {},
   "outputs": [],
   "source": [
    "# Afficher les scores de similarité pour chaque description\n",
    "df['similarity_score'] = scores"
   ]
  },
  {
   "cell_type": "code",
   "execution_count": 51,
   "metadata": {},
   "outputs": [],
   "source": [
    "# Trier les produits par score de similarité\n",
    "sorted_df = df.sort_values(by='similarity_score', ascending=False)"
   ]
  },
  {
   "cell_type": "code",
   "execution_count": 52,
   "metadata": {},
   "outputs": [
    {
     "name": "stdout",
     "output_type": "stream",
     "text": [
      "Produits les plus pertinents pour la requête :\n",
      "                                           description  similarity_score\n",
      "101  Besoin d'un bon coup de fouet fruité, frais et...         10.749055\n",
      "369  Le Bloody Lime est un e-liquideà boosterde la ...         10.261856\n",
      "276  Le Bloody Lime est un e liquide au formatprêt ...         10.119159\n",
      "28   Le Frozen Lemon And Lime 100ml est un e-liquid...          9.297028\n",
      "257  Le Lime Berry 100ml est un e-liquide à booster...          9.160395\n"
     ]
    }
   ],
   "source": [
    "# Afficher les 5 produits les plus pertinents\n",
    "print(\"Produits les plus pertinents pour la requête :\")\n",
    "print(sorted_df[['description', 'similarity_score']].head())"
   ]
  },
  {
   "cell_type": "code",
   "execution_count": 53,
   "metadata": {},
   "outputs": [
    {
     "name": "stdout",
     "output_type": "stream",
     "text": [
      "\n",
      "Le produit le plus pertinent est :\n",
      "Besoin d'un bon coup de fouet fruité, frais et acidulé ? Essayez donc le e liquide Grapefruit Lime Ice par Frozen Freaks ! Ce revigorantmix d'agrumes et de fraicheurravivera le plaisir de vapoter, bouffée après bouffée. Et, grâce à son généreuxflacon 120ml, vous pourrez le booster à votre convenance ! Un mariage acidulé et frais... Nous vous proposons de vous laisser surprendre par une association mystérieuse et puissante de fruits et d'agrumes. Tout cela s'illustre par un mélange depamplemousseet decitron vertpour la note acidulée. Le tout accompagné par une vague de fraicheur intense pour sublimer la recette. Le Grapefruit Lime Ice est ainsi un e-liquide riche en saveurs et en fraicheur qui vous charmera instantanément ! Une recette puissante que l'on doit au fabricant anglais Frozen Freaks. ...en e-liquide 100ml à booster ! En plus d'être un merveilleux mélange fruité et glacé, le e-liquide Grapefruit Lime Ice par Frozen Freaks propose un maxi format à vapoter :100ml en fiole 120ml. Non nicotiné de base, ce surboosté pourra accueillir 20ml de boosters de nicotine, soit 2. Ainsi, vous atteindrez facilement les3mg/mlde nicotine ! Bien entendu, vous pourrez aussi le vaper de suite, en 0mg, ou encore le transvaser pour un taux nicotinique encore supérieur. Informations complémentaires Le e-liquide Grapefruit Lime est fabriqué au Royaume-Uni par Frozen Freaks. Il est composé d'arômes alimentaires, de propylène glycol, et de glycérine végétale dans un ratio 30PG/70VG. Vous pourrez ainsi profiter d'un bon rendu de saveurs avec un très beau volume de vapeur. Il s'agit d'un e-liquide conditionné en flacons de 120 ml de type unicorn, remplis à hauteur de 100 ml afin de vous permettre l'ajout d'un booster de nicotine au besoin. Vous ne perdrez alors pas en saveurs, le e-liquide étant surboosté en arôme. Les flacons disposent en outre d'une sécurité enfant ainsi que d'un embout fin pour remplir votre clearomiseur ou atomiseur en toute simplicité et sans perdre une seule goutte du précieux nectar. avec un score de similarité de 10.7491\n"
     ]
    }
   ],
   "source": [
    "# Si vous voulez afficher le produit le plus pertinent :\n",
    "most_relevant_product = sorted_df.iloc[0]\n",
    "print(f\"\\nLe produit le plus pertinent est :\\n{most_relevant_product['description']} avec un score de similarité de {most_relevant_product['similarity_score']:.4f}\")"
   ]
  },
  {
   "cell_type": "code",
   "execution_count": 118,
   "metadata": {},
   "outputs": [
    {
     "name": "stdout",
     "output_type": "stream",
     "text": [
      "Temps d'exécution BM25 : 0.0147 secondes\n",
      "                                           description  similarity_score\n",
      "101  Besoin d'un bon coup de fouet fruité, frais et...         10.749055\n",
      "369  Le Bloody Lime est un e-liquideà boosterde la ...         10.261856\n",
      "276  Le Bloody Lime est un e liquide au formatprêt ...         10.119159\n",
      "28   Le Frozen Lemon And Lime 100ml est un e-liquid...          9.297028\n",
      "257  Le Lime Berry 100ml est un e-liquide à booster...          9.160395\n"
     ]
    }
   ],
   "source": [
    "\n",
    "\n",
    "# Définition de la requête\n",
    "query = \"Saveur cassis lime\"\n",
    "preprocessed_query = preprocess(query)\n",
    "\n",
    "# Mesure du temps d'exécution\n",
    "start_time = time.time()\n",
    "scores = bm25.get_scores(preprocessed_query)\n",
    "df['similarity_score'] = scores\n",
    "sorted_df = df.sort_values(by='similarity_score', ascending=False)\n",
    "end_time = time.time()\n",
    "\n",
    "# Affichage des résultats et du temps d'exécution\n",
    "print(f\"Temps d'exécution BM25 : {end_time - start_time:.4f} secondes\")\n",
    "print(sorted_df[['description', 'similarity_score']].head())\n"
   ]
  },
  {
   "cell_type": "markdown",
   "metadata": {},
   "source": [
    "evaluations des resultats"
   ]
  },
  {
   "cell_type": "code",
   "execution_count": 126,
   "metadata": {},
   "outputs": [],
   "source": [
    "def get_tfidf_scores(query, tfidf_matrix, vectorizer):\n",
    "    query_tfidf = vectorizer.transform([query])  # Transformer la requête en vecteur TF-IDF\n",
    "    cosine_similarities = cosine_similarity(query_tfidf, tfidf_matrix).flatten()  # Calcul des scores\n",
    "    return cosine_similarities  # Retourne un tableau de scores\n"
   ]
  },
  {
   "cell_type": "code",
   "execution_count": 127,
   "metadata": {},
   "outputs": [],
   "source": [
    "def get_bm25_scores(query, bm25):\n",
    "    preprocessed_query = preprocess(query)  # Tokenisation de la requête\n",
    "    scores = bm25.get_scores(preprocessed_query)  # Obtenir les scores BM25\n",
    "    return scores  # Retourne un tableau de scores\n"
   ]
  },
  {
   "cell_type": "code",
   "execution_count": 129,
   "metadata": {},
   "outputs": [
    {
     "name": "stdout",
     "output_type": "stream",
     "text": [
      "\n",
      "🔍 Requête : Saveur menthe\n",
      "\n",
      "                               nom_produit                               saveur  tfidf_score  bm25_score\n",
      "Menthe Glaciale Sel de Nicotine Alfaliquid       lime, parfait, menthol, menthe     0.264686    6.940996\n",
      "              Le Thé à la Menthe 60ml Pulp           thé, lime, menthol, menthe     0.326076    6.652867\n",
      "                         USA Menthe D'LICE                         lime, menthe     0.251866    6.546644\n",
      "                     Menthe Fraiche D'LICE                lime, menthol, menthe     0.241657    5.983987\n",
      "                 A&L Menthe Extra Glaciale lime, fruits rouges, menthol, menthe     0.224189    5.845460\n"
     ]
    }
   ],
   "source": [
    "import pandas as pd\n",
    "import numpy as np\n",
    "\n",
    "def compare_similarity_scores(query, tfidf_matrix, vectorizer, bm25, preprocessed_descriptions, df, top_n=5):\n",
    "    # Obtenir les scores de similarité pour TF-IDF et BM25\n",
    "    tfidf_scores = get_tfidf_scores(query, tfidf_matrix, vectorizer)\n",
    "    bm25_scores = get_bm25_scores(query, bm25)\n",
    "\n",
    "    # Ajouter les scores dans le DataFrame\n",
    "    df['tfidf_score'] = tfidf_scores\n",
    "    df['bm25_score'] = bm25_scores\n",
    "\n",
    "    # Trier les résultats par BM25\n",
    "    sorted_df = df.sort_values(by=['bm25_score', 'tfidf_score'], ascending=[False, False])\n",
    "\n",
    "    # Afficher les meilleurs résultats\n",
    "    print(f\"\\n🔍 Requête : {query}\\n\")\n",
    "    print(sorted_df[['nom_produit', 'saveur', 'tfidf_score', 'bm25_score']].head(top_n).to_string(index=False))\n",
    "\n",
    "# Test avec une requête\n",
    "compare_similarity_scores(\"Saveur menthe\", tfidf_matrix, vectorizer, bm25, preprocessed_descriptions, df)\n"
   ]
  },
  {
   "cell_type": "markdown",
   "metadata": {},
   "source": []
  },
  {
   "cell_type": "code",
   "execution_count": 123,
   "metadata": {},
   "outputs": [
    {
     "name": "stdout",
     "output_type": "stream",
     "text": [
      "\n",
      "--- Résultats avec TF-IDF ---\n",
      "Produits recommandés pour la requête 'Saveur menthe':\n",
      "\n",
      "Produit 1274: Le Menthe Verte Glacée reprend lessaveurs fraîches d'une menthe chlorophylle, dans une recette signée PULP. Prêt à vaper(PAV), il vous est proposé dans plusieurs taux de nicotine au choix (0, 3, 6 et 12mg/ml), à sélectionner à la commande. Le Menthe Verte Glacée est élaboré à partir d'une base PG/VG de 70/30, et vous est livré dans une fiole de 10ml. Le Menthe Verte Glacée est un e-liquide exclusivement destiné au réservoir de votre cigarette électronique. Il est fabriqué en France par Pulp, à partir d'arômes alimentaires, de propylène glycol et de glycérine végétale. Le e-liquide Menthe Verte Glacée vous est livré dans un flacon de 10ml, équipé d'un bouchon avec sécurité enfant et d'un embout fin facilitant le remplissage de votre réservoir. Qui est PULP ? C'est dans leur laboratoire français, et plus particulièrement parisien que les aromaticiens de la marque PULP conçoivent leurs multiples recettes, et ce, toujours avec le sens du détail. Ainsi, il vous présente aussi bien des e-liquides prêts à vaper, à booster, ou encore des concentrés DIY (Do It Yourself) aux saveurs finement reproduites et de diverses variétés. Nos conseils pour utiliser votre e-liquide Menthe Verte Glacée L'utilisation d'un e-liquide est exclusivement réservée à la cigarette électronique. Nous vous recommandons de bien agiter votre flacon de e-liquide avant emploi. Pour limiter les risques de fuites et prolonger la durée de vie de vos résistances, nous vous conseillons d'utiliser un clearomiseur adapté au taux PG/VG de votre e-liquide. Quel taux de nicotine choisir pour votre e-liquide ? Le choix de votre taux de nicotine dépend de votre profil de fumeur ainsi que de la cigarette électronique utilisée. Si vous utilisez une cigarette électronique équipée d'une résistance égale ou supérieure à 1 ohm et à une puissance ne dépassant pas les 30 watts, voici nos recommandations pour choisir votre taux de nicotine : Si vous utilisez une cigarette électronique plus performante équipée de résistances dont la valeur est inférieure à 1 ohm et pour une puissance supérieure à 30 watts, nous vous conseillons d'utiliser un taux de nicotine plus faible : Conservation de votre e-liquide Pour une conservation optimale de votre e-liquide, nous vous conseillons de stocker votre flacon à l'abri de la lumière dans un droit sec et à température ambiante. Après contacts répétés à l'air et à la lumière, la couleur de votre e-liquide peut se foncer. Ce changement de couleur n'affecte ni la qualité ni le goût de votre e-liquide. La date indiquée sur l'étiquette est une DLUO (date limite d'utilisation optimale) ou DDM (date de durabilité minimale). Passé cette date, le e-liquide peut encore être consommé. Mises en garde et contre-indications : Précautions d'emploi : - Similarité: 0.3462\n",
      "Produit 1343: Pulp vous propose de vapoter une saveur de boisson mentholée, grâce à son e-liquide pour cigarette électronique Le Thé à la Menthe. Non nicotiné de base, il vous estlivré avec un booster 10mlafin au besoin de le vaper dans un taux de 3mg/ml de nicotine. Le e-liquide Le Thé à la Menthe est fabriqué en France à partir d'arômes alimentaires, de propylène glycol (PG) et de glycérine végétale (VG), dans unratio PG/VG de 70/30. Recevez-le dans une fiole de 60ml remplie à hauteur de 50ml de e-liquide, et dotée d'un bouchon avec sécurité enfant et d'un embout fin. Comment utiliser votre e-liquide Le Thé à la Menthe ? Le Thé à la Menthe est proposé en version50mlboostée en arômes dans un flacon de60ml. Si vous le souhaitez, vous pouvez ajouter un ou plusieurs boosters de nicotine selon vos besoins sans perte de saveur. Pour booster votre e-liquide, vous devez : Indications pour préparer votre e-liquide surboosté de 50 ml : La place disponible dans le flacon d'origine n’est peut-être pas suffisante pour booster votre e-liquide au taux de nicotine souhaité. Pour les dosages importants, nous vous conseillons l’utilisation de contenants plus importants commeun flacon de 100ml graduéouun flacon Twist de 230ml gradué. Astuce : pensez à adapter votre matériel au ratio PG/VG de votre e-liquide ! Vous limiterez ainsi le risque de fuite et l’usure prématurée de vos résistances ! Quel taux de nicotine choisir pour votre e-liquide ? Le choix de votre taux de nicotine dépend de votre profil de fumeur ainsi que de la cigarette électronique utilisée : Si vous utilisez du matériel plus performant avec une résistance inférieure à 1 ohm et pour une puissance supérieure à 30 watts, vous pouvez diviser votre taux de nicotine par deux. Nos conseils pour la maturation de votre e-liquide surboosté De la même façon que pour un e-liquide DIY, on peut observer un temps de repos avec un e-liquide surboosté en arômes après l’ajout d’un ou plusieurs boosters de nicotine. Ce temps de maturation que l’on appelle aussi “steep” permet aux arômes de se développer et de mieux s’exprimer. Pour une maturation optimale, il faut compter : Pour un rendu optimal : secouez votre fiole de e-liquide une fois par jour pour que les arômes se diffusent correctement. Conservation de votre e-liquide Pour une conservation optimale de votre e-liquide, nous vous conseillons de stocker votre flacon à l'abri de la lumière dans un droit sec et à température ambiante. Après contacts répétés à l'air et à la lumière, la couleur de votre e-liquide peut se foncer. Ce changement de couleur n'affecte ni la qualité ni le goût de votre e-liquide. La date indiquée sur l'étiquette est une DLUO (date limite d'utilisation optimale) ou DDM (date de durabilité minimale). Passé cette date, le e-liquide peut encore être consommé. - Similarité: 0.3261\n",
      "Produit 1250: Fabriqué en France par Alfaliquid, le Menthe Polaire 10ml est un e-liquide pour cigarette électronique. Il vous propose un mélange de saveurs mentholées et fraîches à travers une menthe verte. Composé d'arômes alimentaires, de propylène glycol (PG) et de glycérine végétale (VG), il est élaboré à partir d'une base76PG/24VG. Faites votre choix entre les différents taux de nicotine proposés. Le flacon du Menthe Polaire 10ml est doté d'un bouchon avec protection enfant et d'un embout fin. Qui est Alfaliquid ? Le fabricant français s'est fait reconnaître par ses recettes de e-liquides, et ce, au fil du temps. Mettant à l'honneur aussi bien des goûts fruités que classics par exemple, soyez toujours certain de trouver votre prêt à l'emploi avec Alfaliquid. Nos conseils pour utiliser votre e-liquide Menthe Polaire L'utilisation d'un e-liquide est exclusivement réservée à la cigarette électronique. Nous vous recommandons de bien agiter votre flacon de e-liquide avant emploi. Pour limiter les risques de fuites et prolonger la durée de vie de vos résistances, nous vous conseillons d'utiliser un clearomiseur adapté au taux PG/VG de votre e-liquide. Quel taux de nicotine choisir pour votre e-liquide ? Le choix de votre taux de nicotine dépend de votre profil de fumeur ainsi que de la cigarette électronique utilisée. Si vous utilisez une cigarette électronique équipée d'une résistance égale ou supérieure à 1 ohm et à une puissance ne dépassant pas les 30 watts, voici nos recommandations pour choisir votre taux de nicotine : Si vous utilisez une cigarette électronique plus performante équipée de résistances dont la valeur est inférieure à 1 ohm et pour une puissance supérieure à 30 watts, nous vous conseillons d'utiliser un taux de nicotine plus faible : Conservation de votre e-liquide Pour une conservation optimale de votre e-liquide, nous vous conseillons de stocker votre flacon à l'abri de la lumière dans un droit sec et à température ambiante. Après contacts répétés à l'air et à la lumière, la couleur de votre e-liquide peut se foncer. Ce changement de couleur n'affecte ni la qualité ni le goût de votre e-liquide. La date indiquée sur l'étiquette est une DLUO (date limite d'utilisation optimale) ou DDM (date de durabilité minimale). Passé cette date, le e-liquide peut encore être consommé. Mises en garde et contre-indications : Précautions d'emploi : - Similarité: 0.3105\n",
      "Produit 100: Si les Français de VDLV n'ont plus besoin d'être présentés, leur e-liquide Fraise Menthe mérite un tapis rouge pour son arrivée ! Retrouvez dans sa recette unmélange frais et fruité de fraises et de menthe, accompagné d'un goût d'anis et d'eucalyptus. Le Fraise Menthe est un e-liquide pour cigarette électronique entièrement conçu et fabriqué en France par Vincent Dans Les Vapes. Il se compose d'arômes alimentaires, de propylène glycol (PG) et de glycérine végétale (VG) dans un ratio de 50PG/50VG. Il vous sera proposé en fiole de 10ml avec sécurité enfant et embout fin pour faciliter le remplissage de votre cigarette électronique. Issu de la collection Cirkus, le Fraise Menthe est disponible en plusieurs taux de nicotine au choix :3, 6 et 12mg/ml. Qui est VDLV ? VDLV, pour Vincent Dans Les Vapes, est un fabricant français de liquides pour cigarette électronique. Depuis 2012, la marque basée en Gironde s'attache à proposer des produits de qualité aux vapoteurs du monde entier. Fort de diverses gammes telles que Cirkus, Classic Wanted ou encore V'ICE, VDLV s'adresse autant aux amateurs de e-liquides prêts à vaper qu'aux utilisateurs d'arômes DIY. La gamme Cirkus Si le fabricant français bénéficie d'une place de choix dans l'univers de la vape, c'est notamment grâce à sa collection Cirkus. Cette gamme de recettes variées se décline autant en e-liquides prêts à vaper qu'en arômes DIY (Do It Yourself). Découvrez toute une série de produits à vaper de qualité, d'origine 100% française. Nos conseils pour utiliser votre e-liquide Fraise Menthe L'utilisation d'un e-liquide est exclusivement réservée à la cigarette électronique. Nous vous recommandons de bien agiter votre flacon de e-liquide avant emploi. Pour limiter les risques de fuites et prolonger la durée de vie de vos résistances, nous vous conseillons d'utiliser un clearomiseur adapté au taux PG/VG de votre e-liquide. Quel taux de nicotine choisir pour votre e-liquide ? Le choix de votre taux de nicotine dépend de votre profil de fumeur ainsi que de la cigarette électronique utilisée. Si vous utilisez une cigarette électronique équipée d'une résistance égale ou supérieure à 1 ohm et à une puissance ne dépassant pas les 30 watts, voici nos recommandations pour choisir votre taux de nicotine : Si vous utilisez une cigarette électronique plus performante équipée de résistances dont la valeur est inférieure à 1 ohm et pour une puissance supérieure à 30 watts, nous vous conseillons d'utiliser un taux de nicotine plus faible : Conservation de votre e-liquide Pour une conservation optimale de votre e-liquide, nous vous conseillons de stocker votre flacon à l'abri de la lumière dans un droit sec et à température ambiante. Après contacts répétés à l'air et à la lumière, la couleur de votre e-liquide peut se foncer. Ce changement de couleur n'affecte ni la qualité ni le goût de votre e-liquide. La date indiquée sur l'étiquette est une DLUO (date limite d'utilisation optimale) ou DDM (date de durabilité minimale). Passé cette date, le e-liquide peut encore être consommé. Mises en garde et contre-indications : Précautions d'emploi : - Similarité: 0.3063\n",
      "Produit 1264: Le Menthe Glaciale est un e-liquide à booster au format 50ml de chez Alfaliquid. Il vous propose dessaveurs fraîches de menthe, dans une recette fabriquée en France. Composé d'arômes alimentaires, de propylène glycol (PG) et de glycérine végétale (VG), dans un ratio 50PG/50VG,vous pouvez au besoin ajouter des boosters10ml de nicotine (vendus séparément). Il vous est livré dans une fiole de 70ml dotée d'une ouverture sécurisée et d'un embout fin simplifiant le remplissage de votre réservoir. Qui est Alfaliquid ? Le fabricant français s'est fait reconnaître par ses recettes de e-liquides pour cigarette électronique, et ce, au fil du temps. Mettant à l'honneur aussi bien des goûts de fruits que classics par exemple, soyez toujours certain de trouver votre prêt à l'emploi avec Alfaliquid. Comment préparer votre e-liquide Menthe Glaciale ? Ce e-liquide est proposé en version50mlboostée en arômes dans un flacon de70ml. Si vous le souhaitez, vous pouvez ainsi ajouter un ou plusieurs boosters de nicotine selon vos besoins sans perte de saveur. Pour booster votre e-liquide, vous devez : Indications pour préparer votre e-liquide surboosté de 50 ml : La place disponible dans le flacon d'origine n’est peut-être pas suffisante pour booster votre e-liquide au taux de nicotine souhaité. Pour les dosages importants, nous vous conseillons l’utilisation de contenants plus importants commeun flacon de 100ml graduéouun flacon Twist de 230ml gradué. Astuce : pensez à adapter votre matériel au ratio PG/VG de votre e-liquide ! Vous limiterez ainsi le risque de fuite et l’usure prématurée de vos résistances ! Quel taux de nicotine choisir pour votre e-liquide ? Le choix de votre taux de nicotine dépend de votre profil de fumeur ainsi que de la cigarette électronique utilisée : Si vous utilisez du matériel plus performant avec une résistance inférieure à 1 ohm et pour une puissance supérieure à 30 watts, vous pouvez diviser votre taux de nicotine par deux. Nos conseils pour la maturation de votre e-liquide surboosté De la même façon que pour un e-liquide DIY, on peut observer un temps de repos avec un e-liquide surboosté en arômes après l’ajout d’un ou plusieurs boosters de nicotine. Ce temps de maturation que l’on appelle aussi “steep” permet aux arômes de se développer et de mieux s’exprimer. Pour une maturation optimale, il faut compter : Pour un rendu optimal : secouez votre fiole de e-liquide une fois par jour pour que les arômes se diffusent correctement. Conservation de votre e-liquide Pour une conservation optimale de votre e-liquide, nous vous conseillons de stocker votre flacon à l'abri de la lumière dans un droit sec et à température ambiante. Après contacts répétés à l'air et à la lumière, la couleur de votre e-liquide peut se foncer. Ce changement de couleur n'affecte ni la qualité ni le goût de votre e-liquide. La date indiquée sur l'étiquette est une DLUO (date limite d'utilisation optimale) ou DDM (date de durabilité minimale). Passé cette date, le e-liquide peut encore être consommé. - Similarité: 0.2759\n",
      "\n",
      "--- Résultats avec BM25 ---\n",
      "Produits recommandés pour la requête 'Saveur menthe':\n",
      "\n",
      "Produit 1260: Réveillez vos papilles des saveurs rafraîchissantes du Menthe Glaciale Sel de Nicotine, une recette délicieusement mentholée proposée par Alfaliquid. Sa formule au sel de nicotine sera le parfait allié des primo-vapoteurs ; elle vous est présentée dans un formatprêt à l'emploi, en flacon de 10ml. Ce e-liquide pour cigarette électronique est élaboré dans un ratio PG/VG équilibré de 50/50. Une parfaite harmonie entre saveur et fraîcheur Alfaliquid vous propose de mettre un bout de banquise dans votre réservoir, grâce à la recette terriblement givrée de son Menthe Glaciale au Sel de Nicotine. Non seulement ce e-liquide va bousculer vos papilles de sa fraîcheur glacée, mais il va également subjuguer votre palais de ses saveurs intensémentmentholées. Son goût authentique de feuilles de menthe est élaboré dans une formule au sel de nicotine, idéal pour débuter dans la vape ! Choisir son taux en sel de nicotine Destiné au réservoir de votre cigarette électronique, le Menthe Glaciale Sel de Nicotine est un e-liquide fabriqué par Alfaliquid. Sa formule au sel de nicotine est idéale pour les vapoteurs ayant encore besoin d'un taux élevé, que ce soit en début ou en cours de sevrage tabagique. En effet, les sels de nicotine présentent l'avantage de procurer un hit plus doux en gorge que la nicotine traditionnelle. Suivez nos conseils ci-dessous afin de sélectionner à la commande le taux en sel de nicotine qui vous convient : Informations complémentaires De fabrication 100% française par Alfaliquid, le Menthe Glaciale Sel de Nicotine 10ml est un e-liquide pour cigarette électronique. Élaboré à partir d'arômes alimentaires, de propylène glycol (PG) et de glycérine végétale (VG), il vous est proposé dans unratio PG/VG de 50/50. En fonction du niveau de votre sevrage tabagique, vous choisirez à la commande le taux en sel de nicotine qui vous convient (10mg/ml ou 20mg/ml). Le e-liquide Menthe Glaciale Sel de Nicotine vous est livré dans une fiole PET de 10ml, dotée d'un bouchon avec protection enfant et d'un embout fin facilitant le remplissage de votre réservoir. - Similarité: 6.9410\n",
      "Produit 1343: Pulp vous propose de vapoter une saveur de boisson mentholée, grâce à son e-liquide pour cigarette électronique Le Thé à la Menthe. Non nicotiné de base, il vous estlivré avec un booster 10mlafin au besoin de le vaper dans un taux de 3mg/ml de nicotine. Le e-liquide Le Thé à la Menthe est fabriqué en France à partir d'arômes alimentaires, de propylène glycol (PG) et de glycérine végétale (VG), dans unratio PG/VG de 70/30. Recevez-le dans une fiole de 60ml remplie à hauteur de 50ml de e-liquide, et dotée d'un bouchon avec sécurité enfant et d'un embout fin. Comment utiliser votre e-liquide Le Thé à la Menthe ? Le Thé à la Menthe est proposé en version50mlboostée en arômes dans un flacon de60ml. Si vous le souhaitez, vous pouvez ajouter un ou plusieurs boosters de nicotine selon vos besoins sans perte de saveur. Pour booster votre e-liquide, vous devez : Indications pour préparer votre e-liquide surboosté de 50 ml : La place disponible dans le flacon d'origine n’est peut-être pas suffisante pour booster votre e-liquide au taux de nicotine souhaité. Pour les dosages importants, nous vous conseillons l’utilisation de contenants plus importants commeun flacon de 100ml graduéouun flacon Twist de 230ml gradué. Astuce : pensez à adapter votre matériel au ratio PG/VG de votre e-liquide ! Vous limiterez ainsi le risque de fuite et l’usure prématurée de vos résistances ! Quel taux de nicotine choisir pour votre e-liquide ? Le choix de votre taux de nicotine dépend de votre profil de fumeur ainsi que de la cigarette électronique utilisée : Si vous utilisez du matériel plus performant avec une résistance inférieure à 1 ohm et pour une puissance supérieure à 30 watts, vous pouvez diviser votre taux de nicotine par deux. Nos conseils pour la maturation de votre e-liquide surboosté De la même façon que pour un e-liquide DIY, on peut observer un temps de repos avec un e-liquide surboosté en arômes après l’ajout d’un ou plusieurs boosters de nicotine. Ce temps de maturation que l’on appelle aussi “steep” permet aux arômes de se développer et de mieux s’exprimer. Pour une maturation optimale, il faut compter : Pour un rendu optimal : secouez votre fiole de e-liquide une fois par jour pour que les arômes se diffusent correctement. Conservation de votre e-liquide Pour une conservation optimale de votre e-liquide, nous vous conseillons de stocker votre flacon à l'abri de la lumière dans un droit sec et à température ambiante. Après contacts répétés à l'air et à la lumière, la couleur de votre e-liquide peut se foncer. Ce changement de couleur n'affecte ni la qualité ni le goût de votre e-liquide. La date indiquée sur l'étiquette est une DLUO (date limite d'utilisation optimale) ou DDM (date de durabilité minimale). Passé cette date, le e-liquide peut encore être consommé. - Similarité: 6.6529\n",
      "Produit 1218: Le USA Menthe est un e-liquide prêt à l'emploi pour cigarette électronique à la saveur d'un classic blond et d'une menthe verte. Il est entièrement fabriqué en France par D'LICE et se compose d'arômes alimentaires, de propylène glycol (PG) et de glycérine végétale (VG) dans unratio PG/VG de 70/30. Vous pouvez ainsi retrouver une restitution des saveurs, avec un hit en gorge prononcé. Vous le retrouverez en fiole de 10ml avec sécurité enfant et embout fin pour plus de facilités lors du remplissage de votre clearomiseur ou de votre atomiseur. Mais surtout, vous en profiterez au taux de nicotine de votre choix. Qui est D'LICE ? Depuis 2012, le fabricant français originaire de Brive-la-Gaillarde vous présente une multitude de recettes toutes aussi variées que réussies. Spécialisé dans la création de e-liquides, soyez certain avec D'LICE de trouver la saveur classic, fruitée ou plus complexe qui vous convient ! Nos conseils pour utiliser votre e-liquide USA Menthe L'utilisation d'un e-liquide est exclusivement réservée à la cigarette électronique. Nous vous recommandons de bien agiter votre flacon de e-liquide avant emploi. Pour limiter les risques de fuites et prolonger la durée de vie de vos résistances, nous vous conseillons d'utiliser un clearomiseur adapté au taux PG/VG de votre e-liquide. Quel taux de nicotine choisir pour votre e-liquide ? Le choix de votre taux de nicotine dépend de votre profil de fumeur ainsi que de la cigarette électronique utilisée. Si vous utilisez une cigarette électronique équipée d'une résistance égale ou supérieure à 1 ohm et à une puissance ne dépassant pas les 30 watts, voici nos recommandations pour choisir votre taux de nicotine : Si vous utilisez une cigarette électronique plus performante équipée de résistances dont la valeur est inférieure à 1 ohm et pour une puissance supérieure à 30 watts, nous vous conseillons d'utiliser un taux de nicotine plus faible : Conservation de votre e-liquide Pour une conservation optimale de votre e-liquide, nous vous conseillons de stocker votre flacon à l'abri de la lumière dans un droit sec et à température ambiante. Après contacts répétés à l'air et à la lumière, la couleur de votre e-liquide peut se foncer. Ce changement de couleur n'affecte ni la qualité ni le goût de votre e-liquide. La date indiquée sur l'étiquette est une DLUO (date limite d'utilisation optimale) ou DDM (date de durabilité minimale). Passé cette date, le e-liquide peut encore être consommé. Mises en garde et contre-indications : Précautions d'emploi : - Similarité: 6.5466\n",
      "Produit 1222: Le Menthe Fraîche par D'LICE est un e-liquide français, en prêt à l'emploi, pour cigarette électronique.Il vous propose des saveurs mentholées et fraîches à l'aide d'une menthe verte. Il se compose d'arômes alimentaires, de propylène glycol (PG) et de glycérine végétale (VG) dans unratio PG/VG de 80/20pour un excellent rendu de saveurs et un hit en gorge bien prononcé. Ce liquide vous est présenté en fiole de type PET de 10ml, avec bouchon sécurisé et embout fin. De même, vous le retrouverez en plusieurs taux de nicotine, afin de satisfaire tout type de vapoteur. Qui est D'LICE ? Depuis 2012, le fabricant français originaire de Brive-la-Gaillarde vous présente une multitude de recettes toutes aussi variées que réussies. Spécialisé dans la création de e-liquides, soyez certain avec D'LICE de trouver la saveur classic, fruitée ou plus complexe qui vous convient ! Nos conseils pour utiliser votre e-liquide Menthe Fraiche L'utilisation d'un e-liquide est exclusivement réservée à la cigarette électronique. Nous vous recommandons de bien agiter votre flacon de e-liquide avant emploi. Pour limiter les risques de fuites et prolonger la durée de vie de vos résistances, nous vous conseillons d'utiliser un clearomiseur adapté au taux PG/VG de votre e-liquide. Quel taux de nicotine choisir pour votre e-liquide ? Le choix de votre taux de nicotine dépend de votre profil de fumeur ainsi que de la cigarette électronique utilisée. Si vous utilisez une cigarette électronique équipée d'une résistance égale ou supérieure à 1 ohm et à une puissance ne dépassant pas les 30 watts, voici nos recommandations pour choisir votre taux de nicotine : Si vous utilisez une cigarette électronique plus performante équipée de résistances dont la valeur est inférieure à 1 ohm et pour une puissance supérieure à 30 watts, nous vous conseillons d'utiliser un taux de nicotine plus faible : Conservation de votre e-liquide Pour une conservation optimale de votre e-liquide, nous vous conseillons de stocker votre flacon à l'abri de la lumière dans un droit sec et à température ambiante. Après contacts répétés à l'air et à la lumière, la couleur de votre e-liquide peut se foncer. Ce changement de couleur n'affecte ni la qualité ni le goût de votre e-liquide. La date indiquée sur l'étiquette est une DLUO (date limite d'utilisation optimale) ou DDM (date de durabilité minimale). Passé cette date, le e-liquide peut encore être consommé. Mises en garde et contre-indications : Précautions d'emploi : - Similarité: 5.9840\n",
      "Produit 1213: Le Menthe Extra Glaciale est un e-liquide mentholé pour cigarette électronique fabriqué en France par Arômes et Liquides. Il est composé d'arômes alimentaires, de propylène glycol (PG) et de glycérine végétale (VG) dans unratio 50PG/50VGpour un compromis idéal entre rendu de saveur, hit et volume de vapeur. Le e-liquide Menthe Extra Glaciale par A&L est conditionné en fiole de 10 ml avec sécurité enfant et embout fin pour faciliter le remplissage des clearomiseurs de vos cigarettes électroniques et disponible en 0, 3, 6 et 12 mg/ml de nicotine. Qui est Arômes et Liquides (A&L) ? Arômes et Liquides (A&L) est un fabricant français de e-liquides et concentrés DIY depuis 2012. Avec ses laborantins situés non loin de Saint-Étienne dans la Loire, il vous présente une vaste collection de saveurs allant des plus simples aux plus complexes. La marque s'est notamment distinguée dans l'univers de la vape grâce à sa recette classic du Ryan USA de la gamme A&L, puis du mix au goût de fruits rouges Ragnarok de la collection Ultimate. Nos conseils pour utiliser votre e-liquide Menthe Extra Glaciale L'utilisation d'un e-liquide est exclusivement réservée à la cigarette électronique. Nous vous recommandons de bien agiter votre flacon de e-liquide avant emploi. Pour limiter les risques de fuites et prolonger la durée de vie de vos résistances, nous vous conseillons d'utiliser un clearomiseur adapté au taux PG/VG de votre e-liquide. Quel taux de nicotine choisir pour votre e-liquide ? Le choix de votre taux de nicotine dépend de votre profil de fumeur ainsi que de la cigarette électronique utilisée. Si vous utilisez une cigarette électronique équipée d'une résistance égale ou supérieure à 1 ohm et à une puissance ne dépassant pas les 30 watts, voici nos recommandations pour choisir votre taux de nicotine : Si vous utilisez une cigarette électronique plus performante équipée de résistances dont la valeur est inférieure à 1 ohm et pour une puissance supérieure à 30 watts, nous vous conseillons d'utiliser un taux de nicotine plus faible : Conservation de votre e-liquide Pour une conservation optimale de votre e-liquide, nous vous conseillons de stocker votre flacon à l'abri de la lumière dans un droit sec et à température ambiante. Après contacts répétés à l'air et à la lumière, la couleur de votre e-liquide peut se foncer. Ce changement de couleur n'affecte ni la qualité ni le goût de votre e-liquide. La date indiquée sur l'étiquette est une DLUO (date limite d'utilisation optimale) ou DDM (date de durabilité minimale). Passé cette date, le e-liquide peut encore être consommé. Mises en garde et contre-indications : Précautions d'emploi : - Similarité: 5.8455\n"
     ]
    }
   ],
   "source": [
    "def compare_models(query, tfidf_matrix, vectorizer, bm25, preprocessed_descriptions, df):\n",
    "    print(\"\\n--- Résultats avec TF-IDF ---\")\n",
    "    recommend_by_query(query, tfidf_matrix, vectorizer)  # TF-IDF\n",
    "\n",
    "    print(\"\\n--- Résultats avec BM25 ---\")\n",
    "    recommend_by_bm25(query, bm25, preprocessed_descriptions, df)  # BM25\n",
    "\n",
    "# Test avec une requête\n",
    "compare_models(\"Saveur menthe\", tfidf_matrix, vectorizer, bm25, preprocessed_descriptions, df)\n",
    "\n"
   ]
  }
 ],
 "metadata": {
  "kernelspec": {
   "display_name": "nlp",
   "language": "python",
   "name": "python3"
  },
  "language_info": {
   "codemirror_mode": {
    "name": "ipython",
    "version": 3
   },
   "file_extension": ".py",
   "mimetype": "text/x-python",
   "name": "python",
   "nbconvert_exporter": "python",
   "pygments_lexer": "ipython3",
   "version": "3.10.15"
  }
 },
 "nbformat": 4,
 "nbformat_minor": 2
}
