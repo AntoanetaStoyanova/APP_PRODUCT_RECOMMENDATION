{
 "cells": [
  {
   "cell_type": "code",
   "execution_count": 21,
   "metadata": {},
   "outputs": [],
   "source": [
    "import pandas as pd\n",
    "\n",
    "import os\n",
    "import numpy as np\n",
    "import psycopg2\n",
    "\n",
    "from dotenv import load_dotenv\n",
    "from pathlib import Path\n",
    "\n",
    "import csv"
   ]
  },
  {
   "cell_type": "code",
   "execution_count": 22,
   "metadata": {},
   "outputs": [],
   "source": [
    "df = pd.read_csv(\"../RGBD/table_produits/produits.csv\")"
   ]
  },
  {
   "cell_type": "code",
   "execution_count": 23,
   "metadata": {},
   "outputs": [
    {
     "data": {
      "text/plain": [
       "{'int64': 'int',\n",
       " 'object': 'varchar',\n",
       " 'float64': 'float',\n",
       " 'datetime64': 'timestamp',\n",
       " 'timedelta64[ns]': 'varchar'}"
      ]
     },
     "execution_count": 23,
     "metadata": {},
     "output_type": "execute_result"
    }
   ],
   "source": [
    "replacement = {\n",
    "    'int64': 'int',\n",
    "    'object': 'varchar',\n",
    "    'float64': 'float',\n",
    "    'datetime64' : 'timestamp',\n",
    "    'timedelta64[ns]': 'varchar'\n",
    "}\n",
    "replacement\n",
    " "
   ]
  },
  {
   "cell_type": "code",
   "execution_count": 24,
   "metadata": {},
   "outputs": [
    {
     "name": "stdout",
     "output_type": "stream",
     "text": [
      "url varchar, nom_produit varchar, img_produit varchar, prix_produit float, contenance varchar, pg_vg varchar, origine varchar, frais varchar, surbooste varchar, saveur varchar, description varchar, brand varchar, gout varchar, info_brand varchar, id_produit int\n"
     ]
    }
   ],
   "source": [
    "def generate_column_string(df, replacement):\n",
    "    return ', '.join(\"{} {}\".format(n, d) for n, d in zip(df.columns, df.dtypes.replace(replacement)))\n",
    "\n",
    "# Exemple d'utilisation pour chaque DataFrame\n",
    "col_str_produit = generate_column_string(df, replacement)\n",
    "\n",
    "\n",
    "# Affichage des résultats\n",
    "print(col_str_produit)\n",
    " \n"
   ]
  },
  {
   "cell_type": "code",
   "execution_count": 25,
   "metadata": {},
   "outputs": [
    {
     "name": "stdout",
     "output_type": "stream",
     "text": [
      "Opened database successfully\n"
     ]
    }
   ],
   "source": [
    "\n",
    "\n",
    "# Spécifie le chemin vers votre fichier .env\n",
    "env_path = Path('../.env')\n",
    "load_dotenv(dotenv_path=env_path)\n",
    "\n",
    "# Récupère les paramètres de connexion depuis le fichier .env\n",
    "conn_params = {\n",
    "    'host': os.getenv('DB_HOST'),\n",
    "    'port': os.getenv('DB_PORT'),\n",
    "    'dbname': os.getenv('DB_NAME'),\n",
    "    'user': os.getenv('DB_USER'),\n",
    "    'password': os.getenv('DB_PASSWORD'),\n",
    "    'connect_timeout': os.getenv('DB_TIMEOUT'),\n",
    "    'sslmode': os.getenv('DB_SSLMODE')\n",
    "}\n",
    "\n",
    "# Connexion à la base de données PostgreSQL\n",
    "try:\n",
    "    conn = psycopg2.connect(**conn_params)\n",
    "    cursor = conn.cursor()\n",
    "    print(\"Opened database successfully\")\n",
    "except Exception as e:\n",
    "    print(f\"Error: {e}\")\n",
    "    "
   ]
  },
  {
   "cell_type": "code",
   "execution_count": 26,
   "metadata": {},
   "outputs": [],
   "source": [
    "# drop tables with same name\n",
    "cursor.execute(\"DROP TABLE IF EXISTS produits;\")\n",
    " "
   ]
  },
  {
   "cell_type": "code",
   "execution_count": 27,
   "metadata": {},
   "outputs": [],
   "source": [
    "# Créer la table produits avec les colonnes spécifiées\n",
    "cursor.execute(f\"\"\"\n",
    "CREATE TABLE produits (\n",
    "    url VARCHAR,\n",
    "    nom_produit VARCHAR,\n",
    "    img_produit VARCHAR,\n",
    "    prix_produit FLOAT,\n",
    "    contenance VARCHAR,\n",
    "    pg_vg VARCHAR,\n",
    "    origine VARCHAR,\n",
    "    frais VARCHAR,\n",
    "    surbooste VARCHAR,\n",
    "    saveur VARCHAR,\n",
    "    description VARCHAR,\n",
    "    brand VARCHAR,\n",
    "    gout VARCHAR,\n",
    "    info_brand VARCHAR,\n",
    "    id_produit INT\n",
    ");\n",
    "\"\"\")\n",
    " "
   ]
  },
  {
   "cell_type": "code",
   "execution_count": 28,
   "metadata": {},
   "outputs": [
    {
     "name": "stdout",
     "output_type": "stream",
     "text": [
      "File opened in memory\n"
     ]
    }
   ],
   "source": [
    "my_file = open('../RGBD/table_produits/produits.csv')\n",
    "print('File opened in memory')\n",
    " "
   ]
  },
  {
   "cell_type": "code",
   "execution_count": 29,
   "metadata": {},
   "outputs": [
    {
     "name": "stdout",
     "output_type": "stream",
     "text": [
      "file copie to db\n"
     ]
    }
   ],
   "source": [
    "# SQL pour insérer les données dans la table\n",
    "SQL_STATEMENT_PRODUITS = \"\"\"\n",
    "COPY produits FROM STDIN WITH\n",
    "    CSV\n",
    "    HEADER\n",
    "    DELIMITER AS ','\n",
    "    QUOTE '\"'\n",
    "\"\"\"\n",
    "\n",
    "cursor.copy_expert(sql=SQL_STATEMENT_PRODUITS, file=my_file)\n",
    "print('file copie to db')\n",
    " "
   ]
  },
  {
   "cell_type": "code",
   "execution_count": 30,
   "metadata": {},
   "outputs": [
    {
     "name": "stdout",
     "output_type": "stream",
     "text": [
      "Fichier copié dans la base de données.\n",
      "Connexion fermée.\n"
     ]
    }
   ],
   "source": [
    "# Exécuter la copie des données dans la table\n",
    "cursor.copy_expert(sql=SQL_STATEMENT_PRODUITS, file=my_file)\n",
    "print('Fichier copié dans la base de données.')\n",
    "\n",
    "# Fermer la connexion\n",
    "conn.commit()\n",
    "cursor.close()\n",
    "conn.close()\n",
    "print(\"Connexion fermée.\") \n",
    " "
   ]
  }
 ],
 "metadata": {
  "kernelspec": {
   "display_name": "nlp",
   "language": "python",
   "name": "python3"
  },
  "language_info": {
   "codemirror_mode": {
    "name": "ipython",
    "version": 3
   },
   "file_extension": ".py",
   "mimetype": "text/x-python",
   "name": "python",
   "nbconvert_exporter": "python",
   "pygments_lexer": "ipython3",
   "version": "3.10.15"
  }
 },
 "nbformat": 4,
 "nbformat_minor": 2
}
