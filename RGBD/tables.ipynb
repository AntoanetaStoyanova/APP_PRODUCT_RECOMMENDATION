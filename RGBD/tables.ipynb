{
 "cells": [
  {
   "cell_type": "markdown",
   "metadata": {},
   "source": [
    "C4. Créer une base de données dans le respect du RGPD en élaborant les modèles conceptuels et physiques des données à partir des données préparées et en programmant leur import afin de stocker le jeu de données du projet.\n",
    "\n",
    "1. choix des colonnes à garder et envoyer dans la base de données "
   ]
  },
  {
   "cell_type": "code",
   "execution_count": 39,
   "metadata": {},
   "outputs": [],
   "source": [
    "import pandas as pd\n",
    "\n",
    "import os\n",
    "import numpy as np\n",
    "import psycopg2\n",
    "\n",
    "from dotenv import load_dotenv\n",
    "from pathlib import Path\n",
    "import re\n",
    "import csv"
   ]
  },
  {
   "cell_type": "code",
   "execution_count": 40,
   "metadata": {},
   "outputs": [
    {
     "data": {
      "text/html": [
       "<div>\n",
       "<style scoped>\n",
       "    .dataframe tbody tr th:only-of-type {\n",
       "        vertical-align: middle;\n",
       "    }\n",
       "\n",
       "    .dataframe tbody tr th {\n",
       "        vertical-align: top;\n",
       "    }\n",
       "\n",
       "    .dataframe thead th {\n",
       "        text-align: right;\n",
       "    }\n",
       "</style>\n",
       "<table border=\"1\" class=\"dataframe\">\n",
       "  <thead>\n",
       "    <tr style=\"text-align: right;\">\n",
       "      <th></th>\n",
       "      <th>lien_produit</th>\n",
       "      <th>nom_produit</th>\n",
       "      <th>Title</th>\n",
       "      <th>Description</th>\n",
       "      <th>Features</th>\n",
       "      <th>img_produit</th>\n",
       "      <th>prix_produit</th>\n",
       "      <th>gout</th>\n",
       "      <th>Contenance</th>\n",
       "      <th>Taux PG/VG</th>\n",
       "      <th>...</th>\n",
       "      <th>Section_De_Qui</th>\n",
       "      <th>Section_Marque</th>\n",
       "      <th>Section_conseil</th>\n",
       "      <th>Section_taux_nicotine</th>\n",
       "      <th>Section_Conservation</th>\n",
       "      <th>info</th>\n",
       "      <th>brand</th>\n",
       "      <th>Description_cleaned</th>\n",
       "      <th>saveur</th>\n",
       "      <th>Description_cleaned_normalized</th>\n",
       "    </tr>\n",
       "  </thead>\n",
       "  <tbody>\n",
       "    <tr>\n",
       "      <th>0</th>\n",
       "      <td>https://www.aromes-et-liquides.fr/e-liquide-ul...</td>\n",
       "      <td>Ragnarok Ultimate A&amp;L</td>\n",
       "      <td>Ragnarok Ultimate A&amp;L</td>\n",
       "      <td>&lt;p&gt;Le e-liquide Ragnarok par A&amp;L Ultimate est ...</td>\n",
       "      <td>{'Contenance': '10ml', 'Taux PG/VG': '50/50', ...</td>\n",
       "      <td>https://assets.aromes-et-liquides.fr/53645-thi...</td>\n",
       "      <td>5.9</td>\n",
       "      <td>fruit</td>\n",
       "      <td>10ml</td>\n",
       "      <td>50/50</td>\n",
       "      <td>...</td>\n",
       "      <td>Comme tout e-liquide pour cigarette électroniq...</td>\n",
       "      <td>NaN</td>\n",
       "      <td>NaN</td>\n",
       "      <td>Le choix de votre taux de nicotine dépend de v...</td>\n",
       "      <td>Pour une conservation optimale de votre e-liqu...</td>\n",
       "      <td>Le e-liquide Ragnarok par A&amp;L Ultimate est un ...</td>\n",
       "      <td>A&amp;L</td>\n",
       "      <td>Le e-liquide Ragnarok par A&amp;L Ultimate est un ...</td>\n",
       "      <td>cassis, lime, fruits rouges, parfait</td>\n",
       "      <td>liquide ragnarok ultimate produitpret emploipo...</td>\n",
       "    </tr>\n",
       "  </tbody>\n",
       "</table>\n",
       "<p>1 rows × 28 columns</p>\n",
       "</div>"
      ],
      "text/plain": [
       "                                        lien_produit            nom_produit  \\\n",
       "0  https://www.aromes-et-liquides.fr/e-liquide-ul...  Ragnarok Ultimate A&L   \n",
       "\n",
       "                   Title                                        Description  \\\n",
       "0  Ragnarok Ultimate A&L  <p>Le e-liquide Ragnarok par A&L Ultimate est ...   \n",
       "\n",
       "                                            Features  \\\n",
       "0  {'Contenance': '10ml', 'Taux PG/VG': '50/50', ...   \n",
       "\n",
       "                                         img_produit  prix_produit   gout  \\\n",
       "0  https://assets.aromes-et-liquides.fr/53645-thi...           5.9  fruit   \n",
       "\n",
       "  Contenance Taux PG/VG  ...  \\\n",
       "0       10ml      50/50  ...   \n",
       "\n",
       "                                      Section_De_Qui Section_Marque  \\\n",
       "0  Comme tout e-liquide pour cigarette électroniq...            NaN   \n",
       "\n",
       "  Section_conseil                              Section_taux_nicotine  \\\n",
       "0             NaN  Le choix de votre taux de nicotine dépend de v...   \n",
       "\n",
       "                                Section_Conservation  \\\n",
       "0  Pour une conservation optimale de votre e-liqu...   \n",
       "\n",
       "                                                info brand  \\\n",
       "0  Le e-liquide Ragnarok par A&L Ultimate est un ...   A&L   \n",
       "\n",
       "                                 Description_cleaned  \\\n",
       "0  Le e-liquide Ragnarok par A&L Ultimate est un ...   \n",
       "\n",
       "                                 saveur  \\\n",
       "0  cassis, lime, fruits rouges, parfait   \n",
       "\n",
       "                      Description_cleaned_normalized  \n",
       "0  liquide ragnarok ultimate produitpret emploipo...  \n",
       "\n",
       "[1 rows x 28 columns]"
      ]
     },
     "execution_count": 40,
     "metadata": {},
     "output_type": "execute_result"
    }
   ],
   "source": [
    "df = pd.read_csv(\"../scrap_final/csv_clean/A&L.csv\")\n",
    "df.head(1)"
   ]
  },
  {
   "cell_type": "code",
   "execution_count": 41,
   "metadata": {},
   "outputs": [
    {
     "data": {
      "text/plain": [
       "(1533, 28)"
      ]
     },
     "execution_count": 41,
     "metadata": {},
     "output_type": "execute_result"
    }
   ],
   "source": [
    "df.shape"
   ]
  },
  {
   "cell_type": "code",
   "execution_count": 42,
   "metadata": {},
   "outputs": [
    {
     "data": {
      "text/plain": [
       "Index(['lien_produit', 'nom_produit', 'Title', 'Description', 'Features',\n",
       "       'img_produit', 'prix_produit', 'gout', 'Contenance', 'Taux PG/VG',\n",
       "       'Origine', 'Frais / Mentholé', 'Surboosté en arômes', 'Saveur',\n",
       "       'Section_Qu_est_ce_que', 'Section_Pourquoi', 'Section_Comment',\n",
       "       'Section_A_Qui', 'Section_De_Qui', 'Section_Marque', 'Section_conseil',\n",
       "       'Section_taux_nicotine', 'Section_Conservation', 'info', 'brand',\n",
       "       'Description_cleaned', 'saveur', 'Description_cleaned_normalized'],\n",
       "      dtype='object')"
      ]
     },
     "execution_count": 42,
     "metadata": {},
     "output_type": "execute_result"
    }
   ],
   "source": [
    "df.columns"
   ]
  },
  {
   "cell_type": "markdown",
   "metadata": {},
   "source": [
    "Vérifier les valeurs nulles dans chaque colonne"
   ]
  },
  {
   "cell_type": "code",
   "execution_count": 43,
   "metadata": {},
   "outputs": [
    {
     "name": "stdout",
     "output_type": "stream",
     "text": [
      "Nombre de valeurs nulles par colonne :\n",
      " lien_produit                         0\n",
      "nom_produit                          0\n",
      "Title                                0\n",
      "Description                          0\n",
      "Features                             0\n",
      "img_produit                          0\n",
      "prix_produit                         6\n",
      "gout                                 0\n",
      "Contenance                           2\n",
      "Taux PG/VG                          18\n",
      "Origine                              9\n",
      "Frais / Mentholé                     3\n",
      "Surboosté en arômes                  5\n",
      "Saveur                              31\n",
      "Section_Qu_est_ce_que             1352\n",
      "Section_Pourquoi                  1498\n",
      "Section_Comment                    429\n",
      "Section_A_Qui                     1513\n",
      "Section_De_Qui                    1501\n",
      "Section_Marque                      73\n",
      "Section_conseil                    213\n",
      "Section_taux_nicotine               66\n",
      "Section_Conservation                55\n",
      "info                                 0\n",
      "brand                                0\n",
      "Description_cleaned                  0\n",
      "saveur                               2\n",
      "Description_cleaned_normalized       0\n",
      "dtype: int64\n"
     ]
    }
   ],
   "source": [
    "null_counts = df.isnull().sum()\n",
    "print(\"Nombre de valeurs nulles par colonne :\\n\", null_counts)"
   ]
  },
  {
   "cell_type": "markdown",
   "metadata": {},
   "source": [
    "-------------------------------------------------------------------------------\n",
    "table \n",
    "\n",
    "![alt text](../RGBD/img_table/table.png)"
   ]
  },
  {
   "cell_type": "markdown",
   "metadata": {},
   "source": [
    "# conformité des brands "
   ]
  },
  {
   "cell_type": "code",
   "execution_count": 45,
   "metadata": {},
   "outputs": [],
   "source": [
    "# définir le dictionnaire de correspondance\n",
    "brand_mapping = {\n",
    "                'A&L': 'Arômes et Liquides (A&L)',\n",
    "                'Space\\xa0Fruit': 'Space Fruit'\n",
    "}\n",
    "\n",
    "# Appliquer le mapping à la colonne `brand`\n",
    "df['brand'] = df['brand'].replace(brand_mapping)\n"
   ]
  },
  {
   "cell_type": "code",
   "execution_count": 46,
   "metadata": {},
   "outputs": [
    {
     "data": {
      "text/plain": [
       "0"
      ]
     },
     "execution_count": 46,
     "metadata": {},
     "output_type": "execute_result"
    }
   ],
   "source": [
    "df.brand.isnull().sum()"
   ]
  },
  {
   "cell_type": "markdown",
   "metadata": {},
   "source": [
    "pour afficher que le nom du produit sans le brand a coté \n",
    "- degager le brand du  nom du produit\n",
    "- degager des chiffres ml "
   ]
  },
  {
   "cell_type": "code",
   "execution_count": 47,
   "metadata": {},
   "outputs": [
    {
     "data": {
      "text/plain": [
       "Index(['lien_produit', 'nom_produit', 'Title', 'Description', 'Features',\n",
       "       'img_produit', 'prix_produit', 'gout', 'Contenance', 'Taux PG/VG',\n",
       "       'Origine', 'Frais / Mentholé', 'Surboosté en arômes', 'Saveur',\n",
       "       'Section_Qu_est_ce_que', 'Section_Pourquoi', 'Section_Comment',\n",
       "       'Section_A_Qui', 'Section_De_Qui', 'Section_Marque', 'Section_conseil',\n",
       "       'Section_taux_nicotine', 'Section_Conservation', 'info', 'brand',\n",
       "       'Description_cleaned', 'saveur', 'Description_cleaned_normalized'],\n",
       "      dtype='object')"
      ]
     },
     "execution_count": 47,
     "metadata": {},
     "output_type": "execute_result"
    }
   ],
   "source": [
    "df.columns"
   ]
  },
  {
   "cell_type": "markdown",
   "metadata": {},
   "source": [
    "1. choix des colonnes à garder\n",
    "lien_produit, Title, img_produit, prix_produit, Contenance, Taux PG/VG, Origine, Frais / Mentholé, Surboosté en arômes, Saveur, Section_Qu_est_ce_que, Section_Pourquoi, Section_Comment, Section_A_Qui, Section_De_Qui, Section_Marque, info\tbrand\tDescription_cleaned\tsaveur"
   ]
  },
  {
   "cell_type": "code",
   "execution_count": 49,
   "metadata": {},
   "outputs": [
    {
     "data": {
      "text/html": [
       "<div>\n",
       "<style scoped>\n",
       "    .dataframe tbody tr th:only-of-type {\n",
       "        vertical-align: middle;\n",
       "    }\n",
       "\n",
       "    .dataframe tbody tr th {\n",
       "        vertical-align: top;\n",
       "    }\n",
       "\n",
       "    .dataframe thead th {\n",
       "        text-align: right;\n",
       "    }\n",
       "</style>\n",
       "<table border=\"1\" class=\"dataframe\">\n",
       "  <thead>\n",
       "    <tr style=\"text-align: right;\">\n",
       "      <th></th>\n",
       "      <th>lien_produit</th>\n",
       "      <th>Title</th>\n",
       "      <th>img_produit</th>\n",
       "      <th>prix_produit</th>\n",
       "      <th>Contenance</th>\n",
       "      <th>Taux PG/VG</th>\n",
       "      <th>Origine</th>\n",
       "      <th>Frais / Mentholé</th>\n",
       "      <th>Surboosté en arômes</th>\n",
       "      <th>saveur</th>\n",
       "      <th>Description_cleaned</th>\n",
       "      <th>Section_Marque</th>\n",
       "      <th>brand</th>\n",
       "      <th>gout</th>\n",
       "    </tr>\n",
       "  </thead>\n",
       "  <tbody>\n",
       "    <tr>\n",
       "      <th>0</th>\n",
       "      <td>https://www.aromes-et-liquides.fr/e-liquide-ul...</td>\n",
       "      <td>Ragnarok Ultimate A&amp;L</td>\n",
       "      <td>https://assets.aromes-et-liquides.fr/53645-thi...</td>\n",
       "      <td>5.90</td>\n",
       "      <td>10ml</td>\n",
       "      <td>50/50</td>\n",
       "      <td>France</td>\n",
       "      <td>Oui</td>\n",
       "      <td>Non</td>\n",
       "      <td>cassis, lime, fruits rouges, parfait</td>\n",
       "      <td>Le e-liquide Ragnarok par A&amp;L Ultimate est un ...</td>\n",
       "      <td>NaN</td>\n",
       "      <td>Arômes et Liquides (A&amp;L)</td>\n",
       "      <td>fruit</td>\n",
       "    </tr>\n",
       "    <tr>\n",
       "      <th>1</th>\n",
       "      <td>https://www.aromes-et-liquides.fr/e-liquide-ul...</td>\n",
       "      <td>Oni Ultimate A&amp;L</td>\n",
       "      <td>https://assets.aromes-et-liquides.fr/53646-thi...</td>\n",
       "      <td>5.90</td>\n",
       "      <td>10ml</td>\n",
       "      <td>50/50</td>\n",
       "      <td>France</td>\n",
       "      <td>Oui</td>\n",
       "      <td>Non</td>\n",
       "      <td>citron vert, lime, parfait, citron</td>\n",
       "      <td>Le Oni Ultimate 10ml est un e-liquide pour cig...</td>\n",
       "      <td>NaN</td>\n",
       "      <td>Arômes et Liquides (A&amp;L)</td>\n",
       "      <td>fruit</td>\n",
       "    </tr>\n",
       "    <tr>\n",
       "      <th>2</th>\n",
       "      <td>https://www.aromes-et-liquides.fr/e-liquide-al...</td>\n",
       "      <td>A&amp;L Fruits Rouges</td>\n",
       "      <td>https://assets.aromes-et-liquides.fr/53641-thi...</td>\n",
       "      <td>4.90</td>\n",
       "      <td>10ml</td>\n",
       "      <td>50/50</td>\n",
       "      <td>France</td>\n",
       "      <td>Non</td>\n",
       "      <td>Non</td>\n",
       "      <td>baies, baie, fruits rouges, lime, baies rouges</td>\n",
       "      <td>Le Fruits Rouges est un e-liquide auxsaveurs d...</td>\n",
       "      <td>Arômes et Liquides (A&amp;L) est un fabricant fran...</td>\n",
       "      <td>Arômes et Liquides (A&amp;L)</td>\n",
       "      <td>fruit</td>\n",
       "    </tr>\n",
       "    <tr>\n",
       "      <th>3</th>\n",
       "      <td>https://www.aromes-et-liquides.fr/e-liquide-he...</td>\n",
       "      <td>Red Light 200ml Hello Cloudy</td>\n",
       "      <td>https://assets.aromes-et-liquides.fr/45672-thi...</td>\n",
       "      <td>11.34</td>\n",
       "      <td>200ml</td>\n",
       "      <td>50/50</td>\n",
       "      <td>France</td>\n",
       "      <td>Oui</td>\n",
       "      <td>Oui</td>\n",
       "      <td>lime, baie, baies, baies rouges</td>\n",
       "      <td>Le Red Light, unesaveur fraîche de baies rouge...</td>\n",
       "      <td>Hello Cloudy est un fabricant français de e-li...</td>\n",
       "      <td>Hello Cloudy</td>\n",
       "      <td>fruit</td>\n",
       "    </tr>\n",
       "    <tr>\n",
       "      <th>4</th>\n",
       "      <td>https://www.aromes-et-liquides.fr/e-liquide-t-...</td>\n",
       "      <td>Red Astaire T-Juice</td>\n",
       "      <td>https://assets.aromes-et-liquides.fr/55065-thi...</td>\n",
       "      <td>4.90</td>\n",
       "      <td>10ml</td>\n",
       "      <td>50/50</td>\n",
       "      <td>Royaume-Uni</td>\n",
       "      <td>Oui</td>\n",
       "      <td>Non</td>\n",
       "      <td>fruits rouges, raisin, menthol, anis, lime, me...</td>\n",
       "      <td>Le Red Astaire est un e-liquide qui a rencontr...</td>\n",
       "      <td>NaN</td>\n",
       "      <td>T-Juice</td>\n",
       "      <td>fruit</td>\n",
       "    </tr>\n",
       "    <tr>\n",
       "      <th>...</th>\n",
       "      <td>...</td>\n",
       "      <td>...</td>\n",
       "      <td>...</td>\n",
       "      <td>...</td>\n",
       "      <td>...</td>\n",
       "      <td>...</td>\n",
       "      <td>...</td>\n",
       "      <td>...</td>\n",
       "      <td>...</td>\n",
       "      <td>...</td>\n",
       "      <td>...</td>\n",
       "      <td>...</td>\n",
       "      <td>...</td>\n",
       "      <td>...</td>\n",
       "    </tr>\n",
       "    <tr>\n",
       "      <th>1528</th>\n",
       "      <td>https://www.aromes-et-liquides.fr/e-liquide-al...</td>\n",
       "      <td>Blond Mentholé Sel de Nicotine Pur Distillat A...</td>\n",
       "      <td>https://assets.aromes-et-liquides.fr/55765-thi...</td>\n",
       "      <td>5.90</td>\n",
       "      <td>10ml</td>\n",
       "      <td>50/50</td>\n",
       "      <td>France</td>\n",
       "      <td>Non</td>\n",
       "      <td>Non</td>\n",
       "      <td>tabac, menthol, anis, lime, menthe</td>\n",
       "      <td>Voici la recette du Blond Mentholé de chez Alf...</td>\n",
       "      <td>Le fabricant français s'est fait reconnaître p...</td>\n",
       "      <td>Alfaliquid</td>\n",
       "      <td>classique</td>\n",
       "    </tr>\n",
       "    <tr>\n",
       "      <th>1529</th>\n",
       "      <td>https://www.aromes-et-liquides.fr/e-liquide-81...</td>\n",
       "      <td>Nominoë 50ml 814</td>\n",
       "      <td>https://assets.aromes-et-liquides.fr/56383-thi...</td>\n",
       "      <td>21.90</td>\n",
       "      <td>50ml (fiole de 60ml)</td>\n",
       "      <td>50/50</td>\n",
       "      <td>France</td>\n",
       "      <td>Non</td>\n",
       "      <td>Oui</td>\n",
       "      <td>caramel, lime, biscuit</td>\n",
       "      <td>Le Nominoë est un e-liquide à booster au forma...</td>\n",
       "      <td>Le fabricant français 814 s'est spécialisé dan...</td>\n",
       "      <td>814</td>\n",
       "      <td>classique</td>\n",
       "    </tr>\n",
       "    <tr>\n",
       "      <th>1530</th>\n",
       "      <td>https://www.aromes-et-liquides.fr/e-liquide-th...</td>\n",
       "      <td>Dervish Fine Cuts Titanide The Fuu</td>\n",
       "      <td>https://assets.aromes-et-liquides.fr/55575-thi...</td>\n",
       "      <td>6.90</td>\n",
       "      <td>10ml</td>\n",
       "      <td>50/50</td>\n",
       "      <td>France</td>\n",
       "      <td>Non</td>\n",
       "      <td>Non</td>\n",
       "      <td>anis, tabac</td>\n",
       "      <td>La marque The Fuu à travers sa collection Fine...</td>\n",
       "      <td>The Fuu est une marque française de liquides p...</td>\n",
       "      <td>The Fuu</td>\n",
       "      <td>classique</td>\n",
       "    </tr>\n",
       "    <tr>\n",
       "      <th>1531</th>\n",
       "      <td>https://www.aromes-et-liquides.fr/e-liquide-be...</td>\n",
       "      <td>Gold Digger Salt Ben Northon</td>\n",
       "      <td>https://assets.aromes-et-liquides.fr/56423-thi...</td>\n",
       "      <td>5.90</td>\n",
       "      <td>10ml</td>\n",
       "      <td>50/50</td>\n",
       "      <td>France</td>\n",
       "      <td>Non</td>\n",
       "      <td>Non</td>\n",
       "      <td>anis, lime, tabac</td>\n",
       "      <td>La marque française Ben Northon vous propose u...</td>\n",
       "      <td>Le fabricant Ben Northon s'est spécialisé dans...</td>\n",
       "      <td>Ben Northon</td>\n",
       "      <td>classique</td>\n",
       "    </tr>\n",
       "    <tr>\n",
       "      <th>1532</th>\n",
       "      <td>https://www.aromes-et-liquides.fr/e-liquide-al...</td>\n",
       "      <td>Blond Sec Sel de Nicotine Pur Distillat Alfali...</td>\n",
       "      <td>https://assets.aromes-et-liquides.fr/55762-thi...</td>\n",
       "      <td>5.90</td>\n",
       "      <td>10ml</td>\n",
       "      <td>50/50</td>\n",
       "      <td>France</td>\n",
       "      <td>Non</td>\n",
       "      <td>Non</td>\n",
       "      <td>anis, lime, tabac</td>\n",
       "      <td>Voici la recette du Blond Sec de chez Alfaliqu...</td>\n",
       "      <td>Le fabricant français s'est fait reconnaître p...</td>\n",
       "      <td>Alfaliquid</td>\n",
       "      <td>classique</td>\n",
       "    </tr>\n",
       "  </tbody>\n",
       "</table>\n",
       "<p>1533 rows × 14 columns</p>\n",
       "</div>"
      ],
      "text/plain": [
       "                                           lien_produit  \\\n",
       "0     https://www.aromes-et-liquides.fr/e-liquide-ul...   \n",
       "1     https://www.aromes-et-liquides.fr/e-liquide-ul...   \n",
       "2     https://www.aromes-et-liquides.fr/e-liquide-al...   \n",
       "3     https://www.aromes-et-liquides.fr/e-liquide-he...   \n",
       "4     https://www.aromes-et-liquides.fr/e-liquide-t-...   \n",
       "...                                                 ...   \n",
       "1528  https://www.aromes-et-liquides.fr/e-liquide-al...   \n",
       "1529  https://www.aromes-et-liquides.fr/e-liquide-81...   \n",
       "1530  https://www.aromes-et-liquides.fr/e-liquide-th...   \n",
       "1531  https://www.aromes-et-liquides.fr/e-liquide-be...   \n",
       "1532  https://www.aromes-et-liquides.fr/e-liquide-al...   \n",
       "\n",
       "                                                  Title  \\\n",
       "0                                 Ragnarok Ultimate A&L   \n",
       "1                                      Oni Ultimate A&L   \n",
       "2                                     A&L Fruits Rouges   \n",
       "3                          Red Light 200ml Hello Cloudy   \n",
       "4                                   Red Astaire T-Juice   \n",
       "...                                                 ...   \n",
       "1528  Blond Mentholé Sel de Nicotine Pur Distillat A...   \n",
       "1529                                   Nominoë 50ml 814   \n",
       "1530                 Dervish Fine Cuts Titanide The Fuu   \n",
       "1531                       Gold Digger Salt Ben Northon   \n",
       "1532  Blond Sec Sel de Nicotine Pur Distillat Alfali...   \n",
       "\n",
       "                                            img_produit  prix_produit  \\\n",
       "0     https://assets.aromes-et-liquides.fr/53645-thi...          5.90   \n",
       "1     https://assets.aromes-et-liquides.fr/53646-thi...          5.90   \n",
       "2     https://assets.aromes-et-liquides.fr/53641-thi...          4.90   \n",
       "3     https://assets.aromes-et-liquides.fr/45672-thi...         11.34   \n",
       "4     https://assets.aromes-et-liquides.fr/55065-thi...          4.90   \n",
       "...                                                 ...           ...   \n",
       "1528  https://assets.aromes-et-liquides.fr/55765-thi...          5.90   \n",
       "1529  https://assets.aromes-et-liquides.fr/56383-thi...         21.90   \n",
       "1530  https://assets.aromes-et-liquides.fr/55575-thi...          6.90   \n",
       "1531  https://assets.aromes-et-liquides.fr/56423-thi...          5.90   \n",
       "1532  https://assets.aromes-et-liquides.fr/55762-thi...          5.90   \n",
       "\n",
       "                Contenance Taux PG/VG      Origine Frais / Mentholé  \\\n",
       "0                     10ml      50/50       France              Oui   \n",
       "1                     10ml      50/50       France              Oui   \n",
       "2                     10ml      50/50       France              Non   \n",
       "3                    200ml      50/50       France              Oui   \n",
       "4                     10ml      50/50  Royaume-Uni              Oui   \n",
       "...                    ...        ...          ...              ...   \n",
       "1528                  10ml      50/50       France              Non   \n",
       "1529  50ml (fiole de 60ml)      50/50       France              Non   \n",
       "1530                  10ml      50/50       France              Non   \n",
       "1531                  10ml      50/50       France              Non   \n",
       "1532                  10ml      50/50       France              Non   \n",
       "\n",
       "     Surboosté en arômes                                             saveur  \\\n",
       "0                    Non               cassis, lime, fruits rouges, parfait   \n",
       "1                    Non                 citron vert, lime, parfait, citron   \n",
       "2                    Non     baies, baie, fruits rouges, lime, baies rouges   \n",
       "3                    Oui                    lime, baie, baies, baies rouges   \n",
       "4                    Non  fruits rouges, raisin, menthol, anis, lime, me...   \n",
       "...                  ...                                                ...   \n",
       "1528                 Non                 tabac, menthol, anis, lime, menthe   \n",
       "1529                 Oui                             caramel, lime, biscuit   \n",
       "1530                 Non                                        anis, tabac   \n",
       "1531                 Non                                  anis, lime, tabac   \n",
       "1532                 Non                                  anis, lime, tabac   \n",
       "\n",
       "                                    Description_cleaned  \\\n",
       "0     Le e-liquide Ragnarok par A&L Ultimate est un ...   \n",
       "1     Le Oni Ultimate 10ml est un e-liquide pour cig...   \n",
       "2     Le Fruits Rouges est un e-liquide auxsaveurs d...   \n",
       "3     Le Red Light, unesaveur fraîche de baies rouge...   \n",
       "4     Le Red Astaire est un e-liquide qui a rencontr...   \n",
       "...                                                 ...   \n",
       "1528  Voici la recette du Blond Mentholé de chez Alf...   \n",
       "1529  Le Nominoë est un e-liquide à booster au forma...   \n",
       "1530  La marque The Fuu à travers sa collection Fine...   \n",
       "1531  La marque française Ben Northon vous propose u...   \n",
       "1532  Voici la recette du Blond Sec de chez Alfaliqu...   \n",
       "\n",
       "                                         Section_Marque  \\\n",
       "0                                                   NaN   \n",
       "1                                                   NaN   \n",
       "2     Arômes et Liquides (A&L) est un fabricant fran...   \n",
       "3     Hello Cloudy est un fabricant français de e-li...   \n",
       "4                                                   NaN   \n",
       "...                                                 ...   \n",
       "1528  Le fabricant français s'est fait reconnaître p...   \n",
       "1529  Le fabricant français 814 s'est spécialisé dan...   \n",
       "1530  The Fuu est une marque française de liquides p...   \n",
       "1531  Le fabricant Ben Northon s'est spécialisé dans...   \n",
       "1532  Le fabricant français s'est fait reconnaître p...   \n",
       "\n",
       "                         brand       gout  \n",
       "0     Arômes et Liquides (A&L)      fruit  \n",
       "1     Arômes et Liquides (A&L)      fruit  \n",
       "2     Arômes et Liquides (A&L)      fruit  \n",
       "3                 Hello Cloudy      fruit  \n",
       "4                      T-Juice      fruit  \n",
       "...                        ...        ...  \n",
       "1528                Alfaliquid  classique  \n",
       "1529                       814  classique  \n",
       "1530                   The Fuu  classique  \n",
       "1531               Ben Northon  classique  \n",
       "1532                Alfaliquid  classique  \n",
       "\n",
       "[1533 rows x 14 columns]"
      ]
     },
     "execution_count": 49,
     "metadata": {},
     "output_type": "execute_result"
    }
   ],
   "source": [
    "df_table = df[[\"lien_produit\", \"Title\", \"img_produit\", \"prix_produit\", \"Contenance\", \"Taux PG/VG\", \"Origine\", \"Frais / Mentholé\", \"Surboosté en arômes\", \"saveur\", \"Description_cleaned\", \"Section_Marque\", \"brand\", \"gout\"]]\n",
    "df_table"
   ]
  },
  {
   "cell_type": "markdown",
   "metadata": {},
   "source": [
    "info brand \n",
    "* supprimer mes valeurs manquant de Section_Marque\n",
    "* summprimer mes valeurs doublants de brand"
   ]
  },
  {
   "cell_type": "code",
   "execution_count": 50,
   "metadata": {},
   "outputs": [
    {
     "data": {
      "text/html": [
       "<div>\n",
       "<style scoped>\n",
       "    .dataframe tbody tr th:only-of-type {\n",
       "        vertical-align: middle;\n",
       "    }\n",
       "\n",
       "    .dataframe tbody tr th {\n",
       "        vertical-align: top;\n",
       "    }\n",
       "\n",
       "    .dataframe thead th {\n",
       "        text-align: right;\n",
       "    }\n",
       "</style>\n",
       "<table border=\"1\" class=\"dataframe\">\n",
       "  <thead>\n",
       "    <tr style=\"text-align: right;\">\n",
       "      <th></th>\n",
       "      <th>Section_Marque</th>\n",
       "      <th>brand</th>\n",
       "    </tr>\n",
       "  </thead>\n",
       "  <tbody>\n",
       "    <tr>\n",
       "      <th>2</th>\n",
       "      <td>Arômes et Liquides (A&amp;L) est un fabricant fran...</td>\n",
       "      <td>Arômes et Liquides (A&amp;L)</td>\n",
       "    </tr>\n",
       "    <tr>\n",
       "      <th>3</th>\n",
       "      <td>Hello Cloudy est un fabricant français de e-li...</td>\n",
       "      <td>Hello Cloudy</td>\n",
       "    </tr>\n",
       "    <tr>\n",
       "      <th>8</th>\n",
       "      <td>C'est dans leur laboratoire français, et plus ...</td>\n",
       "      <td>PULP</td>\n",
       "    </tr>\n",
       "    <tr>\n",
       "      <th>10</th>\n",
       "      <td>Le fabricant français s'est fait reconnaître p...</td>\n",
       "      <td>Alfaliquid</td>\n",
       "    </tr>\n",
       "    <tr>\n",
       "      <th>15</th>\n",
       "      <td>Ce fabricant français élabore toutes ses recet...</td>\n",
       "      <td>Secret's Lab</td>\n",
       "    </tr>\n",
       "    <tr>\n",
       "      <th>...</th>\n",
       "      <td>...</td>\n",
       "      <td>...</td>\n",
       "    </tr>\n",
       "    <tr>\n",
       "      <th>1208</th>\n",
       "      <td>Liquidarom est une marque française de liquide...</td>\n",
       "      <td>Liquidarom</td>\n",
       "    </tr>\n",
       "    <tr>\n",
       "      <th>1356</th>\n",
       "      <td>Fabricant reconnu pour ses cartouches pré-remp...</td>\n",
       "      <td>Elfbar</td>\n",
       "    </tr>\n",
       "    <tr>\n",
       "      <th>1430</th>\n",
       "      <td>Le fabricant français Terroir et Vapeur centra...</td>\n",
       "      <td>Terroir et Vapeur</td>\n",
       "    </tr>\n",
       "    <tr>\n",
       "      <th>1457</th>\n",
       "      <td>Le fabricant Ben Northon s'est spécialisé dans...</td>\n",
       "      <td>Ben Northon</td>\n",
       "    </tr>\n",
       "    <tr>\n",
       "      <th>1495</th>\n",
       "      <td>Célèbre fabricant canadien, PGVG Labs vous pro...</td>\n",
       "      <td>PGVG Labs</td>\n",
       "    </tr>\n",
       "  </tbody>\n",
       "</table>\n",
       "<p>96 rows × 2 columns</p>\n",
       "</div>"
      ],
      "text/plain": [
       "                                         Section_Marque  \\\n",
       "2     Arômes et Liquides (A&L) est un fabricant fran...   \n",
       "3     Hello Cloudy est un fabricant français de e-li...   \n",
       "8     C'est dans leur laboratoire français, et plus ...   \n",
       "10    Le fabricant français s'est fait reconnaître p...   \n",
       "15    Ce fabricant français élabore toutes ses recet...   \n",
       "...                                                 ...   \n",
       "1208  Liquidarom est une marque française de liquide...   \n",
       "1356  Fabricant reconnu pour ses cartouches pré-remp...   \n",
       "1430  Le fabricant français Terroir et Vapeur centra...   \n",
       "1457  Le fabricant Ben Northon s'est spécialisé dans...   \n",
       "1495  Célèbre fabricant canadien, PGVG Labs vous pro...   \n",
       "\n",
       "                         brand  \n",
       "2     Arômes et Liquides (A&L)  \n",
       "3                 Hello Cloudy  \n",
       "8                         PULP  \n",
       "10                  Alfaliquid  \n",
       "15                Secret's Lab  \n",
       "...                        ...  \n",
       "1208                Liquidarom  \n",
       "1356                    Elfbar  \n",
       "1430         Terroir et Vapeur  \n",
       "1457               Ben Northon  \n",
       "1495                 PGVG Labs  \n",
       "\n",
       "[96 rows x 2 columns]"
      ]
     },
     "execution_count": 50,
     "metadata": {},
     "output_type": "execute_result"
    }
   ],
   "source": [
    "df_brand = df[[\"Section_Marque\", \"brand\"]]\n",
    "df_brand = df_brand.dropna(subset=['Section_Marque'])\n",
    "df_brand = df_brand.drop_duplicates(subset=['brand'])\n",
    "df_brand"
   ]
  },
  {
   "cell_type": "markdown",
   "metadata": {},
   "source": [
    "affecter la valeur de la colonne Section_Marque de df par la valeur correspondante dans df_brand lorsque la valeur dans df['Section_Marque'] est NaN et que df['brand'] correspond à df_brand['brand']"
   ]
  },
  {
   "cell_type": "code",
   "execution_count": 51,
   "metadata": {},
   "outputs": [],
   "source": [
    "# Fusionner df avec df_brand en fonction de la colonne 'brand' pour obtenir la colonne Section_Marque de df_brand\n",
    "df_table = pd.merge(df_table, df_brand[['brand', 'Section_Marque']], on='brand', how='left', suffixes=('', '_brand'))"
   ]
  },
  {
   "cell_type": "code",
   "execution_count": 52,
   "metadata": {},
   "outputs": [],
   "source": [
    "# Supprimer la colonne 'Section_Marque_brand' après la mise à jour\n",
    "df_table.drop(columns=['Section_Marque'], inplace=True)"
   ]
  },
  {
   "cell_type": "markdown",
   "metadata": {},
   "source": [
    "retirer les valeurs de la colonne Title qui correspondent aux valeurs de la colonne brand\n",
    "retirer les ml"
   ]
  },
  {
   "cell_type": "code",
   "execution_count": 53,
   "metadata": {},
   "outputs": [],
   "source": [
    "\n",
    "df['Title'] = df.apply(lambda row: row['Title'].replace(row['brand'], '') if row['brand'].lower() in row['Title'].lower() else row['Title'], axis=1)\n",
    "df['Title'] = df['Title'].apply(lambda x: re.sub(r'\\d+ml|\\d+', '', x).replace('ml', '').strip())"
   ]
  },
  {
   "cell_type": "code",
   "execution_count": 54,
   "metadata": {},
   "outputs": [
    {
     "data": {
      "text/html": [
       "<div>\n",
       "<style scoped>\n",
       "    .dataframe tbody tr th:only-of-type {\n",
       "        vertical-align: middle;\n",
       "    }\n",
       "\n",
       "    .dataframe tbody tr th {\n",
       "        vertical-align: top;\n",
       "    }\n",
       "\n",
       "    .dataframe thead th {\n",
       "        text-align: right;\n",
       "    }\n",
       "</style>\n",
       "<table border=\"1\" class=\"dataframe\">\n",
       "  <thead>\n",
       "    <tr style=\"text-align: right;\">\n",
       "      <th></th>\n",
       "      <th>lien_produit</th>\n",
       "      <th>Title</th>\n",
       "      <th>img_produit</th>\n",
       "      <th>prix_produit</th>\n",
       "      <th>Contenance</th>\n",
       "      <th>Taux PG/VG</th>\n",
       "      <th>Origine</th>\n",
       "      <th>Frais / Mentholé</th>\n",
       "      <th>Surboosté en arômes</th>\n",
       "      <th>saveur</th>\n",
       "      <th>Description_cleaned</th>\n",
       "      <th>brand</th>\n",
       "      <th>gout</th>\n",
       "      <th>Section_Marque_brand</th>\n",
       "    </tr>\n",
       "  </thead>\n",
       "  <tbody>\n",
       "    <tr>\n",
       "      <th>0</th>\n",
       "      <td>https://www.aromes-et-liquides.fr/e-liquide-ul...</td>\n",
       "      <td>Ragnarok Ultimate A&amp;L</td>\n",
       "      <td>https://assets.aromes-et-liquides.fr/53645-thi...</td>\n",
       "      <td>5.9</td>\n",
       "      <td>10ml</td>\n",
       "      <td>50/50</td>\n",
       "      <td>France</td>\n",
       "      <td>Oui</td>\n",
       "      <td>Non</td>\n",
       "      <td>cassis, lime, fruits rouges, parfait</td>\n",
       "      <td>Le e-liquide Ragnarok par A&amp;L Ultimate est un ...</td>\n",
       "      <td>Arômes et Liquides (A&amp;L)</td>\n",
       "      <td>fruit</td>\n",
       "      <td>Arômes et Liquides (A&amp;L) est un fabricant fran...</td>\n",
       "    </tr>\n",
       "  </tbody>\n",
       "</table>\n",
       "</div>"
      ],
      "text/plain": [
       "                                        lien_produit                  Title  \\\n",
       "0  https://www.aromes-et-liquides.fr/e-liquide-ul...  Ragnarok Ultimate A&L   \n",
       "\n",
       "                                         img_produit  prix_produit Contenance  \\\n",
       "0  https://assets.aromes-et-liquides.fr/53645-thi...           5.9       10ml   \n",
       "\n",
       "  Taux PG/VG Origine Frais / Mentholé Surboosté en arômes  \\\n",
       "0      50/50  France              Oui                 Non   \n",
       "\n",
       "                                 saveur  \\\n",
       "0  cassis, lime, fruits rouges, parfait   \n",
       "\n",
       "                                 Description_cleaned  \\\n",
       "0  Le e-liquide Ragnarok par A&L Ultimate est un ...   \n",
       "\n",
       "                      brand   gout  \\\n",
       "0  Arômes et Liquides (A&L)  fruit   \n",
       "\n",
       "                                Section_Marque_brand  \n",
       "0  Arômes et Liquides (A&L) est un fabricant fran...  "
      ]
     },
     "execution_count": 54,
     "metadata": {},
     "output_type": "execute_result"
    }
   ],
   "source": [
    "df_table.head(1)"
   ]
  },
  {
   "cell_type": "markdown",
   "metadata": {},
   "source": [
    "check les double Title et lien_produit"
   ]
  },
  {
   "cell_type": "code",
   "execution_count": 55,
   "metadata": {},
   "outputs": [
    {
     "data": {
      "text/plain": [
       "1533"
      ]
     },
     "execution_count": 55,
     "metadata": {},
     "output_type": "execute_result"
    }
   ],
   "source": [
    "df_table[\"Title\"].nunique()"
   ]
  },
  {
   "cell_type": "code",
   "execution_count": 56,
   "metadata": {},
   "outputs": [
    {
     "data": {
      "text/plain": [
       "1533"
      ]
     },
     "execution_count": 56,
     "metadata": {},
     "output_type": "execute_result"
    }
   ],
   "source": [
    "df_table[\"lien_produit\"].nunique()"
   ]
  },
  {
   "cell_type": "markdown",
   "metadata": {},
   "source": [
    "création de id_brand "
   ]
  },
  {
   "cell_type": "code",
   "execution_count": 57,
   "metadata": {},
   "outputs": [],
   "source": [
    "# Créer un dictionnaire pour mapper chaque marque unique à un ID unique\n",
    "id_produit = {lien_produit: idx for idx, lien_produit in enumerate(df_table['lien_produit'].unique(), start=1)}\n",
    "# Ajouter une colonne `id_brand` au df_brand\n",
    "df_table['id_produit'] = df_table['lien_produit'].map(id_produit)"
   ]
  },
  {
   "cell_type": "markdown",
   "metadata": {},
   "source": [
    "changer le nom de colonnes"
   ]
  },
  {
   "cell_type": "code",
   "execution_count": 58,
   "metadata": {},
   "outputs": [
    {
     "data": {
      "text/plain": [
       "Index(['lien_produit', 'Title', 'img_produit', 'prix_produit', 'Contenance',\n",
       "       'Taux PG/VG', 'Origine', 'Frais / Mentholé', 'Surboosté en arômes',\n",
       "       'saveur', 'Description_cleaned', 'brand', 'gout',\n",
       "       'Section_Marque_brand', 'id_produit'],\n",
       "      dtype='object')"
      ]
     },
     "execution_count": 58,
     "metadata": {},
     "output_type": "execute_result"
    }
   ],
   "source": [
    "df_table.columns"
   ]
  },
  {
   "cell_type": "code",
   "execution_count": 59,
   "metadata": {},
   "outputs": [],
   "source": [
    "# Renommer les colonnes\n",
    "df_table.rename(columns={'lien_produit': 'url', 'Title': 'nom_produit', 'Contenance': 'contenance', 'Taux PG/VG' :'pg_vg', 'Origine': 'origine', 'Frais / Mentholé': 'frais', 'Surboosté en arômes': 'surbooste', 'Description_cleaned': 'description', 'Section_Marque_brand': 'info_brand'}, inplace=True)"
   ]
  },
  {
   "cell_type": "code",
   "execution_count": 60,
   "metadata": {},
   "outputs": [
    {
     "data": {
      "text/plain": [
       "Index(['url', 'nom_produit', 'img_produit', 'prix_produit', 'contenance',\n",
       "       'pg_vg', 'origine', 'frais', 'surbooste', 'saveur', 'description',\n",
       "       'brand', 'gout', 'info_brand', 'id_produit'],\n",
       "      dtype='object')"
      ]
     },
     "execution_count": 60,
     "metadata": {},
     "output_type": "execute_result"
    }
   ],
   "source": [
    "df_table.columns"
   ]
  },
  {
   "cell_type": "code",
   "execution_count": 61,
   "metadata": {},
   "outputs": [],
   "source": [
    "# Remplacer les sauts de ligne par un espace\n",
    "df_table['description'] = df_table['description'].str.replace('\\n', ' ', regex=True)\n",
    "df_table['info_brand'] = df_table['info_brand'].str.replace('\\n', ' ', regex=True)"
   ]
  },
  {
   "cell_type": "code",
   "execution_count": 62,
   "metadata": {},
   "outputs": [
    {
     "data": {
      "text/plain": [
       "url              0\n",
       "nom_produit      0\n",
       "img_produit      0\n",
       "prix_produit     6\n",
       "contenance       2\n",
       "pg_vg           18\n",
       "origine          9\n",
       "frais            3\n",
       "surbooste        5\n",
       "saveur           2\n",
       "description      0\n",
       "brand            0\n",
       "gout             0\n",
       "info_brand      10\n",
       "id_produit       0\n",
       "dtype: int64"
      ]
     },
     "execution_count": 62,
     "metadata": {},
     "output_type": "execute_result"
    }
   ],
   "source": [
    "df_table.isnull().sum()"
   ]
  },
  {
   "cell_type": "code",
   "execution_count": 63,
   "metadata": {},
   "outputs": [
    {
     "data": {
      "text/html": [
       "<div>\n",
       "<style scoped>\n",
       "    .dataframe tbody tr th:only-of-type {\n",
       "        vertical-align: middle;\n",
       "    }\n",
       "\n",
       "    .dataframe tbody tr th {\n",
       "        vertical-align: top;\n",
       "    }\n",
       "\n",
       "    .dataframe thead th {\n",
       "        text-align: right;\n",
       "    }\n",
       "</style>\n",
       "<table border=\"1\" class=\"dataframe\">\n",
       "  <thead>\n",
       "    <tr style=\"text-align: right;\">\n",
       "      <th></th>\n",
       "      <th>url</th>\n",
       "      <th>nom_produit</th>\n",
       "      <th>img_produit</th>\n",
       "      <th>prix_produit</th>\n",
       "      <th>contenance</th>\n",
       "      <th>pg_vg</th>\n",
       "      <th>origine</th>\n",
       "      <th>frais</th>\n",
       "      <th>surbooste</th>\n",
       "      <th>saveur</th>\n",
       "      <th>description</th>\n",
       "      <th>brand</th>\n",
       "      <th>gout</th>\n",
       "      <th>info_brand</th>\n",
       "      <th>id_produit</th>\n",
       "    </tr>\n",
       "  </thead>\n",
       "  <tbody>\n",
       "    <tr>\n",
       "      <th>101</th>\n",
       "      <td>https://www.aromes-et-liquides.fr/e-liquide-fr...</td>\n",
       "      <td>Grapefruit Lime Ice 100ml Frozen Freaks</td>\n",
       "      <td>https://assets.aromes-et-liquides.fr/36936-thi...</td>\n",
       "      <td>10.95</td>\n",
       "      <td>100ml (fiole de 120ml)</td>\n",
       "      <td>30/70</td>\n",
       "      <td>Royaume-Uni</td>\n",
       "      <td>Oui</td>\n",
       "      <td>Oui</td>\n",
       "      <td>lime, citron, pamplemousse, citron vert, agrumes</td>\n",
       "      <td>Besoin d'un bon coup de fouet fruité, frais et...</td>\n",
       "      <td>Frozen Freaks</td>\n",
       "      <td>fruit</td>\n",
       "      <td>NaN</td>\n",
       "      <td>102</td>\n",
       "    </tr>\n",
       "    <tr>\n",
       "      <th>588</th>\n",
       "      <td>https://www.aromes-et-liquides.fr/e-liquide-pu...</td>\n",
       "      <td>Granité de Melon 60ml Pulp</td>\n",
       "      <td>https://assets.aromes-et-liquides.fr/54046-thi...</td>\n",
       "      <td>22.90</td>\n",
       "      <td>50ml (fiole de 60ml)</td>\n",
       "      <td>70/30</td>\n",
       "      <td>France</td>\n",
       "      <td>Oui</td>\n",
       "      <td>Oui</td>\n",
       "      <td>lime, melon</td>\n",
       "      <td>Découvrez une recette au goût frais et fruité ...</td>\n",
       "      <td>Pulp</td>\n",
       "      <td>fruit</td>\n",
       "      <td>NaN</td>\n",
       "      <td>589</td>\n",
       "    </tr>\n",
       "    <tr>\n",
       "      <th>606</th>\n",
       "      <td>https://www.aromes-et-liquides.fr/e-liquide-pu...</td>\n",
       "      <td>Pomme Chicha 60ml Pulp</td>\n",
       "      <td>https://assets.aromes-et-liquides.fr/54049-thi...</td>\n",
       "      <td>22.90</td>\n",
       "      <td>50ml (fiole de 60ml)</td>\n",
       "      <td>30/70</td>\n",
       "      <td>France</td>\n",
       "      <td>Non</td>\n",
       "      <td>Oui</td>\n",
       "      <td>lime, réglisse, pomme</td>\n",
       "      <td>Découvrez unesaveur de pomme façon chicha et a...</td>\n",
       "      <td>Pulp</td>\n",
       "      <td>fruit</td>\n",
       "      <td>NaN</td>\n",
       "      <td>607</td>\n",
       "    </tr>\n",
       "    <tr>\n",
       "      <th>651</th>\n",
       "      <td>https://www.aromes-et-liquides.fr/e-liquide-th...</td>\n",
       "      <td>Pêche Mango 50ml Puff Juice</td>\n",
       "      <td>https://assets.aromes-et-liquides.fr/52678-thi...</td>\n",
       "      <td>19.90</td>\n",
       "      <td>50ml (fiole de 75ml)</td>\n",
       "      <td>40/60</td>\n",
       "      <td>France</td>\n",
       "      <td>Non</td>\n",
       "      <td>Oui</td>\n",
       "      <td>pêche, lime, vin, mangue</td>\n",
       "      <td>Quand les tropiques rencontrent le verger, cel...</td>\n",
       "      <td>Puff Juice</td>\n",
       "      <td>fruit</td>\n",
       "      <td>NaN</td>\n",
       "      <td>652</td>\n",
       "    </tr>\n",
       "    <tr>\n",
       "      <th>676</th>\n",
       "      <td>https://www.aromes-et-liquides.fr/e-liquide-th...</td>\n",
       "      <td>Fruits Rouges 50ml Puff Juice</td>\n",
       "      <td>https://assets.aromes-et-liquides.fr/52682-thi...</td>\n",
       "      <td>19.90</td>\n",
       "      <td>50ml (fiole de 75ml)</td>\n",
       "      <td>40/60</td>\n",
       "      <td>France</td>\n",
       "      <td>Non</td>\n",
       "      <td>Oui</td>\n",
       "      <td>baies, fruits des bois, fruits rouges, baie, lime</td>\n",
       "      <td>Il est des saveurs que l'on ne présente plus, ...</td>\n",
       "      <td>Puff Juice</td>\n",
       "      <td>fruit</td>\n",
       "      <td>NaN</td>\n",
       "      <td>677</td>\n",
       "    </tr>\n",
       "    <tr>\n",
       "      <th>700</th>\n",
       "      <td>https://www.aromes-et-liquides.fr/e-liquide-th...</td>\n",
       "      <td>Raisin Givré 50ml Puff Juice</td>\n",
       "      <td>https://assets.aromes-et-liquides.fr/52680-thi...</td>\n",
       "      <td>19.90</td>\n",
       "      <td>50ml (fiole de 75ml)</td>\n",
       "      <td>40/60</td>\n",
       "      <td>France</td>\n",
       "      <td>Oui</td>\n",
       "      <td>Oui</td>\n",
       "      <td>lime, glace, raisin</td>\n",
       "      <td>Les vendanges ont été fructueuses chez The Fuu...</td>\n",
       "      <td>Puff Juice</td>\n",
       "      <td>fruit</td>\n",
       "      <td>NaN</td>\n",
       "      <td>701</td>\n",
       "    </tr>\n",
       "    <tr>\n",
       "      <th>703</th>\n",
       "      <td>https://www.aromes-et-liquides.fr/e-liquide-pu...</td>\n",
       "      <td>Cassis Exquis 60ml Pulp</td>\n",
       "      <td>https://assets.aromes-et-liquides.fr/54045-thi...</td>\n",
       "      <td>22.90</td>\n",
       "      <td>50ml (fiole de 60ml)</td>\n",
       "      <td>70/30</td>\n",
       "      <td>France</td>\n",
       "      <td>Non</td>\n",
       "      <td>Oui</td>\n",
       "      <td>cassis, lime</td>\n",
       "      <td>Le fabricant français vous propose de vapoter ...</td>\n",
       "      <td>Pulp</td>\n",
       "      <td>fruit</td>\n",
       "      <td>NaN</td>\n",
       "      <td>704</td>\n",
       "    </tr>\n",
       "    <tr>\n",
       "      <th>1200</th>\n",
       "      <td>https://www.aromes-et-liquides.fr/e-liquide-th...</td>\n",
       "      <td>Charlotte aux Fraises 50ml Puff Juice</td>\n",
       "      <td>https://assets.aromes-et-liquides.fr/52679-thi...</td>\n",
       "      <td>19.90</td>\n",
       "      <td>50ml (fiole de 75ml)</td>\n",
       "      <td>40/60</td>\n",
       "      <td>France</td>\n",
       "      <td>Non</td>\n",
       "      <td>Oui</td>\n",
       "      <td>fraise, lime, biscuit</td>\n",
       "      <td>The Fuu vous propose un véritable dessert à va...</td>\n",
       "      <td>Puff Juice</td>\n",
       "      <td>dessert</td>\n",
       "      <td>NaN</td>\n",
       "      <td>1201</td>\n",
       "    </tr>\n",
       "    <tr>\n",
       "      <th>1343</th>\n",
       "      <td>https://www.aromes-et-liquides.fr/e-liquide-pu...</td>\n",
       "      <td>Le Thé à la Menthe 60ml Pulp</td>\n",
       "      <td>https://assets.aromes-et-liquides.fr/54047-thi...</td>\n",
       "      <td>22.90</td>\n",
       "      <td>50ml (fiole de 60ml)</td>\n",
       "      <td>70/30</td>\n",
       "      <td>France</td>\n",
       "      <td>Oui</td>\n",
       "      <td>Oui</td>\n",
       "      <td>thé, lime, menthol, menthe</td>\n",
       "      <td>Pulp vous propose de vapoter une saveur de boi...</td>\n",
       "      <td>Pulp</td>\n",
       "      <td>frais</td>\n",
       "      <td>NaN</td>\n",
       "      <td>1344</td>\n",
       "    </tr>\n",
       "    <tr>\n",
       "      <th>1347</th>\n",
       "      <td>https://www.aromes-et-liquides.fr/e-liquide-th...</td>\n",
       "      <td>Tropical Icy Mix 50ml Puff Juice</td>\n",
       "      <td>https://assets.aromes-et-liquides.fr/52681-thi...</td>\n",
       "      <td>19.90</td>\n",
       "      <td>50ml (fiole de 75ml)</td>\n",
       "      <td>40/60</td>\n",
       "      <td>France</td>\n",
       "      <td>Oui</td>\n",
       "      <td>Oui</td>\n",
       "      <td>ananas, cocktail, mangue, banane, glace, lime</td>\n",
       "      <td>Le fabricant français vous propose un voyage g...</td>\n",
       "      <td>Puff Juice</td>\n",
       "      <td>frais</td>\n",
       "      <td>NaN</td>\n",
       "      <td>1348</td>\n",
       "    </tr>\n",
       "  </tbody>\n",
       "</table>\n",
       "</div>"
      ],
      "text/plain": [
       "                                                    url  \\\n",
       "101   https://www.aromes-et-liquides.fr/e-liquide-fr...   \n",
       "588   https://www.aromes-et-liquides.fr/e-liquide-pu...   \n",
       "606   https://www.aromes-et-liquides.fr/e-liquide-pu...   \n",
       "651   https://www.aromes-et-liquides.fr/e-liquide-th...   \n",
       "676   https://www.aromes-et-liquides.fr/e-liquide-th...   \n",
       "700   https://www.aromes-et-liquides.fr/e-liquide-th...   \n",
       "703   https://www.aromes-et-liquides.fr/e-liquide-pu...   \n",
       "1200  https://www.aromes-et-liquides.fr/e-liquide-th...   \n",
       "1343  https://www.aromes-et-liquides.fr/e-liquide-pu...   \n",
       "1347  https://www.aromes-et-liquides.fr/e-liquide-th...   \n",
       "\n",
       "                                  nom_produit  \\\n",
       "101   Grapefruit Lime Ice 100ml Frozen Freaks   \n",
       "588                Granité de Melon 60ml Pulp   \n",
       "606                    Pomme Chicha 60ml Pulp   \n",
       "651               Pêche Mango 50ml Puff Juice   \n",
       "676             Fruits Rouges 50ml Puff Juice   \n",
       "700              Raisin Givré 50ml Puff Juice   \n",
       "703                   Cassis Exquis 60ml Pulp   \n",
       "1200    Charlotte aux Fraises 50ml Puff Juice   \n",
       "1343             Le Thé à la Menthe 60ml Pulp   \n",
       "1347         Tropical Icy Mix 50ml Puff Juice   \n",
       "\n",
       "                                            img_produit  prix_produit  \\\n",
       "101   https://assets.aromes-et-liquides.fr/36936-thi...         10.95   \n",
       "588   https://assets.aromes-et-liquides.fr/54046-thi...         22.90   \n",
       "606   https://assets.aromes-et-liquides.fr/54049-thi...         22.90   \n",
       "651   https://assets.aromes-et-liquides.fr/52678-thi...         19.90   \n",
       "676   https://assets.aromes-et-liquides.fr/52682-thi...         19.90   \n",
       "700   https://assets.aromes-et-liquides.fr/52680-thi...         19.90   \n",
       "703   https://assets.aromes-et-liquides.fr/54045-thi...         22.90   \n",
       "1200  https://assets.aromes-et-liquides.fr/52679-thi...         19.90   \n",
       "1343  https://assets.aromes-et-liquides.fr/54047-thi...         22.90   \n",
       "1347  https://assets.aromes-et-liquides.fr/52681-thi...         19.90   \n",
       "\n",
       "                  contenance  pg_vg      origine frais surbooste  \\\n",
       "101   100ml (fiole de 120ml)  30/70  Royaume-Uni   Oui       Oui   \n",
       "588     50ml (fiole de 60ml)  70/30       France   Oui       Oui   \n",
       "606     50ml (fiole de 60ml)  30/70       France   Non       Oui   \n",
       "651     50ml (fiole de 75ml)  40/60       France   Non       Oui   \n",
       "676     50ml (fiole de 75ml)  40/60       France   Non       Oui   \n",
       "700     50ml (fiole de 75ml)  40/60       France   Oui       Oui   \n",
       "703     50ml (fiole de 60ml)  70/30       France   Non       Oui   \n",
       "1200    50ml (fiole de 75ml)  40/60       France   Non       Oui   \n",
       "1343    50ml (fiole de 60ml)  70/30       France   Oui       Oui   \n",
       "1347    50ml (fiole de 75ml)  40/60       France   Oui       Oui   \n",
       "\n",
       "                                                 saveur  \\\n",
       "101    lime, citron, pamplemousse, citron vert, agrumes   \n",
       "588                                         lime, melon   \n",
       "606                               lime, réglisse, pomme   \n",
       "651                            pêche, lime, vin, mangue   \n",
       "676   baies, fruits des bois, fruits rouges, baie, lime   \n",
       "700                                 lime, glace, raisin   \n",
       "703                                        cassis, lime   \n",
       "1200                              fraise, lime, biscuit   \n",
       "1343                         thé, lime, menthol, menthe   \n",
       "1347      ananas, cocktail, mangue, banane, glace, lime   \n",
       "\n",
       "                                            description          brand  \\\n",
       "101   Besoin d'un bon coup de fouet fruité, frais et...  Frozen Freaks   \n",
       "588   Découvrez une recette au goût frais et fruité ...           Pulp   \n",
       "606   Découvrez unesaveur de pomme façon chicha et a...           Pulp   \n",
       "651   Quand les tropiques rencontrent le verger, cel...     Puff Juice   \n",
       "676   Il est des saveurs que l'on ne présente plus, ...     Puff Juice   \n",
       "700   Les vendanges ont été fructueuses chez The Fuu...     Puff Juice   \n",
       "703   Le fabricant français vous propose de vapoter ...           Pulp   \n",
       "1200  The Fuu vous propose un véritable dessert à va...     Puff Juice   \n",
       "1343  Pulp vous propose de vapoter une saveur de boi...           Pulp   \n",
       "1347  Le fabricant français vous propose un voyage g...     Puff Juice   \n",
       "\n",
       "         gout info_brand  id_produit  \n",
       "101     fruit        NaN         102  \n",
       "588     fruit        NaN         589  \n",
       "606     fruit        NaN         607  \n",
       "651     fruit        NaN         652  \n",
       "676     fruit        NaN         677  \n",
       "700     fruit        NaN         701  \n",
       "703     fruit        NaN         704  \n",
       "1200  dessert        NaN        1201  \n",
       "1343    frais        NaN        1344  \n",
       "1347    frais        NaN        1348  "
      ]
     },
     "execution_count": 63,
     "metadata": {},
     "output_type": "execute_result"
    }
   ],
   "source": [
    "df_table[df_table['info_brand'].isna()]"
   ]
  },
  {
   "cell_type": "markdown",
   "metadata": {},
   "source": [
    "info_brand null --> Aucune information sur la marque"
   ]
  },
  {
   "cell_type": "code",
   "execution_count": 65,
   "metadata": {},
   "outputs": [],
   "source": [
    "df_table['info_brand'] = df_table['info_brand'].fillna(\"Aucune information sur la marque\")\n"
   ]
  },
  {
   "cell_type": "code",
   "execution_count": 74,
   "metadata": {},
   "outputs": [],
   "source": [
    "df_table = df_table.dropna(subset=['saveur'])"
   ]
  },
  {
   "cell_type": "code",
   "execution_count": 78,
   "metadata": {},
   "outputs": [],
   "source": [
    "df_table[['contenance','pg_vg', 'origine', 'frais', 'surbooste']] = df_table[['contenance','pg_vg', 'origine', 'frais', 'surbooste']].fillna('Inconnu')\n"
   ]
  },
  {
   "cell_type": "code",
   "execution_count": 79,
   "metadata": {},
   "outputs": [
    {
     "data": {
      "text/plain": [
       "url             0\n",
       "nom_produit     0\n",
       "img_produit     0\n",
       "prix_produit    6\n",
       "contenance      0\n",
       "pg_vg           0\n",
       "origine         0\n",
       "frais           0\n",
       "surbooste       0\n",
       "saveur          0\n",
       "description     0\n",
       "brand           0\n",
       "gout            0\n",
       "info_brand      0\n",
       "id_produit      0\n",
       "dtype: int64"
      ]
     },
     "execution_count": 79,
     "metadata": {},
     "output_type": "execute_result"
    }
   ],
   "source": [
    "df_table.isnull().sum()"
   ]
  },
  {
   "cell_type": "code",
   "execution_count": 82,
   "metadata": {},
   "outputs": [
    {
     "data": {
      "text/plain": [
       "Index(['url', 'nom_produit', 'img_produit', 'prix_produit', 'contenance',\n",
       "       'pg_vg', 'origine', 'frais', 'surbooste', 'saveur', 'description',\n",
       "       'brand', 'gout', 'info_brand', 'id_produit'],\n",
       "      dtype='object')"
      ]
     },
     "execution_count": 82,
     "metadata": {},
     "output_type": "execute_result"
    }
   ],
   "source": [
    "df_table.columns"
   ]
  },
  {
   "cell_type": "code",
   "execution_count": 81,
   "metadata": {},
   "outputs": [],
   "source": [
    "import csv  # Assurez-vous d'importer le module csv\n",
    "\n",
    "df_table.to_csv('../RGBD/table_produits/produits.csv', header=df_table.columns, index=False, encoding='utf-8', quotechar='\"', quoting=csv.QUOTE_MINIMAL)\n"
   ]
  }
 ],
 "metadata": {
  "kernelspec": {
   "display_name": "nlp",
   "language": "python",
   "name": "python3"
  },
  "language_info": {
   "codemirror_mode": {
    "name": "ipython",
    "version": 3
   },
   "file_extension": ".py",
   "mimetype": "text/x-python",
   "name": "python",
   "nbconvert_exporter": "python",
   "pygments_lexer": "ipython3",
   "version": "3.10.15"
  }
 },
 "nbformat": 4,
 "nbformat_minor": 2
}
